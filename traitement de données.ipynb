{
 "cells": [
  {
   "cell_type": "code",
   "execution_count": 60,
   "metadata": {},
   "outputs": [],
   "source": [
    "from urllib.request import Request,urlopen,urlcleanup\n",
    "from bs4 import BeautifulSoup\n",
    "import pickle\n",
    "import requests\n",
    "from nltk.tokenize import word_tokenize\n",
    "import re \n",
    "from nltk.corpus import stopwords\n",
    "from nltk.tokenize import word_tokenize\n",
    "from nltk.stem.porter import PorterStemmer\n",
    "from nltk.stem.snowball import SnowballStemmer,FrenchStemmer\n",
    "from nltk.stem.wordnet import WordNetLemmatizer\n",
    "import pyLDAvis.gensim as gensimvis\n",
    "from gensim import corpora, models, similarities\n",
    "import pyLDAvis\n",
    "import gensim\n",
    "from time import sleep\n",
    "import pandas as pd\n",
    "import matplotlib.pyplot as plt\n",
    "from  wordcloud import WordCloud, STOPWORDS \n",
    "from textblob import TextBlob\n",
    "import goslate\n",
    "from nltk import sent_tokenize\n",
    "from googletrans import Translator\n",
    "from pprint import pprint\n",
    "import textblob\n"
   ]
  },
  {
   "cell_type": "code",
   "execution_count": 17,
   "metadata": {
    "collapsed": true,
    "jupyter": {
     "outputs_hidden": true
    }
   },
   "outputs": [
    {
     "name": "stdout",
     "output_type": "stream",
     "text": [
      "Collecting wordcloud\n",
      "  Downloading wordcloud-1.7.0-cp37-cp37m-win_amd64.whl (157 kB)\n",
      "Requirement already satisfied: pillow in c:\\users\\selon\\anaconda3\\envs\\pythongpu\\lib\\site-packages (from wordcloud) (6.1.0)\n",
      "Requirement already satisfied: matplotlib in c:\\users\\selon\\anaconda3\\envs\\pythongpu\\lib\\site-packages (from wordcloud) (3.1.1)\n",
      "Requirement already satisfied: numpy>=1.6.1 in c:\\users\\selon\\anaconda3\\envs\\pythongpu\\lib\\site-packages (from wordcloud) (1.16.4)\n",
      "Requirement already satisfied: cycler>=0.10 in c:\\users\\selon\\anaconda3\\envs\\pythongpu\\lib\\site-packages (from matplotlib->wordcloud) (0.10.0)\n",
      "Requirement already satisfied: kiwisolver>=1.0.1 in c:\\users\\selon\\anaconda3\\envs\\pythongpu\\lib\\site-packages (from matplotlib->wordcloud) (1.1.0)\n",
      "Requirement already satisfied: pyparsing!=2.0.4,!=2.1.2,!=2.1.6,>=2.0.1 in c:\\users\\selon\\anaconda3\\envs\\pythongpu\\lib\\site-packages (from matplotlib->wordcloud) (2.4.6)\n",
      "Requirement already satisfied: python-dateutil>=2.1 in c:\\users\\selon\\anaconda3\\envs\\pythongpu\\lib\\site-packages (from matplotlib->wordcloud) (2.8.1)\n",
      "Requirement already satisfied: six in c:\\users\\selon\\anaconda3\\envs\\pythongpu\\lib\\site-packages (from cycler>=0.10->matplotlib->wordcloud) (1.14.0)\n",
      "Requirement already satisfied: setuptools in c:\\users\\selon\\anaconda3\\envs\\pythongpu\\lib\\site-packages (from kiwisolver>=1.0.1->matplotlib->wordcloud) (46.1.3.post20200330)\n",
      "Installing collected packages: wordcloud\n",
      "Successfully installed wordcloud-1.7.0\n"
     ]
    }
   ],
   "source": [
    "!pip install wordcloud"
   ]
  },
  {
   "cell_type": "markdown",
   "metadata": {},
   "source": [
    "### Prétraiter les données"
   ]
  },
  {
   "cell_type": "code",
   "execution_count": 142,
   "metadata": {},
   "outputs": [],
   "source": [
    "df=pd.read_csv(\"FinalDF.csv\",sep=',')"
   ]
  },
  {
   "cell_type": "code",
   "execution_count": 2,
   "metadata": {},
   "outputs": [],
   "source": [
    "with open ('data', 'rb') as fp:\n",
    "    data = pickle.load(fp)"
   ]
  },
  {
   "cell_type": "code",
   "execution_count": 4,
   "metadata": {},
   "outputs": [],
   "source": [
    "data=data.dropna()"
   ]
  },
  {
   "cell_type": "code",
   "execution_count": 11,
   "metadata": {},
   "outputs": [
    {
     "data": {
      "text/plain": [
       "{'name': 'Naouel Rekik',\n",
       " 'work': ['Work\\nSTB'],\n",
       " 'education': ['Education\\nIHEC Carthage\\nCollege\\nlycée el omrane\\nHigh School'],\n",
       " 'living': ['Places Lived\\nCurrent City\\nTunis, Tunisia\\nHometown\\nTunis, Tunisia'],\n",
       " 'contact': ['Contact Info\\nFacebook\\n/naouel.rekik.3'],\n",
       " 'basic': ['Basic Info\\nGender\\nFemale'],\n",
       " 'comment': 'Toujours fière de ma Banque'}"
      ]
     },
     "execution_count": 11,
     "metadata": {},
     "output_type": "execute_result"
    }
   ],
   "source": [
    "data['info'][0][1]"
   ]
  },
  {
   "cell_type": "code",
   "execution_count": 103,
   "metadata": {},
   "outputs": [],
   "source": [
    "df.drop(columns=['Unnamed: 0'],inplace=True)"
   ]
  },
  {
   "cell_type": "code",
   "execution_count": 104,
   "metadata": {},
   "outputs": [
    {
     "name": "stderr",
     "output_type": "stream",
     "text": [
      "C:\\Users\\SELON\\Anaconda3\\envs\\PythonGPU\\lib\\site-packages\\ipykernel_launcher.py:4: SettingWithCopyWarning: \n",
      "A value is trying to be set on a copy of a slice from a DataFrame\n",
      "\n",
      "See the caveats in the documentation: http://pandas.pydata.org/pandas-docs/stable/user_guide/indexing.html#returning-a-view-versus-a-copy\n",
      "  after removing the cwd from sys.path.\n"
     ]
    }
   ],
   "source": [
    "for i in range(len(df)):\n",
    "    com=[]\n",
    "    com=df.comments[i].split(',')\n",
    "    df[\"comments\"][i]=com\n",
    "    \n",
    "    "
   ]
  },
  {
   "cell_type": "markdown",
   "metadata": {},
   "source": [
    "## Traduire le text en francais"
   ]
  },
  {
   "cell_type": "code",
   "execution_count": 105,
   "metadata": {},
   "outputs": [],
   "source": [
    "df2=df.drop([9,18],axis=0).reset_index()"
   ]
  },
  {
   "cell_type": "code",
   "execution_count": 106,
   "metadata": {},
   "outputs": [],
   "source": [
    "df2.drop(columns=['index'],inplace=True)"
   ]
  },
  {
   "cell_type": "code",
   "execution_count": 5,
   "metadata": {},
   "outputs": [
    {
     "name": "stderr",
     "output_type": "stream",
     "text": [
      "C:\\Users\\SELON\\Anaconda3\\envs\\PythonGPU\\lib\\site-packages\\ipykernel_launcher.py:1: SettingWithCopyWarning: \n",
      "A value is trying to be set on a copy of a slice from a DataFrame.\n",
      "Try using .loc[row_indexer,col_indexer] = value instead\n",
      "\n",
      "See the caveats in the documentation: http://pandas.pydata.org/pandas-docs/stable/user_guide/indexing.html#returning-a-view-versus-a-copy\n",
      "  \"\"\"Entry point for launching an IPython kernel.\n"
     ]
    }
   ],
   "source": [
    "data['comments']=[\"\"]*4"
   ]
  },
  {
   "cell_type": "code",
   "execution_count": 23,
   "metadata": {},
   "outputs": [
    {
     "data": {
      "text/plain": [
       "'[\\'[\\\\\\'[\"✅ STB NEO BY STB: Transformation en Banque 4.0💬 C\\\\\\\\\\\\\\'est dans un bijou architectural de Tunisie, le Palais du Baron d\\\\\\\\\\\\\\'Erlanger encore appelé Ennejma Ezzahra, que l\\\\\\\\\\\\\\'inauguration de la première édition d\\\\\\\\\\\\\\'un projet national baptisé ′ ′ Neo By STB ′ ′ A eu lieu hier pour passer commande à une banque 4.0. écosystème encore très très connu.\\', \\'\\\\\\', \\\\\\'\", \\\\\\\\\\\\\\'peu organisé.\\', \\'\\\\\\', \"# NEOBY #STBLaBanqueEXponentielle #STBBANK #NeoTranslated from FrenchJuillet 10 à 17:07 PM · \\\\\\']\"]\\']'"
      ]
     },
     "execution_count": 23,
     "metadata": {},
     "output_type": "execute_result"
    }
   ],
   "source": [
    "str(data['content'][0])"
   ]
  },
  {
   "cell_type": "code",
   "execution_count": null,
   "metadata": {},
   "outputs": [],
   "source": []
  },
  {
   "cell_type": "code",
   "execution_count": 6,
   "metadata": {},
   "outputs": [],
   "source": [
    "df2=data"
   ]
  },
  {
   "cell_type": "code",
   "execution_count": 93,
   "metadata": {},
   "outputs": [
    {
     "data": {
      "text/html": [
       "<div>\n",
       "<style scoped>\n",
       "    .dataframe tbody tr th:only-of-type {\n",
       "        vertical-align: middle;\n",
       "    }\n",
       "\n",
       "    .dataframe tbody tr th {\n",
       "        vertical-align: top;\n",
       "    }\n",
       "\n",
       "    .dataframe thead th {\n",
       "        text-align: right;\n",
       "    }\n",
       "</style>\n",
       "<table border=\"1\" class=\"dataframe\">\n",
       "  <thead>\n",
       "    <tr style=\"text-align: right;\">\n",
       "      <th></th>\n",
       "      <th>content</th>\n",
       "      <th>date</th>\n",
       "      <th>info</th>\n",
       "      <th>good</th>\n",
       "      <th>bad</th>\n",
       "      <th>comments</th>\n",
       "    </tr>\n",
       "  </thead>\n",
       "  <tbody>\n",
       "    <tr>\n",
       "      <td>0</td>\n",
       "      <td>✅ STB NEO BY STB: Transformation to a Bank 4.0...</td>\n",
       "      <td>July 10 at 5:07 PM</td>\n",
       "      <td>[{'name': 'Raja Mansour Zaabar', 'work': ['Wor...</td>\n",
       "      <td>483</td>\n",
       "      <td>4</td>\n",
       "      <td></td>\n",
       "    </tr>\n",
       "    <tr>\n",
       "      <td>2</td>\n",
       "      <td>STB Bank الشركة التونسية للبنك is in Menzel Te...</td>\n",
       "      <td>July 8 at 1:26 PM</td>\n",
       "      <td>[{'name': 'Thameur Ben Moussa', 'work': [], 'e...</td>\n",
       "      <td>171</td>\n",
       "      <td>3</td>\n",
       "      <td></td>\n",
       "    </tr>\n",
       "    <tr>\n",
       "      <td>3</td>\n",
       "      <td>تفاعلا معكم و لتغطية احتياجاتكم المالية الاستث...</td>\n",
       "      <td>July 3 at 7:21 PM</td>\n",
       "      <td>[{'name': 'Zouhayer Bn', 'work': ['Work\n",
       "Facebo...</td>\n",
       "      <td>875</td>\n",
       "      <td>41</td>\n",
       "      <td></td>\n",
       "    </tr>\n",
       "    <tr>\n",
       "      <td>4</td>\n",
       "      <td>Opening times of windows 🏦 Tunisian bank compa...</td>\n",
       "      <td>June 30 at 2:02 PM</td>\n",
       "      <td>[{'name': 'Chokri La', 'work': [], 'education'...</td>\n",
       "      <td>561</td>\n",
       "      <td>71</td>\n",
       "      <td></td>\n",
       "    </tr>\n",
       "  </tbody>\n",
       "</table>\n",
       "</div>"
      ],
      "text/plain": [
       "                                             content                date  \\\n",
       "0  ✅ STB NEO BY STB: Transformation to a Bank 4.0...  July 10 at 5:07 PM   \n",
       "2  STB Bank الشركة التونسية للبنك is in Menzel Te...   July 8 at 1:26 PM   \n",
       "3  تفاعلا معكم و لتغطية احتياجاتكم المالية الاستث...   July 3 at 7:21 PM   \n",
       "4  Opening times of windows 🏦 Tunisian bank compa...  June 30 at 2:02 PM   \n",
       "\n",
       "                                                info  good  bad comments  \n",
       "0  [{'name': 'Raja Mansour Zaabar', 'work': ['Wor...   483    4           \n",
       "2  [{'name': 'Thameur Ben Moussa', 'work': [], 'e...   171    3           \n",
       "3  [{'name': 'Zouhayer Bn', 'work': ['Work\n",
       "Facebo...   875   41           \n",
       "4  [{'name': 'Chokri La', 'work': [], 'education'...   561   71           "
      ]
     },
     "execution_count": 93,
     "metadata": {},
     "output_type": "execute_result"
    }
   ],
   "source": [
    "df2"
   ]
  },
  {
   "cell_type": "code",
   "execution_count": 7,
   "metadata": {
    "collapsed": true,
    "jupyter": {
     "outputs_hidden": true
    }
   },
   "outputs": [
    {
     "name": "stderr",
     "output_type": "stream",
     "text": [
      "C:\\Users\\SELON\\Anaconda3\\envs\\PythonGPU\\lib\\site-packages\\ipykernel_launcher.py:5: SettingWithCopyWarning: \n",
      "A value is trying to be set on a copy of a slice from a DataFrame\n",
      "\n",
      "See the caveats in the documentation: http://pandas.pydata.org/pandas-docs/stable/user_guide/indexing.html#returning-a-view-versus-a-copy\n",
      "  \"\"\"\n",
      "C:\\Users\\SELON\\Anaconda3\\envs\\PythonGPU\\lib\\site-packages\\IPython\\core\\interactiveshell.py:3331: SettingWithCopyWarning: \n",
      "A value is trying to be set on a copy of a slice from a DataFrame\n",
      "\n",
      "See the caveats in the documentation: http://pandas.pydata.org/pandas-docs/stable/user_guide/indexing.html#returning-a-view-versus-a-copy\n",
      "  exec(code_obj, self.user_global_ns, self.user_ns)\n",
      "C:\\Users\\SELON\\Anaconda3\\envs\\PythonGPU\\lib\\site-packages\\pandas\\core\\indexing.py:205: SettingWithCopyWarning: \n",
      "A value is trying to be set on a copy of a slice from a DataFrame\n",
      "\n",
      "See the caveats in the documentation: http://pandas.pydata.org/pandas-docs/stable/user_guide/indexing.html#returning-a-view-versus-a-copy\n",
      "  self._setitem_with_indexer(indexer, value)\n"
     ]
    }
   ],
   "source": [
    "post_final_letters = []\n",
    "for post in df2[\"content\"]:\n",
    "    post_final_letters.append(re.sub(\"[^a-zA-Z]\", \" \", str(post)))\n",
    "for i in range(len(df2)):\n",
    "    df2.content[i]=str(post_final_letters[i])\n"
   ]
  },
  {
   "cell_type": "code",
   "execution_count": 142,
   "metadata": {
    "collapsed": true,
    "jupyter": {
     "outputs_hidden": true
    }
   },
   "outputs": [
    {
     "data": {
      "text/plain": [
       "[\"Apres avoir soudainement coupe le pret, la societe bancaire tunisienne prouve a chaque fois qu'elle ne lui fait plus confiance ... sans ce qu'ils rapportent sur les abus de la part des salaries sauf pour quelques-uns d'entre eux ... Shaker Sfax agence\",\n",
       " \"Nous n'avons pas perdu confiance apres l'avoir appelee la Banque Sociale La jalousie du reste des autres banques a incite la banque centrale stb a telecharger la prime de mars pour que tout le monde soit egal.\",\n",
       " \"Merci d'avoir double le plafond. Veuillez limiter la periode de .... a .......\",\n",
       " 'Pourquoi les prets ont-ils ete deduits pour ceux dont le salaire etait inferieur a 1000 $',\n",
       " 'Vous avez promis 6 mois',\n",
       " 'Etc. Banque Ahsen',\n",
       " 'Prets Aalash Qusaito et nous nous sommes assis sans argent',\n",
       " 'Le remede pour le pret Qusaito',\n",
       " 'Quel est le probleme avec Rizzo dans le distributeur automatise de la plupart des banques de Sfax?',\n",
       " \"Et Dieu est malheureux, et il retire les prets de juillet avec l'Aïd et le peuple, donc la dissolution est necessaire\",\n",
       " \"Pourquoi nous privez-vous l'Aïd?\"]"
      ]
     },
     "execution_count": 142,
     "metadata": {},
     "output_type": "execute_result"
    }
   ],
   "source": [
    "df2.comments[1]"
   ]
  },
  {
   "cell_type": "code",
   "execution_count": 14,
   "metadata": {},
   "outputs": [
    {
     "name": "stderr",
     "output_type": "stream",
     "text": [
      "C:\\Users\\SELON\\Anaconda3\\envs\\PythonGPU\\lib\\site-packages\\ipykernel_launcher.py:2: SettingWithCopyWarning: \n",
      "A value is trying to be set on a copy of a slice from a DataFrame\n",
      "\n",
      "See the caveats in the documentation: http://pandas.pydata.org/pandas-docs/stable/user_guide/indexing.html#returning-a-view-versus-a-copy\n",
      "  \n",
      "C:\\Users\\SELON\\Anaconda3\\envs\\PythonGPU\\lib\\site-packages\\ipykernel_launcher.py:3: SettingWithCopyWarning: \n",
      "A value is trying to be set on a copy of a slice from a DataFrame\n",
      "\n",
      "See the caveats in the documentation: http://pandas.pydata.org/pandas-docs/stable/user_guide/indexing.html#returning-a-view-versus-a-copy\n",
      "  This is separate from the ipykernel package so we can avoid doing imports until\n",
      "C:\\Users\\SELON\\Anaconda3\\envs\\PythonGPU\\lib\\site-packages\\ipykernel_launcher.py:4: SettingWithCopyWarning: \n",
      "A value is trying to be set on a copy of a slice from a DataFrame\n",
      "\n",
      "See the caveats in the documentation: http://pandas.pydata.org/pandas-docs/stable/user_guide/indexing.html#returning-a-view-versus-a-copy\n",
      "  after removing the cwd from sys.path.\n",
      "C:\\Users\\SELON\\Anaconda3\\envs\\PythonGPU\\lib\\site-packages\\ipykernel_launcher.py:5: SettingWithCopyWarning: \n",
      "A value is trying to be set on a copy of a slice from a DataFrame\n",
      "\n",
      "See the caveats in the documentation: http://pandas.pydata.org/pandas-docs/stable/user_guide/indexing.html#returning-a-view-versus-a-copy\n",
      "  \"\"\"\n"
     ]
    }
   ],
   "source": [
    "for post in range(len(df2[\"content\"])):\n",
    "    df2.content[post]=str(df2.content[post]).replace('é','e')\n",
    "    df2.content[post]=str(df2.content[post]).replace('è','e')\n",
    "    df2.content[post]=str(df2.content[post]).replace('ê','e')\n",
    "    df2.content[post]=str(df2.content[post]).replace('à','a')\n",
    "    for com in range(len(df2.comments[post])):\n",
    "        df2.comments[post][com]=str(df2.comments[post][com]).replace('é','e')\n",
    "        df2.comments[post][com]=str(df2.comments[post][com]).replace('è','e')\n",
    "        df2.comments[post][com]=str(df2.comments[post][com]).replace('ê','e')\n",
    "        df2.comments[post][com]=str(df2.comments[post][com]).replace('à','a')\n"
   ]
  },
  {
   "cell_type": "code",
   "execution_count": 130,
   "metadata": {
    "collapsed": true,
    "jupyter": {
     "outputs_hidden": true
    }
   },
   "outputs": [
    {
     "data": {
      "text/plain": [
       "['Félicitations si lotfi et bonne continuation',\n",
       " 'Toujours fière de ma Banque',\n",
       " 'Félicitations et bravo et bonne continuation si Lotfi',\n",
       " 'Bon courage',\n",
       " 'Félicitations et bravo',\n",
       " 'Félicitations',\n",
       " 'Félicitations bon courage et bonne continuation',\n",
       " 'Bravo et bonne continuation',\n",
       " 'Félicitations',\n",
       " 'Bon continuation si lotfi']"
      ]
     },
     "execution_count": 130,
     "metadata": {},
     "output_type": "execute_result"
    }
   ],
   "source": [
    "df2.comments[0]"
   ]
  },
  {
   "cell_type": "code",
   "execution_count": 55,
   "metadata": {},
   "outputs": [],
   "source": [
    "for j in range(len(df2)):\n",
    "    post_final_letters[j]=post_final_letters[j].replace('  ',' ')\n",
    "    post_final_letters[j]=post_final_letters[j].replace('   ',' ')\n",
    "    post_final_letters[j]=post_final_letters[j].replace('    ',' ')\n",
    "    post_final_letters[j]=post_final_letters[j].replace('     ',' ')\n",
    "    post_final_letters[j]=post_final_letters[j].replace('       ',' ')\n",
    "    post_final_letters[j]=post_final_letters[j].replace('   ',' ')"
   ]
  },
  {
   "cell_type": "code",
   "execution_count": 137,
   "metadata": {
    "collapsed": true,
    "jupyter": {
     "outputs_hidden": true
    }
   },
   "outputs": [
    {
     "data": {
      "text/plain": [
       "[\"La premiere fois que nous sentons que la banque nous a tenus pour responsables des clients Azaz, puis un temps a reporte la deduction, mais a la fin, les espoirs ont ete deçus, jusqu'a ce que nous soyons arrives en juin, si Dieu le veut, pour revoir la decision.\",\n",
       " \"Nous vous invitons a retirer la decision de deduction comme vous l'avez promis aux clients, et cela est documente sur votre page.\",\n",
       " \"J'envoie une lettre de remerciement a la banque tunisienne car c'est mon seul lien apres Dieu ....... Mais au dernier moment je me suis deçu apres avoir deduit le pret de juin 2020 .... J'espere que vous retirez sa decision cadeaux.Je suis a la retraite et j'ai un fils qui passera egalement le baccalaureat. J'ai deux allocations\",\n",
       " \"Je vous demande de vous renseigner sur la raison de votre retraite concernant la non-deduction des acomptes des emprunts verses a ceux dont le revenu depasse mille dinars jusqu'a la fin juillet, et vous avez repris la deduction de l'acompte du mois de juin avant jusqu'a la fin du mois\",\n",
       " \"Elle ronfle, et a augmente, il n'y a pas de salut de la rente, pas de lumiere, d'eau, de parfumerie ou de legumes, et sa conclusion n'est pas un jour ferie.\",\n",
       " 'Nos maisons ont ete ruinees. Nous vous demandons de les comprendre et de trouver une solution a la crise',\n",
       " 'Il y avait un besoin exceptionnel, Rao, tu as memorise deux mots qui nous reviennent',\n",
       " \"Blah, alors le nôtre a fait ça. Je viens de marcher jusqu'a la succursale de l'aeroport, et nous vous rencontrerions, l'histoire du pret\",\n",
       " 'Brother les a mis au pret original de 1000 ml ???',\n",
       " '?',\n",
       " \"Apres le texte de tout le bien et merci pour vous, je nous ai fait part d'une circonstance decevante.\",\n",
       " \"Je jure par Dieu que le bon stb est et j'ai dit la seule banque qui se tenait avec les clients, ses biens au moment de la crise, comme pour une perte.\",\n",
       " \"Il a meme demande a la succursale et ils m'ont dit qu'ils n'avaient pas de reponse a ce qui s'etait passe\"]"
      ]
     },
     "execution_count": 137,
     "metadata": {},
     "output_type": "execute_result"
    }
   ],
   "source": [
    "df2.comments[3]"
   ]
  },
  {
   "cell_type": "code",
   "execution_count": 11,
   "metadata": {},
   "outputs": [
    {
     "name": "stderr",
     "output_type": "stream",
     "text": [
      "C:\\Users\\SELON\\Anaconda3\\envs\\PythonGPU\\lib\\site-packages\\ipykernel_launcher.py:2: SettingWithCopyWarning: \n",
      "A value is trying to be set on a copy of a slice from a DataFrame\n",
      "\n",
      "See the caveats in the documentation: http://pandas.pydata.org/pandas-docs/stable/user_guide/indexing.html#returning-a-view-versus-a-copy\n",
      "  \n",
      "C:\\Users\\SELON\\Anaconda3\\envs\\PythonGPU\\lib\\site-packages\\ipykernel_launcher.py:3: SettingWithCopyWarning: \n",
      "A value is trying to be set on a copy of a slice from a DataFrame\n",
      "\n",
      "See the caveats in the documentation: http://pandas.pydata.org/pandas-docs/stable/user_guide/indexing.html#returning-a-view-versus-a-copy\n",
      "  This is separate from the ipykernel package so we can avoid doing imports until\n",
      "C:\\Users\\SELON\\Anaconda3\\envs\\PythonGPU\\lib\\site-packages\\ipykernel_launcher.py:4: SettingWithCopyWarning: \n",
      "A value is trying to be set on a copy of a slice from a DataFrame\n",
      "\n",
      "See the caveats in the documentation: http://pandas.pydata.org/pandas-docs/stable/user_guide/indexing.html#returning-a-view-versus-a-copy\n",
      "  after removing the cwd from sys.path.\n"
     ]
    }
   ],
   "source": [
    "for i in range(len(df2)):\n",
    "    df2.content[i]=str(df2.content[i]).lstrip()\n",
    "    df2.content[i]=str(df2.content[i]).rstrip()\n",
    "    df2.content[i]=str(df2.content[i]).strip()"
   ]
  },
  {
   "cell_type": "code",
   "execution_count": 9,
   "metadata": {},
   "outputs": [],
   "source": [
    "df2=df2.reset_index()\n",
    "df2.drop(columns=['index'],inplace=True)"
   ]
  },
  {
   "cell_type": "code",
   "execution_count": 122,
   "metadata": {},
   "outputs": [
    {
     "data": {
      "text/plain": [
       "range(0, 10)"
      ]
     },
     "execution_count": 122,
     "metadata": {},
     "output_type": "execute_result"
    }
   ],
   "source": [
    "range(len(df2['info'][1]))"
   ]
  },
  {
   "cell_type": "code",
   "execution_count": 12,
   "metadata": {},
   "outputs": [
    {
     "name": "stdout",
     "output_type": "stream",
     "text": [
      "STB NEO BY STB  Transformation to a Bank      It was in an architectural jewelry of Tunisia  the Palais du Baron d   Erlanger still called Ennejma Ezzahra  that the inauguration of the first edition of a national project called    Neo By STB    was held yesterday order transformation to a bank          Innovation is not just technological  innovation is first managerial says an expert expert in digital transformation  calling for a deep and collegial reflection  bringing together all the actors of a wide but still very very well known ecosystem  little organized  NEOBY  STBLaBanqueEXponentielle  STBBANK  NeoTranslated from FrenchJuly    at      PM\n"
     ]
    },
    {
     "name": "stderr",
     "output_type": "stream",
     "text": [
      "C:\\Users\\SELON\\Anaconda3\\envs\\PythonGPU\\lib\\site-packages\\ipykernel_launcher.py:9: SettingWithCopyWarning: \n",
      "A value is trying to be set on a copy of a slice from a DataFrame\n",
      "\n",
      "See the caveats in the documentation: http://pandas.pydata.org/pandas-docs/stable/user_guide/indexing.html#returning-a-view-versus-a-copy\n",
      "  if __name__ == '__main__':\n"
     ]
    },
    {
     "name": "stdout",
     "output_type": "stream",
     "text": [
      "10\n"
     ]
    },
    {
     "name": "stderr",
     "output_type": "stream",
     "text": [
      "C:\\Users\\SELON\\Anaconda3\\envs\\PythonGPU\\lib\\site-packages\\ipykernel_launcher.py:24: SettingWithCopyWarning: \n",
      "A value is trying to be set on a copy of a slice from a DataFrame\n",
      "\n",
      "See the caveats in the documentation: http://pandas.pydata.org/pandas-docs/stable/user_guide/indexing.html#returning-a-view-versus-a-copy\n"
     ]
    },
    {
     "name": "stdout",
     "output_type": "stream",
     "text": [
      "STB Bank الشركة التونسية للبنك is in Menzel Temime.يسرنا اعلامكم ℹانتقال مقر فرع منزل تميم الى مقر وقتي في العنوان التالي:🗺5 نهج منجي سليم منزل تميم ...في انتظار استكمال حلته الجديدة 🆕 بالمقر القديم لاستقباكم في أفضل الظروف🤝 .July 8 at 1:26 PM · Menzel Temime ·\n",
      "10\n",
      "تفاعلا معكم و لتغطية احتياجاتكم المالية الاستثنائية في هذه الفترة, الشركة التونسية للبنك تقرر:✅تمديد صلوحية بطاقة VISA 💳 المنتهية في شهر جوان.✅رفع قيمة السقف المسموح به 🔼(Plafond) لكل البطاقات البنكية الى الضعف ✖2⃣✅مضاعفة✖2⃣ قيمة التداين القصوى المسموح بها🔺( Montant de decouvert autorise )STB BANK 🤝ديما معاكم و ما تخليهاش بيكمJuly 3 at 7:21 PM ·\n",
      "10\n",
      "Opening times of windows 🏦 Tunisian bank company during the summer 🏖🌞Opening hours 🕣🕐 Monday to Friday:′′ Working hours ⚙ ′′ remote apps 📱💻 24 all the time and every time ↖#STBNet #STBDirect #DigitalBankTranslated from ArabicJune 30 at 2:02 PM ·\n",
      "10\n"
     ]
    }
   ],
   "source": [
    "for i in range(len(df2)):\n",
    "    translator = Translator()\n",
    "    contenu = str(df2[\"content\"][i])\n",
    "    tokenContenu = sent_tokenize(contenu)    \n",
    "    newContent=[]\n",
    "    for tt in tokenContenu:\n",
    "        print(tt)\n",
    "        newContent.append(translator.translate(tt, dest=\"fr\").text)\n",
    "    df2.content[i]=newContent\n",
    "    \n",
    "    newComment=[] \n",
    "    l=len(df2['info'][i])\n",
    "    print(l)\n",
    "    for j in range(0,l):\n",
    "        commentaire=\"\"\n",
    "        translator = Translator()\n",
    "\n",
    "        commentaire = df2['info'][i][j]['comment']\n",
    "\n",
    "        tokenComment = sent_tokenize(commentaire)\n",
    "        for tt in tokenComment:\n",
    "            \n",
    "            newComment.append(translator.translate(tt, dest=\"fr\").text)\n",
    "    df2.comments[i]=newComment\n",
    "\n"
   ]
  },
  {
   "cell_type": "code",
   "execution_count": 146,
   "metadata": {},
   "outputs": [
    {
     "data": {
      "text/plain": [
       "\"['Horaires d ouverture des fenetres   Societe bancaire tunisienne pendant l ete    Heures d ouverture    Du lundi au vendredi      Heures de travail       Applications distantes       a tout moment et a chaque fois     STBNet  STBDirect  DigitalBankTranslated from Arabic    juin a   h']\""
      ]
     },
     "execution_count": 146,
     "metadata": {},
     "output_type": "execute_result"
    }
   ],
   "source": [
    "df2.content[3]"
   ]
  },
  {
   "cell_type": "code",
   "execution_count": 139,
   "metadata": {},
   "outputs": [
    {
     "name": "stderr",
     "output_type": "stream",
     "text": [
      "<>:2: DeprecationWarning: invalid escape sequence \\,\n",
      "<>:2: DeprecationWarning: invalid escape sequence \\,\n",
      "<>:2: DeprecationWarning: invalid escape sequence \\,\n",
      "<ipython-input-139-bf5b9a7f1aa8>:2: DeprecationWarning: invalid escape sequence \\,\n",
      "  df2.content[i][0]=re.sub('[/,\\,?,!,<,>,«,»]',\"\",df2.content[i][0])\n"
     ]
    }
   ],
   "source": [
    "for i in range(len(df2)):\n",
    "    df2.content[i][0]=re.sub('[/,\\,?,!,<,>,«,»]',\"\",df2.content[i][0])\n",
    "    for j in range(len(df2.comments[i])):\n",
    "        df2.comments[i][j]=re.sub('[/,\\,?,!,<,>,«,»]',\"\",df2.comments[i][j])"
   ]
  },
  {
   "cell_type": "code",
   "execution_count": 140,
   "metadata": {},
   "outputs": [],
   "source": [
    "df2.to_csv('cleanDF_fr.csv')"
   ]
  },
  {
   "cell_type": "code",
   "execution_count": 9,
   "metadata": {
    "collapsed": true,
    "jupyter": {
     "outputs_hidden": true
    }
   },
   "outputs": [
    {
     "name": "stderr",
     "output_type": "stream",
     "text": [
      "C:\\Users\\SELON\\Anaconda3\\envs\\PythonGPU\\lib\\site-packages\\ipykernel_launcher.py:2: SettingWithCopyWarning: \n",
      "A value is trying to be set on a copy of a slice from a DataFrame\n",
      "\n",
      "See the caveats in the documentation: http://pandas.pydata.org/pandas-docs/stable/user_guide/indexing.html#returning-a-view-versus-a-copy\n",
      "  \n",
      "C:\\Users\\SELON\\Anaconda3\\envs\\PythonGPU\\lib\\site-packages\\ipykernel_launcher.py:3: SettingWithCopyWarning: \n",
      "A value is trying to be set on a copy of a slice from a DataFrame\n",
      "\n",
      "See the caveats in the documentation: http://pandas.pydata.org/pandas-docs/stable/user_guide/indexing.html#returning-a-view-versus-a-copy\n",
      "  This is separate from the ipykernel package so we can avoid doing imports until\n",
      "C:\\Users\\SELON\\Anaconda3\\envs\\PythonGPU\\lib\\site-packages\\ipykernel_launcher.py:4: SettingWithCopyWarning: \n",
      "A value is trying to be set on a copy of a slice from a DataFrame\n",
      "\n",
      "See the caveats in the documentation: http://pandas.pydata.org/pandas-docs/stable/user_guide/indexing.html#returning-a-view-versus-a-copy\n",
      "  after removing the cwd from sys.path.\n",
      "C:\\Users\\SELON\\Anaconda3\\envs\\PythonGPU\\lib\\site-packages\\ipykernel_launcher.py:6: SettingWithCopyWarning: \n",
      "A value is trying to be set on a copy of a slice from a DataFrame\n",
      "\n",
      "See the caveats in the documentation: http://pandas.pydata.org/pandas-docs/stable/user_guide/indexing.html#returning-a-view-versus-a-copy\n",
      "  \n",
      "C:\\Users\\SELON\\Anaconda3\\envs\\PythonGPU\\lib\\site-packages\\ipykernel_launcher.py:8: SettingWithCopyWarning: \n",
      "A value is trying to be set on a copy of a slice from a DataFrame\n",
      "\n",
      "See the caveats in the documentation: http://pandas.pydata.org/pandas-docs/stable/user_guide/indexing.html#returning-a-view-versus-a-copy\n",
      "  \n",
      "C:\\Users\\SELON\\Anaconda3\\envs\\PythonGPU\\lib\\site-packages\\ipykernel_launcher.py:9: SettingWithCopyWarning: \n",
      "A value is trying to be set on a copy of a slice from a DataFrame\n",
      "\n",
      "See the caveats in the documentation: http://pandas.pydata.org/pandas-docs/stable/user_guide/indexing.html#returning-a-view-versus-a-copy\n",
      "  if __name__ == '__main__':\n",
      "C:\\Users\\SELON\\Anaconda3\\envs\\PythonGPU\\lib\\site-packages\\ipykernel_launcher.py:10: SettingWithCopyWarning: \n",
      "A value is trying to be set on a copy of a slice from a DataFrame\n",
      "\n",
      "See the caveats in the documentation: http://pandas.pydata.org/pandas-docs/stable/user_guide/indexing.html#returning-a-view-versus-a-copy\n",
      "  # Remove the CWD from sys.path while we load stuff.\n",
      "C:\\Users\\SELON\\Anaconda3\\envs\\PythonGPU\\lib\\site-packages\\ipykernel_launcher.py:12: SettingWithCopyWarning: \n",
      "A value is trying to be set on a copy of a slice from a DataFrame\n",
      "\n",
      "See the caveats in the documentation: http://pandas.pydata.org/pandas-docs/stable/user_guide/indexing.html#returning-a-view-versus-a-copy\n",
      "  if sys.path[0] == '':\n"
     ]
    }
   ],
   "source": [
    "for i in range(len(df2)):\n",
    "    df2.content[i]=str(df2.content[i]).replace(\"è\",\"e\")\n",
    "    df2.content[i]=str(df2.content[i]).replace(\"é\",\"e\")\n",
    "    df2.content[i]=str(df2.content[i]).replace(\"ê\",\"e\")\n",
    "    #df2.content[i]=str(df2.content[i]).replace(\"à\",\"a\")\n",
    "    df2.content[i]=str(df2.content[i]).replace(\"ô\",\"o\")\n",
    "    for j in range(len(df2.comments[i])):            \n",
    "        df2.comments[i]=str(df2.comments[i]).replace(\"è\",\"e\")\n",
    "        df2.comments[i]=str(df2.comments[i]).replace(\"é\",\"e\")\n",
    "        df2.comments[i]=str(df2.comments[i]).replace(\"ê\",\"e\")\n",
    "        #df2.comments[i]=str(df2.comments[i]).replace(\"à\",\"a\")\n",
    "        df2.comments[i]=str(df2.comments[i]).replace(\"ô\",\"o\")"
   ]
  },
  {
   "cell_type": "code",
   "execution_count": 752,
   "metadata": {},
   "outputs": [
    {
     "data": {
      "text/plain": [
       "0     [\"[«La carte bancaire n'a pas ete etendue, com...\n",
       "1     [\"['Apres la suppression brutale du prêt, la s...\n",
       "2     [\"['Bonne chance a toutes et a tous'\", \"'Bonne...\n",
       "3     ['[\"Elle se dirige vers le menuisier. Le conse...\n",
       "4     [\"['Merci ma banque je souhaite a tous bonne c...\n",
       "5     [\"['Oh stb bank, mon frere, c'est vrai pour Ba...\n",
       "6     [\"['BRAVO si lotfi et bonne continuation Chef'...\n",
       "7     ['\"Il n\\'y a aucune possibilite pour nous qui ...\n",
       "8     ['[«Carte Visa Stb perdue en presence»', '\"Par...\n",
       "9     ['[\"Par Dieu, le fait de reporter le versement...\n",
       "10    [\"[«Notre travail est une exigence et nous l'a...\n",
       "11    [\"['toujours sur le bon chemin bonne continuat...\n",
       "12    [\"['Merci et vive notre deuxieme mere la s t b...\n",
       "13    [\"['Nous pouvons le demander pendant que je su...\n",
       "14    ['[\"Bonne annee et joyeux Eid a tous .... Et u...\n",
       "15    [\"['Chaque annee, vous êtes pure, heureuse, av...\n",
       "16    [\"['Toujours la societe tunisienne de la banqu...\n",
       "17    [\"['Vous vous ressemblez!'\", 'De même, notre e...\n",
       "Name: comments, dtype: object"
      ]
     },
     "execution_count": 752,
     "metadata": {},
     "output_type": "execute_result"
    }
   ],
   "source": [
    "df2.comments"
   ]
  },
  {
   "cell_type": "code",
   "execution_count": 10,
   "metadata": {},
   "outputs": [],
   "source": [
    "df2.to_csv(\"newdf2.csv\")"
   ]
  },
  {
   "cell_type": "code",
   "execution_count": 986,
   "metadata": {},
   "outputs": [],
   "source": [
    "datafr=df2"
   ]
  },
  {
   "cell_type": "code",
   "execution_count": 141,
   "metadata": {
    "collapsed": true,
    "jupyter": {
     "outputs_hidden": true
    }
   },
   "outputs": [
    {
     "data": {
      "text/plain": [
       "['[Honnêtement linutilité est de rembourser ces deux mois de prêts.',\n",
       " '\"Et le prêt Eid vaut 1 000 dinars pour les clients ce nest pas étrange pour vous\"',\n",
       " 'Pourquoi des prêts ont-ils été déduits pour ceux dont le salaire est inférieur à 1 000 d.',\n",
       " 'Tu as promis 6 mois.',\n",
       " '\"La carte parle-t-elle toujours en double salaire ou non\"',\n",
       " '\"Jai obtenu le prêt deux fois ce mois   \"',\n",
       " '\"Nous avons toujours le droit de promouvoir ou non\"',\n",
       " 'Ça fait 2 semaine que j essaye de vous joindre par téléphone mais pas de réponse.',\n",
       " 'Pouvez vous me dire comment clôturer un ancien compte courant',\n",
       " '\"Je suis le gardien personne comme vous naime à Rouge ils ont commencé le problème.\"',\n",
       " 'Frère de quoi parle lhistoire et a vu un membre de la robe frère avez-vous entendu ',\n",
       " 'Nous vous avons expliqué que vous en aviez parlé à Double Slayer à Rogel et que votre temps est décédé alors vous avez réussi mais plutôt promis et payé pour son image.',\n",
       " '\"Les taxes sont compensées par TMM. La taxe est gratuite. Le versement mensuel est inférieur à un million. Nous concluons à laugmentation. Le taux de la taxe est de 97 dinars. Allash\"',\n",
       " '\"Vous achetez un prêt. Nous aimons avoir une solution.\"',\n",
       " 'Par Dieu je ne comprends pas mon frère ils ont commencé les histoires et ont vu un membre.',\n",
       " '\"Dans notre esprit jai dit que nous sommes heureux de vous informer de reporter la déduction\"',\n",
       " '\"STB Bank la société tunisienne de la banque God Almighty Much me dit moins de mille dinars six mois et plus de mille dinars trois mois. Sinon je me trompe.\"',\n",
       " 'Banque idéale.. Bonne chance',\n",
       " '\"Par Dieu le prêt au logement est dû pour un an.\"',\n",
       " 'Le prêt mensuel 700D et Qusaito est clair',\n",
       " '',\n",
       " 'Par Dieu ils nous ont compris en rétribution tout cela est fait',\n",
       " '\"Si cétait Khlituna pour que ce soit avant la couronne il aurait mieux valu le savoir comme un coude quune bouée\"',\n",
       " 'Toute la journée un espionnage scandaleux dhistoires',\n",
       " 'Pourquoi men dites-vous un million aujourdhui à Rouge',\n",
       " '\"Par mon Seigneur nous riposterons pour la punition de Rana.',\n",
       " 'Bonjour bilèhi \"engagement de main levé\" existe fi stb ou non et 3lèch fama des agence ta3tiha et d\\\\autre non ',\n",
       " 'Le meilleur cest agence bizerte.merci imen et olfa et naziha',\n",
       " 'Slm',\n",
       " ']']"
      ]
     },
     "execution_count": 141,
     "metadata": {},
     "output_type": "execute_result"
    }
   ],
   "source": [
    "df2.comments[0]"
   ]
  },
  {
   "cell_type": "code",
   "execution_count": 16,
   "metadata": {},
   "outputs": [
    {
     "data": {
      "text/plain": [
       "['Felicitations si lotfi et bonne continuation',\n",
       " 'Toujours fiere de ma Banque',\n",
       " 'Felicitations et bravo et bonne continuation si Lotfi',\n",
       " 'Bon courage',\n",
       " 'Felicitations et bravo',\n",
       " 'Felicitations',\n",
       " 'Felicitations bon courage et bonne continuation',\n",
       " 'Bravo et bonne continuation',\n",
       " 'Felicitations',\n",
       " 'Bon continuation si lotfi']"
      ]
     },
     "execution_count": 16,
     "metadata": {},
     "output_type": "execute_result"
    }
   ],
   "source": [
    "df2.comments[0]"
   ]
  },
  {
   "cell_type": "code",
   "execution_count": 15,
   "metadata": {},
   "outputs": [
    {
     "ename": "AttributeError",
     "evalue": "'list' object has no attribute 'split'",
     "output_type": "error",
     "traceback": [
      "\u001b[1;31m---------------------------------------------------------------------------\u001b[0m",
      "\u001b[1;31mAttributeError\u001b[0m                            Traceback (most recent call last)",
      "\u001b[1;32m<ipython-input-15-e13f176f7190>\u001b[0m in \u001b[0;36m<module>\u001b[1;34m\u001b[0m\n\u001b[0;32m      1\u001b[0m \u001b[1;32mfor\u001b[0m \u001b[0mi\u001b[0m \u001b[1;32min\u001b[0m \u001b[0mrange\u001b[0m\u001b[1;33m(\u001b[0m\u001b[0mlen\u001b[0m\u001b[1;33m(\u001b[0m\u001b[0mdf2\u001b[0m\u001b[1;33m.\u001b[0m\u001b[0mcomments\u001b[0m\u001b[1;33m)\u001b[0m\u001b[1;33m)\u001b[0m\u001b[1;33m:\u001b[0m\u001b[1;33m\u001b[0m\u001b[1;33m\u001b[0m\u001b[0m\n\u001b[1;32m----> 2\u001b[1;33m     \u001b[0mdf2\u001b[0m\u001b[1;33m.\u001b[0m\u001b[0mcomments\u001b[0m\u001b[1;33m[\u001b[0m\u001b[0mi\u001b[0m\u001b[1;33m]\u001b[0m\u001b[1;33m=\u001b[0m\u001b[0mlist\u001b[0m\u001b[1;33m(\u001b[0m\u001b[0mdf2\u001b[0m\u001b[1;33m.\u001b[0m\u001b[0mcomments\u001b[0m\u001b[1;33m[\u001b[0m\u001b[0mi\u001b[0m\u001b[1;33m]\u001b[0m\u001b[1;33m.\u001b[0m\u001b[0msplit\u001b[0m\u001b[1;33m(\u001b[0m\u001b[1;34m','\u001b[0m\u001b[1;33m)\u001b[0m\u001b[1;33m)\u001b[0m\u001b[1;33m\u001b[0m\u001b[1;33m\u001b[0m\u001b[0m\n\u001b[0m",
      "\u001b[1;31mAttributeError\u001b[0m: 'list' object has no attribute 'split'"
     ]
    }
   ],
   "source": [
    "for i in range(len(df2.comments)):\n",
    "    df2.comments[i]=list(df2.comments[i].split(','))"
   ]
  },
  {
   "cell_type": "code",
   "execution_count": 17,
   "metadata": {},
   "outputs": [],
   "source": [
    "post_final_letters = []\n",
    "for post in df2[\"content\"]:\n",
    "    post_final_letters.append(re.sub(\"[^a-zA-Z]\", \" \", str(post)))\n"
   ]
  },
  {
   "cell_type": "code",
   "execution_count": 480,
   "metadata": {
    "collapsed": true,
    "jupyter": {
     "outputs_hidden": true
    }
   },
   "outputs": [
    {
     "data": {
      "text/plain": [
       "['  Neo by STB  Theme  Tourisme en transformation   Le    juillet      au palais du Baron d  Erlanger  Ennejma Ezzahra   ', '  Nous sommes heureux de vous informer que le siege de la succursale de Manzil Tamim a demenage dans mon siege provisoire a l adresse suivante    Manji Salim approche Manzil Tamim     en attendant la finalisation de sa nouvelle solution dans l ancien siege pour vous rencontrer dans les meilleures conditions   ', '  Bon courage  a nos bacheliers            La confiance en soi est le premier secret du succes      R  W  Emerson  ', '  Interagissez avec vous et pour couvrir vos besoins financiers exceptionnels pendant cette periode  la banque tunisienne decide  de prolonger la validite de la carte VISA fin juin       Montant de decouvert autorise    ', '  Nous souhaitons a nos eleves tout le succes aux concours        bonne chance  ', '  Confus quant au salut de votre service sur vous avec la carte des entreprises STB C Pay   rendez les plus faciles et faites les plaisir  salas les  ', '  Interview de M Lotfi Debbabi avec WMC  ', '  Profitez des possibilites des nouvelles cartes  ', '  En tant que startup beneficiant du Label StartUp du Ministere des Technologies de la Communication et de la Transformation Numerique  la societe tunisienne de la banque vous met une carte internationale  dans la limite de     mille dinars par an  pour effectuer toutes les operations d extraction dans les domaines numeriques     Il est egalement disponible pour les personnes plafonnees a       dinars et pour les entreprises plafonnees a        dinars  ', '  Horaire d ouverture des guichets du Lundi au Vendredi    a partir du   Juin          Vous etes les bienvenus dans nos agences   ', '  Role de STB BANK dans le renforcement du secteur du tourisme en marge de la pandemie de Corona     Interview de M  Lotfi Dabbabi  directeur general de la banque tunisienne  sur les ondes radio d Express FM Abonnez vous a la cha ne YouTube  ', '  La ceremonie de signature de la convention de pret KFW pour le financement de tres petites  petites et moyennes entreprises  TPME II  pour la promotion de l emploi   ', '  Nous souhaitons une joyeuse fete a toutes les mamans                      ', '  Avec la carte bancaire Contactless  vous pouvez extraire vos achats de moins de    dinars sans le mot de passe et sans le mettre dans le TPE  il suffit de le passer en quelques centimetres pour terminer le processus rapidement et avec succes   ', '  L heure d ouverture des fenetres est du mardi    mai au    juin          Horaire d ouverture des guichets du Lundi au Vendredi   a partir du    mai au    Juin       Vous etes les bienvenus dans nos agences   ', '  La sante de votre partenaire     Pour faciliter l acces a des conditions sociales agreees par l Etat  nous mettons tous nos distributeurs automatises GAB   DAB sur l ensemble du territoire de la Republique au profit des beneficiaires sans avoir a utiliser de carte bancaire     La STB Bank met son parc  GAB DAB a votre disposition pour le retrait des aides sociales  sans l usage d une carte bancaire     Votre pays ne vous quitte pas     STB BANK toujours a vos cotes   ', '   Aujourd  hui le role de la banque ne se limite pas au cote financier  la banque est au c ur de la societe  elle est au c ur de l  economie et elle doit donc agir en fonctions des attentes  agir en fonctions des doleances et des soucis de toute la population   Dixit M Lotfi Debbabi   ', '  La societe bancaire tunisienne vous souhaite bonne sante et bien etre     Que Dieu accepte de nous et de vous les bonnes actions  ']"
      ]
     },
     "execution_count": 480,
     "metadata": {},
     "output_type": "execute_result"
    }
   ],
   "source": [
    "post_final_letters"
   ]
  },
  {
   "cell_type": "code",
   "execution_count": 18,
   "metadata": {},
   "outputs": [],
   "source": [
    "comment_final_letters = []\n",
    "for comment in df2[\"comments\"]:\n",
    "    comment_letters=[]\n",
    "    for j in range(len(comment)):\n",
    "        comment_letters.append(re.sub(\"[^a-zA-Z]\", \" \", str(comment[j])))\n",
    "    comment_final_letters.append(comment_letters)"
   ]
  },
  {
   "cell_type": "code",
   "execution_count": 150,
   "metadata": {},
   "outputs": [
    {
     "data": {
      "text/plain": [
       "list"
      ]
     },
     "execution_count": 150,
     "metadata": {},
     "output_type": "execute_result"
    }
   ],
   "source": [
    "type(comment_final_letters)"
   ]
  },
  {
   "cell_type": "code",
   "execution_count": 174,
   "metadata": {},
   "outputs": [],
   "source": [
    "import itertools\n",
    "fin=list(itertools.chain.from_iterable(comment_final_letters))"
   ]
  },
  {
   "cell_type": "code",
   "execution_count": 19,
   "metadata": {},
   "outputs": [],
   "source": [
    "new=[]\n",
    "for i in range(len(comment_final_letters)):\n",
    "    for j in range(len(comment_final_letters[i])):\n",
    "        new.append(comment_final_letters[i][j])"
   ]
  },
  {
   "cell_type": "code",
   "execution_count": 146,
   "metadata": {},
   "outputs": [
    {
     "data": {
      "text/plain": [
       "list"
      ]
     },
     "execution_count": 146,
     "metadata": {},
     "output_type": "execute_result"
    }
   ],
   "source": [
    "type(new)"
   ]
  },
  {
   "cell_type": "markdown",
   "metadata": {},
   "source": [
    "## Tokenization"
   ]
  },
  {
   "cell_type": "markdown",
   "metadata": {},
   "source": [
    "### comments"
   ]
  },
  {
   "cell_type": "code",
   "execution_count": 20,
   "metadata": {},
   "outputs": [],
   "source": [
    "tokenized_docs = [word_tokenize(doc) for doc in new]"
   ]
  },
  {
   "cell_type": "code",
   "execution_count": 153,
   "metadata": {
    "collapsed": true,
    "jupyter": {
     "outputs_hidden": true
    }
   },
   "outputs": [
    {
     "data": {
      "text/plain": [
       "[['Felicitations', 'si', 'lotfi', 'et', 'bonne', 'continuation'],\n",
       " ['Toujours', 'fiere', 'de', 'ma', 'Banque'],\n",
       " ['Felicitations',\n",
       "  'et',\n",
       "  'bravo',\n",
       "  'et',\n",
       "  'bonne',\n",
       "  'continuation',\n",
       "  'si',\n",
       "  'Lotfi'],\n",
       " ['Bon', 'courage'],\n",
       " ['Felicitations', 'et', 'bravo'],\n",
       " ['Felicitations'],\n",
       " ['Felicitations', 'bon', 'courage', 'et', 'bonne', 'continuation'],\n",
       " ['Bravo', 'et', 'bonne', 'continuation'],\n",
       " ['Felicitations'],\n",
       " ['Bon', 'continuation', 'si', 'lotfi'],\n",
       " ['Apres',\n",
       "  'avoir',\n",
       "  'soudainement',\n",
       "  'coupe',\n",
       "  'le',\n",
       "  'pret',\n",
       "  'la',\n",
       "  'societe',\n",
       "  'bancaire',\n",
       "  'tunisienne',\n",
       "  'prouve',\n",
       "  'a',\n",
       "  'chaque',\n",
       "  'fois',\n",
       "  'qu',\n",
       "  'elle',\n",
       "  'ne',\n",
       "  'lui',\n",
       "  'fait',\n",
       "  'plus',\n",
       "  'confiance',\n",
       "  'sans',\n",
       "  'ce',\n",
       "  'qu',\n",
       "  'ils',\n",
       "  'rapportent',\n",
       "  'sur',\n",
       "  'les',\n",
       "  'abus',\n",
       "  'de',\n",
       "  'la',\n",
       "  'part',\n",
       "  'des',\n",
       "  'salaries',\n",
       "  'sauf',\n",
       "  'pour',\n",
       "  'quelques',\n",
       "  'uns',\n",
       "  'd',\n",
       "  'entre',\n",
       "  'eux',\n",
       "  'Shaker',\n",
       "  'Sfax',\n",
       "  'agence'],\n",
       " ['Nous',\n",
       "  'n',\n",
       "  'avons',\n",
       "  'pas',\n",
       "  'perdu',\n",
       "  'confiance',\n",
       "  'apres',\n",
       "  'l',\n",
       "  'avoir',\n",
       "  'appelee',\n",
       "  'la',\n",
       "  'Banque',\n",
       "  'Sociale',\n",
       "  'La',\n",
       "  'jalousie',\n",
       "  'du',\n",
       "  'reste',\n",
       "  'des',\n",
       "  'autres',\n",
       "  'banques',\n",
       "  'a',\n",
       "  'incite',\n",
       "  'la',\n",
       "  'banque',\n",
       "  'centrale',\n",
       "  'stb',\n",
       "  'a',\n",
       "  'telecharger',\n",
       "  'la',\n",
       "  'prime',\n",
       "  'de',\n",
       "  'mars',\n",
       "  'pour',\n",
       "  'que',\n",
       "  'tout',\n",
       "  'le',\n",
       "  'monde',\n",
       "  'soit',\n",
       "  'egal'],\n",
       " ['Merci',\n",
       "  'd',\n",
       "  'avoir',\n",
       "  'double',\n",
       "  'le',\n",
       "  'plafond',\n",
       "  'Veuillez',\n",
       "  'limiter',\n",
       "  'la',\n",
       "  'periode',\n",
       "  'de',\n",
       "  'a'],\n",
       " ['Pourquoi',\n",
       "  'les',\n",
       "  'prets',\n",
       "  'ont',\n",
       "  'ils',\n",
       "  'ete',\n",
       "  'deduits',\n",
       "  'pour',\n",
       "  'ceux',\n",
       "  'dont',\n",
       "  'le',\n",
       "  'salaire',\n",
       "  'etait',\n",
       "  'inferieur',\n",
       "  'a'],\n",
       " ['Vous', 'avez', 'promis', 'mois'],\n",
       " ['Etc', 'Banque', 'Ahsen'],\n",
       " ['Prets',\n",
       "  'Aalash',\n",
       "  'Qusaito',\n",
       "  'et',\n",
       "  'nous',\n",
       "  'nous',\n",
       "  'sommes',\n",
       "  'assis',\n",
       "  'sans',\n",
       "  'argent'],\n",
       " ['Le', 'remede', 'pour', 'le', 'pret', 'Qusaito'],\n",
       " ['Quel',\n",
       "  'est',\n",
       "  'le',\n",
       "  'probleme',\n",
       "  'avec',\n",
       "  'Rizzo',\n",
       "  'dans',\n",
       "  'le',\n",
       "  'distributeur',\n",
       "  'automatise',\n",
       "  'de',\n",
       "  'la',\n",
       "  'plupart',\n",
       "  'des',\n",
       "  'banques',\n",
       "  'de',\n",
       "  'Sfax'],\n",
       " ['Et',\n",
       "  'Dieu',\n",
       "  'est',\n",
       "  'malheureux',\n",
       "  'et',\n",
       "  'il',\n",
       "  'retire',\n",
       "  'les',\n",
       "  'prets',\n",
       "  'de',\n",
       "  'juillet',\n",
       "  'avec',\n",
       "  'l',\n",
       "  'A',\n",
       "  'd',\n",
       "  'et',\n",
       "  'le',\n",
       "  'peuple',\n",
       "  'donc',\n",
       "  'la',\n",
       "  'dissolution',\n",
       "  'est',\n",
       "  'necessaire'],\n",
       " ['Pourquoi', 'nous', 'privez', 'vous', 'l', 'A', 'd'],\n",
       " ['Vous',\n",
       "  'marchez',\n",
       "  'vers',\n",
       "  'le',\n",
       "  'charpentier',\n",
       "  'a',\n",
       "  're',\n",
       "  'u',\n",
       "  'le',\n",
       "  'tableau',\n",
       "  'Getting',\n",
       "  'the',\n",
       "  'hall'],\n",
       " ['Et',\n",
       "  'Dieu',\n",
       "  'tout',\n",
       "  'puissant',\n",
       "  'pour',\n",
       "  'moi',\n",
       "  'est',\n",
       "  'le',\n",
       "  'plus',\n",
       "  'cher',\n",
       "  'que',\n",
       "  'Dieu',\n",
       "  'vous',\n",
       "  'benisse'],\n",
       " ['Burby',\n",
       "  'une',\n",
       "  'reponse',\n",
       "  'a',\n",
       "  'une',\n",
       "  'banque',\n",
       "  'quand',\n",
       "  'vous',\n",
       "  'n',\n",
       "  'avez',\n",
       "  'pas',\n",
       "  'un',\n",
       "  'an'],\n",
       " ['Vous',\n",
       "  'ne',\n",
       "  'dites',\n",
       "  'pas',\n",
       "  'que',\n",
       "  'vous',\n",
       "  'avez',\n",
       "  'le',\n",
       "  'droit',\n",
       "  'a',\n",
       "  'un',\n",
       "  'double',\n",
       "  'vendeur',\n",
       "  'et',\n",
       "  'que',\n",
       "  'vous',\n",
       "  'manquez',\n",
       "  'le',\n",
       "  'plafond',\n",
       "  'Souhaitez',\n",
       "  'moi',\n",
       "  'la',\n",
       "  'joie',\n",
       "  'de',\n",
       "  'mon',\n",
       "  'mois',\n",
       "  'et',\n",
       "  'el',\n",
       "  'chef',\n",
       "  'd',\n",
       "  'agence'],\n",
       " ['Le',\n",
       "  'plus',\n",
       "  'gros',\n",
       "  'probleme',\n",
       "  'avec',\n",
       "  'les',\n",
       "  'agences',\n",
       "  'bancaires',\n",
       "  'est',\n",
       "  'la',\n",
       "  'panne',\n",
       "  'prevue',\n",
       "  'des',\n",
       "  'distributeurs',\n",
       "  'automatiques',\n",
       "  'a',\n",
       "  'la',\n",
       "  'fin',\n",
       "  'de',\n",
       "  'la',\n",
       "  'semaine',\n",
       "  'en',\n",
       "  'particulier',\n",
       "  'au',\n",
       "  'debut',\n",
       "  'du',\n",
       "  'mois'],\n",
       " ['Aujourd',\n",
       "  'hui',\n",
       "  'a',\n",
       "  'differents',\n",
       "  'endroits',\n",
       "  'tous',\n",
       "  'les',\n",
       "  'distributeurs',\n",
       "  'ne',\n",
       "  'travaillent',\n",
       "  'pas',\n",
       "  'et',\n",
       "  'c',\n",
       "  'est',\n",
       "  'une',\n",
       "  'habitude',\n",
       "  'sur',\n",
       "  'laquelle',\n",
       "  'la',\n",
       "  'banque',\n",
       "  'travaille',\n",
       "  'Nous',\n",
       "  'esperons',\n",
       "  'que',\n",
       "  'la',\n",
       "  'question',\n",
       "  'sera',\n",
       "  'clarifiee',\n",
       "  'et',\n",
       "  'evitee',\n",
       "  'avec',\n",
       "  'merci',\n",
       "  'pour',\n",
       "  'l',\n",
       "  'effort'],\n",
       " ['Ce',\n",
       "  'n',\n",
       "  'est',\n",
       "  'pas',\n",
       "  'vrai',\n",
       "  'la',\n",
       "  'realite',\n",
       "  'n',\n",
       "  'est',\n",
       "  'pas',\n",
       "  'ce',\n",
       "  'dont',\n",
       "  'vous',\n",
       "  'parlez',\n",
       "  'la',\n",
       "  'carte',\n",
       "  'se',\n",
       "  'renouvelle',\n",
       "  'automatiquement',\n",
       "  'elle',\n",
       "  'n',\n",
       "  'agit',\n",
       "  'pas',\n",
       "  'comme',\n",
       "  'un',\n",
       "  'avantage',\n",
       "  'et',\n",
       "  'la',\n",
       "  'faiblesse',\n",
       "  'du',\n",
       "  'bagage',\n",
       "  'de',\n",
       "  'la',\n",
       "  'dette',\n",
       "  'est',\n",
       "  'degradee',\n",
       "  'La',\n",
       "  'catastrophe',\n",
       "  'ne',\n",
       "  'vous',\n",
       "  'donne',\n",
       "  'pas',\n",
       "  'et',\n",
       "  'les',\n",
       "  'prets',\n",
       "  'sont',\n",
       "  'depenses',\n",
       "  'le',\n",
       "  'jour'],\n",
       " ['Salutations',\n",
       "  'a',\n",
       "  'tous',\n",
       "  'les',\n",
       "  'employes',\n",
       "  'de',\n",
       "  'la',\n",
       "  'banque',\n",
       "  's',\n",
       "  'il',\n",
       "  'vous',\n",
       "  'pla',\n",
       "  't',\n",
       "  'quelle',\n",
       "  'est',\n",
       "  'la',\n",
       "  'signification',\n",
       "  'de',\n",
       "  'la',\n",
       "  'valeur',\n",
       "  'de',\n",
       "  'la',\n",
       "  'dette',\n",
       "  'et',\n",
       "  'quand',\n",
       "  'elle',\n",
       "  'est',\n",
       "  'appliquee'],\n",
       " ['Nous',\n",
       "  'pensons',\n",
       "  'egalement',\n",
       "  'que',\n",
       "  'les',\n",
       "  'prets',\n",
       "  'ne',\n",
       "  'seront',\n",
       "  'pas',\n",
       "  'deduits',\n",
       "  'au',\n",
       "  'cours',\n",
       "  'du',\n",
       "  'mois',\n",
       "  'de',\n",
       "  'juin',\n",
       "  'et',\n",
       "  'cela',\n",
       "  'apres',\n",
       "  's',\n",
       "  'etre',\n",
       "  'assure',\n",
       "  'des',\n",
       "  'parties',\n",
       "  'publiques',\n",
       "  'de',\n",
       "  'la',\n",
       "  'banque',\n",
       "  'De',\n",
       "  'plus',\n",
       "  'lorsque',\n",
       "  'nous',\n",
       "  'avons',\n",
       "  'extrait',\n",
       "  'un',\n",
       "  'releve',\n",
       "  'de',\n",
       "  'compte',\n",
       "  'nous',\n",
       "  'avons',\n",
       "  'confirme',\n",
       "  'davantage',\n",
       "  'et',\n",
       "  'ecrit',\n",
       "  'la',\n",
       "  'deduction',\n",
       "  'est',\n",
       "  'faite',\n",
       "  'avant',\n",
       "  'le',\n",
       "  'juillet',\n",
       "  'mais',\n",
       "  'quelle',\n",
       "  'est',\n",
       "  'notre',\n",
       "  'faute',\n",
       "  'surtout',\n",
       "  'si',\n",
       "  'la',\n",
       "  'plupart',\n",
       "  'des',\n",
       "  'clients',\n",
       "  'ont',\n",
       "  'retire',\n",
       "  'l',\n",
       "  'argent',\n",
       "  'du',\n",
       "  'pret',\n",
       "  'A',\n",
       "  'd',\n",
       "  'al',\n",
       "  'Adha'],\n",
       " ['Je',\n",
       "  'ne',\n",
       "  'comprends',\n",
       "  'pas',\n",
       "  'ce',\n",
       "  'que',\n",
       "  'Shenwa',\n",
       "  'signifie',\n",
       "  'la',\n",
       "  'valeur',\n",
       "  'de',\n",
       "  'la',\n",
       "  'dette'],\n",
       " ['Dieu', 'a', 'pitie', 'de', 'vos', 'parents'],\n",
       " ['La',\n",
       "  'premiere',\n",
       "  'fois',\n",
       "  'que',\n",
       "  'nous',\n",
       "  'sentons',\n",
       "  'que',\n",
       "  'la',\n",
       "  'banque',\n",
       "  'nous',\n",
       "  'a',\n",
       "  'tenus',\n",
       "  'pour',\n",
       "  'responsables',\n",
       "  'des',\n",
       "  'clients',\n",
       "  'Azaz',\n",
       "  'puis',\n",
       "  'un',\n",
       "  'temps',\n",
       "  'a',\n",
       "  'reporte',\n",
       "  'la',\n",
       "  'deduction',\n",
       "  'mais',\n",
       "  'a',\n",
       "  'la',\n",
       "  'fin',\n",
       "  'les',\n",
       "  'espoirs',\n",
       "  'ont',\n",
       "  'ete',\n",
       "  'de',\n",
       "  'us',\n",
       "  'jusqu',\n",
       "  'a',\n",
       "  'ce',\n",
       "  'que',\n",
       "  'nous',\n",
       "  'soyons',\n",
       "  'arrives',\n",
       "  'en',\n",
       "  'juin',\n",
       "  'si',\n",
       "  'Dieu',\n",
       "  'le',\n",
       "  'veut',\n",
       "  'pour',\n",
       "  'revoir',\n",
       "  'la',\n",
       "  'decision'],\n",
       " ['Nous',\n",
       "  'vous',\n",
       "  'invitons',\n",
       "  'a',\n",
       "  'retirer',\n",
       "  'la',\n",
       "  'decision',\n",
       "  'de',\n",
       "  'deduction',\n",
       "  'comme',\n",
       "  'vous',\n",
       "  'l',\n",
       "  'avez',\n",
       "  'promis',\n",
       "  'aux',\n",
       "  'clients',\n",
       "  'et',\n",
       "  'cela',\n",
       "  'est',\n",
       "  'documente',\n",
       "  'sur',\n",
       "  'votre',\n",
       "  'page'],\n",
       " ['J',\n",
       "  'envoie',\n",
       "  'une',\n",
       "  'lettre',\n",
       "  'de',\n",
       "  'remerciement',\n",
       "  'a',\n",
       "  'la',\n",
       "  'banque',\n",
       "  'tunisienne',\n",
       "  'car',\n",
       "  'c',\n",
       "  'est',\n",
       "  'mon',\n",
       "  'seul',\n",
       "  'lien',\n",
       "  'apres',\n",
       "  'Dieu',\n",
       "  'Mais',\n",
       "  'au',\n",
       "  'dernier',\n",
       "  'moment',\n",
       "  'je',\n",
       "  'me',\n",
       "  'suis',\n",
       "  'de',\n",
       "  'u',\n",
       "  'apres',\n",
       "  'avoir',\n",
       "  'deduit',\n",
       "  'le',\n",
       "  'pret',\n",
       "  'de',\n",
       "  'juin',\n",
       "  'J',\n",
       "  'espere',\n",
       "  'que',\n",
       "  'vous',\n",
       "  'retirez',\n",
       "  'sa',\n",
       "  'decision',\n",
       "  'cadeaux',\n",
       "  'Je',\n",
       "  'suis',\n",
       "  'a',\n",
       "  'la',\n",
       "  'retraite',\n",
       "  'et',\n",
       "  'j',\n",
       "  'ai',\n",
       "  'un',\n",
       "  'fils',\n",
       "  'qui',\n",
       "  'passera',\n",
       "  'egalement',\n",
       "  'le',\n",
       "  'baccalaureat',\n",
       "  'J',\n",
       "  'ai',\n",
       "  'deux',\n",
       "  'allocations'],\n",
       " ['Je',\n",
       "  'vous',\n",
       "  'demande',\n",
       "  'de',\n",
       "  'vous',\n",
       "  'renseigner',\n",
       "  'sur',\n",
       "  'la',\n",
       "  'raison',\n",
       "  'de',\n",
       "  'votre',\n",
       "  'retraite',\n",
       "  'concernant',\n",
       "  'la',\n",
       "  'non',\n",
       "  'deduction',\n",
       "  'des',\n",
       "  'acomptes',\n",
       "  'des',\n",
       "  'emprunts',\n",
       "  'verses',\n",
       "  'a',\n",
       "  'ceux',\n",
       "  'dont',\n",
       "  'le',\n",
       "  'revenu',\n",
       "  'depasse',\n",
       "  'mille',\n",
       "  'dinars',\n",
       "  'jusqu',\n",
       "  'a',\n",
       "  'la',\n",
       "  'fin',\n",
       "  'juillet',\n",
       "  'et',\n",
       "  'vous',\n",
       "  'avez',\n",
       "  'repris',\n",
       "  'la',\n",
       "  'deduction',\n",
       "  'de',\n",
       "  'l',\n",
       "  'acompte',\n",
       "  'du',\n",
       "  'mois',\n",
       "  'de',\n",
       "  'juin',\n",
       "  'avant',\n",
       "  'jusqu',\n",
       "  'a',\n",
       "  'la',\n",
       "  'fin',\n",
       "  'du',\n",
       "  'mois'],\n",
       " ['Elle',\n",
       "  'ronfle',\n",
       "  'et',\n",
       "  'a',\n",
       "  'augmente',\n",
       "  'il',\n",
       "  'n',\n",
       "  'y',\n",
       "  'a',\n",
       "  'pas',\n",
       "  'de',\n",
       "  'salut',\n",
       "  'de',\n",
       "  'la',\n",
       "  'rente',\n",
       "  'pas',\n",
       "  'de',\n",
       "  'lumiere',\n",
       "  'd',\n",
       "  'eau',\n",
       "  'de',\n",
       "  'parfumerie',\n",
       "  'ou',\n",
       "  'de',\n",
       "  'legumes',\n",
       "  'et',\n",
       "  'sa',\n",
       "  'conclusion',\n",
       "  'n',\n",
       "  'est',\n",
       "  'pas',\n",
       "  'un',\n",
       "  'jour',\n",
       "  'ferie'],\n",
       " ['Nos',\n",
       "  'maisons',\n",
       "  'ont',\n",
       "  'ete',\n",
       "  'ruinees',\n",
       "  'Nous',\n",
       "  'vous',\n",
       "  'demandons',\n",
       "  'de',\n",
       "  'les',\n",
       "  'comprendre',\n",
       "  'et',\n",
       "  'de',\n",
       "  'trouver',\n",
       "  'une',\n",
       "  'solution',\n",
       "  'a',\n",
       "  'la',\n",
       "  'crise'],\n",
       " ['Il',\n",
       "  'y',\n",
       "  'avait',\n",
       "  'un',\n",
       "  'besoin',\n",
       "  'exceptionnel',\n",
       "  'Rao',\n",
       "  'tu',\n",
       "  'as',\n",
       "  'memorise',\n",
       "  'deux',\n",
       "  'mots',\n",
       "  'qui',\n",
       "  'nous',\n",
       "  'reviennent'],\n",
       " ['Blah',\n",
       "  'alors',\n",
       "  'le',\n",
       "  'n',\n",
       "  'tre',\n",
       "  'a',\n",
       "  'fait',\n",
       "  'a',\n",
       "  'Je',\n",
       "  'viens',\n",
       "  'de',\n",
       "  'marcher',\n",
       "  'jusqu',\n",
       "  'a',\n",
       "  'la',\n",
       "  'succursale',\n",
       "  'de',\n",
       "  'l',\n",
       "  'aeroport',\n",
       "  'et',\n",
       "  'nous',\n",
       "  'vous',\n",
       "  'rencontrerions',\n",
       "  'l',\n",
       "  'histoire',\n",
       "  'du',\n",
       "  'pret'],\n",
       " ['Brother', 'les', 'a', 'mis', 'au', 'pret', 'original', 'de', 'ml'],\n",
       " [],\n",
       " ['Apres',\n",
       "  'le',\n",
       "  'texte',\n",
       "  'de',\n",
       "  'tout',\n",
       "  'le',\n",
       "  'bien',\n",
       "  'et',\n",
       "  'merci',\n",
       "  'pour',\n",
       "  'vous',\n",
       "  'je',\n",
       "  'nous',\n",
       "  'ai',\n",
       "  'fait',\n",
       "  'part',\n",
       "  'd',\n",
       "  'une',\n",
       "  'circonstance',\n",
       "  'decevante'],\n",
       " ['Je',\n",
       "  'jure',\n",
       "  'par',\n",
       "  'Dieu',\n",
       "  'que',\n",
       "  'le',\n",
       "  'bon',\n",
       "  'stb',\n",
       "  'est',\n",
       "  'et',\n",
       "  'j',\n",
       "  'ai',\n",
       "  'dit',\n",
       "  'la',\n",
       "  'seule',\n",
       "  'banque',\n",
       "  'qui',\n",
       "  'se',\n",
       "  'tenait',\n",
       "  'avec',\n",
       "  'les',\n",
       "  'clients',\n",
       "  'ses',\n",
       "  'biens',\n",
       "  'au',\n",
       "  'moment',\n",
       "  'de',\n",
       "  'la',\n",
       "  'crise',\n",
       "  'comme',\n",
       "  'pour',\n",
       "  'une',\n",
       "  'perte'],\n",
       " ['Il',\n",
       "  'a',\n",
       "  'meme',\n",
       "  'demande',\n",
       "  'a',\n",
       "  'la',\n",
       "  'succursale',\n",
       "  'et',\n",
       "  'ils',\n",
       "  'm',\n",
       "  'ont',\n",
       "  'dit',\n",
       "  'qu',\n",
       "  'ils',\n",
       "  'n',\n",
       "  'avaient',\n",
       "  'pas',\n",
       "  'de',\n",
       "  'reponse',\n",
       "  'a',\n",
       "  'ce',\n",
       "  'qui',\n",
       "  's',\n",
       "  'etait',\n",
       "  'passe']]"
      ]
     },
     "execution_count": 153,
     "metadata": {},
     "output_type": "execute_result"
    }
   ],
   "source": [
    "tokenized_docs"
   ]
  },
  {
   "cell_type": "markdown",
   "metadata": {},
   "source": [
    "### posts"
   ]
  },
  {
   "cell_type": "code",
   "execution_count": 21,
   "metadata": {},
   "outputs": [],
   "source": [
    "tokenized_docs2 = [word_tokenize(doc) for doc in post_final_letters]"
   ]
  },
  {
   "cell_type": "code",
   "execution_count": 997,
   "metadata": {
    "collapsed": true,
    "jupyter": {
     "outputs_hidden": true
    }
   },
   "outputs": [
    {
     "data": {
      "text/plain": [
       "[['Neo', 'by', 'STB', 'Theme', 'Tourisme', 'en', 'transformation', 'Le', 'juillet', 'au', 'palais', 'du', 'Baron', 'd', 'Erlanger', 'Ennejma', 'Ezzahra'], ['Nous', 'sommes', 'heureux', 'de', 'vous', 'informer', 'que', 'le', 'siege', 'de', 'la', 'succursale', 'de', 'Manzil', 'Tamim', 'a', 'demenage', 'mon', 'siege', 'provisoire', 'l', 'adresse', 'suivante', 'Manji', 'Salim', 'approche', 'Manzil', 'Tamim', 'en', 'attendant', 'la', 'finalisation', 'de', 'sa', 'nouvelle', 'solution', 'dans', 'l', 'ancien', 'siege', 'pour', 'vous', 'rencontrer', 'dans', 'les', 'meilleures', 'conditions'], ['Bon', 'courage', 'nos', 'bacheliers', 'La', 'confiance', 'en', 'soi', 'est', 'le', 'premier', 'secret', 'du', 'succes', 'R', 'W', 'Emerson'], ['Interagissez', 'avec', 'vous', 'et', 'pour', 'couvrir', 'vos', 'besoins', 'financiers', 'exceptionnels', 'durant', 'cette', 'periode', 'la', 'societe', 'bancaire', 'tunisienne', 'decide', 'de', 'prolonger', 'la', 'validite', 'de', 'la', 'carte', 'VISA', 'fin', 'juin', 'Montant', 'de', 'decouvert', 'autorise'], ['Nous', 'souhaitons', 'nos', 'eleves', 'tout', 'le', 'succes', 'aux', 'concours', 'bonne', 'chance'], ['Confus', 'quant', 'au', 'salut', 'de', 'votre', 'service', 'sur', 'vous', 'avec', 'la', 'carte', 'des', 'entreprises', 'STB', 'C', 'Pay', 'rendez', 'les', 'plus', 'faciles', 'et', 'faites', 'les', 'plaisir', 'salas', 'les'], ['Interview', 'de', 'M', 'Lotfi', 'Debbabi', 'avec', 'WMC'], ['Profitez', 'des', 'possibilites', 'des', 'nouvelles', 'cartes'], ['En', 'tant', 'que', 'startup', 'beneficiant', 'du', 'Label', 'StartUp', 'du', 'Ministere', 'des', 'Technologies', 'de', 'la', 'Communication', 'et', 'de', 'la', 'Transformation', 'Numerique', 'la', 'societe', 'tunisienne', 'de', 'la', 'banque', 'vous', 'met', 'votre', 'disposition', 'une', 'carte', 'internationale', 'dans', 'la', 'limite', 'de', 'dinars', 'par', 'an', 'pour', 'effectuer', 'toutes', 'les', 'operations', 'd', 'extraction', 'dans', 'les', 'domaines', 'numeriques', 'Il', 'est', 'egalement', 'disponible', 'pour', 'les', 'personnes', 'plafonnees', 'dinars', 'et', 'pour', 'les', 'entreprises', 'plafonnees', 'dinars'], ['Horaire', 'd', 'ouverture', 'des', 'guichets', 'du', 'Lundi', 'au', 'Vendredi', 'a', 'partir', 'du', 'Juin', 'Vous', 'etes', 'les', 'bienvenus', 'dans', 'nos', 'agences'], ['Role', 'de', 'STB', 'BANK', 'dans', 'le', 'renforcement', 'du', 'secteur', 'du', 'tourisme', 'en', 'marge', 'de', 'la', 'pandemie', 'de', 'Corona', 'Interview', 'de', 'M', 'Lotfi', 'Dabbabi', 'directeur', 'general', 'de', 'la', 'banque', 'tunisienne', 'sur', 'les', 'ondes', 'radio', 'd', 'Express', 'FM', 'Abonnez', 'vous', 'la', 'cha', 'ne', 'YouTube'], ['La', 'ceremonie', 'de', 'signature', 'de', 'la', 'convention', 'de', 'pret', 'KFW', 'pour', 'le', 'financement', 'de', 'tres', 'petites', 'petites', 'et', 'moyennes', 'entreprises', 'TPME', 'II', 'pour', 'la', 'promotion', 'de', 'l', 'emploi'], ['Nous', 'souhaitons', 'une', 'joyeuse', 'fete', 'toutes', 'les', 'mamans'], ['Avec', 'la', 'carte', 'bancaire', 'Contactless', 'vous', 'pouvez', 'extraire', 'vos', 'achats', 'de', 'moins', 'de', 'dinars', 'sans', 'le', 'mot', 'de', 'passe', 'et', 'sans', 'le', 'mettre', 'dans', 'le', 'TPE', 'il', 'suffit', 'de', 'le', 'passer', 'en', 'quelques', 'centimetres', 'pour', 'terminer', 'le', 'processus', 'rapidement', 'et', 'avec', 'succes'], ['L', 'heure', 'd', 'ouverture', 'des', 'fenetres', 'est', 'du', 'mardi', 'mai', 'au', 'juin', 'Horaire', 'd', 'ouverture', 'des', 'guichets', 'du', 'Lundi', 'au', 'Vendredi', 'a', 'partir', 'du', 'mai', 'au', 'Juin', 'Vous', 'etes', 'les', 'bienvenus', 'dans', 'nos', 'agences'], ['La', 'sante', 'de', 'votre', 'partenaire', 'Pour', 'faciliter', 'l', 'acces', 'des', 'conditions', 'sociales', 'agreees', 'par', 'l', 'Etat', 'nous', 'mettons', 'tous', 'nos', 'distributeurs', 'automatises', 'GAB', 'DAB', 'sur', 'l', 'ensemble', 'du', 'territoire', 'de', 'la', 'Republique', 'au', 'profit', 'des', 'beneficiaires', 'sans', 'avoir', 'utiliser', 'de', 'carte', 'bancaire', 'La', 'STB', 'Bank', 'met', 'son', 'parc', 'GAB', 'DAB', 'votre', 'disposition', 'pour', 'le', 'retrait', 'des', 'aides', 'sociales', 'sans', 'l', 'usage', 'd', 'une', 'carte', 'bancaire', 'Votre', 'pays', 'ne', 'vous', 'quitte', 'pas', 'STB', 'BANK', 'toujours', 'vos', 'cotes'], ['Aujourd', 'hui', 'le', 'role', 'de', 'la', 'banque', 'ne', 'se', 'limite', 'pas', 'au', 'cote', 'financier', 'la', 'banque', 'est', 'au', 'c', 'ur', 'de', 'la', 'societe', 'elle', 'est', 'au', 'c', 'ur', 'de', 'l', 'economie', 'et', 'elle', 'doit', 'donc', 'agir', 'en', 'fonctions', 'des', 'attentes', 'agir', 'en', 'fonctions', 'des', 'doleances', 'et', 'des', 'soucis', 'de', 'toute', 'la', 'population', 'Dixit', 'M', 'Lotfi', 'Debbabi'], ['La', 'societe', 'bancaire', 'tunisienne', 'vous', 'souhaite', 'bonne', 'sante', 'et', 'bien', 'etre', 'Que', 'Dieu', 'accepte', 'de', 'nous', 'et', 'de', 'vous', 'les', 'bonnes', 'actions']]"
      ]
     },
     "execution_count": 997,
     "metadata": {},
     "output_type": "execute_result"
    }
   ],
   "source": [
    "tokenized_docs2"
   ]
  },
  {
   "cell_type": "markdown",
   "metadata": {},
   "source": [
    "## Transformer les mots en minuscules"
   ]
  },
  {
   "cell_type": "markdown",
   "metadata": {},
   "source": [
    "### comments"
   ]
  },
  {
   "cell_type": "code",
   "execution_count": 22,
   "metadata": {},
   "outputs": [],
   "source": [
    "miniscules = []\n",
    "for word in tokenized_docs:\n",
    "    m = []\n",
    "    for w in word:\n",
    "        m.append(w.lower())\n",
    "    miniscules.append(m)"
   ]
  },
  {
   "cell_type": "code",
   "execution_count": 737,
   "metadata": {
    "collapsed": true,
    "jupyter": {
     "outputs_hidden": true
    }
   },
   "outputs": [
    {
     "data": {
      "text/plain": [
       "[['la', 'carte', 'bancaire', 'n', 'a', 'pas', 'ete', 'etendue'], ['comme', 'vous', 'l', 'avez', 'dit'], ['apres', 'la', 'suppression', 'brutale', 'du', 'pr', 't'], ['la', 'societe', 'tunisienne', 'de', 'la', 'banque', 'prouve', 'a', 'chaque', 'fois', 'que', 'les', 'clients', 'ne', 'lui', 'font', 'plus', 'confiance', 'sans', 'ce', 'qui', 'a', 'ete', 'rapporte', 'par', 'les', 'salaries'], ['a', 'l', 'exception', 'de', 'quelques', 'uns', 'agence', 'shaker', 'sfax'], ['nous', 'n', 'avons', 'pas', 'perdu', 'confiance', 'apres', 'que', 'je', 'l', 'appelle', 'la', 'banque', 'sociale'], ['l', 'autre', 'jalousie', 'des', 'autres', 'banques', 'qui', 'a', 'incite', 'la', 'banque', 'centrale', 'stb', 'a', 'telecharger', 'la', 'prime', 'de', 'mars', 'pour', 'que', 'tout', 'le', 'monde', 'soit', 'egal'], ['merci', 'd', 'avoir', 'ajoute', 'le', 'plafond'], ['mais', 'veuillez', 'preciser', 'la', 'periode', 'du', 'au'], ['par', 'dieu'], ['il', 'est', 'regrettable', 'qu', 'ils', 'aient', 'coupe', 'les', 'pr', 'ts', 'avec', 'l', 'a', 'd', 'et', 'le', 'peuple'], ['il', 'est', 'donc', 'necessaire', 'de', 'resoudre'], ['quel', 'est', 'le', 'probleme', 'avec', 'rizzo', 'chez', 'le', 'concessionnaire', 'automatique'], ['la', 'majorite', 'des', 'banques', 'de', 'sfax'], ['pourquoi', 'des', 'pr', 'ts', 'ont', 'ils', 'ete', 'deduits', 'pour', 'ceux', 'dont', 'le', 'salaire', 'est', 'inferieur', 'a', 'd'], ['tu', 'as', 'promis', 'mois'], ['pr', 'ts', 'allash'], ['bonne', 'chance', 'a', 'toutes', 'et', 'a', 'tous'], ['bonne', 'chance', 'a', 'tous', 'les', 'bacheliers'], ['bonne', 'chance', 'pour', 'nos', 'bacheliers'], ['bonne', 'chance'], ['par', 'allah'], ['que', 'dieu', 'accorde', 'le', 'succes', 'a', 'tous', 'nos', 'enfants'], ['nous', 'sommes', 'revenus', 'le', 'mois', 'de', 'joan', 'qassas'], ['le', 'pr', 't'], ['bonne', 'chance', 'a', 'tous', 'les', 'etudiants', 'du', 'baccalaureat'], ['seigneur', 'soit', 'avec', 'eux'], ['bonne', 'chance', 'a', 'tous'], ['par', 'le', 'proprietaire', 'de', 'l', 'histoire', 'du', 'pr', 't'], ['par', 'mon', 'seigneur'], ['amine', 'bonne', 'chance'], ['retour', 'a'], ['la', 'meilleure', 'chose', 'que', 'vous', 'puissiez', 'faire', 'est', 'de', 'nous', 'revenir'], ['le', 'bon', 'mois', 'de', 'joan', 'haha'], ['revenez', 'avec', 'notre', 'retribution', 'de', 'pr', 't'], ['bonne', 'chance', 'a', 'tous', 'les', 'etudiants'], ['avant', 'de', 'se', 'plaindre'], ['il', 'a', 'un', 'tigre', 'qui', 'manie', 'une', 'course'], ['elle', 'se', 'dirige', 'vers', 'le', 'menuisier', 'le', 'conseil', 'obtient', 'le', 'hallfool'], ['brby', 'une', 'reponse', 'a', 'la', 'banque', 'de', 'l', 'annee', 'de', 'janesh'], ['le', 'plus', 'gros', 'probleme', 'avec', 'les', 'succursales', 'de', 'la', 'banque', 'est', 'la', 'defaillance', 'prevue', 'des', 'distributeurs', 'automatiques', 'a', 'la', 'fin', 'de', 'la', 'semaine'], ['en', 'particulier', 'au', 'debut', 'du', 'mois'], ['aujourd', 'hui', 'a', 'differents', 'endroits'], ['tous', 'les', 'distributeurs', 'ne', 'fonctionnent', 'pas'], ['et', 'ils', 'sont', 'generalement', 'utilises', 'par', 'la', 'banque', 'nous', 'esperons', 'que', 'la', 'question', 'sera', 'clarifiee', 'et', 'evitee'], ['merci', 'pour', 'l', 'effort'], ['franchement'], ['c', 'est', 'une', 'frenesie', 'raisonnable', 'vous', 'avez', 'fait', 'le', 'pr', 't'], ['m', 'me', 'si', 'je', 'l', 'ai', 'demande', 'ils', 'm', 'ont', 'dit'], ['le', 'mois', 'de', 'joan'], ['que', 'vous', 'avez', 'le', 'droit', 'de', 'faire', 'vos', 'salaires', 'mensuels', 'completement'], ['salutations', 'a', 'tous', 'les', 'employes', 'de', 'banque'], ['quelle', 'est', 'la', 'signification', 'de', 'la', 'valeur', 'de', 'la', 'dette', 'et', 'quand', 'sera', 't', 'elle', 'appliquee'], ['et', 'vous', 'n', 'avez', 'pas', 'rembourse', 'le', 'pr', 't', 'vous', 'etiez', 'banquiers'], ['tout', 'le', 'monde', 'est', 'revenu', 'en', 'juillet'], ['le', 'mois', 'de', 'mars', 'est', 'une', 'exception', 'de', 'la', 'banque', 'tunisienne', 'de', 'la', 'banque', 'pour', 'ses', 'clients', 'c', 'est', 'ce', 'que', 'le', 'directeur', 'general', 'a', 'dit'], ['alors', 'vous', 'tes', 'fidele', 'a', 'vos', 'promesses', 'merci', 'de', 'votre', 'comprehension'], ['l', 'une', 'des', 'meilleures', 'banques'], ['franchement'], ['c', 'est', 'l', 'une', 'des', 'meilleures', 'banques'], ['et', 'il', 'a', 'ete', 'suggere', 'que', 'chaque', 'personne', 'prenne', 'un', 'pr', 't', 'pour', 'cinq', 'et', 'seulement', 'sept', 'ans', 'vous', 'travaillerez', 'au', 'moins', 'pendant', 'un', 'mois'], ['sinon', 'deux', 'mois'], ['par', 'exemple'], ['tous', 'les', 'deux', 'ans'], ['et', 'une', 'certaine', 'respiration', 'aura', 'lieu', 'conformement', 'a', 'l', 'accord', 'avec', 'le', 'client'], ['comme', 'd', 'habitude'], ['l', 'entreprise', 'tunisienne', 'de', 'la', 'banque', 'suit', 'le', 'rythme', 'et', 'explore', 'les', 'solutions', 'pour', 'satisfaire', 'ses', 'clients', 'merci', 'a', 'stb', 'et', 'a', 'la', 'succursale', 'bousalem'], ['en', 'particulier', 'le', 'directeur', 'd', 'agence', 'sommet', 'en', 'ethique', 'et', 'devouement', 'au', 'travail'], ['la', 'fin', 'de', 'la', 'carte'], ['dont', 'la', 'resiliation', 'a', 'pris', 'fin', 'en', 'mai'], ['et', 'juste', 'apres', 'votre', 'mission'], ['au', 'debut', 'de', 'la', 'branche'], ['at', 'elle', 'fait', 'le', 'salaire', 'd', 'un', 'mineur'], ['nous', 'mourrons', 'avec', 'elle'], ['il', 'te', 'donne', 'la', 'sante'], ['je', 'veux', 'aller', 'dans', 'ta', 'branche', 'bientot'], ['nous', 'ne', 'comprenons', 'pas', 'la', 'signification', 'de', 'la', 'valeur', 'du', 'credit'], ['dans', 'mon', 'esprit'], ['vous', 'racontez', 'des', 'histoires', 'de', 'pr', 'ts', 'que', 'vous', 'avez', 'dit'], ['nous', 'les', 'recherchons'], ['mon', 'frere', 'ici', 'vous', 'tes', 'entres', 'en', 'nous'], ['tout', 'le', 'monde', 'dans', 'l', 'ombre'], ['et', 'vous', 'voulez', 'nous', 'engloutir'], ['je', 'n', 'ai', 'pas', 'dit', 'trois', 'mois'], ['et', 'avec', 'eux', 'mars'], ['ces', 'mesures', 'sont', 'temporaires', 'et', 'rien', 'ne', 'restera', 'le', 'long'], ['ma', 'meilleure', 'banque', 'en', 'tunisie'], ['les', 'clients', 'qui', 'les', 'excellent', 'se', 'replient', 'sur', 'les', 'decisions', 'de', 'l', 'opposant', 'et', 'respectent', 'ce', 'qui', 'a', 'ete', 'notifie'], ['soit', 'mois'], ['et', 'la', 'troncature', 'que', 'vous', 'l', 'avez', 'utilisee', 'rana', 'notre', 'corps', 'mensuel', 'sur', 'la', 'base', 'de', 'ce', 'qui', 'a', 'ete', 'coupe'], ['c', 'etait', 'un', 'bon', 'pr', 't'], ['nous', 'avons', 'change', 'de', 'place'], ['doublez', 'la', 'promotion', 'au', 'mois', 'de', 'juillet', 'alors', 'que', 'vous', 'travailliez', 'au', 'mois', 'de', 'juin', 'jay', 'eid'], ['vous', 'vous', 'couvrez', 'l', 'il', 'du', 'soleil', 'avec', 'un', 'tamis', 'et', 'vous', 'vous', 'y', 'pincez', 'ce', 'que', 'vous', 'faites'], ['c', 'est', 'travailler'], ['et', 'dieu', 'aime', 'les', 'serviteurs', 'de', 'tous', 'dans', 'les', 'pelouses'], ['oh', 'mon', 'dieu'], ['recevez', 'ce', 'que', 'vous', 'choisissez'], ['et', 'stb', 'est', 'le', 'plus', 'misericordieux', 'certaines', 'des', 'autres', 'banques', 'ont', 'ete', 'grillees', 'par', 'dieu'], ['le', 'moment', 'est', 'venu', 'de', 'commencer', 'ce', 'processus', 'je', 'ne', 'veux', 'pas', 'ruiner', 'la', 'karita', 'aujourd', 'hui'], ['nous', 'remercions', 'tous', 'les', 'agents', 'et', 'pneus', 'de', 'la', 'societe', 'tunisienne', 'pour', 'la', 'banque', 'pour', 'l', 'effort', 'toujours', 'en', 'avant'], ['et', 'que', 'dieu', 'accorde', 'le', 'succes'], ['nous', 'avons', 'rendu', 'l', 'argent', 'du', 'pr', 't', 'a', 'qassitouh', 'pour', 'une', 'periode', 'de', 'six', 'mois'], ['et', 'vous', 'ne', 'l', 'avez', 'pas', 're', 'u', 'd', 'un', 'instant'], ['par', 'dieu'], ['qui', 'j', 'ai', 'mensuellement'], ['c', 'est', 'moins', 'de', 'mille', 'dinars', 'pourquoi', 'ai', 'je', 're', 'u', 'le', 'pr', 't', 'par', 'mois'], ['merci', 'ma', 'banque', 'je', 'souhaite', 'a', 'tous', 'bonne', 'chance'], ['la', 'seule', 'banque', 'qui', 'a', 'reduit', 'le', 'pr', 't', 'et', 'augmente', 'notre', 'erreur', 's', 'est', 'effondree', 'aupres', 'de', 'nos', 'grands', 'parents', 'mensuels'], ['ont', 'ils', 'declare'], ['mon', 'mois', 'est', 'inferieur', 'a', 'un', 'million'], ['et', 'je', 'me', 'le', 'repete', 'chaque', 'mois', 'quelle', 'est', 'la', 'solution', 'nous', 'travaillons', 'comme', 'une', 'petition', 'et', 'nous', 'nous', 'plaignons'], ['un', 'moment', 'o', 'les', 'mois', 'passent'], ['je', 'veux', 'faire', 'de', 'la', 'peine', 'a', 'tout', 'le', 'monde'], ['le', 'manque', 'de', 'pr', 'ts'], ['et', 'aujourd', 'hui', 'je', 'me', 'suis', 'enfui'], ['allash'], ['dites', 'vous'], ['bash'], ['la', 'deduction', 'pour', 'pr', 't', 'est', 'suspendue', 'pour', 'la', 'defunte', 'joan'], ['si', 'dieu', 'le', 'veut'], ['l', 'un', 'des', 'gagnants'], ['o', 'seigneur', 'des', 'mondes'], ['kivash', 'qsito', 'avant', 'le', 'debut', 'du', 'mois'], ['deux', 'jours', 'labas'], ['nous', 'exigeons', 'le', 'retour', 'du', 'pr', 't', 'et', 'la', 'retribution', 'le', 'mois', 'prochain', 'comment', 'peuvent', 'ils', 'ne', 'pas', 'le', 'dire'], ['sinon', 'la', 'situation', 'sera', 'desastreuse'], ['mon', 'frere'], ['pouvez', 'vous', 'dire', 'aux', 'clients'], ['faites', 'une', 'conversation', 'sur', 'le', 'manque', 'du', 'mois'], ['il', 'a', 'rendu', 'les', 'versements', 'de', 'pr', 't', 'que', 'vous', 'avez', 'pris', 'jusqu', 'au', 'mois', 'de', 'juillet', 'dernier'], ['au', 'cours', 'duquel', 'nous', 'avons', 'une', 'grande', 'f', 'te'], ['et', 'l', 'on', 'conna', 't', 'mon', 'seigneur'], ['du', 'nord', 'au', 'sud'], ['stb', 'a', 'dit', 'aux', 'domestiques', 'les', 'm', 'mes', 'mots', 'quelle', 'est', 'la', 'valeur', 'du', 'short', 'de', 'ce', 'mois'], ['pourquoi', 'nous', 'dites', 'vous', 'dans', 'vos', 'succursales', 'que', 'vous', 'tes', 'enveloppe', 'ne', 'couvrez', 'pas', 'le', 'mois'], ['c', 'est', 'vide', 'de', 'nous', 'et', 'le', 'plus', 'doux', 'dans', 'le', 'rouge'], ['c', 'est', 'une', 'violation', 'de', 'votre', 'credibilite', 'aupres', 'de', 'vos', 'clients'], ['mush'], ['vous', 'avez', 'dit', 'que', 'le', 'pr', 't', 'se', 'termine', 'fin', 'juillet'], ['c', 'est', 'votre', 'droit', 'd', 'informer', 'les', 'clients', 'avant', 'ce', 'que', 'vous', 'cherchez'], ['pourquoi', 'ne', 'connaissiez', 'vous', 'pas', 'le', 'pr', 't'], ['les', 'biens', 'de', 'joan', 'et', 'vous', 'nous', 'avez', 'informes', 'de', 'la', 'retribution', 'qu', 'est', 'ce', 'que', 'c', 'est', 'en', 'juillet'], ['vous', 'nous', 'avez', 'benis', 'avec', 'des', 'prairies', 'et', 'des', 'familles', 'avec', 'mon', 'seigneur'], ['les', 'croates'], ['l', 'a', 'd', 'et', 'zaid', 'les', 'connaissent', 'vous', 'nous', 'avez', 'avales', 'avec', 'un', 'langage', 'plus', 'clair'], ['prenez', 'le', 'tous', 'les', 'mois', 'et', 'avez', 'ans', 'de', 'reconfort', 'dans', 'l', 'entreprise', 'tunisienne', 'pour', 'la', 'banque'], ['ils', 'souffrent', 'tous'], ['dieu', 'nous', 'suffit', 'et', 'oui'], ['l', 'agent'], ['mes', 'enfants'], ['racontez', 'nous', 'l', 'histoire'], ['quel', 'kilometre', 'est', 'a', 'points', 'et', 'la', 'reduction', 'de', 'pr', 't', 'a', 'augmente'], ['il', 'est', 'possible', 'de', 'durcir', 'les', 'pr', 'ts', 'pour', 'le', 'serviteur', 'et', 'ceux', 'qui', 'connaissent', 'le', 'mois', 'de', 'l', 'a', 'd'], ['un', 'defaut', 'pour', 'vous'], ['et', 'pour', 'lui', 'd', 'offrir', 'un', 'numero', 'a', 'abd'], ['par', 'mon', 'dieu', 'hier'], ['les', 'pr', 'ts', 'ont', 'ete', 'coupes', 'et', 'aucun', 'dejeuner', 'ne', 'coupe', 'la', 'pension'], ['donc', 'je', 'comprends', 'quelque', 'chose'], ['vous', 'nous', 'dites', 'le', 'pr', 't', 'apres', 'le', 'temps'], ['et', 'vous', 'tes', 'revenu', 'moin'], ['et', 'le', 'bonus', 'du', 'mois', 'de', 'mars', 'est', 'venu', 'de', 'nous'], ['vous', 'avez', 'repondu', 'a', 'un', 'extras', 'qui', 'a', 'reserve', 'des', 'histoires', 'de', 'pr', 't', 'pour', 'un', 'pr', 't', 'que', 'votre', 'professeur', 'avait', 'precedemment'], ['comment', 'le', 'pr', 't', 'a', 't', 'il', 'ete', 'interrompu', 'avant', 'la', 'date', 'limite'], ['la', 'premiere', 'echeance'], ['veuillez', 'verifier', 'parce', 'que', 'j', 'ai', 're', 'u', 'une', 'lettre', 'pour', 'prendre', 'le', 'pr', 't', 'et', 'je', 'vous', 'remercie', 'de', 'votre', 'comprehension'], ['il', 'n', 'y', 'a', 'aucun', 'cas', 'dans', 'lequel', 'on', 'vous', 'attribue'], ['decouper', 'sans', 'notification'], ['a', 'ne', 'me', 'derange', 'pas', 'stb', 'nous', 'etions', 'avec', 'nous', 'imaginez', 'vous'], ['oh', 'stb', 'bank'], ['mon', 'frere'], ['c', 'est', 'vrai', 'pour', 'bash'], ['frere'], ['credi', 'vient', 'de', 'apres', 'corona', 'bash'], ['tu', 'as', 'mois', 'avec', 'certains', 'd', 'entre', 'eux'], ['avril'], ['may', 'et', 'joan', 'khater', 'mois', 'ensemble'], ['joueurs', 'avec', 'un', 'mois', 'supplementaire', 'qui', 'ont', 'avale', 'des', 'serviteurs', 'et', 'viennent', 'a', 'la', 'banque', 'pour', 'des', 'pr', 'ts', 'votre', 'seigneur'], ['vous', 'avez', 'gagne'], ['appele', 'le', 'mal', 'des', 'esclaves', 'vous', 'avez', 'dit'], ['repartez', 'avec', 'votre', 'mal'], ['o', 'mes', 'enfants'], ['quelle', 'est', 'la', 'carte', 'mon', 'sac', 'depuis', 'le', 'er', 'juin'], ['fatouh', 'al', 'salouhi'], ['je', 'me', 'suis', 'assise', 'a', 'chaque', 'fois', 'que', 'nous', 'avons', 'fait', 'km'], ['bash'], ['nous', 'avons', 'donne', 'naissance', 'a', 'de', 'l', 'argent'], ['m', 'me', 'la', 'branche', 'est', 'un', 'truc'], ['donc', 'foshana', 'n', 'a', 'rien', 'compris'], ['qu', 'est', 'ce', 'que', 'le', 'pr', 't', 'oh', 'seigneur'], ['c', 'est', 'le', 'cas'], ['vous', 'nous', 'dites'], ['moshe', 'bash'], ['ils', 'racontent', 'l', 'histoire', 'et', 'nous', 'sommes', 'adores', 'sur', 'la', 'base', 'de', 'cela'], ['y', 'weldi', 'st', 'alo', 'forssa', 'amlo', 'double', 'rouge'], ['bash', 'a', 'abed', 'a', 'avale', 'p', 'rogge', 'et', 'shufu'], ['juste', 'a', 'cause', 'de', 'catastrophes'], ['mon', 'seigneur'], ['mon', 'frere'], ['ils', 'n', 'ont', 'pas', 'dit', 'mois', 'vous', 'ne', 'pourrez', 'pas', 'eteindre', 'le', 'pr', 't'], ['par', 'dieu'], ['laissez', 'nous', 'savoir'], ['pourquoi', 'avez', 'vous', 'dit', 'cela', 'a', 'shahritou', 'pour', 'moins', 'de', 'dinars', 'il', 'va', 'me', 'profiter', 'de', 'mois'], ['et', 'vous', 'serez', 'de', 'retour', 'dans', 'vos', 'mots'], ['ata', 'ena', 'mchitt', 'nel', 'ahm', 'jebdouli', 'credit', 'w', 'ball', 'wa', 'touu', 'zedaa', 'ramm', 'likm', 'leeeh', 't', 'oloulna', 'makmch', 'bch', 't', 'ossou', 'w', 'ba', 'd', 'taghdrouna'], ['que', 'la', 'paix', 'soit', 'sur', 'vous', 'j', 'ai', 'un', 'stb', 'mon', 'ami', 'peut', 'il', 'm', 'envoyer', 'de', 'l', 'argent', 'hors', 'de', 'tunisie'], ['s', 'il', 'vous', 'pla', 't'], ['aidez', 'moi'], ['acheter', 'des', 'pr', 'ts', 'aupres', 'd', 'une', 'autre', 'banque'], ['que', 'la', 'paix', 'soit', 'sur', 'vous'], ['par', 'dieu'], ['bash'], ['vous', 'obtiendrez', 'un', 'autre', 'pr', 't'], ['gran', 'ou', 'non'], ['bravo', 'si', 'lotfi', 'et', 'bonne', 'continuation', 'chef'], ['bravo', 'et', 'bonne', 'continuation'], ['bon', 'courage'], ['pendant', 'la', 'pandemie', 'de', 'corona'], ['la', 'societe', 'tunisienne', 'a', 'demontre', 'a', 'la', 'banque', 'que', 'c', 'etait', 'la', 'banque', 'populaire', 'en', 'se', 'tenant', 'aux', 'cotes', 'de', 'ses', 'clients'], ['ce', 'qui', 'est', 'une', 'position', 'honorable'], ['mais', 'au', 'cours', 'de', 'ce', 'mois'], ['de', 'nombreux', 'clients', 'n', 'ont', 'pas', 'pu', 'se', 'retirer', 'et', 'le', 'numero', 'sur', 'l', 'atm', 'veuillez', 'regarder', 'cette', 'situation'], ['y', 'compris', 'eux'], ['le', 'chef', 'de', 'famille'], ['dont', 'certains', 'sont', 'malades'], ['qui', 'paieront', 'la', 'location', 'd', 'une', 'maison', 'a', 'ses', 'propres', 'obligations', 'veuillez', 'expliquer', 'et', 'trouver', 'une', 'solution', 'merci'], ['bravo', 'stb', 'et', 'surtout', 'agence', 'charguia'], ['bonne', 'chance'], ['si', 'dieu', 'le', 'veut'], ['notre', 'meilleure', 'banque', 'et', 'meilleur', 'personnels', 'bon', 'courage', 'et', 'bonne', 'continuation'], ['la', 'succursale', 'de', 'la', 'societe', 'tunisienne', 'de', 'la', 'banque'], ['avec', 'les', 'informations', 'suivantes'], ['excellentes', 'performances', 'et', 'accueil'], ['en', 'particulier', 'la', 'succursale', 'stb', 'd', 'el', 'zaytouna', 'sfax'], ['dont', 'les', 'agents', 'se', 'distinguent', 'par', 'son', 'enthousiasme', 'et', 'ses', 'excellentes', 'performances'], ['en', 'particulier', 'le', 'chef', 'de', 'la', 'succursale', 'et', 'son', 'aide'], ['un', 'grand', 'salut', 'a', 'eux', 'et', 'a', 'tous', 'les', 'employes'], ['je', 'les', 'remercie'], ['ils', 'vous', 'repondent', 'et', 'les', 'bl', 'ment', 'pour', 'votre', 'mepris'], ['je', 'remercie', 'tout', 'particulierement', 'les', 'employes', 'de', 'la', 'societe', 'bancaire', 'tunisienne'], ['l', 'agence', 'ain', 'draham', 'professionnelle', 'et', 'ethique'], ['l', 'une', 'des', 'meilleures', 'banques', 'est', 'bonne', 'chance', 'pour', 'vous', 'et', 'un', 'merci', 'special', 'a', 'tous', 'les', 'pneus', 'de', 'travail', 'de', 'la', 'nouvelle', 'succursale', 'de', 'sfax', 'pour', 'la', 'performance', 'et', 'la', 'bonne', 'reception', 'et', 'le', 'sourire', 'dans', 'les', 'visages', 'des', 'clients', 'merci'], ['m', 'al', 'manji', 'et', 'tous', 'les', 'pneus'], ['la', 'succursale', 'de', 'la', 'societe', 'tunisienne', 'de', 'la', 'banque'], ['l', 'examen', 'est', 'tres', 'excellent'], ['et', 'un', 'merci', 'tout', 'particulier', 'au', 'chef', 'de', 'la', 'succursale'], ['khaled', 'azouz'], ['pour', 'les', 'grands', 'efforts', 'deployes', 'par', 'mille', 'mercis'], ['bon', 'vent', 'pour', 'notre', 'leaders', 'si', 'lotfi'], ['salutations'], ['mes', 'chers', 'freres', 'aujourd', 'hui'], ['j', 'ai', 'trois', 'mois', 'de', 'qusan'], ['le', 'montant', 'du', 'pr', 't'], ['et', 'j', 'ai', 'la', 'poesie', 'pour', 'moins', 'd', 'un', 'million', 'la', 'banque', 'a', 'dit', 'mois', 'jusqu', 'en', 'ao', 't'], ['et', 'aujourd', 'hui', 'je', 'm', 'envoie', 'la', 'banque', 'pour', 'couper', 'le', 'pr', 't'], ['et', 'je', 'suis', 'le', 'proprietaire', 'de', 'la', 'famille', 'd', 'allash'], ['perby', 'allash'], ['tu', 'manquais', 'de', 'rouge'], ['stb', 'plus', 'fort', 'plus', 'haut'], ['j', 'ecrirai'], ['donc', 'je', 'pourrai', 'toujours', 'l', 'obtenir'], ['yasi', 'lotfi'], ['au', 'lieu', 'de', 'rabbi', 'hashti'], ['pr', 'te'], ['et', 'bankti', 'est', 'un', 'meurtrier'], ['stb', 'bank'], ['un', 'salut', 'a', 'la', 'branche', 'doz'], ['franchement'], ['dieu', 'est', 'de', 'bonnes', 'manieres', 'et', 'un', 'excellent', 'traitement'], ['bonne', 'continuation'], ['il', 'n', 'y', 'a', 'aucune', 'possibilite', 'pour', 'nous', 'qui', 'n', 'avons', 'pas', 'beneficie', 'de', 'report', 'de', 'pr', 'ts', 'nous', 'avons', 'contracte', 'des', 'pr', 'ts', 'en', 'mars', 'et', 'n', 'avons', 'pas', 'inclus', 'd', 'amnistie', 'trois', 'mois', 'se', 'sont', 'ecoules', 'depuis'], ['et', 'l', 'a', 'd', 'est', 'proche'], ['par', 'dieu'], ['la', 'premiere', 'banque', 'en', 'tunisie', 'a', 'ete', 'sauvee'], ['vos', 'clients'], ['deux', 'mois'], ['merci'], ['tous', 'les', 'pneus', 'et', 'le', 'personnel', 'sur', 'le', 'gros', 'effort'], ['et', 'ils', 'continuent', 'de', 'nous', 'donner', 'plus', 'de', 'soutien'], ['en', 'particulier'], ['ceux', 'qui', 'entrent', 'a', 'rouge', 'sont', 'tres', 'difficiles'], ['nous', 'esperons', 'pour', 'votre', 'comprehension'], ['merci', 'et', 'plus', 'd', 'eclat'], ['nous', 'n', 'avons', 'pas', 'double'], ['salar', 'a', 'frappe', 'seul', 'et', 'nous', 'a', 'installes'], ['par', 'mon', 'seigneur'], ['les', 'femmes', 'ont', 'ete', 'elues', 'pour', 'prolonger', 'le', 'non', 'decaissement', 'des', 'pr', 'ts', 'par', 'rapport', 'a', 'celles', 'qui', 'ont', 'rate', 'le', 'tirage', 'de', 'd'], ['salutations', 'a', 'la', 'branche', 'chebniana'], ['je', 'travaille', 'sur', 'une', 'fonction', 'de', 'm', 'choire', 'dessus'], ['le', 'systeme', 'de', 'conte', 'de', 'fees', 'a', 'chaque', 'fois', 'pousse'], [], ['alors', 'quelle', 'est', 'la', 'punition', 'pour', 'le', 'pr', 't', 'de', 'ce', 'mois'], ['mon', 'frere', 'naween', 'chante', 'mais', 'seulement', 'une', 'histoire'], ['affaire', 'abing', 'step', 'alsaltnash', 'bish', 'njbd', 'ral', 'shariq'], ['je', 'ne', 'veux', 'pas', 'parler', 'un', 'mois', 'c', 'est', 'en', 'vertu', 'de', 'notre', 'decision', 'nous', 'sommes', 'juste', 'loin', 'et', 'hostiles', 'a', 'sitge'], ['et', 'avec', 'eux'], ['mon', 'seigneur'], ['c', 'est', 'un', 'plaisir'], ['la', 'stb', 'a', 'doubl', 'le', 'plafond', 'des', 'cartes', 'bancaires'], ['wow'], ['mon', 'seigneur'], ['fais', 'un', 'pas'], ['carte', 'visa', 'stb', 'perdue', 'en', 'presence'], ['par', 'mon', 'seigneur'], ['vous', 'avez', 'accorde', 'un', 'pr', 't', 'a', 'un', 'enseignant', 'dont', 'le', 'mois', 'est', 'complet', 'et', 'qui', 'n', 'a', 'toujours', 'pas', 'de', 'frais'], ['par', 'la', 'succursale', 'd', 'el', 'jem'], ['nous', 'avons', 'dit', 'qu', 'il', 'n', 'y', 'avait', 'pas', 'de', 'prolongation', 'de', 'trois', 'mois', 'de', 'la', 'duree', 'du', 'pr', 't'], ['barbie', 'et', 'qatash', 'en', 'raison', 'de', 'la', 'deduction', 'pour', 'pr', 't'], ['wel', 'compte', 'special', 'en', 'devise'], ['par', 'dieu'], ['le', 'fait', 'de', 'reporter', 'le', 'versement', 'des', 'pr', 'ts', 'a', 'moi', 'depasse', 'le', 'revenu', 'de', 'mille', 'dinars'], ['expliquant', 'la', 'situation'], ['et', 'merci'], ['bravo', 'les', 'tout', 'stb', 'sertou', 'megrine'], ['mille', 'mercis', 'et', 'bonne', 'chance'], ['bon', 'retour', 'de', 'succes'], ['si', 'dieu', 'le', 'veut'], ['un', 'remerciement', 'au', 'directeur', 'de', 'la', 'succursale', 'd', 'abu', 'salem', 'pour', 'la', 'haute', 'ethique'], ['mille', 'saluts', 'aux', 'pneus', 'de', 'la', 'succursale', 'de', 'gabes', 'center'], ['merci', 'a', 'la', 'branche', 'ain', 'draham', 'pour', 'ses', 'services', 'et', 'sa', 'haute', 'ethique'], ['mille', 'mercis', 'et', 'appreciation', 'a', 'la', 'filiale', 'd', 'enfidha'], ['un', 'remerciement', 'et', 'une', 'appreciation', 'a', 'tous', 'les', 'pneus'], ['devises'], ['bonnes', 'manieres', 'et', 'transactions'], ['succursale', 'gabes', 'centre'], ['mille', 'salutations', 'et', 'merci', 'a', 'toute', 'la', 'succursale', 'de', 'la', 'societe', 'tunisienne', 'de', 'la', 'banque', 'a', 'khazindar', 'pour', 'les', 'services', 'rendus', 'et', 'la', 'haute', 'ethique'], ['la', 'banque', 'la', 'plus', 'douce', 'et', 'la', 'plus', 'fragile', 'de', 'tunisie', 'merci', 'stb'], ['un', 'remerciement', 'a', 'la', 'succursale', 'd', 'abu', 'salem'], ['au', 'directeur', 'd', 'agence', 'et', 'a', 'm', 'lotfy', 'el', 'dabbabi', 'en', 'particulier', 'et', 'a', 'chaque', 'innovateur', 'de', 'l', 'entreprise', 'tunisienne', 'de', 'la', 'banque'], ['je', 'remercie', 'tout', 'le', 'personnel', 'de', 'la', 'filiale', 'de', 'ras', 'al', 'jelel'], ['sans', 'oublier', 'la', 'filiale', 'de', 'jan', 'juras'], ['aya', 'behu'], ['attends', 'moi'], ['essuyez', 'votre', 'temps', 'pour', 'lire', 'des', 'histoires'], ['je', 'vais', 'decevoir', 'une', 'branche', 'de', 'deux', 'prisons'], ['j', 'ai', 'un', 'appetit', 'de', 'plus', 'de', 'dinars', 'nous', 'aimons', 'la', 'coupure', 'du', 'pr', 't', 'a', 'mois', 'quelle', 'est', 'la', 'procedure', 'approuvee'], ['bonjour'], ['par', 'dieu'], ['adamin'], ['nous', 'avons', 'vu', 'la', 'carte'], ['le', 'visa'], ['raho'], ['le', 'mois', 'que', 'nous', 'oublions'], ['notre', 'travail', 'est', 'une', 'exigence', 'et', 'nous', 'l', 'attendons', 'toujours'], ['la', 'direction', 'de', 'la', 'banque', 'souhaite', 't', 'elle', 'vraiment', 'activer', 'le', 'processus', 'd', 'achat', 'de', 'pr', 'ts', 'aupres', 'd', 'autres', 'banques', 'pour', 'les', 'clients', 'qui', 'souhaitent', 'ouvrir', 'un', 'compte', 'dans', 'vos', 'succursales'], ['alors'], ['qu', 'est', 'ce', 'qu', 'une', 'reduction', 'de', 'pr', 't', 'en', 'juin', 'pour', 'plus', 'de', 'dirhams'], ['ceux', 'qui', 'se', 'distinguent', 'par', 'sa', 'moralite'], ['son', 'comportement', 'et', 'ses', 'relations'], ['si', 'lutfi', 'al', 'dabbabi'], ['le', 'proprietaire', 'de', 'l', 'excellence', 'et', 'des', 'idees'], ['des', 'mots', 'et', 'des', 'phrases', 'brillants', 'ne', 'lui', 'donnera', 'rien', 'de', 'sa', 'droite'], ['m', 'me', 'avec', 'une', 'petite', 'partie', 'de', 'ce', 'qu', 'il', 'offre', 'merci', 'pour', 'votre', 'don', 'permanent'], ['j', 'ai', 'beni', 'vos', 'bons', 'efforts'], ['que', 'dieu', 'vous', 'protege', 'et', 'guide', 'vos', 'pas'], ['dieu', 'a', 'utilise'], ['un', 'autre', 'probleme', 'est', 'qu', 'ils', 'ont', 'un', 'employe', 'avant', 'tout', 'il', 'adore', 'double', 'rogge'], ['un', 'mois', 'de', 'juin'], ['et', 'il', 'entre', 'dans', 'une', 'grande', 'f', 'te'], ['il', 'n', 'est', 'pas', 'impossible', 'de', 'couper', 'stb', 'est', 'la', 'banque', 'la', 'plus', 'douce', 'du', 'monde', 'comment', 'pouvons', 'nous', 'repondre', 'a', 'un', 'petit', 'coup', 'bas', 'que', 'nous', 'appelons', 'stb'], ['est', 'il', 'possible', 'de', 'prolonger', 'le', 'non', 'paiement', 'du', 'pr', 't'], ['est', 'il', 'possible', 'de', 'prolonger', 'de', 'mois', 'si', 'le', 'pr', 't', 'n', 'est', 'pas', 'deduit'], ['bravo', 'stb'], ['toujours', 'sur', 'le', 'bon', 'chemin', 'bonne', 'continuation'], ['bonne', 'continuation'], ['bravo', 'stb'], ['grand', 'bravo', 'a', 'notre', 'staff', 'stb'], ['bonne', 'continuation', 'stb'], ['rabbi', 'ewafekhom', 'bravoooooo', 's', 't', 'b'], ['bravo', 'stb'], ['bon', 'vent'], ['bonne', 'chance', 'et', 'plus', 'de', 'succes', 'stb'], ['bravo', 'bravo', 'bravo'], ['bravoooo', 'etc'], ['les', 'plus', 'belles', 'transactions'], ['la', 'transparence', 'et', 'le', 'bon', 'accueil'], ['succursale', 'd', 'al', 'jazeera', 'tunis'], ['la', 'meilleure', 'entreprise', 'tunisienne', 'pour', 'la', 'banque', 'mes', 'salutations', 'a', 'l', 'equipe', 'de', 'la', 'succursale', 'de', 'nabeul'], ['que', 'dieu', 'vous', 'accorde', 'le', 'succes'], ['merci', 'et', 'vive', 'notre', 'deuxieme', 'mere', 'la', 's', 't', 'b'], ['bonne', 'f', 'te', 'et', 'merci'], ['merci', 'bien'], ['merci', 'beaucoup'], ['avous', 'mere', 'aussi'], ['tout', 'l', 'amour', 'et', 'l', 'appreciation', 'des', 'meres', 'du', 'peuple', 'de', 'mornaguia', 'et', 'du', 'nouveau'], ['merci'], ['merci'], ['la', 'societe', 'tunisienne'], ['pour', 'la', 'banque', 'si', 'dieu', 'le', 'veut'], ['nous', 'la', 'rejoindrons', 'et'], ['si', 'dieu', 'le', 'veut'], ['nous', 'trouverons', 'des', 'installations'], ['que', 'dieu', 'benisse', 'mon', 'seigneur'], ['s', 'il', 'te', 'pla', 't'], ['les', 'autres', 'bq', 'amline', 'des', 'cadeaux', 'pour', 'les', 'meres', 'w', 'ahna', 'la'], ['merciii', 'stb', 'et', 'je', 'suis', 'cliente', 'depuis'], ['chaque', 'annee'], ['toutes', 'les', 'meres', 'vont', 'bien'], ['nous', 'pouvons', 'le', 'demander', 'pendant', 'que', 'je', 'suis', 'en', 'dehors', 'de', 'la', 'tunisie'], ['et', 'la', 'demande', 'a', 't', 'elle', 'introduit', 'l', 'anglais', 'et', 'l', 'arabe', 'ou', 'est', 'elle', 'toujours', 'en', 'fran', 'ais', 'seulement'], ['que', 'dieu', 'vous', 'protege', 'et', 'vous', 'accorde', 'le', 'succes'], ['miserable', 'banque', 'de', 'services', 'zero', 'et', 'sur', 'la', 'branche', 'de', 'medenine', 'je', 'parle'], ['j', 'ai', 'une', 'carte', 'bancaire', 'visa', 'electron'], ['puis', 'je', 'utiliser', 'cette', 'application', 'en', 'sachant', 'que', 'ma', 'carte', 'a', 'ete', 'extraite', 'il', 'y', 'a', 'un', 'an'], ['un', 'salut', 'a', 'travers', 'vous', 'a', 'tous', 'les', 'employes', 'de', 'la', 'succursale', 'de', 'doz', 'l', 'accueil'], ['les', 'services', 'et', 'la', 'fluidite', 'des', 'transactions', 'avec', 'une', 'tres', 'haute', 'moralite', 'nous', 'avons', 'tous', 'nos', 'remerciements'], ['notre', 'respect', 'et', 'notre', 'appreciation'], ['societe', 'bancaire', 'tunisienne'], ['il', 'fournit', 'toujours', 'a', 'ses', 'clients', 'les', 'meilleurs', 'services'], ['merci'], ['bravo', 'stb', 'mais', 'en', 'cas', 'de', 'perte'], ['les', 'lecteurs', 'nfc', 'sont', 'ils', 'disponibles'], ['l', 'appareil', 'est', 'il', 'disponible', 'dans', 'les', 'petits', 'commer', 'ants', 'et', 'cafes'], ['remerciements', 'particuliers', 'a', 'la', 'filiale', 'al', 'jazeera', 'tunis'], ['la', 'carte', 'est', 'due', 'et', 'la', 'validite', 'a', 'expire', 'la', 'nouvelle', 'carte', 'n', 'est', 'pas', 'arrivee'], ['bravo', 'stb', 'medina', 'branch'], ['bizerte'], ['tech', 'morha', 'snin', 'w', 'mich', 'securise'], ['bravo', 'stb'], ['une', 'idee', 'qui', 'n', 'a', 'pas', 'abouti'], ['car', 'elle', 'prend', 'la', 'forme', 'd', 'tre', 'perdue'], ['dit', 'il'], ['ce', 'qui', 'est', 'normal'], ['ayman'], ['le', 'chef', 'de', 'la', 'branche', 'de', 'son', 'flux'], ['que', 'dieu', 'ait', 'pitie', 'de', 'ses', 'enfants'], ['tout', 'le', 'monde', 'aime', 'un', 'educateur', 'et', 'le', 'traite', 'avec', 'de', 'bons', 'clients'], ['monseigneur'], ['j', 'ai', 'une', 'carte', 'bancaire', 'nous', 'aimons', 'conna', 'tre', 'al', 'soulad'], ['qui', 'veut', 'tre', 'soigne'], ['bravo', 'stb', 'bank'], ['bravo', 'stb'], ['bravo', 'stb'], [], ['bonne', 'annee', 'et', 'joyeux', 'eid', 'a', 'tous', 'et', 'une', 'salutation', 'speciale', 'et', 'reconnaissante', 'a', 'tous', 'les', 'cadres', 'et', 'agents', 'de', 'la', 'branche', 'de', 'ras', 'al', 'jabal', 'et', 'chaque', 'annee'], ['et', 'vous', 'tes', 'mille', 'bons'], ['les', 'employes', 'de', 'la', 'banque', 'tunisienne', 'font', 'un', 'grand', 'effort', 'dans', 'toutes', 'les', 'succursales', 'ils', 'ont', 'tous', 'des', 'remerciements'], ['de', 'l', 'appreciation', 'et', 'du', 'respect', 'je', 'sais', 'tres', 'bien', 'que', 'les', 'deux', 'succursales', 'de', 'tataouine', 'ghamrassen', 'ont', 'mes', 'meilleures', 'salutations', 'et', 'appreciations', 'pour', 'leurs', 'bonnes', 'manieres', 'et', 'leur', 'devouement', 'dans', 'leur', 'travail', 'et', 'mes', 'paroles', 'ne', 'sont', 'pas', 'la', 'courtoisie', 'que', 'c', 'est', 'une', 'realite', 'que', 'je', 'comprends', 'bien', 'et', 'bonne', 'chance', 'a', 'tout', 'le', 'monde'], ['bonne', 'chance'], ['si', 'dieu', 'le', 'veut'], ['joyeux', 'eid'], ['bonnes', 'annees', 'et', 'salutations', 'speciales', 'au', 'personnel', 'de', 'la', 'filiale', 'd', 'enfidha'], ['bienheureux', 'eid'], ['joyeux', 'eid', 'et', 'un', 'salut', 'de', 'gratitude', 'et', 'd', 'appreciation', 'aux', 'employes', 'de', 'stb'], ['joyeux', 'eid', 'mubarak', 'awan', 'branch', 'sbeitla'], ['le', 'mois', 'de', 'mars', 'qosito', 'et', 'non'], ['que', 'dieu', 'vous', 'benisse'], ['felicitations', 'et', 'toujours', 'des', 'annees'], ['je', 'te', 'le', 'promets'], ['felicitations'], ['et', 'mon', 'seigneur'], ['cherche', 'de', 'l', 'aide'], ['balahi', 'est', 'une', 'star', 'que', 'nous', 'travaillons', 'a', 'planifier'], ['quant', 'a', 'un', 'mois'], ['ils', 'rentreront', 'a', 'qarud'], ['aslam', 'bala', 'branche', 'tape'], ['si', 'plein', 'de', 'feu', 'secouer', 'le', 'telephone', 'comprehensible'], ['vers', 'la', 'poste', 'comment', 'comment', 'le', 'temps'], ['joyeux', 'eid'], ['bonnes', 'annees', 'et', 'salutations', 'speciales', 'aux', 'agents', 'de', 'la', 'succursale', 'de', 'tozeur'], ['bonjour'], ['service'], ['chaque', 'annee'], ['vous', 'tes', 'pure'], ['heureuse'], ['avec', 'un', 'c', 'ur', 'blanc', 'et', 'des', 'visages', 'brillants', 'et', 'souriants'], ['chaque', 'annee'], ['vous', 'tes', 'en', 'securite'], ['en', 'securite', 'et', 'satisfait'], ['un', 'salut', 'de', 'remerciements', 'a', 'la', 'banque', 'la', 'plus', 'prestigieuse'], ['et', 'que', 'dieu', 'vous', 'benisse'], ['bravo'], ['que', 'dieu', 'vous', 'benisse'], ['la', 'societe', 'tunisienne', 'de', 'la', 'banque'], ['avec', 'toutes', 'ses', 'succursales', 'et', 'ses', 'employes', 'un', 'merci', 'special', 'au', 'personnel', 'de', 'la', 'succursale', 'de', 'gafsa', 'joyeux', 'eid'], ['et', 'bonne', 'annee'], ['chaque', 'annee'], ['tu', 'es', 'en', 'vie', 'mille', 'fois', 'bien'], ['meilleure', 'banque', 'en', 'tunisie'], ['la', 'derniere', 'banque', 'du', 'mois'], ['chaque', 'annee'], ['tu', 'vas', 'bien'], ['tu', 'donnes', 'des', 'pr', 'ts', 'a', 'des', 'professeurs', 'qui', 'ne', 'peignent', 'toujours', 'pas'], ['a', 'd'], ['felicitations', 'client', 'de', 'ans', 'a', 'la', 'banque', 'tunisienne', 'de', 'la', 'banque'], ['succursale', 'hajib', 'el', 'ayoun'], ['gouvernorat', 'de', 'kairouan', 'sachant', 'que', 'la', 'societe', 'a', 'parraine', 'le', 'renouvellement', 'de', 'celui', 'ci', 'des', 'distributeurs', 'les', 'plus', 'recents', 'et', 'sa', 'vie', 'n', 'est', 'pas', 'ce', 'qui', 'est', 'devenu', 'le', 'distributeur', 'automatique', 'pour', 'la', 'nuit', 'de', 'l', 'a', 'd'], ['il', 'n', 'est', 'pas', 'expedie', 'avec', 'de', 'l', 'argent', 'moqueur'], ['bienheureux', 'eid'], ['demain', 'le', 'samedi', 'un', 'jour', 'de', 'travail', 'pour', 'la', 'banque', 'stb', 'ou', 'non', 'merci'], ['felicitations'], ['et', 'j', 'ai', 'une', 'question', 'tawo', 'rouge', 'double', 'salar'], ['auquel', 'vous', 'donnez', 'stb', 'comment', 'enqu', 'ter', 'sur', 'bash'], ['double', 'rouge', 'decede', 'en', 'juin', 'pour', 'toutes', 'les', 'personnes'], ['sinon', 'un', 'pr', 't', 'de', 'six', 'mois', 'reste', 'avec', 'double', 'rouge', 'jusqu', 'en', 'octobre'], ['performances', 'de', 'retrait', 'en', 'tant', 'que', 'distributions', 'de', 'subventions', 'sociales'], ['felicitations'], ['tunisiens'], ['tout', 'le', 'monde'], ['bravo', 'stb'], ['etc'], ['halit', 'compte', 'andi', 'mois', 'w', 'il', 'tawa', 'carte', 'banquiere', 'mahdhret', 'fi', 'agence', 'nabeul', 'a', 'cote', 'agence', 'ittijari', 'bank'], ['toujours', 'la', 'societe', 'tunisienne', 'de', 'la', 'banque'], ['contrairement', 'a', 'la', 'banque', 'centrale'], ['est', 'la', 'mere', 'des', 'banques', 'tunisiennes'], ['dirigee', 'par', 'm', 'lotfi', 'al', 'dabbabi'], ['que', 'dieu', 'le', 'garde', 'au', 'service', 'de', 'ce', 'pays'], ['de', 'cette', 'chere', 'banque'], ['et', 'de', 'votre', 'bienheureux', 'eid'], ['merci', 'lotfi', 'pour', 'vos', 'efforts', 'et', 'les', 'ruines', 'de', 'nos', 'institutions'], ['et', 'stimuler', 'l', 'economie', 'et', 'maintenir', 'la', 'main', 'd', 'uvre'], ['merci', 'dieu', 'vous', 'benisse'], ['merci', 'pour', 'vos', 'efforts'], ['bonne', 'chance', 'a', 'tous'], ['l', 'effort'], ['l', 'effort', 'exerce'], ['le', 'standing', 'et', 'le', 'lien', 'avec', 'l', 'tre', 'humain'], ['et', 'sa', 'grand', 'mere', 'avec', 'l', 'entreprise', 'tunisienne'], ['la', 'question', 'de', 'la', 'narration', 'etait', 'que', 'je', 'ne', 'lui', 'ai', 'pas', 'repondu', 'avec', 'mon', 'seigneur'], ['alors', 'ils', 'nous', 'ont', 'compris', 'alors'], ['quelle', 'est', 'la', 'punition', 'pour', 'un', 'pr', 't', 'a', 'joan'], ['question', 'bahahi', 'numro', 'est', 'une', 'carte', 'bancaire', 'qui', 'ne', 'fait', 'que', 'endommager', 'ses', 'sponsors'], ['le', 'service', 'de', 'quelques', 'agences', 'est', 'nul'], ['abit', 'nes', 'elkom', 'pour', 'les', 'salaries', 'qui', 'leurs', 'salaires', 'depassent', 'dinars', 'bech', 't', 'osoulna', 'mois', 'de', 'juin', 'ou', 'nn'], ['vous', 'vous', 'ressemblez'], ['de', 'm', 'me'], ['notre', 'entreprise', 'acceptera', 'dieu', 'de', 'nous', 'et', 'de', 'vous', 'en', 'faveur', 'des', 'actes'], ['et', 'cela', 'restera', 'notre', 'fierte', 'et', 'notre', 'soutien'], ['si', 'dieu', 'le', 'veut'], ['votre', 'je', 'ne', 'est', 'acceptable', 'et', 'la', 'remuneration', 'est', 'pardonnee', 'pour', 'tous', 'les', 'pneus', 'et', 'les', 'employes', 'de', 'la', 'societe', 'tunisienne', 'de', 'la', 'banque'], ['dirigee', 'par', 'le', 'directeur', 'general', 'lotfi', 'debabi', 'et', 'nous', 'n', 'oublions', 'pas', 'la', 'succursale', 'de', 'jendouba', 'et', 'bonne', 'annee'], ['oh', 'dieu'], ['amen'], ['seigneur', 'des', 'mondes'], ['et', 'toi', 'aussi'], ['merci'], ['digne', 'de', 'confiance'], ['merci', 'beaucoup', 'a', 'la', 'societe', 'tunisienne', 'pour', 'la', 'banque', 'pour', 'les', 'services', 'de', 'haute', 'qualite', 'qu', 'elle', 'offre', 'a', 'ses', 'clients', 'et', 'a', 'votre', 'bienheureux', 'eid'], ['que', 'dieu', 'accepte', 'votre', 'je', 'ne', 'et', 'bonne', 'annee'], ['inshallah', 'chaque', 'annee', 'avec', 'une', 'breche'], ['o', 'allah'], ['tu', 'es', 'le', 'plus', 'misericordieux', 'et', 'le', 'plus', 'indulgent'], ['tu', 'aimes', 'pardonner', 'ainsi', 'pardonne', 'nous'], ['bravo', 'stb'], ['bonne', 'f', 'te'], ['bonne', 'annee'], ['bonne', 'annee'], ['meilleurs', 'v', 'ux', 'pour', 'une', 'heureuse', 'nouvelle', 'annee'], ['amen']]"
      ]
     },
     "execution_count": 737,
     "metadata": {},
     "output_type": "execute_result"
    }
   ],
   "source": [
    "miniscules"
   ]
  },
  {
   "cell_type": "markdown",
   "metadata": {},
   "source": [
    "### posts"
   ]
  },
  {
   "cell_type": "code",
   "execution_count": 23,
   "metadata": {},
   "outputs": [],
   "source": [
    "miniscules2 = []\n",
    "for word in tokenized_docs2:\n",
    "    m = []\n",
    "    for w in word:\n",
    "        m.append(w.lower())\n",
    "    miniscules2.append(m)"
   ]
  },
  {
   "cell_type": "markdown",
   "metadata": {},
   "source": [
    "## Enlever les stopwords"
   ]
  },
  {
   "cell_type": "markdown",
   "metadata": {},
   "source": [
    "### comments"
   ]
  },
  {
   "cell_type": "code",
   "execution_count": 24,
   "metadata": {},
   "outputs": [],
   "source": [
    "from nltk.corpus import stopwords\n",
    "tokenized_docs_no_stopwords = []\n",
    "for doc in miniscules:\n",
    "    new_term_vector = []\n",
    "    for word in doc:\n",
    "        if not word in stopwords.words('french'):\n",
    "            new_term_vector.append(word)\n",
    "    \n",
    "    tokenized_docs_no_stopwords.append(new_term_vector)"
   ]
  },
  {
   "cell_type": "code",
   "execution_count": 703,
   "metadata": {
    "collapsed": true,
    "jupyter": {
     "outputs_hidden": true
    }
   },
   "outputs": [
    {
     "data": {
      "text/plain": [
       "[['carte', 'bancaire', 'a', 'ete', 'etendue'], ['comme', 'dit'], ['apres', 'suppression', 'brutale', 'pr'], ['societe', 'tunisienne', 'banque', 'prouve', 'a', 'chaque', 'fois', 'clients', 'font', 'plus', 'confiance', 'sans', 'a', 'ete', 'rapporte', 'salaries'], ['a', 'exception', 'quelques', 'uns', 'agence', 'shaker', 'sfax'], ['perdu', 'confiance', 'apres', 'appelle', 'banque', 'sociale'], ['autre', 'jalousie', 'autres', 'banques', 'a', 'incite', 'banque', 'centrale', 'stb', 'a', 'telecharger', 'prime', 'mars', 'tout', 'monde', 'egal'], ['merci', 'avoir', 'ajoute', 'plafond'], ['veuillez', 'preciser', 'periode'], ['dieu'], ['regrettable', 'coupe', 'pr', 'ts', 'a', 'peuple'], ['donc', 'necessaire', 'resoudre'], ['quel', 'probleme', 'rizzo', 'chez', 'concessionnaire', 'automatique'], ['majorite', 'banques', 'sfax'], ['pourquoi', 'pr', 'ts', 'ete', 'deduits', 'ceux', 'dont', 'salaire', 'inferieur', 'a'], ['promis', 'mois'], ['pr', 'ts', 'allash'], ['bonne', 'chance', 'a', 'toutes', 'a', 'tous'], ['bonne', 'chance', 'a', 'tous', 'bacheliers'], ['bonne', 'chance', 'bacheliers'], ['bonne', 'chance'], ['allah'], ['dieu', 'accorde', 'succes', 'a', 'tous', 'enfants'], ['revenus', 'mois', 'joan', 'qassas'], ['pr'], ['bonne', 'chance', 'a', 'tous', 'etudiants', 'baccalaureat'], ['seigneur'], ['bonne', 'chance', 'a', 'tous'], ['proprietaire', 'histoire', 'pr'], ['seigneur'], ['amine', 'bonne', 'chance'], ['retour', 'a'], ['meilleure', 'chose', 'puissiez', 'faire', 'revenir'], ['bon', 'mois', 'joan', 'haha'], ['revenez', 'retribution', 'pr'], ['bonne', 'chance', 'a', 'tous', 'etudiants'], ['avant', 'plaindre'], ['a', 'tigre', 'manie', 'course'], ['dirige', 'vers', 'menuisier', 'conseil', 'obtient', 'hallfool'], ['brby', 'reponse', 'a', 'banque', 'annee', 'janesh'], ['plus', 'gros', 'probleme', 'succursales', 'banque', 'defaillance', 'prevue', 'distributeurs', 'automatiques', 'a', 'fin', 'semaine'], ['particulier', 'debut', 'mois'], ['aujourd', 'hui', 'a', 'differents', 'endroits'], ['tous', 'distributeurs', 'fonctionnent'], ['generalement', 'utilises', 'banque', 'esperons', 'question', 'clarifiee', 'evitee'], ['merci', 'effort'], ['franchement'], ['frenesie', 'raisonnable', 'ecrit', 'pr', 'si', 'demande', 'dit', 'mois', 'joan'], ['droit', 'faire', 'salaires', 'mensuels', 'completement'], ['salutations', 'a', 'tous', 'employes', 'banque'], ['quelle', 'signification', 'valeur', 'dette', 'quand', 'appliquee'], ['rembourse', 'pr', 'etiez', 'banquiers'], ['tout', 'monde', 'revenu', 'juillet'], ['mois', 'mars', 'exception', 'societe', 'tunisienne', 'banque', 'clients', 'directeur', 'general', 'a', 'dit'], ['donc', 'fidele', 'a', 'promesses', 'merci', 'comprehension'], ['meilleures', 'banques'], ['franchement'], ['meilleures', 'banques'], ['a', 'ete', 'suggere', 'chaque', 'personne', 'contracte', 'pr', 'cinq', 'seulement', 'sept', 'ans'], ['comme', 'habitude'], ['entreprise', 'tunisienne', 'banque', 'suit', 'rythme', 'explore', 'solutions', 'satisfaire', 'clients', 'merci', 'a', 'stb', 'a', 'agence', 'bousalem'], ['particulier', 'directeur', 'agence'], ['sommet', 'ethique', 'devouement', 'travail'], [], ['a', 'fin', 'carte', 'dont', 'resiliation', 'a', 'pris', 'fin', 'mai'], ['juste', 'apres', 'mission'], ['a', 'succursale'], ['at', 'fait', 'salaire', 'mineur'], ['mourrons'], ['donne', 'sante'], ['veux', 'aller', 'branche', 'bientot'], ['comprenons', 'signification', 'valeur', 'credit'], ['esprit'], ['racontez', 'histoires', 'pr', 'ts', 'dit', 'recherchons'], ['frere', 'ici', 'entres', 'tout', 'monde', 'rouge', 'aimez', 'plus', 'avalez'], ['dit', 'trois', 'mois'], ['mars'], ['procedures', 'temporaires', 'rien', 'restera', 'long'], ['meilleure', 'banque', 'tunisie'], ['clients', 'excellent', 'replient', 'decisions', 'opposant', 'respectent', 'a', 'ete', 'notifie'], ['mois'], ['troncature', 'utilisee', 'rana', 'corps', 'mensuel', 'base', 'a', 'ete', 'coupe'], ['etait', 'bon', 'pr'], ['change', 'cap'], ['double', 'promotion', 'mois', 'juillet'], ['alors', 'travailliez', 'mois', 'juin', 'jay', 'eid'], ['couvrez', 'soleil', 'tamis'], ['pincez', 'faites'], ['travailler'], ['dieu', 'aime', 'serviteurs', 'tous', 'pelouses'], ['oh', 'dieu'], ['recevez', 'choisissez'], ['stb', 'plus', 'misericordieux', 'certaines', 'autres', 'banques', 'ete', 'grillees', 'dieu'], ['moment', 'venu', 'commencer', 'processus', 'veux', 'ruiner', 'karita', 'aujourd', 'hui'], ['remercions', 'tous', 'agents', 'pneus', 'societe', 'tunisienne', 'banque', 'effort', 'toujours', 'avant'], ['dieu', 'accorde', 'succes'], ['rendu', 'argent', 'pr', 'a', 'qassitouh', 'periode', 'six', 'mois'], ['re', 'u', 'argent'], ['dieu'], ['a', 'fait', 'mois', 'moins', 'millier', 'dinars', 'pourquoi', 're', 'u', 'pr', 'mois', 'dit', 'six', 'mois', 'vais', 'croire', 'tat', 'seulement', 'banque', 'r', 've', 'dont', 'r', 've'], ['merci', 'banque', 'souhaite', 'a', 'tous', 'bonne', 'chance'], ['seule', 'banque', 'a', 'reduit', 'pr', 'augmente', 'erreur', 'effondree', 'aupres', 'grands', 'parents', 'mensuels'], ['declare'], ['mois', 'inferieur', 'a', 'million'], ['repete', 'chaque', 'mois', 'quelle', 'solution', 'travaillons', 'comme', 'petition', 'plaignons'], ['a', 'epoque', 'o', 'mois', 'passent'], ['veux', 'faire', 'peine', 'a', 'tout', 'monde'], ['manque', 'pr', 'ts'], ['aujourd', 'hui', 'enfui'], ['allash'], ['dites'], ['bash'], ['deduction', 'pr', 'suspendue', 'defunte', 'joan'], ['si', 'dieu', 'veut'], ['gagnants'], ['o', 'seigneur', 'mondes'], ['kivash', 'qsito', 'avant', 'debut', 'mois'], ['deux', 'jours', 'labas'], ['exigeons', 'retour', 'pr', 'retribution', 'mois', 'prochain', 'comment', 'peuvent', 'dire'], ['sinon', 'situation', 'desastreuse'], ['frere'], ['pouvez', 'dire', 'clients'], ['faites', 'conversation', 'manque', 'mois'], ['a', 'rendu', 'versements', 'pr', 'pris', 'jusqu', 'dernier', 'juillet'], ['pendant', 'lequel', 'grande', 'f'], ['celui', 'conna', 'seigneur'], ['nord', 'sud'], ['stb', 'a', 'dit', 'domestiques', 'mots', 'quelle', 'valeur', 'short', 'mois'], ['pourquoi', 'parlez', 'succursales', 'enveloppe', 'mois', 'mois', 'vide', 'mieux', 'rouge', 'violation', 'credibilite', 'aupres', 'clients'], ['mush'], ['dit', 'pr', 'termine', 'fin', 'juillet'], ['droit', 'informer', 'clients', 'avant', 'cherchez'], ['pourquoi', 'connaissiez', 'pr'], ['biens', 'jeanne'], ['informes', 'retribution', 'juillet'], ['benis', 'prairies', 'familles', 'dont', 'seigneur'], ['croates'], ['eid', 'zaid', 'connaissent', 'avales', 'langage', 'plus', 'clair'], ['prenez', 'tous', 'mois', 'ans', 'reconfort', 'entreprise', 'tunisienne', 'banque'], ['enfants'], ['racontez', 'histoire'], ['quel', 'kilometre', 'a', 'points', 'reduction', 'pr', 'a', 'augmente'], ['possible', 'durcir', 'pr', 'ts', 'serviteur', 'ceux', 'connaissent', 'mois', 'a'], ['defaut'], ['offrir', 'numero', 'a', 'abd'], ['dieu', 'hier'], ['pr', 'ts', 'ete', 'coupes', 'aucun', 'dejeuner', 'coupe', 'pension'], ['donc', 'comprends', 'quelque', 'chose'], ['dites', 'pr', 'apres', 'temps'], ['revenu', 'moin'], ['bonus', 'mois', 'mars', 'venu'], ['repondu', 'a', 'extras', 'a', 'reserve', 'histoires', 'pr', 'pr', 'professeur', 'precedemment'], ['comment', 'pr', 'a', 'ete', 'interrompu', 'avant', 'date', 'limite'], ['premiere', 'echeance'], ['veuillez', 'verifier', 'parce', 're', 'u', 'lettre', 'prendre', 'pr', 'remercie', 'comprehension'], ['a', 'aucun', 'cas', 'lequel', 'attribue'], ['decouper', 'sans', 'notification'], ['a', 'derange', 'stb', 'etions', 'imaginez'], ['oh', 'stb', 'bank'], ['frere'], ['vrai', 'bash'], ['frere'], ['credi', 'vient', 'apres', 'corona', 'bash'], ['mois', 'certains', 'entre'], ['avril'], ['may', 'joan', 'khater', 'mois', 'ensemble'], ['joueurs', 'mois', 'supplementaire', 'avale', 'serviteurs', 'viennent', 'a', 'banque', 'pr', 'ts', 'seigneur'], ['gagne'], ['appele', 'mal', 'esclaves'], ['si', 'dit'], ['repartez', 'mechancete'], ['o', 'enfants'], ['quelle', 'carte', 'sac', 'depuis', 'er', 'juin'], ['fatouh', 'al', 'salouhi'], ['assise', 'a', 'chaque', 'fois', 'fait', 'km'], ['bash'], ['donne', 'naissance', 'a', 'argent'], ['branche', 'truc'], ['donc', 'foshana', 'a', 'rien', 'compris', 'flash', 'a', 'rendu', 'heureux'], ['dit', 'augmente', 'bonte'], ['pr', 'oh', 'seigneur'], ['cas'], ['dites'], ['moshe', 'bash'], ['racontent', 'histoire', 'adores', 'base', 'cela'], ['weldi', 'st', 'alo', 'forssa', 'amlo', 'double', 'rouge'], ['bash', 'a', 'abdul', 'a', 'avale', 'p', 'rogge', 'shufu'], ['juste', 'a', 'cause', 'catastrophes'], ['seigneur'], ['frere'], ['dit', 'mois', 'ecrirez', 'pr'], ['mois', 'juin'], ['dieu'], ['faites', 'savoir'], ['pourquoi', 'dit', 'cela', 'a', 'shahritou', 'moins', 'dinars', 'va', 'profiter', 'mois'], ['reviendrez', 'mots'], ['ata', 'ena', 'mchitt', 'nel', 'ahm', 'jebdouli', 'credit', 'w', 'ball', 'wa', 'touu', 'zedaa', 'ramm', 'likm', 'leeeh', 'oloulna', 'makmch', 'bch', 'ossou', 'w', 'ba', 'taghdrouna'], ['paix', 'stb', 'ami', 'peut', 'envoyer', 'argent', 'hors', 'tunisie'], ['pla'], ['aidez'], ['acheter', 'pr', 'ts', 'aupres', 'autre', 'banque'], ['paix'], ['dieu'], ['bash'], ['obtiendrez', 'autre', 'pr'], ['gran', 'non'], ['bravo', 'si', 'lotfi', 'bonne', 'continuation', 'chef'], ['bravo', 'bonne', 'continuation'], ['bon', 'courage'], ['pendant', 'pandemie', 'corona'], ['societe', 'tunisienne', 'a', 'demontre', 'a', 'banque', 'etait', 'banque', 'populaire', 'tenant', 'cotes', 'clients'], ['position', 'honorable'], ['cours', 'mois'], ['nombreux', 'clients', 'pu', 'retirer', 'numero', 'atm', 'veuillez', 'regarder', 'cette', 'situation'], ['compris'], ['chef', 'famille'], ['dont', 'certains', 'malades'], ['paieront', 'location', 'maison', 'a', 'propres', 'obligations', 'veuillez', 'expliquer', 'trouver', 'solution', 'merci'], ['bravo', 'stb', 'surtout', 'agence', 'charguia'], ['bonne', 'chance'], ['si', 'dieu', 'veut'], ['meilleure', 'banque', 'meilleur', 'personnels', 'bon', 'courage', 'bonne', 'continuation'], ['succursale', 'societe', 'tunisienne', 'banque'], ['informations', 'suivantes'], ['excellentes', 'performances', 'accueil'], ['particulier', 'succursale', 'stb', 'el', 'zaytouna', 'sfax'], ['dont', 'agents', 'distinguent', 'enthousiasme', 'excellentes', 'performances'], ['particulier', 'chef', 'succursale', 'aide'], ['grand', 'salut', 'a', 'a', 'tous', 'employes'], ['remercie'], ['repondent'], ['bl', 'ment', 'mepris'], ['remercie', 'tout', 'particulierement', 'employes', 'societe', 'bancaire', 'tunisienne'], ['agence', 'ain', 'draham', 'professionnelle', 'ethique'], ['meilleures', 'banques', 'bonne', 'chance', 'a', 'merci', 'special', 'a', 'tous', 'pneus', 'travail', 'nouvelle', 'succursale', 'sfax', 'performance', 'bonne', 'reception', 'sourire', 'visages', 'clients', 'merci'], ['al', 'manji', 'tous', 'pneus'], ['succursale', 'societe', 'tunisienne', 'banque'], ['examen', 'tres', 'excellent'], ['merci', 'special', 'chef', 'succursale'], ['khaled', 'azouz'], ['grands', 'efforts', 'mille', 'mercis'], ['bon', 'vent', 'leaders', 'si', 'lotfi'], ['salutations'], ['chers', 'freres', 'aujourd', 'hui'], ['trois', 'mois', 'qusan'], ['montant', 'pr'], ['poesie', 'moins', 'million', 'banque', 'a', 'dit', 'mois', 'jusqu', 'ao'], ['aujourd', 'hui', 'envoie', 'banque', 'couper', 'pr', 'proprietaire', 'famille', 'allash'], ['perby', 'allash'], ['manquais', 'rouge'], ['stb', 'plus', 'fort', 'plus', 'haut'], ['ecrirai'], ['donc', 'pourrai', 'toujours', 'obtenir'], ['yasi', 'lotfi'], ['lieu', 'rabbi', 'hashti'], ['pr'], ['bankti', 'meurtrier'], ['stb', 'bank'], ['salut', 'a', 'branche', 'doz'], ['franchement'], ['dieu', 'bonnes', 'manieres', 'excellent', 'traitement'], ['bonne', 'continuation'], ['a', 'aucune', 'possibilite', 'beneficie', 'report', 'pr', 'ts', 'contracte', 'pr', 'ts', 'mars', 'inclus', 'amnistie', 'trois', 'mois', 'ecoules', 'depuis'], ['a', 'proche'], ['dieu'], ['premiere', 'banque', 'tunisie', 'a', 'ete', 'sauvee'], ['clients'], ['deux', 'mois'], ['merci'], ['tous', 'pneus', 'personnel', 'gros', 'effort'], ['continuent', 'donner', 'plus', 'soutien'], ['particulier'], ['ceux', 'entrent', 'a', 'rouge', 'tres', 'difficiles'], ['esperons', 'comprehension'], ['merci', 'plus', 'eclat'], ['double'], ['salar', 'a', 'frappe', 'seul', 'a', 'installes'], ['seigneur'], ['femmes', 'ete', 'elues', 'prolonger', 'non', 'decaissement', 'pr', 'ts', 'rapport', 'a', 'celles', 'rate', 'tirage'], ['salutations', 'a', 'branche', 'chebniana'], ['travaille', 'fonction', 'choire', 'dessus'], ['systeme', 'conte', 'fees', 'a', 'chaque', 'fois', 'pousse'], [], ['alors', 'quelle', 'punition', 'pr', 'mois'], ['frere', 'naween', 'chante', 'seulement', 'histoire'], ['affaire', 'abing', 'step', 'alsaltnash', 'bish', 'njbd', 'ral', 'shariq'], ['veux', 'parler', 'mois'], ['raison', 'juste', 'adieu', 'hostilite', 'scene'], [], ['seigneur'], [], ['stb', 'a', 'doubl', 'plafond', 'cartes', 'bancaires'], ['wow'], ['seigneur'], ['etape'], ['retour'], ['pla', 'carte', 'facebook'], ['si', 'faites'], ['faites', 'brillant'], ['carte', 'visa', 'stb', 'perdue', 'presence'], ['seigneur'], ['accorde', 'pr', 'a', 'enseignant', 'dont', 'mois', 'complet', 'a', 'toujours', 'frais'], ['succursale', 'el', 'jem'], ['dit', 'prolongation', 'trois', 'mois', 'duree', 'pr'], ['barbie', 'qatash', 'raison', 'deduction', 'pr'], ['wel', 'compte', 'special', 'devise'], ['dieu'], ['fait', 'reporter', 'versement', 'pr', 'ts', 'a', 'depasse', 'revenu', 'mille', 'dinars'], ['expliquant', 'situation'], ['merci'], ['bravo', 'tout', 'stb', 'sertou', 'megrine'], ['mille', 'mercis', 'bonne', 'chance'], ['bon', 'retour', 'succes'], ['si', 'dieu', 'veut'], ['remerciement', 'directeur', 'succursale', 'abu', 'salem', 'haute', 'ethique'], ['mille', 'saluts', 'pneus', 'succursale', 'gabes', 'center'], ['merci', 'a', 'branche', 'ain', 'draham', 'services', 'haute', 'ethique'], ['mille', 'mercis', 'appreciation', 'a', 'filiale', 'enfidha'], ['remerciement', 'appreciation', 'a', 'tous', 'pneus'], ['devises'], ['bonnes', 'manieres', 'transactions'], ['succursale', 'gabes', 'centre'], ['mille', 'salutations', 'merci', 'a', 'toute', 'succursale', 'societe', 'tunisienne', 'banque', 'a', 'khazindar', 'services', 'rendus', 'haute', 'ethique'], ['banque', 'plus', 'douce', 'plus', 'fragile', 'tunisie', 'merci', 'stb'], ['remerciement', 'a', 'succursale', 'abu', 'salem'], ['directeur', 'agence', 'a', 'lotfy', 'el', 'dabbabi', 'particulier', 'a', 'chaque', 'innovateur', 'entreprise', 'tunisienne', 'banque'], ['remercie', 'tout', 'personnel', 'filiale', 'ras', 'al', 'jelel'], ['sans', 'oublier', 'filiale', 'jan', 'juras'], ['aya', 'behu'], ['attends'], ['essuyez', 'temps', 'lire', 'histoires'], ['vais', 'decevoir', 'branche', 'deux', 'prisons'], ['appetit', 'plus', 'dinars', 'aimons', 'coupure', 'pr', 'a', 'mois', 'quelle', 'procedure', 'approuvee'], ['bonjour'], ['dieu'], ['adamin'], ['vu', 'carte'], ['visa'], ['raho'], ['mois', 'oublions'], ['travail', 'exigence', 'attendons', 'toujours'], ['direction', 'banque', 'souhaite', 'vraiment', 'activer', 'processus', 'achat', 'pr', 'ts', 'aupres', 'autres', 'banques', 'clients', 'souhaitent', 'ouvrir', 'compte', 'agences'], ['alors'], ['reduction', 'pr', 'juin', 'plus', 'dirhams'], ['ceux', 'distingues', 'moralite'], ['comportement', 'relations'], ['si', 'lutfi', 'al', 'dabbabi'], ['proprietaire', 'distinction', 'idees', 'brillantes'], ['mots', 'phrases', 'donnera', 'rien', 'droite'], ['petite', 'partie', 'offre', 'merci', 'don', 'permanent'], ['dieu', 'a', 'utilise'], ['autre', 'probleme', 'employe', 'avant', 'tout', 'aime', 'double', 'rogge'], ['mois', 'juin'], ['entre', 'grande', 'f'], ['impossible', 'couper', 'stb', 'banque', 'plus', 'douce', 'monde', 'comment', 'pouvons', 'repondre', 'a', 'petit', 'coup', 'bas', 'appelons', 'stb'], ['possible', 'prolonger', 'non', 'paiement', 'pr'], ['possible', 'prolonger', 'mois', 'si', 'pr', 'deduit'], ['bravo', 'stb'], ['toujours', 'bon', 'chemin', 'bonne', 'continuation'], ['bonne', 'continuation'], ['bravo', 'stb'], ['grand', 'bravo', 'a', 'staff', 'stb'], ['bonne', 'continuation', 'stb'], ['rabbi', 'ewafekhom', 'bravoooooo', 'b'], ['bravo', 'stb'], ['bon', 'vent'], ['bonne', 'chance', 'plus', 'succes', 'stb'], ['bravo', 'bravo', 'bravo'], ['bravoooo', 'etc'], ['plus', 'belles', 'transactions'], ['transparence', 'bon', 'accueil'], ['succursale', 'al', 'jazeera', 'tunis'], ['meilleure', 'entreprise', 'tunisienne', 'banque', 'salutations', 'a', 'equipe', 'succursale', 'nabeul'], ['dieu', 'accorde', 'succes'], ['merci', 'vive', 'deuxieme', 'mere', 'b'], ['bonne', 'f', 'merci'], ['merci', 'bien'], ['merci', 'beaucoup'], ['avous', 'mere', 'aussi'], ['tout', 'amour', 'appreciation', 'meres', 'peuple', 'mornaguia', 'nouveau'], ['merci'], ['merci'], ['societe', 'tunisienne'], ['banque', 'si', 'dieu', 'veut'], ['rejoindrons'], ['si', 'dieu', 'veut'], ['recevrons', 'installations'], ['dieu', 'benisse', 'seigneur'], ['pla'], ['autres', 'bq', 'amline', 'cadeaux', 'meres', 'w', 'ahna'], ['merciii', 'stb', 'cliente', 'depuis'], ['chaque', 'annee'], ['toutes', 'meres', 'vont', 'bien'], ['pouvons', 'demander', 'pendant', 'dehors', 'tunisie'], ['candidature', 'a', 'introduit', 'anglais', 'arabe', 'toujours', 'fran', 'ais', 'seulement'], ['dieu', 'protege', 'accorde', 'succes'], ['miserable', 'banque', 'services', 'zero', 'branche', 'medenine', 'parle'], ['carte', 'bancaire', 'visa', 'electron'], ['puis', 'utiliser', 'cette', 'application', 'sachant', 'carte', 'a', 'ete', 'extraite', 'a', 'an'], ['salut'], ['a', 'travers'], ['a', 'tous', 'employes', 'succursale', 'doz', 'accueil'], ['services', 'fluidite', 'transactions', 'a', 'tres', 'haute', 'moralite', 'tous', 'remerciements'], ['respect', 'appreciation'], ['societe', 'bancaire', 'tunisienne'], ['fournit', 'toujours', 'a', 'clients', 'meilleurs', 'services'], ['merci'], ['bravo', 'stb', 'cas', 'perte'], ['lecteurs', 'nfc', 'disponibles'], ['appareil', 'disponible', 'petits', 'commer', 'ants', 'cafes'], ['remerciements', 'particuliers', 'a', 'filiale', 'al', 'jazeera', 'tunis'], ['carte', 'due', 'validite', 'a', 'expire', 'nouvelle', 'carte', 'arrivee'], ['bravo', 'stb', 'medina', 'branch'], ['bizerte'], ['tech', 'morha', 'snin', 'w', 'mich', 'securise'], ['bravo', 'stb'], ['idee', 'a', 'abouti'], ['car', 'prend', 'forme', 'perdre'], ['dit'], ['normal'], ['ayman'], ['chef', 'branche', 'flux'], ['dieu', 'pitie', 'enfants'], ['tout', 'monde', 'aime', 'educateur', 'traite', 'bons', 'clients'], ['seigneur'], ['carte', 'bancaire', 'aimons', 'conna', 'tre', 'al', 'soulad'], ['veut', 'tre', 'soigne'], ['bravo', 'stb', 'bank'], ['bravo', 'stb'], ['bravo', 'stb'], [], ['bonne', 'annee', 'joyeux', 'eid', 'a', 'tous', 'salutation', 'speciale', 'reconnaissante', 'a', 'tous', 'pneus', 'agents', 'branche', 'ras', 'al', 'jabal'], ['chaque', 'annee'], ['tres', 'bons'], ['employes', 'societe', 'bancaire', 'tunisienne', 'font', 'grand', 'effort', 'toutes', 'succursales', 'tous', 'remerciements'], ['appreciation', 'respect', 'sais', 'tres', 'bien', 'deux', 'succursales', 'tataouine', 'ghamrassen', 'meilleures', 'salutations', 'appreciations', 'leurs', 'bonnes', 'manieres', 'devouement', 'travail', 'paroles', 'courtoisie', 'realite', 'comprends', 'bien', 'bonne', 'chance', 'a', 'tous'], ['bonne', 'chance'], ['si', 'dieu', 'veut'], ['joyeux', 'eid'], ['nombreuses', 'annees', 'salutation', 'speciale', 'personnel', 'succursale', 'enfidha'], ['bienheureux', 'eid'], ['joyeux', 'eid', 'salut', 'gratitude', 'appreciation', 'employes', 'stb'], ['joyeux', 'eid', 'mubarak', 'awan', 'branch', 'sbeitla'], ['mois', 'mars', 'qosito', 'non'], ['dieu', 'benisse'], ['felicitations', 'toujours', 'annees'], ['promets'], ['felicitations'], ['seigneur'], ['cherche', 'aide'], ['balahi', 'star', 'travaillons', 'a', 'planifier'], ['quant', 'a', 'mois'], ['rentreront', 'a', 'qarud'], ['aslam', 'bala', 'branche', 'tape'], ['si', 'plein', 'feu', 'secouer', 'telephone', 'comprehensible'], ['vers', 'poste', 'comment', 'comment', 'temps'], ['joyeux', 'eid'], ['bonnes', 'annees', 'salutations', 'speciales', 'personnel', 'succursale', 'tozeur'], ['bonjour'], ['service'], ['chaque', 'annee'], ['pure'], ['heureuse'], ['ur', 'blanc', 'visages', 'brillants', 'souriants'], ['chaque', 'annee'], ['securite'], ['securite', 'satisfait'], ['remerciement', 'a', 'banque', 'plus', 'prestigieuse', 'meilleures', 'benedictions', 'dieu', 'felicitations'], ['bravo'], ['dieu', 'benisse'], ['societe', 'tunisienne', 'banque'], ['toutes', 'succursales', 'employes', 'merci', 'special', 'personnel', 'succursale', 'gafsa', 'joyeux', 'a', 'bonne', 'annee'], ['chaque', 'annee'], ['vie', 'mille', 'fois', 'bien'], ['meilleure', 'banque', 'tunisie'], ['derniere', 'banque', 'mois'], ['chaque', 'annee'], ['vas', 'bien'], ['donnes', 'pr', 'ts', 'a', 'professeurs', 'peignent', 'toujours'], ['felicitations'], ['ans', 'client', 'banque', 'tunisienne', 'banque'], ['succursale', 'hajeb', 'el', 'ayoun'], ['gouvernorat', 'kairouan', 'sachant', 'societe', 'a', 'parraine', 'renouvellement', 'celui', 'ci', 'aupres', 'derniers', 'distributeurs'], ['bienheureux', 'eid'], ['demain', 'samedi', 'jour', 'travail', 'banque', 'stb', 'non', 'merci'], ['felicitations'], ['question', 'tawo', 'rouge', 'double', 'salar'], ['auquel', 'donnez', 'stb', 'comment', 'enqu', 'ter', 'bash'], ['double', 'rouge', 'decede', 'juin', 'toutes', 'personnes'], ['sinon', 'pr', 'six', 'mois', 'reste', 'double', 'rouge', 'jusqu', 'octobre'], ['performances', 'retrait', 'tant', 'distributions', 'subventions', 'sociales'], ['felicitations'], ['tunisiens'], ['tout', 'monde'], ['bravo', 'stb'], ['etc'], ['halit', 'compte', 'andi', 'mois', 'w', 'tawa', 'carte', 'banquiere', 'mahdhret', 'fi', 'agence', 'nabeul', 'a', 'cote', 'agence', 'ittijari', 'bank'], ['toujours'], ['societe', 'tunisienne', 'banque'], ['contrairement', 'a', 'banque', 'centrale'], ['mere', 'banques', 'tunisiennes'], ['dirigee', 'lotfi', 'al', 'dabbabi'], ['dieu', 'garde', 'service', 'pays', 'cette', 'chere', 'banque', 'bienheureux', 'eid'], ['merci', 'lotfi', 'efforts', 'ruines', 'institutions'], ['stimuler', 'economie', 'maintenir', 'main', 'uvre'], ['merci', 'dieu', 'benisse'], ['merci', 'efforts'], ['bonne', 'chance', 'a', 'tous'], ['effort'], ['offre', 'exercee'], ['standing', 'lien', 'personne', 'grand', 'mere', 'entreprise', 'tunisienne', 'banque', 'a', 'toujours', 'ete', 'humain', 'conditions', 'plus', 'difficiles'], ['toujours', 'succes'], ['question', 'narration', 'etait', 'repondu', 'seigneur'], ['alors', 'compris'], ['alors', 'quelle', 'punition', 'pr', 'juin'], ['question', 'bahahi', 'numro', 'carte', 'bancaire', 'fait', 'endommager', 'sponsors'], ['service', 'quelques', 'agences', 'nul'], ['abit', 'nes', 'elkom', 'salaries', 'leurs', 'salaires', 'depassent', 'dinars', 'bech', 'osoulna', 'mois', 'juin', 'nn'], ['ressemblez'], [], ['entreprise', 'acceptera', 'dieu', 'faveur', 'actes'], ['cela', 'restera', 'fierte', 'soutien'], ['si', 'dieu', 'veut'], ['acceptable', 'remuneration', 'pardonnee', 'tous', 'pneus', 'employes', 'societe', 'tunisienne', 'banque'], ['dirigee', 'directeur', 'general', 'lotfi', 'debabi', 'oublions', 'succursale', 'jendouba', 'bonne', 'annee'], ['oh', 'dieu'], ['amen'], ['seigneur', 'mondes'], ['aussi'], ['merci'], ['digne', 'confiance'], ['merci', 'beaucoup', 'a', 'societe', 'tunisienne', 'banque', 'services', 'haute', 'qualite', 'offre', 'a', 'clients', 'a', 'bienheureux', 'eid'], ['dieu', 'accepte', 'bonne', 'annee'], ['inshallah', 'chaque', 'annee', 'breche'], ['o', 'allah'], ['plus', 'misericordieux', 'plus', 'indulgent'], ['aimes', 'pardonner', 'ainsi', 'pardonne'], ['bravo', 'stb'], ['bonne', 'f'], ['bonne', 'annee'], ['bonne', 'annee'], ['meilleurs', 'v', 'ux', 'heureuse', 'nouvelle', 'annee'], ['amen']]"
      ]
     },
     "execution_count": 703,
     "metadata": {},
     "output_type": "execute_result"
    }
   ],
   "source": [
    "tokenized_docs_no_stopwords"
   ]
  },
  {
   "cell_type": "markdown",
   "metadata": {},
   "source": [
    "### posts"
   ]
  },
  {
   "cell_type": "code",
   "execution_count": 25,
   "metadata": {},
   "outputs": [],
   "source": [
    "from nltk.corpus import stopwords\n",
    "tokenized_docs_no_stopwords2 = []\n",
    "for doc in miniscules2:\n",
    "    new_term_vector2 = []\n",
    "    for word in doc:\n",
    "        if not word in stopwords.words('french'):\n",
    "            new_term_vector2.append(word)\n",
    "    \n",
    "    tokenized_docs_no_stopwords2.append(new_term_vector2)"
   ]
  },
  {
   "cell_type": "markdown",
   "metadata": {},
   "source": [
    "## Appliquer la lemmatisation et le stemming"
   ]
  },
  {
   "cell_type": "code",
   "execution_count": 30,
   "metadata": {},
   "outputs": [
    {
     "name": "stderr",
     "output_type": "stream",
     "text": [
      "[nltk_data] Downloading package wordnet to\n",
      "[nltk_data]     C:\\Users\\SELON\\AppData\\Roaming\\nltk_data...\n",
      "[nltk_data]   Package wordnet is already up-to-date!\n"
     ]
    },
    {
     "data": {
      "text/plain": [
       "True"
      ]
     },
     "execution_count": 30,
     "metadata": {},
     "output_type": "execute_result"
    }
   ],
   "source": [
    "import nltk\n",
    "nltk.download('wordnet')"
   ]
  },
  {
   "cell_type": "markdown",
   "metadata": {},
   "source": [
    "### comments"
   ]
  },
  {
   "cell_type": "code",
   "execution_count": 26,
   "metadata": {},
   "outputs": [],
   "source": [
    "snowball = FrenchStemmer()\n",
    "wordnet = WordNetLemmatizer()\n",
    "def lemmatize_stemming(text):\n",
    "    return snowball.stem(WordNetLemmatizer().lemmatize(text, pos='v'))\n",
    "preprocessed_docs = []\n",
    "\n",
    "for doc in tokenized_docs_no_stopwords:\n",
    "    final_doc = []\n",
    "    for word in doc:\n",
    "        final_doc.append(lemmatize_stemming(word))\n",
    "    \n",
    "    preprocessed_docs.append(final_doc)"
   ]
  },
  {
   "cell_type": "code",
   "execution_count": 844,
   "metadata": {
    "collapsed": true,
    "jupyter": {
     "outputs_hidden": true
    }
   },
   "outputs": [
    {
     "data": {
      "text/plain": [
       "[['cart', 'bancair', 'a', 'ete', 'etendu'], ['comm', 'dit'], ['apre', 'suppress', 'brutal', 'pr'], ['societ', 'tunisien', 'banqu', 'prouv', 'a', 'chaqu', 'fois', 'client', 'font', 'plus', 'confianc', 'san', 'a', 'ete', 'rapport', 'salar'], ['a', 'except', 'quelqu', 'un', 'agenc', 'shak', 'sfax'], ['perdu', 'confianc', 'apre', 'appel', 'banqu', 'social'], ['autr', 'jalous', 'autr', 'banqu', 'a', 'incit', 'banqu', 'central', 'stb', 'a', 'telecharg', 'prim', 'mar', 'tout', 'mond', 'egal'], ['merc', 'avoir', 'ajout', 'plafond'], ['veuill', 'precis', 'period'], ['dieu'], ['regret', 'coup', 'pr', 't', 'a', 'peupl'], ['donc', 'necessair', 'resoudr'], ['quel', 'problem', 'rizzo', 'chez', 'concessionnair', 'automat'], ['majorit', 'banqu', 'sfax'], ['pourquoi', 'pr', 't', 'ete', 'deduit', 'ceux', 'dont', 'salair', 'inferieur', 'a'], ['prom', 'mois'], ['pr', 't', 'allash'], ['bon', 'chanc', 'a', 'tout', 'a', 'tous'], ['bon', 'chanc', 'a', 'tous', 'bacheli'], ['bon', 'chanc', 'bacheli'], ['bon', 'chanc'], ['allah'], ['dieu', 'accord', 'succ', 'a', 'tous', 'enfant'], ['revenus', 'mois', 'joan', 'qass'], ['pr'], ['bon', 'chanc', 'a', 'tous', 'etudi', 'baccalaureat'], ['seigneur'], ['bon', 'chanc', 'a', 'tous'], ['proprietair', 'histoir', 'pr'], ['seigneur'], ['amin', 'bon', 'chanc'], ['retour', 'a'], ['meilleur', 'choos', 'puiss', 'fair', 'reven'], ['bon', 'mois', 'joan', 'hah'], ['reven', 'retribu', 'pr'], ['bon', 'chanc', 'a', 'tous', 'etudi'], ['avant', 'plaindr'], ['a', 'tigr', 'man', 'cours'], ['dirig', 'ver', 'menuisi', 'conseil', 'obtient', 'hallfool'], ['brby', 'repons', 'a', 'banqu', 'anne', 'janesh'], ['plus', 'gros', 'problem', 'succursal', 'banqu', 'defaill', 'prevu', 'distributeur', 'automat', 'a', 'fin', 'semain'], ['particuli', 'debut', 'mois'], ['aujourd', 'hui', 'a', 'different', 'endroit'], ['tous', 'distributeur', 'fonctionnent'], ['general', 'utilis', 'banqu', 'esperon', 'question', 'clarifie', 'evite'], ['merc', 'effort'], ['franch'], ['frenes', 'raison', 'ecrit', 'pr', 'si', 'demand', 'dit', 'mois', 'joan'], ['droit', 'fair', 'salair', 'mensuel', 'complet'], ['salut', 'a', 'tous', 'employ', 'banqu'], ['quel', 'signif', 'valeur', 'det', 'quand', 'applique'], ['rembours', 'pr', 'eti', 'banqui'], ['tout', 'mond', 'revenu', 'juillet'], ['mois', 'mar', 'except', 'societ', 'tunisien', 'banqu', 'client', 'directeur', 'general', 'a', 'dit'], ['donc', 'fidel', 'a', 'promess', 'merc', 'comprehens'], ['meilleur', 'banqu'], ['franch'], ['meilleur', 'banqu'], ['a', 'ete', 'sugger', 'chaqu', 'person', 'contract', 'pr', 'cinq', 'seul', 'sept', 'an'], ['comm', 'habitud'], ['entrepris', 'tunisien', 'banqu', 'suit', 'rythm', 'explor', 'solut', 'satisfair', 'client', 'merc', 'a', 'stb', 'a', 'agenc', 'bousalem'], ['particuli', 'directeur', 'agenc'], ['sommet', 'ethiqu', 'devou', 'travail'], [], ['a', 'fin', 'cart', 'dont', 'resili', 'a', 'pris', 'fin', 'mai'], ['just', 'apre', 'mission'], ['a', 'succursal'], ['at', 'fait', 'salair', 'mineur'], ['mourron'], ['don', 'sant'], ['veux', 'aller', 'branch', 'bientot'], ['comprenon', 'signif', 'valeur', 'cred'], ['esprit'], ['racont', 'histoir', 'pr', 't', 'dit', 'recherchon'], ['frer', 'ici', 'entre', 'tout', 'mond', 'roug', 'aim', 'plus', 'aval'], ['dit', 'trois', 'mois'], ['mar'], ['procedur', 'temporair', 'rien', 'rest', 'long'], ['meilleur', 'banqu', 'tunis'], ['client', 'excellent', 'replient', 'decis', 'oppos', 'respectent', 'a', 'ete', 'notif'], ['mois'], ['troncatur', 'utilise', 'ran', 'corp', 'mensuel', 'bas', 'a', 'ete', 'coup'], ['etait', 'bon', 'pr'], ['chang', 'plac'], ['doubl', 'promot', 'mois', 'juillet', 'alor', 'travaill', 'mois', 'juin', 'jay', 'eid'], ['couvr', 'soleil', 'tam'], ['pinc', 'fait'], ['travaill'], ['dieu', 'aim', 'serviteur', 'tous', 'pelous'], ['oh', 'dieu'], ['recev', 'chois'], ['stb', 'plus', 'misericordi', 'certain', 'autr', 'banqu', 'ete', 'grille', 'dieu'], ['moment', 'venu', 'commenc', 'processus', 'veux', 'ruin', 'karit', 'aujourd', 'hui'], ['remerc', 'tous', 'agent', 'pneus', 'societ', 'tunisien', 'banqu', 'effort', 'toujour', 'avant'], ['dieu', 'accord', 'succ'], ['rendu', 'argent', 'pr', 'a', 'qassitouh', 'period', 'six', 'mois'], ['re', 'u', 'argent'], ['dieu'], ['a', 'fait', 'mois', 'moin', 'milli', 'dinar', 'pourquoi', 're', 'u', 'pr', 'mois', 'dit', 'six', 'mois', 'vais', 'croir', 'tat', 'seul', 'banqu', 'r', 've', 'dont', 'r', 've'], ['merc', 'banqu', 'souhait', 'a', 'tous', 'bon', 'chanc'], ['seul', 'banqu', 'a', 'reduit', 'pr', 'augment', 'erreur', 'effondre', 'aupr', 'grand', 'parent', 'mensuel'], ['declar'], ['mois', 'inferieur', 'a', 'million'], ['repet', 'chaqu', 'mois', 'quel', 'solut', 'travaillon', 'comm', 'petit', 'plaignon'], ['a', 'epoqu', 'o', 'mois', 'passent'], ['veux', 'fair', 'pein', 'a', 'tout', 'mond'], ['manqu', 'pr', 't'], ['aujourd', 'hui', 'enfui'], ['allash'], ['dit'], ['bash'], ['deduct', 'pr', 'suspendu', 'defunt', 'joan'], ['si', 'dieu', 'veut'], ['gagn'], ['o', 'seigneur', 'mond'], ['kivash', 'qsito', 'avant', 'debut', 'mois'], ['deux', 'jour', 'lab'], ['exigeon', 'retour', 'pr', 'retribu', 'mois', 'prochain', 'comment', 'peuvent', 'dir'], ['sinon', 'situat', 'desastr'], ['frer'], ['pouv', 'dir', 'client'], ['fait', 'convers', 'manqu', 'mois'], ['a', 'rendu', 'vers', 'pr', 'pris', 'jusqu', 'derni', 'juillet'], ['pend', 'lequel', 'grand', 'f'], ['celui', 'con', 'seigneur'], ['nord', 'sud'], ['stb', 'a', 'dit', 'domest', 'mot', 'quel', 'valeur', 'short', 'mois'], ['pourquoi', 'parl', 'succursal', 'envelopp', 'mois', 'mois', 'vid', 'mieux', 'roug', 'violat', 'credibilit', 'aupr', 'client'], ['mush'], ['dit', 'pr', 'termin', 'fin', 'juillet'], ['droit', 'inform', 'client', 'avant', 'cherch'], ['pourquoi', 'connaiss', 'pr'], ['bien', 'jeann'], ['inform', 'retribu', 'juillet'], ['ben', 'prair', 'famill', 'dont', 'seigneur'], ['croat'], ['eid', 'zaid', 'connaissent', 'aval', 'langag', 'plus', 'clair'], ['pren', 'tous', 'mois', 'an', 'reconfort', 'entrepris', 'tunisien', 'banqu'], ['enfant'], ['racont', 'histoir'], ['quel', 'kilometr', 'a', 'point', 'reduct', 'pr', 'a', 'augment'], ['possibl', 'durc', 'pr', 't', 'serviteur', 'ceux', 'connaissent', 'mois', 'a'], ['defaut'], ['offrir', 'numero', 'a', 'abd'], ['dieu', 'hi'], ['pr', 't', 'ete', 'coup', 'aucun', 'dejeun', 'coup', 'pension'], ['donc', 'comprend', 'quelqu', 'choos'], ['dit', 'pr', 'apre', 'temp'], ['revenu', 'moin'], ['bonus', 'mois', 'mar', 'venu'], ['repondu', 'a', 'extras', 'a', 'reserv', 'histoir', 'pr', 'pr', 'professeur', 'precedent'], ['comment', 'pr', 'a', 'ete', 'interrompu', 'avant', 'dat', 'limit'], ['premier', 'echeanc'], ['veuill', 'verifi', 'parc', 're', 'u', 'lettr', 'prendr', 'pr', 'remerc', 'comprehens'], ['a', 'aucun', 'cas', 'lequel', 'attribu'], ['decoup', 'san', 'notif'], ['a', 'derang', 'stb', 'etion', 'imagin'], ['oh', 'stb', 'bank'], ['frer'], ['vrai', 'bash'], ['frer'], ['cred', 'vient', 'apre', 'coron', 'bash'], ['mois', 'certain', 'entre'], ['avril'], ['may', 'joan', 'khat', 'mois', 'ensembl'], ['joueur', 'mois', 'supplementair', 'aval', 'serviteur', 'viennent', 'a', 'banqu', 'pr', 't', 'seigneur'], ['gagn'], ['appel', 'mal', 'esclav'], ['si', 'dit'], ['repart', 'mechancet'], ['o', 'enfant'], ['quel', 'cart', 'sac', 'depuis', 'er', 'juin'], ['fatouh', 'al', 'salouh'], ['assis', 'a', 'chaqu', 'fois', 'fait', 'km'], ['bash'], ['don', 'naissanc', 'a', 'argent'], ['branch', 'truc'], ['donc', 'foshan', 'a', 'rien', 'compr', 'flash', 'a', 'rendu', 'heureux'], ['dit', 'augment', 'bont'], ['pr', 'oh', 'seigneur'], ['cas'], ['dit'], ['mosh', 'bash'], ['racontent', 'histoir', 'ador', 'bas', 'cel'], ['weld', 'st', 'alo', 'forss', 'amlo', 'doubl', 'roug'], ['bash', 'a', 'abdul', 'a', 'aval', 'p', 'rogg', 'shufu'], ['just', 'a', 'caus', 'catastroph'], ['seigneur'], ['frer'], ['dit', 'mois', 'ecrir', 'pr'], ['mois', 'juin'], ['dieu'], ['fait', 'savoir'], ['pourquoi', 'dit', 'cel', 'a', 'shahritou', 'moin', 'dinar', 'va', 'profit', 'mois'], ['reviendr', 'mot'], ['ata', 'ena', 'mchitt', 'nel', 'ahm', 'jebdoul', 'cred', 'w', 'ball', 'wa', 'touu', 'zeda', 'ramm', 'likm', 'leeeh', 'olouln', 'makmch', 'bch', 'ossou', 'w', 'ba', 'taghdroun'], ['paix', 'stb', 'ami', 'peut', 'envoi', 'argent', 'hor', 'tunis'], ['pla'], ['aid'], ['achet', 'pr', 't', 'aupr', 'autr', 'banqu'], ['paix'], ['dieu'], ['bash'], ['obtiendr', 'autr', 'pr'], ['gran', 'non'], ['bravo', 'si', 'lotf', 'bon', 'continu', 'chef'], ['bravo', 'bon', 'continu'], ['bon', 'courag'], ['pend', 'pandem', 'coron'], ['societ', 'tunisien', 'a', 'demontr', 'a', 'banqu', 'etait', 'banqu', 'populair', 'ten', 'cot', 'client'], ['posit', 'honor'], ['cour', 'mois'], ['nombreux', 'client', 'pu', 'retir', 'numero', 'atm', 'veuill', 'regard', 'cet', 'situat'], ['compr'], ['chef', 'famill'], ['dont', 'certain', 'malad'], ['pai', 'locat', 'maison', 'a', 'propr', 'oblig', 'veuill', 'expliqu', 'trouv', 'solut', 'merc'], ['bravo', 'stb', 'surtout', 'agenc', 'chargui'], ['bon', 'chanc'], ['si', 'dieu', 'veut'], ['meilleur', 'banqu', 'meilleur', 'personnel', 'bon', 'courag', 'bon', 'continu'], ['succursal', 'societ', 'tunisien', 'banqu'], ['inform', 'suiv'], ['excellent', 'perform', 'accueil'], ['particuli', 'succursal', 'stb', 'el', 'zaytoun', 'sfax'], ['dont', 'agent', 'distinguent', 'enthousiasm', 'excellent', 'perform'], ['particuli', 'chef', 'succursal', 'aid'], ['grand', 'salut', 'a', 'a', 'tous', 'employ'], ['remerc'], ['repondent'], ['bl', 'ment', 'mepr'], ['remerc', 'tout', 'particulier', 'employ', 'societ', 'bancair', 'tunisien'], ['agenc', 'ain', 'draham', 'professionnel', 'ethiqu'], ['meilleur', 'banqu', 'bon', 'chanc', 'a', 'merc', 'special', 'a', 'tous', 'pneus', 'travail', 'nouvel', 'succursal', 'sfax', 'perform', 'bon', 'recept', 'sourir', 'visag', 'client', 'merc'], ['al', 'manj', 'tous', 'pneus'], ['succursal', 'societ', 'tunisien', 'banqu'], ['examen', 'tre', 'excellent'], ['merc', 'special', 'chef', 'succursal'], ['khaled', 'azouz'], ['grand', 'effort', 'mill', 'merc'], ['bon', 'vent', 'leader', 'si', 'lotf'], ['salut'], ['cher', 'frer', 'aujourd', 'hui'], ['trois', 'mois', 'qusan'], ['mont', 'pr'], ['poes', 'moin', 'million', 'banqu', 'a', 'dit', 'mois', 'jusqu', 'ao'], ['aujourd', 'hui', 'envoi', 'banqu', 'coup', 'pr', 'proprietair', 'famill', 'allash'], ['perby', 'allash'], ['manqu', 'roug'], ['stb', 'plus', 'fort', 'plus', 'haut'], ['ecrir'], ['donc', 'pourr', 'toujour', 'obten'], ['yasi', 'lotf'], ['lieu', 'rabb', 'hasht'], ['pr'], ['bankt', 'meurtri'], ['stb', 'bank'], ['salut', 'a', 'branch', 'doz'], ['franch'], ['dieu', 'bon', 'manier', 'excellent', 'trait'], ['bon', 'continu'], ['a', 'aucun', 'possibilit', 'benefic', 'report', 'pr', 't', 'contract', 'pr', 't', 'mar', 'inclus', 'amnist', 'trois', 'mois', 'ecoul', 'depuis'], ['a', 'proch'], ['dieu'], ['premier', 'banqu', 'tunis', 'a', 'ete', 'sauve'], ['client'], ['deux', 'mois'], ['merc'], ['tous', 'pneus', 'personnel', 'gros', 'effort'], ['continuent', 'don', 'plus', 'soutien'], ['particuli'], ['ceux', 'entrent', 'a', 'roug', 'tre', 'difficil'], ['esperon', 'comprehens'], ['merc', 'plus', 'eclat'], ['doubl'], ['salar', 'a', 'frapp', 'seul', 'a', 'install'], ['seigneur'], ['femm', 'ete', 'elu', 'prolong', 'non', 'decaissement', 'pr', 't', 'rapport', 'a', 'cel', 'rat', 'tirag'], ['salut', 'a', 'branch', 'chebnian'], ['travaill', 'fonction', 'choir', 'dessus'], ['system', 'cont', 'fe', 'a', 'chaqu', 'fois', 'pouss'], [], ['alor', 'quel', 'punit', 'pr', 'mois'], ['frer', 'naween', 'chant', 'seul', 'histoir'], ['affair', 'abing', 'step', 'alsaltnash', 'bish', 'njbd', 'ral', 'shariq'], ['veux', 'parl', 'mois'], ['raison', 'just', 'adieu', 'hostilit', 'scen'], [], ['seigneur'], [], ['stb', 'a', 'doubl', 'plafond', 'cart', 'bancair'], ['wow'], ['seigneur'], ['etap'], ['retour'], ['pla', 'cart', 'facebook'], ['si', 'fait'], ['fait', 'brill'], ['cart', 'vis', 'stb', 'perdu', 'presenc'], ['seigneur'], ['accord', 'pr', 'a', 'enseign', 'dont', 'mois', 'complet', 'a', 'toujour', 'frais'], ['succursal', 'el', 'jem'], ['dit', 'prolong', 'trois', 'mois', 'dure', 'pr'], ['barb', 'qatash', 'raison', 'deduct', 'pr'], ['wel', 'compt', 'special', 'devis'], ['dieu'], ['fait', 'report', 'vers', 'pr', 't', 'a', 'dep', 'revenu', 'mill', 'dinar'], ['expliqu', 'situat'], ['merc'], ['bravo', 'tout', 'stb', 'sertou', 'megrin'], ['mill', 'merc', 'bon', 'chanc'], ['bon', 'retour', 'succ'], ['si', 'dieu', 'veut'], ['remerci', 'directeur', 'succursal', 'abu', 'salem', 'haut', 'ethiqu'], ['mill', 'salut', 'pneus', 'succursal', 'gab', 'cent'], ['merc', 'a', 'branch', 'ain', 'draham', 'servic', 'haut', 'ethiqu'], ['mill', 'merc', 'appreci', 'a', 'filial', 'enfidh'], ['remerci', 'appreci', 'a', 'tous', 'pneus'], ['devis'], ['bon', 'manier', 'transact'], ['succursal', 'gab', 'centr'], ['mill', 'salut', 'merc', 'a', 'tout', 'succursal', 'societ', 'tunisien', 'banqu', 'a', 'khazindar', 'servic', 'rendus', 'haut', 'ethiqu'], ['banqu', 'plus', 'douc', 'plus', 'fragil', 'tunis', 'merc', 'stb'], ['remerci', 'a', 'succursal', 'abu', 'salem'], ['directeur', 'agenc', 'a', 'lotfy', 'el', 'dabbab', 'particuli', 'a', 'chaqu', 'innov', 'entrepris', 'tunisien', 'banqu'], ['remerc', 'tout', 'personnel', 'filial', 'ras', 'al', 'jelel'], ['san', 'oubli', 'filial', 'jan', 'jur'], ['aya', 'behu'], ['attend'], ['essui', 'temp', 'lir', 'histoir'], ['vais', 'decevoir', 'branch', 'deux', 'prison'], ['appet', 'plus', 'dinar', 'aimon', 'coupur', 'pr', 'a', 'mois', 'quel', 'procedur', 'approuve'], ['bonjour'], ['dieu'], ['adamin'], ['vu', 'cart'], ['vis'], ['raho'], ['mois', 'oublion'], ['travail', 'exigent', 'attendon', 'toujour'], ['direct', 'banqu', 'souhait', 'vrai', 'activ', 'processus', 'achat', 'pr', 't', 'aupr', 'autr', 'banqu', 'client', 'souhaitent', 'ouvr', 'compt', 'agenc'], ['alor'], ['reduct', 'pr', 'juin', 'plus', 'dirham'], ['ceux', 'distingu', 'moralit'], ['comport', 'relat'], ['si', 'lutf', 'al', 'dabbab'], ['proprietair', 'distinct', 'ide', 'brill'], ['mot', 'phras', 'don', 'rien', 'droit'], ['petit', 'part', 'offre', 'merc', 'don', 'permanent'], ['dieu', 'a', 'utilis'], ['autr', 'problem', 'employ', 'avant', 'tout', 'aim', 'doubl', 'rogg'], ['mois', 'juin'], ['entre', 'grand', 'f'], ['impossibl', 'coup', 'stb', 'banqu', 'plus', 'douc', 'mond', 'comment', 'pouvon', 'repondr', 'a', 'pet', 'coup', 'bas', 'appelon', 'stb'], ['possibl', 'prolong', 'non', 'pai', 'pr'], ['possibl', 'prolong', 'mois', 'si', 'pr', 'deduit'], ['bravo', 'stb'], ['toujour', 'bon', 'chemin', 'bon', 'continu'], ['bon', 'continu'], ['bravo', 'stb'], ['grand', 'bravo', 'a', 'staff', 'stb'], ['bon', 'continu', 'stb'], ['rabb', 'ewafekhom', 'bravoooooo', 'b'], ['bravo', 'stb'], ['bon', 'vent'], ['bon', 'chanc', 'plus', 'succ', 'stb'], ['bravo', 'bravo', 'bravo'], ['bravoooo', 'etc'], ['plus', 'bel', 'transact'], ['transparent', 'bon', 'accueil'], ['succursal', 'al', 'jaze', 'tun'], ['meilleur', 'entrepris', 'tunisien', 'banqu', 'salut', 'a', 'equip', 'succursal', 'nabeul'], ['dieu', 'accord', 'succ'], ['merc', 'viv', 'deuxiem', 'mer', 'b'], ['bon', 'f', 'merc'], ['merc', 'bien'], ['merc', 'beaucoup'], ['avous', 'mer', 'auss'], ['tout', 'amour', 'appreci', 'mer', 'peupl', 'mornagui', 'nouveau'], ['merc'], ['merc'], ['societ', 'tunisien'], ['banqu', 'si', 'dieu', 'veut'], ['rejoindron'], ['si', 'dieu', 'veut'], ['recevron', 'install'], ['dieu', 'ben', 'seigneur'], ['pla'], ['autr', 'bq', 'amlin', 'cadeau', 'mer', 'w', 'ahna'], ['mercii', 'stb', 'client', 'depuis'], ['chaqu', 'anne'], ['tout', 'mer', 'vont', 'bien'], ['pouvon', 'demand', 'pend', 'dehor', 'tunis'], ['candidatur', 'a', 'introduit', 'anglais', 'arab', 'toujour', 'fran', 'ais', 'seul'], ['dieu', 'proteg', 'accord', 'succ'], ['miser', 'banqu', 'servic', 'zero', 'branch', 'medenin', 'parl'], ['cart', 'bancair', 'vis', 'electron'], ['puis', 'utilis', 'cet', 'appliqu', 'sach', 'cart', 'a', 'ete', 'extrait', 'a', 'an'], ['salut'], ['a', 'traver'], ['a', 'tous', 'employ', 'succursal', 'doz', 'accueil'], ['servic', 'fluidit', 'transact', 'a', 'tre', 'haut', 'moralit', 'tous', 'remerci'], ['respect', 'appreci'], ['societ', 'bancair', 'tunisien'], ['fourn', 'toujour', 'a', 'client', 'meilleur', 'servic'], ['merc'], ['bravo', 'stb', 'cas', 'pert'], ['lecteur', 'nfc', 'disponibl'], ['appareil', 'disponibl', 'petit', 'comm', 'ant', 'caf'], ['remerci', 'particuli', 'a', 'filial', 'al', 'jaze', 'tun'], ['cart', 'du', 'validit', 'a', 'expir', 'nouvel', 'cart', 'arrive'], ['bravo', 'stb', 'medin', 'branch'], ['bizert'], ['tech', 'morh', 'snin', 'w', 'mich', 'securis'], ['bravo', 'stb'], ['ide', 'a', 'about'], ['car', 'prend', 'form', 'perdr'], ['dit'], ['normal'], ['ayman'], ['chef', 'branch', 'flux'], ['dieu', 'pit', 'enfant'], ['tout', 'mond', 'aim', 'educ', 'trait', 'bon', 'client'], ['seigneur'], ['cart', 'bancair', 'aimon', 'con', 'tre', 'al', 'soulad'], ['veut', 'tre', 'soign'], ['bravo', 'stb', 'bank'], ['bravo', 'stb'], ['bravo', 'stb'], [], ['bon', 'anne', 'joyeux', 'eid', 'a', 'tous', 'salut', 'special', 'reconnaiss', 'a', 'tous', 'pneus', 'agent', 'branch', 'ras', 'al', 'jabal'], ['chaqu', 'anne'], ['tre', 'bon'], ['employ', 'societ', 'bancair', 'tunisien', 'font', 'grand', 'effort', 'tout', 'succursal', 'tous', 'remerci'], ['appreci', 'respect', 'sais', 'tre', 'bien', 'deux', 'succursal', 'tataouin', 'ghamrassen', 'meilleur', 'salut', 'appreci', 'leur', 'bon', 'manier', 'devou', 'travail', 'parol', 'courtois', 'realit', 'comprend', 'bien', 'bon', 'chanc', 'a', 'tous'], ['bon', 'chanc'], ['si', 'dieu', 'veut'], ['joyeux', 'eid'], ['nombreux', 'anne', 'salut', 'special', 'personnel', 'succursal', 'enfidh'], ['bienheur', 'eid'], ['joyeux', 'eid', 'salut', 'gratitud', 'appreci', 'employ', 'stb'], ['joyeux', 'eid', 'mubarak', 'awan', 'branch', 'sbeitl'], ['mois', 'mar', 'qosito', 'non'], ['dieu', 'ben'], ['felicit', 'toujour', 'anne'], ['promet'], ['felicit'], ['seigneur'], ['cherch', 'aid'], ['balah', 'star', 'travaillon', 'a', 'planifi'], ['quant', 'a', 'mois'], ['rentr', 'a', 'qarud'], ['aslam', 'bal', 'branch', 'tap'], ['si', 'plein', 'feu', 'secou', 'telephon', 'comprehensibl'], ['ver', 'post', 'comment', 'comment', 'temp'], ['joyeux', 'eid'], ['bon', 'anne', 'salut', 'special', 'personnel', 'succursal', 'tozeur'], ['bonjour'], ['servic'], ['chaqu', 'anne'], ['pur'], ['heureux'], ['ur', 'blanc', 'visag', 'brill', 'souri'], ['chaqu', 'anne'], ['securit'], ['securit', 'satisf'], ['remerci', 'a', 'banqu', 'plus', 'prestigi', 'meilleur', 'benedict', 'dieu', 'felicit'], ['bravo'], ['dieu', 'ben'], ['societ', 'tunisien', 'banqu'], ['tout', 'succursal', 'employ', 'merc', 'special', 'personnel', 'succursal', 'gafs', 'joyeux', 'a', 'bon', 'anne'], ['chaqu', 'anne'], ['vi', 'mill', 'fois', 'bien'], ['meilleur', 'banqu', 'tunis'], ['dernier', 'banqu', 'mois'], ['chaqu', 'anne'], ['vas', 'bien'], ['don', 'pr', 't', 'a', 'professeur', 'peignent', 'toujour'], ['felicit'], ['an', 'client', 'banqu', 'tunisien', 'banqu'], ['succursal', 'hajeb', 'el', 'ayoun'], ['gouvernorat', 'kairouan', 'sach', 'societ', 'a', 'parrain', 'renouvel', 'celui', 'ci', 'aupr', 'derni', 'distributeur'], ['bienheur', 'eid'], ['demain', 'samed', 'jour', 'travail', 'banqu', 'stb', 'non', 'merc'], ['felicit'], ['question', 'tawo', 'roug', 'doubl', 'salar'], ['auquel', 'don', 'stb', 'comment', 'enqu', 'ter', 'bash'], ['doubl', 'roug', 'deced', 'juin', 'tout', 'person'], ['sinon', 'pr', 'six', 'mois', 'rest', 'doubl', 'roug', 'jusqu', 'octobr'], ['perform', 'retr', 'tant', 'distribu', 'subvent', 'social'], ['felicit'], ['tunisien'], ['tout', 'mond'], ['bravo', 'stb'], ['etc'], ['hal', 'compt', 'andi', 'mois', 'w', 'taw', 'cart', 'banquier', 'mahdhret', 'fi', 'agenc', 'nabeul', 'a', 'cot', 'agenc', 'ittijar', 'bank'], ['toujour'], ['societ', 'tunisien', 'banqu'], ['contrair', 'a', 'banqu', 'central'], ['mer', 'banqu', 'tunisien'], ['dirige', 'lotf', 'al', 'dabbab'], ['dieu', 'gard', 'servic', 'pay', 'cet', 'cher', 'banqu', 'bienheur', 'eid'], ['merc', 'lotf', 'effort', 'ruin', 'institu'], ['stimul', 'econom', 'mainten', 'main', 'uvre'], ['merc', 'dieu', 'ben'], ['merc', 'effort'], ['bon', 'chanc', 'a', 'tous'], ['effort'], ['offre', 'exerce'], ['stand', 'lien', 'person', 'grand', 'mer', 'entrepris', 'tunisien', 'banqu', 'a', 'toujour', 'ete', 'humain', 'condit', 'plus', 'difficil'], ['toujour', 'succ'], ['question', 'narrat', 'etait', 'repondu', 'seigneur'], ['alor', 'compr'], ['alor', 'quel', 'punit', 'pr', 'juin'], ['question', 'bahah', 'numro', 'cart', 'bancair', 'fait', 'endommag', 'sponsor'], ['servic', 'quelqu', 'agenc', 'nul'], ['abit', 'ne', 'elkom', 'salar', 'leur', 'salair', 'dep', 'dinar', 'bech', 'osouln', 'mois', 'juin', 'nn'], ['ressembl'], [], ['entrepris', 'accept', 'dieu', 'faveur', 'act'], ['cel', 'rest', 'fiert', 'soutien'], ['si', 'dieu', 'veut'], ['accept', 'remuner', 'pardonne', 'tous', 'pneus', 'employ', 'societ', 'tunisien', 'banqu'], ['dirige', 'directeur', 'general', 'lotf', 'debab', 'oublion', 'succursal', 'jendoub', 'bon', 'anne'], ['oh', 'dieu'], ['amen'], ['seigneur', 'mond'], ['auss'], ['merc'], ['dign', 'confianc'], ['merc', 'beaucoup', 'a', 'societ', 'tunisien', 'banqu', 'servic', 'haut', 'qualit', 'offre', 'a', 'client', 'a', 'bienheur', 'eid'], ['dieu', 'accept', 'bon', 'anne'], ['inshallah', 'chaqu', 'anne', 'brech'], ['o', 'allah'], ['plus', 'misericordi', 'plus', 'indulgent'], ['aim', 'pardon', 'ains', 'pardon'], ['bravo', 'stb'], ['bon', 'f'], ['bon', 'anne'], ['bon', 'anne'], ['meilleur', 'v', 'ux', 'heureux', 'nouvel', 'anne'], ['amen']]"
      ]
     },
     "execution_count": 844,
     "metadata": {},
     "output_type": "execute_result"
    }
   ],
   "source": [
    "preprocessed_docs"
   ]
  },
  {
   "cell_type": "markdown",
   "metadata": {},
   "source": [
    "### posts"
   ]
  },
  {
   "cell_type": "code",
   "execution_count": 27,
   "metadata": {},
   "outputs": [],
   "source": [
    "snowball = FrenchStemmer()\n",
    "wordnet = WordNetLemmatizer()\n",
    "def lemmatize_stemming2(text):\n",
    "    return snowball.stem(WordNetLemmatizer().lemmatize(text, pos='v'))\n",
    "preprocessed_docs2 = []\n",
    "\n",
    "for doc in tokenized_docs_no_stopwords2:\n",
    "    final_doc2 = []\n",
    "    for word in doc:\n",
    "        final_doc2.append(lemmatize_stemming2(word))\n",
    "    \n",
    "    preprocessed_docs2.append(final_doc2)"
   ]
  },
  {
   "cell_type": "code",
   "execution_count": 804,
   "metadata": {
    "collapsed": true,
    "jupyter": {
     "outputs_hidden": true
    }
   },
   "outputs": [
    {
     "data": {
      "text/plain": [
       "'[\"[«La carte bancaire n\\'a pas ete etendue'"
      ]
     },
     "execution_count": 804,
     "metadata": {},
     "output_type": "execute_result"
    }
   ],
   "source": [
    "df2.comments[0]"
   ]
  },
  {
   "cell_type": "code",
   "execution_count": 51,
   "metadata": {},
   "outputs": [],
   "source": [
    "df3=df2"
   ]
  },
  {
   "cell_type": "code",
   "execution_count": 606,
   "metadata": {
    "collapsed": true,
    "jupyter": {
     "outputs_hidden": true
    }
   },
   "outputs": [
    {
     "data": {
      "text/plain": [
       "\" ['apre', 'abolit', 'brutal', 'pr'] ['societ', 'tunisien', 'banqu', 'prouv', 'a', 'chaqu', 'fois', 'client', 'font', 'plus', 'confianc', 'san', 'parl', 'abus', 'part', 'salar', 'sauf', 'quelqu', 'un', 'agenc', 'shak', 'sfax'] ['perdu', 'confianc', 'apre', 'appel', 'banqu', 'social'] ['autr', 'jalous', 'autr', 'banqu', 'a', 'pouss', 'banqu', 'central', 'stb', 'a', 'telecharg', 'prim', 'mar', 'tout', 'mond', 'egal'] ['merc', 'avoir', 'ajout', 'plafond'] ['veuill', 'precis', 'period'] ['dieu'] ['regret', 'coup', 'pr', 't', 'a', 'peupl'] ['donc', 'necessair', 'resoudr'] ['quel', 'problem', 'rizzo', 'chez', 'concessionnair', 'automat'] ['majorit', 'banqu', 'sfax'] ['pourquoi', 'pr', 't', 'ete', 'deduit', 'ceux', 'dont', 'salair', 'inferieur', 'a'] ['prom', 'mois'] ['pr', 't', 'allash'] ['apre', 'abolit', 'brutal', 'pr'] ['societ', 'tunisien', 'banqu', 'prouv', 'a', 'chaqu', 'fois', 'client', 'font', 'plus', 'confianc', 'san', 'parl', 'abus', 'part', 'salar', 'sauf', 'quelqu', 'un', 'agenc', 'shak', 'sfax'] ['perdu', 'confianc', 'apre', 'appel', 'banqu', 'social'] ['autr', 'jalous', 'autr', 'banqu', 'a', 'pouss', 'banqu', 'central', 'stb', 'a', 'telecharg', 'prim', 'mar', 'tout', 'mond', 'egal'] ['merc', 'avoir', 'ajout', 'plafond'] ['veuill', 'precis', 'period'] ['dieu'] ['regret', 'coup', 'pr', 't', 'a', 'peupl'] ['donc', 'necessair', 'resoudr'] ['quel', 'problem', 'rizzo', 'chez', 'concessionnair', 'automat'] ['majorit', 'banqu', 'sfax'] ['pourquoi', 'pr', 't', 'ete', 'deduit', 'ceux', 'dont', 'salair', 'inferieur', 'a'] ['prom', 'mois'] ['pr', 't', 'allash'] ['apre', 'abolit', 'brutal', 'pr'] ['societ', 'tunisien', 'banqu', 'prouv', 'a', 'chaqu', 'fois', 'client', 'font', 'plus', 'confianc', 'san', 'parl', 'abus', 'part', 'salar', 'sauf', 'quelqu', 'un', 'agenc', 'shak', 'sfax'] ['perdu', 'confianc', 'apre', 'appel', 'banqu', 'social'] ['autr', 'jalous', 'autr', 'banqu', 'a', 'pouss', 'banqu', 'central', 'stb', 'a', 'telecharg', 'prim', 'mar', 'tout', 'mond', 'egal'] ['merc', 'avoir', 'ajout', 'plafond'] ['veuill', 'precis', 'period'] ['dieu'] ['regret', 'coup', 'pr', 't', 'a', 'peupl'] ['donc', 'necessair', 'resoudr'] ['quel', 'problem', 'rizzo', 'chez', 'concessionnair', 'automat'] ['majorit', 'banqu', 'sfax'] ['pourquoi', 'pr', 't', 'ete', 'deduit', 'ceux', 'dont', 'salair', 'inferieur', 'a'] ['prom', 'mois'] ['pr', 't', 'allash'] ['apre', 'abolit', 'brutal', 'pr'] ['societ', 'tunisien', 'banqu', 'prouv', 'a', 'chaqu', 'fois', 'client', 'font', 'plus', 'confianc', 'san', 'parl', 'abus', 'part', 'salar', 'sauf', 'quelqu', 'un', 'agenc', 'shak', 'sfax'] ['perdu', 'confianc', 'apre', 'appel', 'banqu', 'social'] ['autr', 'jalous', 'autr', 'banqu', 'a', 'pouss', 'banqu', 'central', 'stb', 'a', 'telecharg', 'prim', 'mar', 'tout', 'mond', 'egal'] ['merc', 'avoir', 'ajout', 'plafond'] ['veuill', 'precis', 'period'] ['dieu'] ['regret', 'coup', 'pr', 't', 'a', 'peupl'] ['donc', 'necessair', 'resoudr'] ['quel', 'problem', 'rizzo', 'chez', 'concessionnair', 'automat'] ['majorit', 'banqu', 'sfax'] ['pourquoi', 'pr', 't', 'ete', 'deduit', 'ceux', 'dont', 'salair', 'inferieur', 'a'] ['prom', 'mois'] ['pr', 't', 'allash'] ['apre', 'abolit', 'brutal', 'pr'] ['societ', 'tunisien', 'banqu', 'prouv', 'a', 'chaqu', 'fois', 'client', 'font', 'plus', 'confianc', 'san', 'parl', 'abus', 'part', 'salar', 'sauf', 'quelqu', 'un', 'agenc', 'shak', 'sfax'] ['perdu', 'confianc', 'apre', 'appel', 'banqu', 'social'] ['autr', 'jalous', 'autr', 'banqu', 'a', 'pouss', 'banqu', 'central', 'stb', 'a', 'telecharg', 'prim', 'mar', 'tout', 'mond', 'egal'] ['merc', 'avoir', 'ajout', 'plafond'] ['veuill', 'precis', 'period'] ['dieu'] ['regret', 'coup', 'pr', 't', 'a', 'peupl'] ['donc', 'necessair', 'resoudr'] ['quel', 'problem', 'rizzo', 'chez', 'concessionnair', 'automat'] ['majorit', 'banqu', 'sfax'] ['pourquoi', 'pr', 't', 'ete', 'deduit', 'ceux', 'dont', 'salair', 'inferieur', 'a'] ['prom', 'mois'] ['pr', 't', 'allash'] ['apre', 'abolit', 'brutal', 'pr'] ['societ', 'tunisien', 'banqu', 'prouv', 'a', 'chaqu', 'fois', 'client', 'font', 'plus', 'confianc', 'san', 'parl', 'abus', 'part', 'salar', 'sauf', 'quelqu', 'un', 'agenc', 'shak', 'sfax'] ['perdu', 'confianc', 'apre', 'appel', 'banqu', 'social'] ['autr', 'jalous', 'autr', 'banqu', 'a', 'pouss', 'banqu', 'central', 'stb', 'a', 'telecharg', 'prim', 'mar', 'tout', 'mond', 'egal'] ['merc', 'avoir', 'ajout', 'plafond'] ['veuill', 'precis', 'period'] ['dieu'] ['regret', 'coup', 'pr', 't', 'a', 'peupl'] ['donc', 'necessair', 'resoudr'] ['quel', 'problem', 'rizzo', 'chez', 'concessionnair', 'automat'] ['majorit', 'banqu', 'sfax'] ['pourquoi', 'pr', 't', 'ete', 'deduit', 'ceux', 'dont', 'salair', 'inferieur', 'a'] ['prom', 'mois'] ['pr', 't', 'allash'] ['apre', 'abolit', 'brutal', 'pr'] ['societ', 'tunisien', 'banqu', 'prouv', 'a', 'chaqu', 'fois', 'client', 'font', 'plus', 'confianc', 'san', 'parl', 'abus', 'part', 'salar', 'sauf', 'quelqu', 'un', 'agenc', 'shak', 'sfax'] ['perdu', 'confianc', 'apre', 'appel', 'banqu', 'social'] ['autr', 'jalous', 'autr', 'banqu', 'a', 'pouss', 'banqu', 'central', 'stb', 'a', 'telecharg', 'prim', 'mar', 'tout', 'mond', 'egal'] ['merc', 'avoir', 'ajout', 'plafond'] ['veuill', 'precis', 'period'] ['dieu'] ['regret', 'coup', 'pr', 't', 'a', 'peupl'] ['donc', 'necessair', 'resoudr'] ['quel', 'problem', 'rizzo', 'chez', 'concessionnair', 'automat'] ['majorit', 'banqu', 'sfax'] ['pourquoi', 'pr', 't', 'ete', 'deduit', 'ceux', 'dont', 'salair', 'inferieur', 'a'] ['prom', 'mois'] ['pr', 't', 'allash'] ['apre', 'abolit', 'brutal', 'pr'] ['societ', 'tunisien', 'banqu', 'prouv', 'a', 'chaqu', 'fois', 'client', 'font', 'plus', 'confianc', 'san', 'parl', 'abus', 'part', 'salar', 'sauf', 'quelqu', 'un', 'agenc', 'shak', 'sfax'] ['perdu', 'confianc', 'apre', 'appel', 'banqu', 'social'] ['autr', 'jalous', 'autr', 'banqu', 'a', 'pouss', 'banqu', 'central', 'stb', 'a', 'telecharg', 'prim', 'mar', 'tout', 'mond', 'egal'] ['merc', 'avoir', 'ajout', 'plafond'] ['veuill', 'precis', 'period'] ['dieu'] ['regret', 'coup', 'pr', 't', 'a', 'peupl'] ['donc', 'necessair', 'resoudr'] ['quel', 'problem', 'rizzo', 'chez', 'concessionnair', 'automat'] ['majorit', 'banqu', 'sfax'] ['pourquoi', 'pr', 't', 'ete', 'deduit', 'ceux', 'dont', 'salair', 'inferieur', 'a'] ['prom', 'mois'] ['pr', 't', 'allash'] ['apre', 'abolit', 'brutal', 'pr'] ['societ', 'tunisien', 'banqu', 'prouv', 'a', 'chaqu', 'fois', 'client', 'font', 'plus', 'confianc', 'san', 'parl', 'abus', 'part', 'salar', 'sauf', 'quelqu', 'un', 'agenc', 'shak', 'sfax'] ['perdu', 'confianc', 'apre', 'appel', 'banqu', 'social'] ['autr', 'jalous', 'autr', 'banqu', 'a', 'pouss', 'banqu', 'central', 'stb', 'a', 'telecharg', 'prim', 'mar', 'tout', 'mond', 'egal'] ['merc', 'avoir', 'ajout', 'plafond'] ['veuill', 'precis', 'period'] ['dieu'] ['regret', 'coup', 'pr', 't', 'a', 'peupl'] ['donc', 'necessair', 'resoudr'] ['quel', 'problem', 'rizzo', 'chez', 'concessionnair', 'automat'] ['majorit', 'banqu', 'sfax'] ['pourquoi', 'pr', 't', 'ete', 'deduit', 'ceux', 'dont', 'salair', 'inferieur', 'a'] ['prom', 'mois'] ['pr', 't', 'allash'] ['apre', 'abolit', 'brutal', 'pr'] ['societ', 'tunisien', 'banqu', 'prouv', 'a', 'chaqu', 'fois', 'client', 'font', 'plus', 'confianc', 'san', 'parl', 'abus', 'part', 'salar', 'sauf', 'quelqu', 'un', 'agenc', 'shak', 'sfax'] ['perdu', 'confianc', 'apre', 'appel', 'banqu', 'social'] ['autr', 'jalous', 'autr', 'banqu', 'a', 'pouss', 'banqu', 'central', 'stb', 'a', 'telecharg', 'prim', 'mar', 'tout', 'mond', 'egal'] ['merc', 'avoir', 'ajout', 'plafond'] ['veuill', 'precis', 'period'] ['dieu'] ['regret', 'coup', 'pr', 't', 'a', 'peupl'] ['donc', 'necessair', 'resoudr'] ['quel', 'problem', 'rizzo', 'chez', 'concessionnair', 'automat'] ['majorit', 'banqu', 'sfax'] ['pourquoi', 'pr', 't', 'ete', 'deduit', 'ceux', 'dont', 'salair', 'inferieur', 'a'] ['prom', 'mois'] ['pr', 't', 'allash'] ['apre', 'abolit', 'brutal', 'pr'] ['societ', 'tunisien', 'banqu', 'prouv', 'a', 'chaqu', 'fois', 'client', 'font', 'plus', 'confianc', 'san', 'parl', 'abus', 'part', 'salar', 'sauf', 'quelqu', 'un', 'agenc', 'shak', 'sfax'] ['perdu', 'confianc', 'apre', 'appel', 'banqu', 'social'] ['autr', 'jalous', 'autr', 'banqu', 'a', 'pouss', 'banqu', 'central', 'stb', 'a', 'telecharg', 'prim', 'mar', 'tout', 'mond', 'egal'] ['merc', 'avoir', 'ajout', 'plafond'] ['veuill', 'precis', 'period'] ['dieu'] ['regret', 'coup', 'pr', 't', 'a', 'peupl'] ['donc', 'necessair', 'resoudr'] ['quel', 'problem', 'rizzo', 'chez', 'concessionnair', 'automat'] ['majorit', 'banqu', 'sfax'] ['pourquoi', 'pr', 't', 'ete', 'deduit', 'ceux', 'dont', 'salair', 'inferieur', 'a'] ['prom', 'mois'] ['pr', 't', 'allash'] ['apre', 'abolit', 'brutal', 'pr'] ['societ', 'tunisien', 'banqu', 'prouv', 'a', 'chaqu', 'fois', 'client', 'font', 'plus', 'confianc', 'san', 'parl', 'abus', 'part', 'salar', 'sauf', 'quelqu', 'un', 'agenc', 'shak', 'sfax'] ['perdu', 'confianc', 'apre', 'appel', 'banqu', 'social'] ['autr', 'jalous', 'autr', 'banqu', 'a', 'pouss', 'banqu', 'central', 'stb', 'a', 'telecharg', 'prim', 'mar', 'tout', 'mond', 'egal'] ['merc', 'avoir', 'ajout', 'plafond'] ['veuill', 'precis', 'period'] ['dieu'] ['regret', 'coup', 'pr', 't', 'a', 'peupl'] ['donc', 'necessair', 'resoudr'] ['quel', 'problem', 'rizzo', 'chez', 'concessionnair', 'automat'] ['majorit', 'banqu', 'sfax'] ['pourquoi', 'pr', 't', 'ete', 'deduit', 'ceux', 'dont', 'salair', 'inferieur', 'a'] ['prom', 'mois'] ['pr', 't', 'allash'] ['apre', 'abolit', 'brutal', 'pr'] ['societ', 'tunisien', 'banqu', 'prouv', 'a', 'chaqu', 'fois', 'client', 'font', 'plus', 'confianc', 'san', 'parl', 'abus', 'part', 'salar', 'sauf', 'quelqu', 'un', 'agenc', 'shak', 'sfax'] ['perdu', 'confianc', 'apre', 'appel', 'banqu', 'social'] ['autr', 'jalous', 'autr', 'banqu', 'a', 'pouss', 'banqu', 'central', 'stb', 'a', 'telecharg', 'prim', 'mar', 'tout', 'mond', 'egal'] ['merc', 'avoir', 'ajout', 'plafond'] ['veuill', 'precis', 'period'] ['dieu'] ['regret', 'coup', 'pr', 't', 'a', 'peupl'] ['donc', 'necessair', 'resoudr'] ['quel', 'problem', 'rizzo', 'chez', 'concessionnair', 'automat'] ['majorit', 'banqu', 'sfax'] ['pourquoi', 'pr', 't', 'ete', 'deduit', 'ceux', 'dont', 'salair', 'inferieur', 'a'] ['prom', 'mois'] ['pr', 't', 'allash'] ['apre', 'abolit', 'brutal', 'pr'] ['societ', 'tunisien', 'banqu', 'prouv', 'a', 'chaqu', 'fois', 'client', 'font', 'plus', 'confianc', 'san', 'parl', 'abus', 'part', 'salar', 'sauf', 'quelqu', 'un', 'agenc', 'shak', 'sfax'] ['perdu', 'confianc', 'apre', 'appel', 'banqu', 'social'] ['autr', 'jalous', 'autr', 'banqu', 'a', 'pouss', 'banqu', 'central', 'stb', 'a', 'telecharg', 'prim', 'mar', 'tout', 'mond', 'egal'] ['merc', 'avoir', 'ajout', 'plafond'] ['veuill', 'precis', 'period'] ['dieu'] ['regret', 'coup', 'pr', 't', 'a', 'peupl'] ['donc', 'necessair', 'resoudr'] ['quel', 'problem', 'rizzo', 'chez', 'concessionnair', 'automat'] ['majorit', 'banqu', 'sfax'] ['pourquoi', 'pr', 't', 'ete', 'deduit', 'ceux', 'dont', 'salair', 'inferieur', 'a'] ['prom', 'mois'] ['pr', 't', 'allash'] ['apre', 'abolit', 'brutal', 'pr'] ['societ', 'tunisien', 'banqu', 'prouv', 'a', 'chaqu', 'fois', 'client', 'font', 'plus', 'confianc', 'san', 'parl', 'abus', 'part', 'salar', 'sauf', 'quelqu', 'un', 'agenc', 'shak', 'sfax'] ['perdu', 'confianc', 'apre', 'appel', 'banqu', 'social'] ['autr', 'jalous', 'autr', 'banqu', 'a', 'pouss', 'banqu', 'central', 'stb', 'a', 'telecharg', 'prim', 'mar', 'tout', 'mond', 'egal'] ['merc', 'avoir', 'ajout', 'plafond'] ['veuill', 'precis', 'period'] ['dieu'] ['regret', 'coup', 'pr', 't', 'a', 'peupl'] ['donc', 'necessair', 'resoudr'] ['quel', 'problem', 'rizzo', 'chez', 'concessionnair', 'automat'] ['majorit', 'banqu', 'sfax'] ['pourquoi', 'pr', 't', 'ete', 'deduit', 'ceux', 'dont', 'salair', 'inferieur', 'a'] ['prom', 'mois'] ['pr', 't', 'allash'] ['apre', 'abolit', 'brutal', 'pr'] ['societ', 'tunisien', 'banqu', 'prouv', 'a', 'chaqu', 'fois', 'client', 'font', 'plus', 'confianc', 'san', 'parl', 'abus', 'part', 'salar', 'sauf', 'quelqu', 'un', 'agenc', 'shak', 'sfax'] ['perdu', 'confianc', 'apre', 'appel', 'banqu', 'social'] ['autr', 'jalous', 'autr', 'banqu', 'a', 'pouss', 'banqu', 'central', 'stb', 'a', 'telecharg', 'prim', 'mar', 'tout', 'mond', 'egal'] ['merc', 'avoir', 'ajout', 'plafond'] ['veuill', 'precis', 'period'] ['dieu'] ['regret', 'coup', 'pr', 't', 'a', 'peupl'] ['donc', 'necessair', 'resoudr'] ['quel', 'problem', 'rizzo', 'chez', 'concessionnair', 'automat'] ['majorit', 'banqu', 'sfax'] ['pourquoi', 'pr', 't', 'ete', 'deduit', 'ceux', 'dont', 'salair', 'inferieur', 'a'] ['prom', 'mois'] ['pr', 't', 'allash'] ['apre', 'abolit', 'brutal', 'pr'] ['societ', 'tunisien', 'banqu', 'prouv', 'a', 'chaqu', 'fois', 'client', 'font', 'plus', 'confianc', 'san', 'parl', 'abus', 'part', 'salar', 'sauf', 'quelqu', 'un', 'agenc', 'shak', 'sfax'] ['perdu', 'confianc', 'apre', 'appel', 'banqu', 'social'] ['autr', 'jalous', 'autr', 'banqu', 'a', 'pouss', 'banqu', 'central', 'stb', 'a', 'telecharg', 'prim', 'mar', 'tout', 'mond', 'egal'] ['merc', 'avoir', 'ajout', 'plafond'] ['veuill', 'precis', 'period'] ['dieu'] ['regret', 'coup', 'pr', 't', 'a', 'peupl'] ['donc', 'necessair', 'resoudr'] ['quel', 'problem', 'rizzo', 'chez', 'concessionnair', 'automat'] ['majorit', 'banqu', 'sfax'] ['pourquoi', 'pr', 't', 'ete', 'deduit', 'ceux', 'dont', 'salair', 'inferieur', 'a'] ['prom', 'mois'] ['pr', 't', 'allash'] ['apre', 'abolit', 'brutal', 'pr'] ['societ', 'tunisien', 'banqu', 'prouv', 'a', 'chaqu', 'fois', 'client', 'font', 'plus', 'confianc', 'san', 'parl', 'abus', 'part', 'salar', 'sauf', 'quelqu', 'un', 'agenc', 'shak', 'sfax'] ['perdu', 'confianc', 'apre', 'appel', 'banqu', 'social'] ['autr', 'jalous', 'autr', 'banqu', 'a', 'pouss', 'banqu', 'central', 'stb', 'a', 'telecharg', 'prim', 'mar', 'tout', 'mond', 'egal'] ['merc', 'avoir', 'ajout', 'plafond'] ['veuill', 'precis', 'period'] ['dieu'] ['regret', 'coup', 'pr', 't', 'a', 'peupl'] ['donc', 'necessair', 'resoudr'] ['quel', 'problem', 'rizzo', 'chez', 'concessionnair', 'automat'] ['majorit', 'banqu', 'sfax'] ['pourquoi', 'pr', 't', 'ete', 'deduit', 'ceux', 'dont', 'salair', 'inferieur', 'a'] ['prom', 'mois'] ['pr', 't', 'allash']\""
      ]
     },
     "execution_count": 606,
     "metadata": {},
     "output_type": "execute_result"
    }
   ],
   "source": [
    "comment"
   ]
  },
  {
   "cell_type": "code",
   "execution_count": 35,
   "metadata": {
    "collapsed": true,
    "jupyter": {
     "outputs_hidden": true
    }
   },
   "outputs": [
    {
     "data": {
      "text/plain": [
       "[[],\n",
       " [],\n",
       " [],\n",
       " [],\n",
       " ['h'],\n",
       " ['o'],\n",
       " [],\n",
       " [],\n",
       " ['e'],\n",
       " [],\n",
       " ['e'],\n",
       " [],\n",
       " ['e'],\n",
       " [],\n",
       " [],\n",
       " [],\n",
       " [],\n",
       " [],\n",
       " [],\n",
       " ['i'],\n",
       " [],\n",
       " ['u'],\n",
       " [],\n",
       " ['i'],\n",
       " [],\n",
       " ['i'],\n",
       " [],\n",
       " ['e'],\n",
       " [],\n",
       " ['e'],\n",
       " [],\n",
       " [],\n",
       " [],\n",
       " [],\n",
       " ['e'],\n",
       " [],\n",
       " ['r'],\n",
       " ['e'],\n",
       " [],\n",
       " ['b'],\n",
       " ['o'],\n",
       " ['u'],\n",
       " ['r'],\n",
       " [],\n",
       " ['e'],\n",
       " ['r'],\n",
       " [],\n",
       " [],\n",
       " ['e'],\n",
       " [],\n",
       " [],\n",
       " [],\n",
       " ['e'],\n",
       " ['u'],\n",
       " ['x'],\n",
       " [],\n",
       " [],\n",
       " ['o'],\n",
       " ['i'],\n",
       " [],\n",
       " [],\n",
       " [],\n",
       " ['e'],\n",
       " [],\n",
       " ['p'],\n",
       " ['r'],\n",
       " ['e'],\n",
       " [],\n",
       " [],\n",
       " [],\n",
       " [],\n",
       " [],\n",
       " [],\n",
       " [],\n",
       " [],\n",
       " [],\n",
       " ['e'],\n",
       " [],\n",
       " [],\n",
       " [],\n",
       " ['e'],\n",
       " [],\n",
       " ['p'],\n",
       " ['r'],\n",
       " ['e'],\n",
       " [],\n",
       " [],\n",
       " ['e'],\n",
       " ['i'],\n",
       " [],\n",
       " [],\n",
       " ['v'],\n",
       " ['a'],\n",
       " ['u'],\n",
       " [],\n",
       " [],\n",
       " [],\n",
       " [],\n",
       " [],\n",
       " [],\n",
       " [],\n",
       " [],\n",
       " [],\n",
       " ['i'],\n",
       " [],\n",
       " ['a'],\n",
       " ['r'],\n",
       " [],\n",
       " [],\n",
       " ['p'],\n",
       " ['o'],\n",
       " ['u'],\n",
       " ['r'],\n",
       " [],\n",
       " [],\n",
       " ['e'],\n",
       " [],\n",
       " [],\n",
       " [],\n",
       " [],\n",
       " ['i'],\n",
       " ['e'],\n",
       " [],\n",
       " [],\n",
       " [],\n",
       " [],\n",
       " [],\n",
       " [],\n",
       " ['e'],\n",
       " [],\n",
       " [],\n",
       " [],\n",
       " [],\n",
       " ['e'],\n",
       " [],\n",
       " [],\n",
       " [],\n",
       " ['p'],\n",
       " ['a'],\n",
       " [],\n",
       " [],\n",
       " ['e'],\n",
       " [],\n",
       " ['r'],\n",
       " ['a'],\n",
       " [],\n",
       " ['g'],\n",
       " ['e'],\n",
       " [],\n",
       " ['p'],\n",
       " ['o'],\n",
       " ['u'],\n",
       " ['r'],\n",
       " [],\n",
       " ['v'],\n",
       " ['o'],\n",
       " ['u'],\n",
       " [],\n",
       " [],\n",
       " [],\n",
       " [],\n",
       " [],\n",
       " [],\n",
       " ['p'],\n",
       " ['o'],\n",
       " ['u'],\n",
       " ['r'],\n",
       " ['q'],\n",
       " ['u'],\n",
       " ['o'],\n",
       " ['i'],\n",
       " [],\n",
       " [],\n",
       " ['e'],\n",
       " [],\n",
       " [],\n",
       " ['p'],\n",
       " ['r'],\n",
       " ['e'],\n",
       " [],\n",
       " [],\n",
       " [],\n",
       " ['o'],\n",
       " [],\n",
       " [],\n",
       " [],\n",
       " ['i'],\n",
       " [],\n",
       " [],\n",
       " [],\n",
       " ['e'],\n",
       " [],\n",
       " ['e'],\n",
       " [],\n",
       " [],\n",
       " ['e'],\n",
       " [],\n",
       " ['u'],\n",
       " ['i'],\n",
       " [],\n",
       " [],\n",
       " [],\n",
       " ['p'],\n",
       " ['o'],\n",
       " ['u'],\n",
       " ['r'],\n",
       " [],\n",
       " [],\n",
       " ['e'],\n",
       " ['u'],\n",
       " ['x'],\n",
       " [],\n",
       " [],\n",
       " ['o'],\n",
       " [],\n",
       " [],\n",
       " [],\n",
       " [],\n",
       " ['e'],\n",
       " [],\n",
       " [],\n",
       " ['a'],\n",
       " [],\n",
       " ['a'],\n",
       " ['i'],\n",
       " ['r'],\n",
       " ['e'],\n",
       " [],\n",
       " ['e'],\n",
       " [],\n",
       " [],\n",
       " [],\n",
       " ['i'],\n",
       " [],\n",
       " ['f'],\n",
       " ['e'],\n",
       " ['r'],\n",
       " ['i'],\n",
       " ['e'],\n",
       " ['u'],\n",
       " ['r'],\n",
       " [],\n",
       " [],\n",
       " [],\n",
       " [],\n",
       " [],\n",
       " [],\n",
       " [],\n",
       " [],\n",
       " [],\n",
       " [],\n",
       " [],\n",
       " [],\n",
       " [],\n",
       " [],\n",
       " [],\n",
       " [],\n",
       " ['u'],\n",
       " [],\n",
       " ['a'],\n",
       " [],\n",
       " [],\n",
       " ['p'],\n",
       " ['r'],\n",
       " ['o'],\n",
       " [],\n",
       " ['i'],\n",
       " [],\n",
       " [],\n",
       " [],\n",
       " [],\n",
       " [],\n",
       " ['o'],\n",
       " ['i'],\n",
       " [],\n",
       " [],\n",
       " [],\n",
       " [],\n",
       " [],\n",
       " [],\n",
       " [],\n",
       " [],\n",
       " ['a'],\n",
       " [],\n",
       " [],\n",
       " ['a'],\n",
       " ['r'],\n",
       " [],\n",
       " ['e'],\n",
       " [],\n",
       " ['p'],\n",
       " ['a'],\n",
       " ['r'],\n",
       " [],\n",
       " ['e'],\n",
       " [],\n",
       " [],\n",
       " [],\n",
       " ['e'],\n",
       " [],\n",
       " [],\n",
       " ['e'],\n",
       " [],\n",
       " [],\n",
       " ['o'],\n",
       " ['u'],\n",
       " [],\n",
       " ['o'],\n",
       " ['u'],\n",
       " ['r'],\n",
       " [],\n",
       " [],\n",
       " ['e'],\n",
       " [],\n",
       " [],\n",
       " [],\n",
       " ['o'],\n",
       " ['u'],\n",
       " ['b'],\n",
       " [],\n",
       " ['e'],\n",
       " [],\n",
       " [],\n",
       " ['a'],\n",
       " [],\n",
       " ['a'],\n",
       " ['i'],\n",
       " ['r'],\n",
       " ['e'],\n",
       " [],\n",
       " ['o'],\n",
       " ['u'],\n",
       " [],\n",
       " [],\n",
       " ['o'],\n",
       " [],\n",
       " [],\n",
       " [],\n",
       " [],\n",
       " [],\n",
       " [],\n",
       " [],\n",
       " [],\n",
       " [],\n",
       " [],\n",
       " [],\n",
       " ['a'],\n",
       " ['i'],\n",
       " [],\n",
       " ['o'],\n",
       " ['b'],\n",
       " [],\n",
       " ['e'],\n",
       " [],\n",
       " ['u'],\n",
       " [],\n",
       " [],\n",
       " ['e'],\n",
       " [],\n",
       " ['p'],\n",
       " ['r'],\n",
       " ['e'],\n",
       " [],\n",
       " [],\n",
       " [],\n",
       " ['e'],\n",
       " ['u'],\n",
       " ['x'],\n",
       " [],\n",
       " ['f'],\n",
       " ['o'],\n",
       " ['i'],\n",
       " [],\n",
       " [],\n",
       " [],\n",
       " ['e'],\n",
       " [],\n",
       " [],\n",
       " ['o'],\n",
       " ['i'],\n",
       " [],\n",
       " [],\n",
       " [],\n",
       " [],\n",
       " [],\n",
       " [],\n",
       " [],\n",
       " [],\n",
       " [],\n",
       " [],\n",
       " [],\n",
       " [],\n",
       " [],\n",
       " [],\n",
       " [],\n",
       " [],\n",
       " [],\n",
       " [],\n",
       " [],\n",
       " ['o'],\n",
       " ['u'],\n",
       " [],\n",
       " [],\n",
       " ['a'],\n",
       " ['v'],\n",
       " ['o'],\n",
       " [],\n",
       " [],\n",
       " [],\n",
       " [],\n",
       " ['o'],\n",
       " ['u'],\n",
       " [],\n",
       " ['o'],\n",
       " ['u'],\n",
       " ['r'],\n",
       " [],\n",
       " [],\n",
       " [],\n",
       " ['e'],\n",
       " [],\n",
       " [],\n",
       " ['r'],\n",
       " ['o'],\n",
       " ['i'],\n",
       " [],\n",
       " [],\n",
       " [],\n",
       " ['e'],\n",
       " [],\n",
       " ['p'],\n",
       " ['r'],\n",
       " ['o'],\n",
       " [],\n",
       " ['o'],\n",
       " ['u'],\n",
       " ['v'],\n",
       " ['o'],\n",
       " ['i'],\n",
       " ['r'],\n",
       " [],\n",
       " ['o'],\n",
       " ['u'],\n",
       " [],\n",
       " [],\n",
       " ['o'],\n",
       " [],\n",
       " [],\n",
       " [],\n",
       " [],\n",
       " [],\n",
       " [],\n",
       " [],\n",
       " [],\n",
       " ['a'],\n",
       " [],\n",
       " ['f'],\n",
       " ['a'],\n",
       " ['i'],\n",
       " [],\n",
       " [],\n",
       " [],\n",
       " [],\n",
       " [],\n",
       " ['e'],\n",
       " [],\n",
       " ['a'],\n",
       " ['i'],\n",
       " [],\n",
       " ['e'],\n",
       " [],\n",
       " ['q'],\n",
       " ['u'],\n",
       " ['e'],\n",
       " [],\n",
       " [],\n",
       " [],\n",
       " ['e'],\n",
       " [],\n",
       " [],\n",
       " ['a'],\n",
       " [],\n",
       " ['e'],\n",
       " [],\n",
       " [],\n",
       " ['e'],\n",
       " [],\n",
       " ['v'],\n",
       " ['o'],\n",
       " ['u'],\n",
       " [],\n",
       " [],\n",
       " [],\n",
       " ['o'],\n",
       " ['i'],\n",
       " [],\n",
       " [],\n",
       " ['r'],\n",
       " ['e'],\n",
       " [],\n",
       " ['p'],\n",
       " ['a'],\n",
       " ['r'],\n",
       " [],\n",
       " [],\n",
       " ['e'],\n",
       " [],\n",
       " ['e'],\n",
       " ['p'],\n",
       " ['h'],\n",
       " ['o'],\n",
       " [],\n",
       " ['e'],\n",
       " [],\n",
       " [],\n",
       " ['a'],\n",
       " ['i'],\n",
       " [],\n",
       " [],\n",
       " ['p'],\n",
       " ['a'],\n",
       " [],\n",
       " [],\n",
       " [],\n",
       " ['e'],\n",
       " [],\n",
       " ['r'],\n",
       " ['e'],\n",
       " ['p'],\n",
       " ['o'],\n",
       " [],\n",
       " [],\n",
       " ['e'],\n",
       " [],\n",
       " [],\n",
       " [],\n",
       " [],\n",
       " [],\n",
       " ['p'],\n",
       " ['o'],\n",
       " ['u'],\n",
       " ['v'],\n",
       " ['e'],\n",
       " ['z'],\n",
       " [],\n",
       " ['v'],\n",
       " ['o'],\n",
       " ['u'],\n",
       " [],\n",
       " [],\n",
       " [],\n",
       " ['e'],\n",
       " [],\n",
       " [],\n",
       " ['i'],\n",
       " ['r'],\n",
       " ['e'],\n",
       " [],\n",
       " [],\n",
       " ['o'],\n",
       " [],\n",
       " [],\n",
       " ['e'],\n",
       " [],\n",
       " [],\n",
       " [],\n",
       " [],\n",
       " [],\n",
       " ['o'],\n",
       " [],\n",
       " ['u'],\n",
       " ['r'],\n",
       " ['e'],\n",
       " ['r'],\n",
       " [],\n",
       " ['u'],\n",
       " [],\n",
       " [],\n",
       " ['a'],\n",
       " [],\n",
       " [],\n",
       " ['i'],\n",
       " ['e'],\n",
       " [],\n",
       " [],\n",
       " [],\n",
       " ['o'],\n",
       " [],\n",
       " ['p'],\n",
       " [],\n",
       " ['e'],\n",
       " [],\n",
       " [],\n",
       " ['o'],\n",
       " ['u'],\n",
       " ['r'],\n",
       " ['a'],\n",
       " [],\n",
       " [],\n",
       " [],\n",
       " [],\n",
       " [],\n",
       " [],\n",
       " [],\n",
       " [],\n",
       " [],\n",
       " ['e'],\n",
       " [],\n",
       " [],\n",
       " ['u'],\n",
       " ['i'],\n",
       " [],\n",
       " [],\n",
       " [],\n",
       " ['e'],\n",
       " [],\n",
       " ['g'],\n",
       " ['a'],\n",
       " ['r'],\n",
       " [],\n",
       " ['i'],\n",
       " ['e'],\n",
       " [],\n",
       " [],\n",
       " [],\n",
       " ['p'],\n",
       " ['e'],\n",
       " ['r'],\n",
       " [],\n",
       " ['o'],\n",
       " [],\n",
       " [],\n",
       " ['e'],\n",
       " [],\n",
       " [],\n",
       " ['o'],\n",
       " [],\n",
       " [],\n",
       " ['e'],\n",
       " [],\n",
       " ['v'],\n",
       " ['o'],\n",
       " ['u'],\n",
       " [],\n",
       " [],\n",
       " [],\n",
       " [],\n",
       " [],\n",
       " ['a'],\n",
       " ['i'],\n",
       " [],\n",
       " ['e'],\n",
       " [],\n",
       " [],\n",
       " [],\n",
       " [],\n",
       " ['r'],\n",
       " ['o'],\n",
       " ['u'],\n",
       " ['g'],\n",
       " ['e'],\n",
       " [],\n",
       " [],\n",
       " ['i'],\n",
       " [],\n",
       " [],\n",
       " [],\n",
       " ['o'],\n",
       " [],\n",
       " [],\n",
       " [],\n",
       " [],\n",
       " ['o'],\n",
       " [],\n",
       " [],\n",
       " ['e'],\n",
       " [],\n",
       " [],\n",
       " ['e'],\n",
       " [],\n",
       " [],\n",
       " ['e'],\n",
       " [],\n",
       " ['p'],\n",
       " ['r'],\n",
       " ['o'],\n",
       " ['b'],\n",
       " [],\n",
       " ['e'],\n",
       " [],\n",
       " ['e'],\n",
       " [],\n",
       " [],\n",
       " [],\n",
       " [],\n",
       " [],\n",
       " [],\n",
       " ['f'],\n",
       " ['r'],\n",
       " ['e'],\n",
       " ['r'],\n",
       " ['e'],\n",
       " [],\n",
       " [],\n",
       " [],\n",
       " ['e'],\n",
       " [],\n",
       " ['q'],\n",
       " ['u'],\n",
       " ['o'],\n",
       " ['i'],\n",
       " [],\n",
       " ['p'],\n",
       " ['a'],\n",
       " ['r'],\n",
       " [],\n",
       " ['e'],\n",
       " [],\n",
       " [],\n",
       " [],\n",
       " ['h'],\n",
       " ['i'],\n",
       " [],\n",
       " [],\n",
       " ['o'],\n",
       " ['i'],\n",
       " ['r'],\n",
       " ['e'],\n",
       " [],\n",
       " [],\n",
       " ['e'],\n",
       " [],\n",
       " [],\n",
       " ['a'],\n",
       " [],\n",
       " ['v'],\n",
       " ['u'],\n",
       " [],\n",
       " ['u'],\n",
       " [],\n",
       " [],\n",
       " [],\n",
       " ['e'],\n",
       " [],\n",
       " ['b'],\n",
       " ['r'],\n",
       " ['e'],\n",
       " [],\n",
       " [],\n",
       " ['e'],\n",
       " [],\n",
       " [],\n",
       " ['a'],\n",
       " [],\n",
       " ['r'],\n",
       " ['o'],\n",
       " ['b'],\n",
       " ['e'],\n",
       " [],\n",
       " [],\n",
       " ['f'],\n",
       " ['r'],\n",
       " ['e'],\n",
       " ['r'],\n",
       " ['e'],\n",
       " [],\n",
       " [],\n",
       " ['a'],\n",
       " ['v'],\n",
       " ['e'],\n",
       " ['z'],\n",
       " [],\n",
       " ['v'],\n",
       " ['o'],\n",
       " ['u'],\n",
       " [],\n",
       " [],\n",
       " ['e'],\n",
       " [],\n",
       " [],\n",
       " ['e'],\n",
       " [],\n",
       " [],\n",
       " ['u'],\n",
       " [],\n",
       " [],\n",
       " [],\n",
       " [],\n",
       " [],\n",
       " [],\n",
       " [],\n",
       " [],\n",
       " ['o'],\n",
       " ['u'],\n",
       " [],\n",
       " [],\n",
       " ['v'],\n",
       " ['o'],\n",
       " ['u'],\n",
       " [],\n",
       " [],\n",
       " ['a'],\n",
       " ['v'],\n",
       " ['o'],\n",
       " [],\n",
       " [],\n",
       " [],\n",
       " ['e'],\n",
       " ['x'],\n",
       " ['p'],\n",
       " [],\n",
       " ['i'],\n",
       " ['q'],\n",
       " ['u'],\n",
       " ['e'],\n",
       " [],\n",
       " ['q'],\n",
       " ['u'],\n",
       " ['e'],\n",
       " [],\n",
       " ['v'],\n",
       " ['o'],\n",
       " ['u'],\n",
       " [],\n",
       " [],\n",
       " ['e'],\n",
       " [],\n",
       " [],\n",
       " ['a'],\n",
       " ['v'],\n",
       " ['i'],\n",
       " ['e'],\n",
       " ['z'],\n",
       " [],\n",
       " ['p'],\n",
       " ['a'],\n",
       " ['r'],\n",
       " [],\n",
       " ['e'],\n",
       " [],\n",
       " [],\n",
       " [],\n",
       " [],\n",
       " ['o'],\n",
       " ['u'],\n",
       " ['b'],\n",
       " [],\n",
       " ['e'],\n",
       " [],\n",
       " [],\n",
       " [],\n",
       " ['a'],\n",
       " [],\n",
       " ['e'],\n",
       " ['r'],\n",
       " [],\n",
       " [],\n",
       " [],\n",
       " ['r'],\n",
       " ['o'],\n",
       " ['g'],\n",
       " ['e'],\n",
       " [],\n",
       " [],\n",
       " [],\n",
       " ['e'],\n",
       " [],\n",
       " [],\n",
       " ['q'],\n",
       " ['u'],\n",
       " ['e'],\n",
       " [],\n",
       " ['v'],\n",
       " ['o'],\n",
       " [],\n",
       " ['r'],\n",
       " ['e'],\n",
       " [],\n",
       " [],\n",
       " ['e'],\n",
       " [],\n",
       " ['p'],\n",
       " [],\n",
       " [],\n",
       " ['e'],\n",
       " [],\n",
       " [],\n",
       " [],\n",
       " [],\n",
       " ['e'],\n",
       " [],\n",
       " ['e'],\n",
       " [],\n",
       " ['e'],\n",
       " [],\n",
       " [],\n",
       " ['a'],\n",
       " [],\n",
       " ['o'],\n",
       " ['r'],\n",
       " [],\n",
       " [],\n",
       " ['v'],\n",
       " ['o'],\n",
       " ['u'],\n",
       " [],\n",
       " [],\n",
       " ['a'],\n",
       " ['v'],\n",
       " ['e'],\n",
       " ['z'],\n",
       " [],\n",
       " ['r'],\n",
       " ['e'],\n",
       " ['u'],\n",
       " [],\n",
       " [],\n",
       " ['i'],\n",
       " [],\n",
       " [],\n",
       " [],\n",
       " ['a'],\n",
       " ['i'],\n",
       " [],\n",
       " [],\n",
       " ['p'],\n",
       " [],\n",
       " ['u'],\n",
       " [],\n",
       " ['o'],\n",
       " [],\n",
       " [],\n",
       " ['p'],\n",
       " ['r'],\n",
       " ['o'],\n",
       " [],\n",
       " ['i'],\n",
       " [],\n",
       " [],\n",
       " ['e'],\n",
       " [],\n",
       " [],\n",
       " ['p'],\n",
       " ['a'],\n",
       " [],\n",
       " ['e'],\n",
       " [],\n",
       " ['p'],\n",
       " ['o'],\n",
       " ['u'],\n",
       " ['r'],\n",
       " [],\n",
       " [],\n",
       " ['o'],\n",
       " [],\n",
       " [],\n",
       " ['i'],\n",
       " [],\n",
       " ['a'],\n",
       " ['g'],\n",
       " ['e'],\n",
       " [],\n",
       " [],\n",
       " [],\n",
       " [],\n",
       " [],\n",
       " [],\n",
       " [],\n",
       " ['e'],\n",
       " [],\n",
       " [],\n",
       " [],\n",
       " ['a'],\n",
       " ['x'],\n",
       " ['e'],\n",
       " [],\n",
       " [],\n",
       " [],\n",
       " ['o'],\n",
       " [],\n",
       " [],\n",
       " [],\n",
       " [],\n",
       " ['o'],\n",
       " [],\n",
       " ['p'],\n",
       " ['e'],\n",
       " [],\n",
       " [],\n",
       " ['e'],\n",
       " ['e'],\n",
       " [],\n",
       " [],\n",
       " ['p'],\n",
       " ['a'],\n",
       " ['r'],\n",
       " [],\n",
       " [],\n",
       " [],\n",
       " [],\n",
       " ...]"
      ]
     },
     "execution_count": 35,
     "metadata": {},
     "output_type": "execute_result"
    }
   ],
   "source": [
    "preprocessed_docs"
   ]
  },
  {
   "cell_type": "code",
   "execution_count": 28,
   "metadata": {},
   "outputs": [
    {
     "name": "stdout",
     "output_type": "stream",
     "text": [
      "0\n",
      "1\n",
      "2\n",
      "3\n",
      "4\n",
      "5\n",
      "6\n",
      "7\n",
      "8\n",
      "9\n",
      "10\n",
      "11\n",
      "12\n",
      "13\n",
      "14\n",
      "15\n",
      "16\n",
      "17\n",
      "18\n",
      "19\n",
      "20\n",
      "21\n",
      "22\n",
      "23\n",
      "24\n",
      "25\n",
      "26\n",
      "27\n",
      "28\n",
      "29\n",
      "30\n",
      "31\n",
      "32\n",
      "33\n",
      "34\n",
      "35\n",
      "36\n",
      "37\n",
      "38\n",
      "39\n",
      "40\n",
      "41\n",
      "42\n",
      "43\n",
      "44\n"
     ]
    }
   ],
   "source": [
    "#df3.comments=[]\n",
    "df3=df2\n",
    "ll=[]\n",
    "p=0\n",
    "for i in range(len(df2.comments)):    \n",
    "    l=[]\n",
    "    for j in range(len(df2.comments[i])):\n",
    "        df3.comments[i][j]=(preprocessed_docs[p+j])  \n",
    "        print(p+j)\n",
    "    p+=len(df2.comments[i])"
   ]
  },
  {
   "cell_type": "code",
   "execution_count": 29,
   "metadata": {},
   "outputs": [],
   "source": [
    "comment=\"\"\n",
    "for i in range(len(df3)):\n",
    "    for j in df3['comments'][i]:\n",
    "        comment+=\" \"+str(j)"
   ]
  },
  {
   "cell_type": "code",
   "execution_count": 1006,
   "metadata": {},
   "outputs": [
    {
     "data": {
      "text/plain": [
       "561"
      ]
     },
     "execution_count": 1006,
     "metadata": {},
     "output_type": "execute_result"
    }
   ],
   "source": [
    "len(preprocessed_docs)"
   ]
  },
  {
   "cell_type": "code",
   "execution_count": 859,
   "metadata": {},
   "outputs": [
    {
     "data": {
      "text/plain": [
       "[['bon', 'chanc', 'a', 'tout', 'a', 'tous'], ['bon', 'chanc', 'a', 'tous', 'bacheli'], ['bon', 'chanc', 'bacheli'], ['bon', 'chanc'], ['allah'], ['dieu', 'accord', 'succ', 'a', 'tous', 'enfant'], ['revenus', 'mois', 'joan', 'qass'], ['pr'], ['bon', 'chanc', 'a', 'tous', 'etudi', 'baccalaureat'], ['seigneur'], ['bon', 'chanc', 'a', 'tous'], ['proprietair', 'histoir', 'pr'], ['seigneur'], ['amin', 'bon', 'chanc'], ['retour', 'a'], ['meilleur', 'choos', 'puiss', 'fair', 'reven'], ['bon', 'mois', 'joan', 'hah'], ['reven', 'retribu', 'pr'], ['bon', 'chanc', 'a', 'tous', 'etudi'], ['avant', 'plaindr'], ['a', 'tigr', 'man', 'cours']]"
      ]
     },
     "execution_count": 859,
     "metadata": {},
     "output_type": "execute_result"
    }
   ],
   "source": [
    "df3.comments[2]"
   ]
  },
  {
   "cell_type": "code",
   "execution_count": 709,
   "metadata": {
    "collapsed": true,
    "jupyter": {
     "outputs_hidden": true
    }
   },
   "outputs": [
    {
     "data": {
      "text/plain": [
       "[['cart', 'bancair', 'a', 'ete', 'etendu'], ['comm', 'dit'], ['apre', 'suppress', 'brutal', 'pr'], ['societ', 'tunisien', 'banqu', 'prouv', 'a', 'chaqu', 'fois', 'client', 'font', 'plus', 'confianc', 'san', 'a', 'ete', 'rapport', 'salar'], ['a', 'except', 'quelqu', 'un', 'agenc', 'shak', 'sfax'], ['perdu', 'confianc', 'apre', 'appel', 'banqu', 'social'], ['autr', 'jalous', 'autr', 'banqu', 'a', 'incit', 'banqu', 'central', 'stb', 'a', 'telecharg', 'prim', 'mar', 'tout', 'mond', 'egal'], ['merc', 'avoir', 'ajout', 'plafond'], ['veuill', 'precis', 'period'], ['dieu'], ['regret', 'coup', 'pr', 't', 'a', 'peupl'], ['donc', 'necessair', 'resoudr'], ['quel', 'problem', 'rizzo', 'chez', 'concessionnair', 'automat'], ['majorit', 'banqu', 'sfax'], ['pourquoi', 'pr', 't', 'ete', 'deduit', 'ceux', 'dont', 'salair', 'inferieur', 'a'], ['prom', 'mois'], ['pr', 't', 'allash'], ['bon', 'chanc', 'a', 'tout', 'a', 'tous'], ['bon', 'chanc', 'a', 'tous', 'bacheli'], ['bon', 'chanc', 'bacheli'], ['bon', 'chanc'], ['allah'], ['dieu', 'accord', 'succ', 'a', 'tous', 'enfant'], ['revenus', 'mois', 'joan', 'qass'], ['pr'], ['bon', 'chanc', 'a', 'tous', 'etudi', 'baccalaureat'], ['seigneur'], ['bon', 'chanc', 'a', 'tous'], ['proprietair', 'histoir', 'pr'], ['seigneur'], ['amin', 'bon', 'chanc'], ['retour', 'a'], ['meilleur', 'choos', 'puiss', 'fair', 'reven'], ['bon', 'mois', 'joan', 'hah'], ['reven', 'retribu', 'pr'], ['bon', 'chanc', 'a', 'tous', 'etudi'], ['avant', 'plaindr'], ['a', 'tigr', 'man', 'cours'], ['dirig', 'ver', 'menuisi', 'conseil', 'obtient', 'hallfool'], ['brby', 'repons', 'a', 'banqu', 'anne', 'janesh'], ['plus', 'gros', 'problem', 'succursal', 'banqu', 'defaill', 'prevu', 'distributeur', 'automat', 'a', 'fin', 'semain'], ['particuli', 'debut', 'mois'], ['aujourd', 'hui', 'a', 'different', 'endroit'], ['tous', 'distributeur', 'fonctionnent'], ['general', 'utilis', 'banqu', 'esperon', 'question', 'clarifie', 'evite'], ['merc', 'effort'], ['franch'], ['frenes', 'raison', 'ecrit', 'pr', 'si', 'demand', 'dit', 'mois', 'joan'], ['droit', 'fair', 'salair', 'mensuel', 'complet'], ['salut', 'a', 'tous', 'employ', 'banqu'], ['quel', 'signif', 'valeur', 'det', 'quand', 'applique'], ['rembours', 'pr', 'eti', 'banqui'], ['tout', 'mond', 'revenu', 'juillet'], ['mois', 'mar', 'except', 'societ', 'tunisien', 'banqu', 'client', 'directeur', 'general', 'a', 'dit'], ['donc', 'fidel', 'a', 'promess', 'merc', 'comprehens'], ['meilleur', 'banqu'], ['franch'], ['meilleur', 'banqu'], ['a', 'ete', 'sugger', 'chaqu', 'person', 'contract', 'pr', 'cinq', 'seul', 'sept', 'an'], ['comm', 'habitud'], ['entrepris', 'tunisien', 'banqu', 'suit', 'rythm', 'explor', 'solut', 'satisfair', 'client', 'merc', 'a', 'stb', 'a', 'agenc', 'bousalem'], ['particuli', 'directeur', 'agenc'], ['sommet', 'ethiqu', 'devou', 'travail'], [], ['a', 'fin', 'cart', 'dont', 'resili', 'a', 'pris', 'fin', 'mai'], ['just', 'apre', 'mission'], ['a', 'succursal'], ['at', 'fait', 'salair', 'mineur'], ['mourron'], ['don', 'sant'], ['veux', 'aller', 'branch', 'bientot'], ['comprenon', 'signif', 'valeur', 'cred'], ['esprit'], ['racont', 'histoir', 'pr', 't', 'dit', 'recherchon'], ['frer', 'ici', 'entre', 'tout', 'mond', 'roug', 'aim', 'plus', 'aval'], ['dit', 'trois', 'mois'], ['mar'], ['procedur', 'temporair', 'rien', 'rest', 'long'], ['meilleur', 'banqu', 'tunis'], ['client', 'excellent', 'replient', 'decis', 'oppos', 'respectent', 'a', 'ete', 'notif'], ['mois'], ['troncatur', 'utilise', 'ran', 'corp', 'mensuel', 'bas', 'a', 'ete', 'coup'], ['etait', 'bon', 'pr'], ['chang', 'cap'], ['doubl', 'promot', 'mois', 'juillet'], ['alor', 'travaill', 'mois', 'juin', 'jay', 'eid'], ['couvr', 'soleil', 'tam'], ['pinc', 'fait'], ['travaill'], ['dieu', 'aim', 'serviteur', 'tous', 'pelous'], ['oh', 'dieu'], ['recev', 'chois'], ['stb', 'plus', 'misericordi', 'certain', 'autr', 'banqu', 'ete', 'grille', 'dieu'], ['moment', 'venu', 'commenc', 'processus', 'veux', 'ruin', 'karit', 'aujourd', 'hui'], ['remerc', 'tous', 'agent', 'pneus', 'societ', 'tunisien', 'banqu', 'effort', 'toujour', 'avant'], ['dieu', 'accord', 'succ'], ['rendu', 'argent', 'pr', 'a', 'qassitouh', 'period', 'six', 'mois'], ['re', 'u', 'argent'], ['dieu'], ['a', 'fait', 'mois', 'moin', 'milli', 'dinar', 'pourquoi', 're', 'u', 'pr', 'mois', 'dit', 'six', 'mois', 'vais', 'croir', 'tat', 'seul', 'banqu', 'r', 've', 'dont', 'r', 've'], ['merc', 'banqu', 'souhait', 'a', 'tous', 'bon', 'chanc'], ['seul', 'banqu', 'a', 'reduit', 'pr', 'augment', 'erreur', 'effondre', 'aupr', 'grand', 'parent', 'mensuel'], ['declar'], ['mois', 'inferieur', 'a', 'million'], ['repet', 'chaqu', 'mois', 'quel', 'solut', 'travaillon', 'comm', 'petit', 'plaignon'], ['a', 'epoqu', 'o', 'mois', 'passent'], ['veux', 'fair', 'pein', 'a', 'tout', 'mond'], ['manqu', 'pr', 't'], ['aujourd', 'hui', 'enfui'], ['allash'], ['dit'], ['bash'], ['deduct', 'pr', 'suspendu', 'defunt', 'joan'], ['si', 'dieu', 'veut'], ['gagn'], ['o', 'seigneur', 'mond'], ['kivash', 'qsito', 'avant', 'debut', 'mois'], ['deux', 'jour', 'lab'], ['exigeon', 'retour', 'pr', 'retribu', 'mois', 'prochain', 'comment', 'peuvent', 'dir'], ['sinon', 'situat', 'desastr'], ['frer'], ['pouv', 'dir', 'client'], ['fait', 'convers', 'manqu', 'mois'], ['a', 'rendu', 'vers', 'pr', 'pris', 'jusqu', 'derni', 'juillet'], ['pend', 'lequel', 'grand', 'f'], ['celui', 'con', 'seigneur'], ['nord', 'sud'], ['stb', 'a', 'dit', 'domest', 'mot', 'quel', 'valeur', 'short', 'mois'], ['pourquoi', 'parl', 'succursal', 'envelopp', 'mois', 'mois', 'vid', 'mieux', 'roug', 'violat', 'credibilit', 'aupr', 'client'], ['mush'], ['dit', 'pr', 'termin', 'fin', 'juillet'], ['droit', 'inform', 'client', 'avant', 'cherch'], ['pourquoi', 'connaiss', 'pr'], ['bien', 'jeann'], ['inform', 'retribu', 'juillet'], ['ben', 'prair', 'famill', 'dont', 'seigneur'], ['croat'], ['eid', 'zaid', 'connaissent', 'aval', 'langag', 'plus', 'clair'], ['pren', 'tous', 'mois', 'an', 'reconfort', 'entrepris', 'tunisien', 'banqu'], ['enfant'], ['racont', 'histoir'], ['quel', 'kilometr', 'a', 'point', 'reduct', 'pr', 'a', 'augment'], ['possibl', 'durc', 'pr', 't', 'serviteur', 'ceux', 'connaissent', 'mois', 'a'], ['defaut'], ['offrir', 'numero', 'a', 'abd'], ['dieu', 'hi'], ['pr', 't', 'ete', 'coup', 'aucun', 'dejeun', 'coup', 'pension'], ['donc', 'comprend', 'quelqu', 'choos'], ['dit', 'pr', 'apre', 'temp'], ['revenu', 'moin'], ['bonus', 'mois', 'mar', 'venu'], ['repondu', 'a', 'extras', 'a', 'reserv', 'histoir', 'pr', 'pr', 'professeur', 'precedent'], ['comment', 'pr', 'a', 'ete', 'interrompu', 'avant', 'dat', 'limit'], ['premier', 'echeanc'], ['veuill', 'verifi', 'parc', 're', 'u', 'lettr', 'prendr', 'pr', 'remerc', 'comprehens'], ['a', 'aucun', 'cas', 'lequel', 'attribu'], ['decoup', 'san', 'notif'], ['a', 'derang', 'stb', 'etion', 'imagin'], ['oh', 'stb', 'bank'], ['frer'], ['vrai', 'bash'], ['frer'], ['cred', 'vient', 'apre', 'coron', 'bash'], ['mois', 'certain', 'entre'], ['avril'], ['may', 'joan', 'khat', 'mois', 'ensembl'], ['joueur', 'mois', 'supplementair', 'aval', 'serviteur', 'viennent', 'a', 'banqu', 'pr', 't', 'seigneur'], ['gagn'], ['appel', 'mal', 'esclav'], ['si', 'dit'], ['repart', 'mechancet'], ['o', 'enfant'], ['quel', 'cart', 'sac', 'depuis', 'er', 'juin'], ['fatouh', 'al', 'salouh'], ['assis', 'a', 'chaqu', 'fois', 'fait', 'km'], ['bash'], ['don', 'naissanc', 'a', 'argent'], ['branch', 'truc'], ['donc', 'foshan', 'a', 'rien', 'compr', 'flash', 'a', 'rendu', 'heureux'], ['dit', 'augment', 'bont'], ['pr', 'oh', 'seigneur'], ['cas'], ['dit'], ['mosh', 'bash'], ['racontent', 'histoir', 'ador', 'bas', 'cel'], ['weld', 'st', 'alo', 'forss', 'amlo', 'doubl', 'roug'], ['bash', 'a', 'abdul', 'a', 'aval', 'p', 'rogg', 'shufu'], ['just', 'a', 'caus', 'catastroph'], ['seigneur'], ['frer'], ['dit', 'mois', 'ecrir', 'pr'], ['mois', 'juin'], ['dieu'], ['fait', 'savoir'], ['pourquoi', 'dit', 'cel', 'a', 'shahritou', 'moin', 'dinar', 'va', 'profit', 'mois'], ['reviendr', 'mot'], ['ata', 'ena', 'mchitt', 'nel', 'ahm', 'jebdoul', 'cred', 'w', 'ball', 'wa', 'touu', 'zeda', 'ramm', 'likm', 'leeeh', 'olouln', 'makmch', 'bch', 'ossou', 'w', 'ba', 'taghdroun'], ['paix', 'stb', 'ami', 'peut', 'envoi', 'argent', 'hor', 'tunis'], ['pla'], ['aid'], ['achet', 'pr', 't', 'aupr', 'autr', 'banqu'], ['paix'], ['dieu'], ['bash'], ['obtiendr', 'autr', 'pr'], ['gran', 'non'], ['bravo', 'si', 'lotf', 'bon', 'continu', 'chef'], ['bravo', 'bon', 'continu'], ['bon', 'courag'], ['pend', 'pandem', 'coron'], ['societ', 'tunisien', 'a', 'demontr', 'a', 'banqu', 'etait', 'banqu', 'populair', 'ten', 'cot', 'client'], ['posit', 'honor'], ['cour', 'mois'], ['nombreux', 'client', 'pu', 'retir', 'numero', 'atm', 'veuill', 'regard', 'cet', 'situat'], ['compr'], ['chef', 'famill'], ['dont', 'certain', 'malad'], ['pai', 'locat', 'maison', 'a', 'propr', 'oblig', 'veuill', 'expliqu', 'trouv', 'solut', 'merc'], ['bravo', 'stb', 'surtout', 'agenc', 'chargui'], ['bon', 'chanc'], ['si', 'dieu', 'veut'], ['meilleur', 'banqu', 'meilleur', 'personnel', 'bon', 'courag', 'bon', 'continu'], ['succursal', 'societ', 'tunisien', 'banqu'], ['inform', 'suiv'], ['excellent', 'perform', 'accueil'], ['particuli', 'succursal', 'stb', 'el', 'zaytoun', 'sfax'], ['dont', 'agent', 'distinguent', 'enthousiasm', 'excellent', 'perform'], ['particuli', 'chef', 'succursal', 'aid'], ['grand', 'salut', 'a', 'a', 'tous', 'employ'], ['remerc'], ['repondent'], ['bl', 'ment', 'mepr'], ['remerc', 'tout', 'particulier', 'employ', 'societ', 'bancair', 'tunisien'], ['agenc', 'ain', 'draham', 'professionnel', 'ethiqu'], ['meilleur', 'banqu', 'bon', 'chanc', 'a', 'merc', 'special', 'a', 'tous', 'pneus', 'travail', 'nouvel', 'succursal', 'sfax', 'perform', 'bon', 'recept', 'sourir', 'visag', 'client', 'merc'], ['al', 'manj', 'tous', 'pneus'], ['succursal', 'societ', 'tunisien', 'banqu'], ['examen', 'tre', 'excellent'], ['merc', 'special', 'chef', 'succursal'], ['khaled', 'azouz'], ['grand', 'effort', 'mill', 'merc'], ['bon', 'vent', 'leader', 'si', 'lotf'], ['salut'], ['cher', 'frer', 'aujourd', 'hui'], ['trois', 'mois', 'qusan'], ['mont', 'pr'], ['poes', 'moin', 'million', 'banqu', 'a', 'dit', 'mois', 'jusqu', 'ao'], ['aujourd', 'hui', 'envoi', 'banqu', 'coup', 'pr', 'proprietair', 'famill', 'allash'], ['perby', 'allash'], ['manqu', 'roug'], ['stb', 'plus', 'fort', 'plus', 'haut'], ['ecrir'], ['donc', 'pourr', 'toujour', 'obten'], ['yasi', 'lotf'], ['lieu', 'rabb', 'hasht'], ['pr'], ['bankt', 'meurtri'], ['stb', 'bank'], ['salut', 'a', 'branch', 'doz'], ['franch'], ['dieu', 'bon', 'manier', 'excellent', 'trait'], ['bon', 'continu'], ['a', 'aucun', 'possibilit', 'benefic', 'report', 'pr', 't', 'contract', 'pr', 't', 'mar', 'inclus', 'amnist', 'trois', 'mois', 'ecoul', 'depuis'], ['a', 'proch'], ['dieu'], ['premier', 'banqu', 'tunis', 'a', 'ete', 'sauve'], ['client'], ['deux', 'mois'], ['merc'], ['tous', 'pneus', 'personnel', 'gros', 'effort'], ['continuent', 'don', 'plus', 'soutien'], ['particuli'], ['ceux', 'entrent', 'a', 'roug', 'tre', 'difficil'], ['esperon', 'comprehens'], ['merc', 'plus', 'eclat'], ['doubl'], ['salar', 'a', 'frapp', 'seul', 'a', 'install'], ['seigneur'], ['femm', 'ete', 'elu', 'prolong', 'non', 'decaissement', 'pr', 't', 'rapport', 'a', 'cel', 'rat', 'tirag'], ['salut', 'a', 'branch', 'chebnian'], ['travaill', 'fonction', 'choir', 'dessus'], ['system', 'cont', 'fe', 'a', 'chaqu', 'fois', 'pouss'], [], ['alor', 'quel', 'punit', 'pr', 'mois'], ['frer', 'naween', 'chant', 'seul', 'histoir'], ['affair', 'abing', 'step', 'alsaltnash', 'bish', 'njbd', 'ral', 'shariq'], ['veux', 'parl', 'mois'], ['raison', 'just', 'adieu', 'hostilit', 'scen'], [], ['seigneur'], [], ['stb', 'a', 'doubl', 'plafond', 'cart', 'bancair'], ['wow'], ['seigneur'], ['etap'], ['retour'], ['pla', 'cart', 'facebook'], ['si', 'fait'], ['fait', 'brill'], ['cart', 'vis', 'stb', 'perdu', 'presenc'], ['seigneur'], ['accord', 'pr', 'a', 'enseign', 'dont', 'mois', 'complet', 'a', 'toujour', 'frais'], ['succursal', 'el', 'jem'], ['dit', 'prolong', 'trois', 'mois', 'dure', 'pr'], ['barb', 'qatash', 'raison', 'deduct', 'pr'], ['wel', 'compt', 'special', 'devis'], ['dieu'], ['fait', 'report', 'vers', 'pr', 't', 'a', 'dep', 'revenu', 'mill', 'dinar'], ['expliqu', 'situat'], ['merc'], ['bravo', 'tout', 'stb', 'sertou', 'megrin'], ['mill', 'merc', 'bon', 'chanc'], ['bon', 'retour', 'succ'], ['si', 'dieu', 'veut'], ['remerci', 'directeur', 'succursal', 'abu', 'salem', 'haut', 'ethiqu'], ['mill', 'salut', 'pneus', 'succursal', 'gab', 'cent'], ['merc', 'a', 'branch', 'ain', 'draham', 'servic', 'haut', 'ethiqu'], ['mill', 'merc', 'appreci', 'a', 'filial', 'enfidh'], ['remerci', 'appreci', 'a', 'tous', 'pneus'], ['devis'], ['bon', 'manier', 'transact'], ['succursal', 'gab', 'centr'], ['mill', 'salut', 'merc', 'a', 'tout', 'succursal', 'societ', 'tunisien', 'banqu', 'a', 'khazindar', 'servic', 'rendus', 'haut', 'ethiqu'], ['banqu', 'plus', 'douc', 'plus', 'fragil', 'tunis', 'merc', 'stb'], ['remerci', 'a', 'succursal', 'abu', 'salem'], ['directeur', 'agenc', 'a', 'lotfy', 'el', 'dabbab', 'particuli', 'a', 'chaqu', 'innov', 'entrepris', 'tunisien', 'banqu'], ['remerc', 'tout', 'personnel', 'filial', 'ras', 'al', 'jelel'], ['san', 'oubli', 'filial', 'jan', 'jur'], ['aya', 'behu'], ['attend'], ['essui', 'temp', 'lir', 'histoir'], ['vais', 'decevoir', 'branch', 'deux', 'prison'], ['appet', 'plus', 'dinar', 'aimon', 'coupur', 'pr', 'a', 'mois', 'quel', 'procedur', 'approuve'], ['bonjour'], ['dieu'], ['adamin'], ['vu', 'cart'], ['vis'], ['raho'], ['mois', 'oublion'], ['travail', 'exigent', 'attendon', 'toujour'], ['direct', 'banqu', 'souhait', 'vrai', 'activ', 'processus', 'achat', 'pr', 't', 'aupr', 'autr', 'banqu', 'client', 'souhaitent', 'ouvr', 'compt', 'agenc'], ['alor'], ['reduct', 'pr', 'juin', 'plus', 'dirham'], ['ceux', 'distingu', 'moralit'], ['comport', 'relat'], ['si', 'lutf', 'al', 'dabbab'], ['proprietair', 'distinct', 'ide', 'brill'], ['mot', 'phras', 'don', 'rien', 'droit'], ['petit', 'part', 'offre', 'merc', 'don', 'permanent'], ['dieu', 'a', 'utilis'], ['autr', 'problem', 'employ', 'avant', 'tout', 'aim', 'doubl', 'rogg'], ['mois', 'juin'], ['entre', 'grand', 'f'], ['impossibl', 'coup', 'stb', 'banqu', 'plus', 'douc', 'mond', 'comment', 'pouvon', 'repondr', 'a', 'pet', 'coup', 'bas', 'appelon', 'stb'], ['possibl', 'prolong', 'non', 'pai', 'pr'], ['possibl', 'prolong', 'mois', 'si', 'pr', 'deduit'], ['bravo', 'stb'], ['toujour', 'bon', 'chemin', 'bon', 'continu'], ['bon', 'continu'], ['bravo', 'stb'], ['grand', 'bravo', 'a', 'staff', 'stb'], ['bon', 'continu', 'stb'], ['rabb', 'ewafekhom', 'bravoooooo', 'b'], ['bravo', 'stb'], ['bon', 'vent'], ['bon', 'chanc', 'plus', 'succ', 'stb'], ['bravo', 'bravo', 'bravo'], ['bravoooo', 'etc'], ['plus', 'bel', 'transact'], ['transparent', 'bon', 'accueil'], ['succursal', 'al', 'jaze', 'tun'], ['meilleur', 'entrepris', 'tunisien', 'banqu', 'salut', 'a', 'equip', 'succursal', 'nabeul'], ['dieu', 'accord', 'succ'], ['merc', 'viv', 'deuxiem', 'mer', 'b'], ['bon', 'f', 'merc'], ['merc', 'bien'], ['merc', 'beaucoup'], ['avous', 'mer', 'auss'], ['tout', 'amour', 'appreci', 'mer', 'peupl', 'mornagui', 'nouveau'], ['merc'], ['merc'], ['societ', 'tunisien'], ['banqu', 'si', 'dieu', 'veut'], ['rejoindron'], ['si', 'dieu', 'veut'], ['recevron', 'install'], ['dieu', 'ben', 'seigneur'], ['pla'], ['autr', 'bq', 'amlin', 'cadeau', 'mer', 'w', 'ahna'], ['mercii', 'stb', 'client', 'depuis'], ['chaqu', 'anne'], ['tout', 'mer', 'vont', 'bien'], ['pouvon', 'demand', 'pend', 'dehor', 'tunis'], ['candidatur', 'a', 'introduit', 'anglais', 'arab', 'toujour', 'fran', 'ais', 'seul'], ['dieu', 'proteg', 'accord', 'succ'], ['miser', 'banqu', 'servic', 'zero', 'branch', 'medenin', 'parl'], ['cart', 'bancair', 'vis', 'electron'], ['puis', 'utilis', 'cet', 'appliqu', 'sach', 'cart', 'a', 'ete', 'extrait', 'a', 'an'], ['salut'], ['a', 'traver'], ['a', 'tous', 'employ', 'succursal', 'doz', 'accueil'], ['servic', 'fluidit', 'transact', 'a', 'tre', 'haut', 'moralit', 'tous', 'remerci'], ['respect', 'appreci'], ['societ', 'bancair', 'tunisien'], ['fourn', 'toujour', 'a', 'client', 'meilleur', 'servic'], ['merc'], ['bravo', 'stb', 'cas', 'pert'], ['lecteur', 'nfc', 'disponibl'], ['appareil', 'disponibl', 'petit', 'comm', 'ant', 'caf'], ['remerci', 'particuli', 'a', 'filial', 'al', 'jaze', 'tun'], ['cart', 'du', 'validit', 'a', 'expir', 'nouvel', 'cart', 'arrive'], ['bravo', 'stb', 'medin', 'branch'], ['bizert'], ['tech', 'morh', 'snin', 'w', 'mich', 'securis'], ['bravo', 'stb'], ['ide', 'a', 'about'], ['car', 'prend', 'form', 'perdr'], ['dit'], ['normal'], ['ayman'], ['chef', 'branch', 'flux'], ['dieu', 'pit', 'enfant'], ['tout', 'mond', 'aim', 'educ', 'trait', 'bon', 'client'], ['seigneur'], ['cart', 'bancair', 'aimon', 'con', 'tre', 'al', 'soulad'], ['veut', 'tre', 'soign'], ['bravo', 'stb', 'bank'], ['bravo', 'stb'], ['bravo', 'stb'], [], ['bon', 'anne', 'joyeux', 'eid', 'a', 'tous', 'salut', 'special', 'reconnaiss', 'a', 'tous', 'pneus', 'agent', 'branch', 'ras', 'al', 'jabal'], ['chaqu', 'anne'], ['tre', 'bon'], ['employ', 'societ', 'bancair', 'tunisien', 'font', 'grand', 'effort', 'tout', 'succursal', 'tous', 'remerci'], ['appreci', 'respect', 'sais', 'tre', 'bien', 'deux', 'succursal', 'tataouin', 'ghamrassen', 'meilleur', 'salut', 'appreci', 'leur', 'bon', 'manier', 'devou', 'travail', 'parol', 'courtois', 'realit', 'comprend', 'bien', 'bon', 'chanc', 'a', 'tous'], ['bon', 'chanc'], ['si', 'dieu', 'veut'], ['joyeux', 'eid'], ['nombreux', 'anne', 'salut', 'special', 'personnel', 'succursal', 'enfidh'], ['bienheur', 'eid'], ['joyeux', 'eid', 'salut', 'gratitud', 'appreci', 'employ', 'stb'], ['joyeux', 'eid', 'mubarak', 'awan', 'branch', 'sbeitl'], ['mois', 'mar', 'qosito', 'non'], ['dieu', 'ben'], ['felicit', 'toujour', 'anne'], ['promet'], ['felicit'], ['seigneur'], ['cherch', 'aid'], ['balah', 'star', 'travaillon', 'a', 'planifi'], ['quant', 'a', 'mois'], ['rentr', 'a', 'qarud'], ['aslam', 'bal', 'branch', 'tap'], ['si', 'plein', 'feu', 'secou', 'telephon', 'comprehensibl'], ['ver', 'post', 'comment', 'comment', 'temp'], ['joyeux', 'eid'], ['bon', 'anne', 'salut', 'special', 'personnel', 'succursal', 'tozeur'], ['bonjour'], ['servic'], ['chaqu', 'anne'], ['pur'], ['heureux'], ['ur', 'blanc', 'visag', 'brill', 'souri'], ['chaqu', 'anne'], ['securit'], ['securit', 'satisf'], ['remerci', 'a', 'banqu', 'plus', 'prestigi', 'meilleur', 'benedict', 'dieu', 'felicit'], ['bravo'], ['dieu', 'ben'], ['societ', 'tunisien', 'banqu'], ['tout', 'succursal', 'employ', 'merc', 'special', 'personnel', 'succursal', 'gafs', 'joyeux', 'a', 'bon', 'anne'], ['chaqu', 'anne'], ['vi', 'mill', 'fois', 'bien'], ['meilleur', 'banqu', 'tunis'], ['dernier', 'banqu', 'mois'], ['chaqu', 'anne'], ['vas', 'bien'], ['don', 'pr', 't', 'a', 'professeur', 'peignent', 'toujour'], ['felicit'], ['an', 'client', 'banqu', 'tunisien', 'banqu'], ['succursal', 'hajeb', 'el', 'ayoun'], ['gouvernorat', 'kairouan', 'sach', 'societ', 'a', 'parrain', 'renouvel', 'celui', 'ci', 'aupr', 'derni', 'distributeur'], ['bienheur', 'eid'], ['demain', 'samed', 'jour', 'travail', 'banqu', 'stb', 'non', 'merc'], ['felicit'], ['question', 'tawo', 'roug', 'doubl', 'salar'], ['auquel', 'don', 'stb', 'comment', 'enqu', 'ter', 'bash'], ['doubl', 'roug', 'deced', 'juin', 'tout', 'person'], ['sinon', 'pr', 'six', 'mois', 'rest', 'doubl', 'roug', 'jusqu', 'octobr'], ['perform', 'retr', 'tant', 'distribu', 'subvent', 'social'], ['felicit'], ['tunisien'], ['tout', 'mond'], ['bravo', 'stb'], ['etc'], ['hal', 'compt', 'andi', 'mois', 'w', 'taw', 'cart', 'banquier', 'mahdhret', 'fi', 'agenc', 'nabeul', 'a', 'cot', 'agenc', 'ittijar', 'bank'], ['toujour'], ['societ', 'tunisien', 'banqu'], ['contrair', 'a', 'banqu', 'central'], ['mer', 'banqu', 'tunisien'], ['dirige', 'lotf', 'al', 'dabbab'], ['dieu', 'gard', 'servic', 'pay', 'cet', 'cher', 'banqu', 'bienheur', 'eid'], ['merc', 'lotf', 'effort', 'ruin', 'institu'], ['stimul', 'econom', 'mainten', 'main', 'uvre'], ['merc', 'dieu', 'ben'], ['merc', 'effort'], ['bon', 'chanc', 'a', 'tous'], ['effort'], ['offre', 'exerce'], ['stand', 'lien', 'person', 'grand', 'mer', 'entrepris', 'tunisien', 'banqu', 'a', 'toujour', 'ete', 'humain', 'condit', 'plus', 'difficil'], ['toujour', 'succ'], ['question', 'narrat', 'etait', 'repondu', 'seigneur'], ['alor', 'compr'], ['alor', 'quel', 'punit', 'pr', 'juin'], ['question', 'bahah', 'numro', 'cart', 'bancair', 'fait', 'endommag', 'sponsor'], ['servic', 'quelqu', 'agenc', 'nul'], ['abit', 'ne', 'elkom', 'salar', 'leur', 'salair', 'dep', 'dinar', 'bech', 'osouln', 'mois', 'juin', 'nn'], ['ressembl'], [], ['entrepris', 'accept', 'dieu', 'faveur', 'act'], ['cel', 'rest', 'fiert', 'soutien'], ['si', 'dieu', 'veut'], ['accept', 'remuner', 'pardonne', 'tous', 'pneus', 'employ', 'societ', 'tunisien', 'banqu'], ['dirige', 'directeur', 'general', 'lotf', 'debab', 'oublion', 'succursal', 'jendoub', 'bon', 'anne'], ['oh', 'dieu'], ['amen'], ['seigneur', 'mond'], ['auss'], ['merc'], ['dign', 'confianc'], ['merc', 'beaucoup', 'a', 'societ', 'tunisien', 'banqu', 'servic', 'haut', 'qualit', 'offre', 'a', 'client', 'a', 'bienheur', 'eid'], ['dieu', 'accept', 'bon', 'anne'], ['inshallah', 'chaqu', 'anne', 'brech'], ['o', 'allah'], ['plus', 'misericordi', 'plus', 'indulgent'], ['aim', 'pardon', 'ains', 'pardon'], ['bravo', 'stb'], ['bon', 'f'], ['bon', 'anne'], ['bon', 'anne'], ['meilleur', 'v', 'ux', 'heureux', 'nouvel', 'anne'], ['amen']]"
      ]
     },
     "execution_count": 709,
     "metadata": {},
     "output_type": "execute_result"
    }
   ],
   "source": [
    "preprocessed_docs"
   ]
  },
  {
   "cell_type": "markdown",
   "metadata": {},
   "source": [
    "# wordcloud"
   ]
  },
  {
   "cell_type": "markdown",
   "metadata": {},
   "source": [
    "### WordCloud des commentaires"
   ]
  },
  {
   "cell_type": "code",
   "execution_count": 30,
   "metadata": {},
   "outputs": [],
   "source": [
    "stopwords = set(STOPWORDS) "
   ]
  },
  {
   "cell_type": "code",
   "execution_count": 31,
   "metadata": {},
   "outputs": [
    {
     "data": {
      "image/png": "[encoded data removed]",
      "text/plain": [
       "<Figure size 576x576 with 1 Axes>"
      ]
     },
     "metadata": {
      "needs_background": "light"
     },
     "output_type": "display_data"
    }
   ],
   "source": [
    "wordcloud = WordCloud(width = 800, height = 800, \n",
    "                background_color ='white', \n",
    "                stopwords = stopwords, \n",
    "                min_font_size = 10).generate(comment) \n",
    "  \n",
    "# plot the WordCloud image                        \n",
    "plt.figure(figsize = (8, 8), facecolor = None) \n",
    "plt.imshow(wordcloud) \n",
    "plt.axis(\"off\") \n",
    "plt.tight_layout(pad = 0) \n",
    "  \n",
    "plt.show() "
   ]
  },
  {
   "cell_type": "markdown",
   "metadata": {},
   "source": [
    "### WordCloud des posts"
   ]
  },
  {
   "cell_type": "code",
   "execution_count": 32,
   "metadata": {},
   "outputs": [
    {
     "name": "stderr",
     "output_type": "stream",
     "text": [
      "C:\\Users\\SELON\\Anaconda3\\envs\\PythonGPU\\lib\\site-packages\\ipykernel_launcher.py:7: SettingWithCopyWarning: \n",
      "A value is trying to be set on a copy of a slice from a DataFrame\n",
      "\n",
      "See the caveats in the documentation: http://pandas.pydata.org/pandas-docs/stable/user_guide/indexing.html#returning-a-view-versus-a-copy\n",
      "  import sys\n"
     ]
    }
   ],
   "source": [
    "#df3.comments=[]\n",
    "df3=df2\n",
    "ll=[]\n",
    "p=0\n",
    "for i in range(len(df2.content)):    \n",
    "    l=[]\n",
    "    df3.content[i]=(preprocessed_docs2[i])"
   ]
  },
  {
   "cell_type": "code",
   "execution_count": 33,
   "metadata": {},
   "outputs": [],
   "source": [
    "posts=\"\"\n",
    "#for i in range(len(df3)):\n",
    "for j in df3['content']:\n",
    "    posts+=\" \"+str(j)"
   ]
  },
  {
   "cell_type": "code",
   "execution_count": 34,
   "metadata": {},
   "outputs": [],
   "source": [
    "stopwords2 = set(STOPWORDS) "
   ]
  },
  {
   "cell_type": "code",
   "execution_count": 35,
   "metadata": {},
   "outputs": [
    {
     "data": {
      "image/png": "[encoded data removed]",
      "text/plain": [
       "<Figure size 576x576 with 1 Axes>"
      ]
     },
     "metadata": {
      "needs_background": "light"
     },
     "output_type": "display_data"
    }
   ],
   "source": [
    "wordcloud2 = WordCloud(width = 800, height = 800, \n",
    "                background_color ='white', \n",
    "                stopwords = stopwords2, \n",
    "                min_font_size = 10).generate(posts) \n",
    "  \n",
    "# plot the WordCloud image                        \n",
    "plt.figure(figsize = (8, 8), facecolor = None) \n",
    "plt.imshow(wordcloud2) \n",
    "plt.axis(\"off\") \n",
    "plt.tight_layout(pad = 0) \n",
    "  \n",
    "plt.show() "
   ]
  },
  {
   "cell_type": "markdown",
   "metadata": {},
   "source": [
    "### good vs bad reacts"
   ]
  },
  {
   "cell_type": "code",
   "execution_count": 36,
   "metadata": {},
   "outputs": [
    {
     "name": "stdout",
     "output_type": "stream",
     "text": [
      "2090\n",
      "119\n"
     ]
    }
   ],
   "source": [
    "good=0\n",
    "bad=0\n",
    "for i in range(len(df3)):\n",
    "    good+=df3.good[i]\n",
    "    \n",
    "    bad+=df3.bad[i]\n",
    "print(good)\n",
    "print(bad)"
   ]
  },
  {
   "cell_type": "code",
   "execution_count": 37,
   "metadata": {},
   "outputs": [
    {
     "data": {
      "image/png": "[encoded data removed]",
      "text/plain": [
       "<Figure size 432x288 with 1 Axes>"
      ]
     },
     "metadata": {},
     "output_type": "display_data"
    }
   ],
   "source": [
    "# Data to plot\n",
    "labels = 'good','bad'\n",
    "sizes = [good,bad]\n",
    "colors = ['blue', 'red']\n",
    "explode = (0.1, 0)  # explode 1st slice\n",
    "\n",
    "# Plot\n",
    "plt.pie(sizes, explode=explode, labels=labels, colors=colors,\n",
    "autopct='%1.1f%%', shadow=True, startangle=140)\n",
    "\n",
    "plt.axis('equal')\n",
    "plt.show()"
   ]
  },
  {
   "cell_type": "code",
   "execution_count": 916,
   "metadata": {
    "collapsed": true,
    "jupyter": {
     "outputs_hidden": true
    }
   },
   "outputs": [
    {
     "name": "stdout",
     "output_type": "stream",
     "text": [
      "0 a\n",
      "1 bancair\n",
      "2 cart\n",
      "3 ete\n",
      "4 etendu\n",
      "5 comm\n",
      "6 dit\n",
      "7 apre\n",
      "8 brutal\n",
      "9 pret\n",
      "10 suppress\n"
     ]
    }
   ],
   "source": [
    "dictionary = gensim.corpora.Dictionary(preprocessed_docs)\n",
    "count = 0\n",
    "for k, v in dictionary.iteritems():\n",
    "    print(k, v)\n",
    "    count += 1\n",
    "    if count > 10:\n",
    "        break"
   ]
  },
  {
   "cell_type": "code",
   "execution_count": 956,
   "metadata": {},
   "outputs": [
    {
     "name": "stdout",
     "output_type": "stream",
     "text": [
      "client\n"
     ]
    }
   ],
   "source": []
  },
  {
   "cell_type": "code",
   "execution_count": 917,
   "metadata": {},
   "outputs": [],
   "source": [
    "bow_corpus = [dictionary.doc2bow(doc) for doc in preprocessed_docs]"
   ]
  },
  {
   "cell_type": "code",
   "execution_count": 611,
   "metadata": {
    "collapsed": true,
    "jupyter": {
     "outputs_hidden": true
    }
   },
   "outputs": [
    {
     "data": {
      "text/plain": [
       "[[(0, 1), (1, 1), (2, 1), (3, 1), (4, 1)], [(5, 1), (6, 1)], [(7, 1), (8, 1), (9, 1), (10, 1)], [(0, 2), (3, 1), (11, 1), (12, 1), (13, 1), (14, 1), (15, 1), (16, 1), (17, 1), (18, 1), (19, 1), (20, 1), (21, 1), (22, 1), (23, 1)], [(0, 1), (24, 1), (25, 1), (26, 1), (27, 1), (28, 1), (29, 1)], [(7, 1), (11, 1), (14, 1), (30, 1), (31, 1), (32, 1)], [(0, 2), (11, 2), (33, 2), (34, 1), (35, 1), (36, 1), (37, 1), (38, 1), (39, 1), (40, 1), (41, 1), (42, 1), (43, 1)], [(44, 1), (45, 1), (46, 1), (47, 1)], [(48, 1), (49, 1), (50, 1)], [(51, 1)], [(0, 1), (9, 1), (52, 1), (53, 1), (54, 1), (55, 1)], [(56, 1), (57, 1), (58, 1)], [(59, 1), (60, 1), (61, 1), (62, 1), (63, 1), (64, 1)], [(11, 1), (27, 1), (65, 1)], [(0, 1), (3, 1), (9, 1), (55, 1), (66, 1), (67, 1), (68, 1), (69, 1), (70, 1), (71, 1)], [(72, 1), (73, 1)], [(9, 1), (55, 1), (74, 1)], [(0, 2), (43, 1), (75, 1), (76, 1), (77, 1)], [(0, 1), (75, 1), (76, 1), (77, 1), (78, 1)], [(75, 1), (76, 1), (78, 1)], [(75, 1), (76, 1)], [(79, 1)], [(0, 1), (51, 1), (77, 1), (80, 1), (81, 1), (82, 1)], [(72, 1), (83, 1), (84, 1), (85, 1)], [(9, 1)], [(0, 1), (75, 1), (76, 1), (77, 1), (86, 1), (87, 1)], [(88, 1)], [(0, 1), (75, 1), (76, 1), (77, 1)], [(9, 1), (89, 1), (90, 1)], [(88, 1)], [(75, 1), (76, 1), (91, 1)], [(0, 1), (92, 1)], [(93, 1), (94, 1), (95, 1), (96, 1), (97, 1)], [(72, 1), (75, 1), (83, 1), (98, 1)], [(9, 1), (97, 1), (99, 1)], [(0, 1), (75, 1), (76, 1), (77, 1), (87, 1)], [(100, 1), (101, 1)], [(0, 1), (102, 1), (103, 1), (104, 1)], [(105, 1), (106, 1), (107, 1), (108, 1), (109, 1), (110, 1)], [(0, 1), (11, 1), (111, 1), (112, 1), (113, 1), (114, 1)], [(0, 1), (11, 1), (17, 1), (59, 1), (62, 1), (115, 1), (116, 1), (117, 1), (118, 1), (119, 1), (120, 1), (121, 1)], [(72, 1), (122, 1), (123, 1)], [(0, 1), (124, 1), (125, 1), (126, 1), (127, 1)], [(77, 1), (116, 1), (128, 1)], [(11, 1), (129, 1), (130, 1), (131, 1), (132, 1), (133, 1), (134, 1)], [(46, 1), (135, 1)], [(136, 1)], [(6, 1), (9, 1), (72, 1), (83, 1), (137, 1), (138, 1), (139, 1), (140, 1), (141, 1)], [(71, 1), (94, 1), (142, 1), (143, 1), (144, 1)], [(0, 1), (11, 1), (77, 1), (145, 1), (146, 1)], [(63, 1), (147, 1), (148, 1), (149, 1), (150, 1), (151, 1)], [(9, 1), (152, 1), (153, 1), (154, 1)], [(39, 1), (43, 1), (155, 1), (156, 1)], [(0, 1), (6, 1), (11, 1), (13, 1), (22, 1), (23, 1), (25, 1), (38, 1), (72, 1), (132, 1), (157, 1)], [(0, 1), (46, 1), (56, 1), (158, 1), (159, 1), (160, 1)], [(11, 1), (95, 1)], [(136, 1)], [(11, 1), (95, 1)], [(0, 1), (3, 1), (9, 1), (12, 1), (161, 1), (162, 1), (163, 1), (164, 1), (165, 1), (166, 1), (167, 1)], [(5, 1), (168, 1)], [(0, 2), (11, 1), (13, 1), (23, 1), (24, 1), (41, 1), (46, 1), (169, 1), (170, 1), (171, 1), (172, 1), (173, 1), (174, 1), (175, 1)], [(24, 1), (123, 1), (157, 1)], [(176, 1), (177, 1), (178, 1), (179, 1)], [], [(0, 2), (2, 1), (68, 1), (117, 2), (180, 1), (181, 1), (182, 1)], [(7, 1), (183, 1), (184, 1)], [(0, 1), (121, 1)], [(71, 1), (185, 1), (186, 1), (187, 1)], [(188, 1)], [(189, 1), (190, 1)], [(191, 1), (192, 1), (193, 1), (194, 1)], [(150, 1), (151, 1), (195, 1), (196, 1)], [(197, 1)], [(6, 1), (9, 1), (55, 1), (89, 1), (198, 1), (199, 1)], [(17, 1), (39, 1), (43, 1), (200, 1), (201, 1), (202, 1), (203, 1), (204, 1), (205, 1)], [(6, 1), (72, 1), (206, 1)], [(38, 1)], [(207, 1), (208, 1), (209, 1), (210, 1), (211, 1)], [(11, 1), (95, 1), (212, 1)], [(0, 1), (3, 1), (13, 1), (213, 1), (214, 1), (215, 1), (216, 1), (217, 1), (218, 1)], [(72, 1)], [(0, 1), (3, 1), (52, 1), (144, 1), (219, 1), (220, 1), (221, 1), (222, 1), (223, 1)], [(9, 1), (75, 1), (224, 1)], [(225, 1), (226, 1)], [(72, 1), (155, 1), (227, 1), (228, 1)], [(72, 1), (229, 1), (230, 1), (231, 1), (232, 1), (233, 1)], [(234, 1), (235, 1), (236, 1)], [(186, 1), (237, 1)], [(233, 1)], [(51, 1), (77, 1), (200, 1), (238, 1), (239, 1)], [(51, 1), (240, 1)], [(241, 1), (242, 1)], [(3, 1), (11, 1), (17, 1), (33, 1), (41, 1), (51, 1), (243, 1), (244, 1), (245, 1)], [(124, 1), (127, 1), (194, 1), (246, 1), (247, 1), (248, 1), (249, 1), (250, 1), (251, 1)], [(11, 1), (22, 1), (23, 1), (77, 1), (100, 1), (135, 1), (252, 1), (253, 1), (254, 1), (255, 1)], [(51, 1), (80, 1), (82, 1)], [(0, 1), (9, 1), (48, 1), (72, 1), (256, 1), (257, 1), (258, 1), (259, 1)], [(256, 1), (260, 1), (261, 1)], [(51, 1)], [(0, 1), (6, 1), (9, 1), (11, 1), (68, 1), (70, 1), (72, 3), (166, 1), (186, 1), (259, 1), (260, 1), (261, 1), (262, 1), (263, 1), (264, 1), (265, 1), (266, 2), (267, 1), (268, 1), (269, 2)], [(0, 1), (11, 1), (46, 1), (75, 1), (76, 1), (77, 1), (270, 1)], [(0, 1), (9, 1), (11, 1), (144, 1), (166, 1), (271, 1), (272, 1), (273, 1), (274, 1), (275, 1), (276, 1), (277, 1)], [(278, 1)], [(0, 1), (69, 1), (72, 1), (279, 1)], [(5, 1), (12, 1), (63, 1), (72, 1), (174, 1), (280, 1), (281, 1), (282, 1), (283, 1)], [(0, 1), (72, 1), (284, 1), (285, 1), (286, 1)], [(0, 1), (39, 1), (43, 1), (94, 1), (194, 1), (287, 1)], [(9, 1), (55, 1), (288, 1)], [(124, 1), (127, 1), (289, 1)], [(74, 1)], [(6, 1)], [(290, 1)], [(9, 1), (83, 1), (291, 1), (292, 1), (293, 1)], [(51, 1), (141, 1), (294, 1)], [(295, 1)], [(39, 1), (88, 1), (285, 1)], [(72, 1), (100, 1), (122, 1), (296, 1), (297, 1)], [(298, 1), (299, 1), (300, 1)], [(9, 1), (72, 1), (92, 1), (99, 1), (301, 1), (302, 1), (303, 1), (304, 1), (305, 1)], [(306, 1), (307, 1), (308, 1)], [(203, 1)], [(13, 1), (302, 1), (309, 1)], [(72, 1), (186, 1), (288, 1), (310, 1)], [(0, 1), (9, 1), (155, 1), (181, 1), (258, 1), (311, 1), (312, 1), (313, 1)], [(275, 1), (314, 1), (315, 1), (316, 1)], [(88, 1), (317, 1), (318, 1)], [(319, 1), (320, 1)], [(0, 1), (6, 1), (41, 1), (63, 1), (72, 1), (151, 1), (321, 1), (322, 1), (323, 1)], [(13, 1), (70, 1), (72, 2), (121, 1), (205, 1), (272, 1), (324, 1), (325, 1), (326, 1), (327, 1), (328, 1), (329, 1)], [(330, 1)], [(6, 1), (9, 1), (117, 1), (155, 1), (331, 1)], [(13, 1), (100, 1), (143, 1), (332, 1), (333, 1)], [(9, 1), (70, 1), (334, 1)], [(335, 1), (336, 1)], [(99, 1), (155, 1), (333, 1)], [(68, 1), (88, 1), (337, 1), (338, 1), (339, 1)], [(340, 1)], [(17, 1), (201, 1), (230, 1), (341, 1), (342, 1), (343, 1), (344, 1)], [(11, 1), (23, 1), (72, 1), (77, 1), (161, 1), (170, 1), (345, 1), (346, 1)], [(81, 1)], [(89, 1), (198, 1)], [(0, 2), (9, 1), (63, 1), (271, 1), (347, 1), (348, 1), (349, 1)], [(0, 1), (9, 1), (55, 1), (66, 1), (72, 1), (239, 1), (342, 1), (350, 1), (351, 1)], [(352, 1)], [(0, 1), (353, 1), (354, 1), (355, 1)], [(51, 1), (356, 1)], [(3, 1), (9, 1), (52, 2), (55, 1), (357, 1), (358, 1), (359, 1)], [(26, 1), (56, 1), (93, 1), (360, 1)], [(6, 1), (7, 1), (9, 1), (361, 1)], [(156, 1), (265, 1)], [(38, 1), (72, 1), (251, 1), (362, 1)], [(0, 2), (9, 2), (89, 1), (363, 1), (364, 1), (365, 1), (366, 1), (367, 1)], [(0, 1), (3, 1), (9, 1), (100, 1), (301, 1), (368, 1), (369, 1), (370, 1)], [(371, 1), (372, 1)], [(9, 1), (50, 1), (158, 1), (254, 1), (260, 1), (261, 1), (373, 1), (374, 1), (375, 1), (376, 1)], [(0, 1), (315, 1), (357, 1), (377, 1), (378, 1)], [(21, 1), (215, 1), (379, 1)], [(0, 1), (41, 1), (380, 1), (381, 1), (382, 1)], [(41, 1), (240, 1), (383, 1)], [(203, 1)], [(290, 1), (384, 1)], [(203, 1)], [(7, 1), (196, 1), (290, 1), (385, 1), (386, 1)], [(72, 1), (202, 1), (243, 1)], [(387, 1)], [(72, 1), (83, 1), (388, 1), (389, 1), (390, 1)], [(0, 1), (9, 1), (11, 1), (55, 1), (72, 1), (88, 1), (201, 1), (239, 1), (391, 1), (392, 1), (393, 1)], [(295, 1)], [(30, 1), (394, 1), (395, 1)], [(6, 1), (141, 1)], [(396, 1), (397, 1)], [(81, 1), (285, 1)], [(2, 1), (63, 1), (232, 1), (398, 1), (399, 1), (400, 1)], [(401, 1), (402, 1), (403, 1)], [(0, 1), (12, 1), (15, 1), (186, 1), (404, 1), (405, 1)], [(290, 1)], [(0, 1), (189, 1), (256, 1), (406, 1)], [(193, 1), (407, 1)], [(0, 2), (56, 1), (210, 1), (258, 1), (408, 1), (409, 1), (410, 1), (411, 1)], [(6, 1), (271, 1), (412, 1)], [(9, 1), (88, 1), (240, 1)], [(378, 1)], [(6, 1)], [(290, 1), (413, 1)], [(89, 1), (219, 1), (414, 1), (415, 1), (416, 1)], [(205, 1), (227, 1), (417, 1), (418, 1), (419, 1), (420, 1), (421, 1)], [(0, 2), (201, 1), (290, 1), (422, 1), (423, 1), (424, 1), (425, 1)], [(0, 1), (183, 1), (426, 1), (427, 1)], [(88, 1)], [(203, 1)], [(6, 1), (9, 1), (72, 1), (428, 1)], [(72, 1), (232, 1)], [(51, 1)], [(186, 1), (429, 1)], [(0, 1), (6, 1), (70, 1), (72, 1), (263, 1), (265, 1), (415, 1), (430, 1), (431, 1), (432, 1)], [(322, 1), (433, 1)], [(196, 1), (434, 1), (435, 1), (436, 1), (437, 1), (438, 1), (439, 1), (440, 1), (441, 1), (442, 1), (443, 1), (444, 1), (445, 1), (446, 1), (447, 1), (448, 1), (449, 1), (450, 1), (451, 2), (452, 1), (453, 1)], [(41, 1), (212, 1), (256, 1), (454, 1), (455, 1), (456, 1), (457, 1), (458, 1)], [(459, 1)], [(460, 1)], [(9, 1), (11, 1), (33, 1), (55, 1), (272, 1), (461, 1)], [(457, 1)], [(51, 1)], [(290, 1)], [(9, 1), (33, 1), (462, 1)], [(463, 1), (464, 1)], [(75, 1), (141, 1), (465, 1), (466, 1), (467, 1), (468, 1)], [(75, 1), (465, 1), (467, 1)], [(75, 1), (469, 1)], [(316, 1), (385, 1), (470, 1)], [(0, 2), (11, 2), (13, 1), (22, 1), (23, 1), (224, 1), (471, 1), (472, 1), (473, 1), (474, 1)], [(475, 1), (476, 1)], [(72, 1), (477, 1)], [(13, 1), (50, 1), (308, 1), (354, 1), (478, 1), (479, 1), (480, 1), (481, 1), (482, 1), (483, 1)], [(408, 1)], [(338, 1), (466, 1)], [(68, 1), (243, 1), (484, 1)], [(0, 1), (46, 1), (50, 1), (174, 1), (485, 1), (486, 1), (487, 1), (488, 1), (489, 1), (490, 1), (491, 1)], [(24, 1), (41, 1), (465, 1), (492, 1), (493, 1)], [(75, 1), (76, 1)], [(51, 1), (141, 1), (294, 1)], [(11, 1), (75, 2), (95, 2), (467, 1), (469, 1), (494, 1)], [(11, 1), (22, 1), (23, 1), (121, 1)], [(333, 1), (495, 1)], [(214, 1), (496, 1), (497, 1)], [(27, 1), (41, 1), (121, 1), (123, 1), (498, 1), (499, 1)], [(68, 1), (214, 1), (252, 1), (497, 1), (500, 1), (501, 1)], [(121, 1), (123, 1), (460, 1), (466, 1)], [(0, 2), (77, 1), (145, 1), (146, 1), (275, 1)], [(254, 1)], [(502, 1)], [(503, 1), (504, 1), (505, 1)], [(1, 1), (22, 1), (23, 1), (43, 1), (145, 1), (254, 1), (506, 1)], [(24, 1), (177, 1), (507, 1), (508, 1), (509, 1)], [(0, 2), (11, 1), (13, 1), (27, 1), (46, 2), (75, 2), (76, 1), (77, 1), (95, 1), (121, 1), (179, 1), (253, 1), (497, 1), (510, 1), (511, 1), (512, 1), (513, 1), (514, 1)], [(77, 1), (253, 1), (401, 1), (515, 1)], [(11, 1), (22, 1), (23, 1), (121, 1)], [(214, 1), (516, 1), (517, 1)], [(46, 1), (121, 1), (466, 1), (513, 1)], [(518, 1), (519, 1)], [(46, 1), (135, 1), (275, 1), (520, 1)], [(75, 1), (141, 1), (468, 1), (521, 1), (522, 1)], [(146, 1)], [(124, 1), (127, 1), (203, 1), (523, 1)], [(72, 1), (206, 1), (524, 1)], [(9, 1), (525, 1)], [(0, 1), (6, 1), (11, 1), (72, 1), (265, 1), (279, 1), (312, 1), (526, 1), (527, 1)], [(9, 1), (11, 1), (52, 1), (74, 1), (90, 1), (124, 1), (127, 1), (338, 1), (455, 1)], [(74, 1), (528, 1)], [(205, 1), (288, 1)], [(17, 2), (41, 1), (529, 1), (530, 1)], [(428, 1)], [(56, 1), (255, 1), (531, 1), (532, 1)], [(468, 1), (533, 1)], [(534, 1), (535, 1), (536, 1)], [(9, 1)], [(537, 1), (538, 1)], [(41, 1), (383, 1)], [(0, 1), (146, 1), (193, 1), (539, 1)], [(136, 1)], [(51, 1), (75, 1), (214, 1), (540, 1), (541, 1)], [(75, 1), (467, 1)], [(0, 1), (9, 2), (38, 1), (55, 2), (72, 1), (163, 1), (206, 1), (357, 1), (398, 1), (542, 1), (543, 1), (544, 1), (545, 1), (546, 1), (547, 1)], [(0, 1), (548, 1)], [(51, 1)], [(0, 1), (3, 1), (11, 1), (212, 1), (372, 1), (549, 1)], [(13, 1)], [(72, 1), (298, 1)], [(46, 1)], [(77, 1), (118, 1), (135, 1), (253, 1), (494, 1)], [(17, 1), (189, 1), (550, 1), (551, 1)], [(123, 1)], [(0, 1), (66, 1), (205, 1), (517, 1), (552, 1), (553, 1)], [(130, 1), (158, 1)], [(17, 1), (46, 1), (554, 1)], [(227, 1)], [(0, 2), (20, 1), (166, 1), (555, 1), (556, 1)], [(88, 1)], [(0, 1), (3, 1), (9, 1), (19, 1), (55, 1), (415, 1), (464, 1), (557, 1), (558, 1), (559, 1), (560, 1), (561, 1), (562, 1)], [(0, 1), (146, 1), (193, 1), (563, 1)], [(233, 1), (564, 1), (565, 1), (566, 1)], [(0, 1), (12, 1), (15, 1), (567, 1), (568, 1), (569, 1), (570, 1)], [], [(9, 1), (63, 1), (72, 1), (229, 1), (571, 1)], [(89, 1), (166, 1), (203, 1), (572, 1), (573, 1)], [(574, 1), (575, 1), (576, 1), (577, 1), (578, 1), (579, 1), (580, 1), (581, 1)], [(72, 1), (194, 1), (327, 1)], [(140, 1), (183, 1), (582, 1), (583, 1), (584, 1)], [], [(88, 1)], [], [(0, 1), (1, 1), (2, 1), (41, 1), (47, 1), (227, 1)], [(585, 1)], [(88, 1)], [(586, 1)], [(92, 1)], [(2, 1), (459, 1), (587, 1)], [(141, 1), (186, 1)], [(186, 1), (588, 1)], [(2, 1), (31, 1), (41, 1), (589, 1), (590, 1)], [(88, 1)], [(0, 2), (9, 1), (68, 1), (72, 1), (80, 1), (142, 1), (255, 1), (591, 1), (592, 1)], [(121, 1), (498, 1), (593, 1)], [(6, 1), (9, 1), (72, 1), (206, 1), (560, 1), (594, 1)], [(9, 1), (140, 1), (291, 1), (595, 1), (596, 1)], [(513, 1), (597, 1), (598, 1), (599, 1)], [(51, 1)], [(0, 1), (9, 1), (55, 1), (156, 1), (186, 1), (263, 1), (313, 1), (520, 1), (547, 1), (600, 1)], [(308, 1), (485, 1)], [(46, 1)], [(41, 1), (43, 1), (465, 1), (601, 1), (602, 1)], [(46, 1), (75, 1), (76, 1), (520, 1)], [(75, 1), (82, 1), (92, 1)], [(51, 1), (141, 1), (294, 1)], [(121, 1), (157, 1), (177, 1), (530, 1), (603, 1), (604, 1), (605, 1)], [(121, 1), (146, 1), (253, 1), (520, 1), (606, 1), (607, 1)], [(0, 1), (46, 1), (177, 1), (193, 1), (507, 1), (508, 1), (530, 1), (608, 1)], [(0, 1), (46, 1), (520, 1), (609, 1), (610, 1), (611, 1)], [(0, 1), (77, 1), (253, 1), (604, 1), (609, 1)], [(598, 1)], [(75, 1), (540, 1), (612, 1)], [(121, 1), (607, 1), (613, 1)], [(0, 2), (11, 1), (22, 1), (23, 1), (43, 1), (46, 1), (121, 1), (146, 1), (177, 1), (520, 1), (530, 1), (608, 1), (614, 1), (615, 1)], [(11, 1), (17, 2), (41, 1), (46, 1), (212, 1), (616, 1), (617, 1)], [(0, 1), (121, 1), (603, 1), (604, 1), (605, 1)], [(0, 2), (11, 1), (12, 1), (23, 1), (24, 1), (123, 1), (157, 1), (170, 1), (498, 1), (618, 1), (619, 1), (620, 1)], [(43, 1), (254, 1), (401, 1), (494, 1), (611, 1), (621, 1), (622, 1)], [(21, 1), (611, 1), (623, 1), (624, 1), (625, 1)], [(626, 1), (627, 1)], [(628, 1)], [(89, 1), (361, 1), (629, 1), (630, 1)], [(193, 1), (268, 1), (298, 1), (631, 1), (632, 1)], [(0, 1), (9, 1), (17, 1), (63, 1), (72, 1), (208, 1), (263, 1), (633, 1), (634, 1), (635, 1), (636, 1)], [(637, 1)], [(51, 1)], [(638, 1)], [(2, 1), (639, 1)], [(590, 1)], [(640, 1)], [(72, 1), (641, 1)], [(179, 1), (255, 1), (642, 1), (643, 1)], [(9, 1), (11, 2), (13, 1), (24, 1), (33, 1), (55, 1), (249, 1), (270, 1), (272, 1), (384, 1), (597, 1), (644, 1), (645, 1), (646, 1), (647, 1), (648, 1)], [(229, 1)], [(9, 1), (17, 1), (232, 1), (349, 1), (649, 1)], [(66, 1), (650, 1), (651, 1)], [(652, 1), (653, 1)], [(141, 1), (401, 1), (618, 1), (654, 1)], [(90, 1), (588, 1), (655, 1), (656, 1)], [(143, 1), (189, 1), (210, 1), (322, 1), (657, 1)], [(46, 1), (189, 1), (280, 1), (658, 1), (659, 1), (660, 1)], [(0, 1), (51, 1), (134, 1)], [(33, 1), (43, 1), (62, 1), (100, 1), (145, 1), (200, 1), (227, 1), (424, 1)], [(72, 1), (232, 1)], [(202, 1), (275, 1), (314, 1)], [(0, 1), (11, 1), (17, 1), (39, 1), (41, 2), (52, 2), (219, 1), (301, 1), (616, 1), (661, 1), (662, 1), (663, 1), (664, 1), (665, 1)], [(9, 1), (351, 1), (464, 1), (489, 1), (560, 1)], [(9, 1), (67, 1), (72, 1), (141, 1), (351, 1), (560, 1)], [(41, 1), (465, 1)], [(75, 2), (255, 1), (467, 1), (666, 1)], [(75, 1), (467, 1)], [(41, 1), (465, 1)], [(0, 1), (41, 1), (275, 1), (465, 1), (667, 1)], [(41, 1), (75, 1), (467, 1)], [(536, 1), (668, 1), (669, 1), (670, 1)], [(41, 1), (465, 1)], [(75, 1), (522, 1)], [(17, 1), (41, 1), (75, 1), (76, 1), (82, 1)], [(465, 3)], [(671, 1), (672, 1)], [(17, 1), (612, 1), (673, 1)], [(75, 1), (496, 1), (674, 1)], [(121, 1), (401, 1), (675, 1), (676, 1)], [(0, 1), (11, 1), (23, 1), (95, 1), (121, 1), (146, 1), (170, 1), (677, 1), (678, 1)], [(51, 1), (80, 1), (82, 1)], [(46, 1), (668, 1), (679, 1), (680, 1), (681, 1)], [(46, 1), (75, 1), (314, 1)], [(46, 1), (335, 1)], [(46, 1), (682, 1)], [(680, 1), (683, 1), (684, 1)], [(43, 1), (53, 1), (609, 1), (680, 1), (685, 1), (686, 1), (687, 1)], [(46, 1)], [(46, 1)], [(22, 1), (23, 1)], [(11, 1), (51, 1), (141, 1), (294, 1)], [(688, 1)], [(51, 1), (141, 1), (294, 1)], [(556, 1), (689, 1)], [(51, 1), (88, 1), (337, 1)], [(459, 1)], [(33, 1), (451, 1), (680, 1), (690, 1), (691, 1), (692, 1), (693, 1)], [(13, 1), (41, 1), (398, 1), (694, 1)], [(12, 1), (111, 1)], [(43, 1), (335, 1), (680, 1), (695, 1)], [(137, 1), (212, 1), (316, 1), (664, 1), (696, 1)], [(0, 1), (166, 1), (255, 1), (697, 1), (698, 1), (699, 1), (700, 1), (701, 1), (702, 1)], [(51, 1), (80, 1), (82, 1), (703, 1)], [(11, 1), (193, 1), (327, 1), (608, 1), (704, 1), (705, 1), (706, 1)], [(1, 1), (2, 1), (590, 1), (707, 1)], [(0, 2), (2, 1), (3, 1), (134, 1), (161, 1), (479, 1), (708, 1), (709, 1), (710, 1), (711, 1)], [(146, 1)], [(0, 1), (712, 1)], [(0, 1), (77, 1), (121, 1), (145, 1), (496, 1), (539, 1)], [(0, 1), (77, 1), (517, 1), (530, 1), (604, 1), (608, 1), (612, 1), (651, 1), (713, 1)], [(609, 1), (714, 1)], [(1, 1), (22, 1), (23, 1)], [(0, 1), (13, 1), (95, 1), (255, 1), (608, 1), (715, 1)], [(46, 1)], [(41, 1), (378, 1), (465, 1), (716, 1)], [(717, 1), (718, 1), (719, 1)], [(5, 1), (280, 1), (717, 1), (720, 1), (721, 1), (722, 1)], [(0, 1), (123, 1), (401, 1), (604, 1), (611, 1), (675, 1), (676, 1)], [(0, 1), (2, 2), (510, 1), (723, 1), (724, 1), (725, 1), (726, 1)], [(41, 1), (193, 1), (465, 1), (727, 1)], [(728, 1)], [(451, 1), (729, 1), (730, 1), (731, 1), (732, 1), (733, 1)], [(41, 1), (465, 1)], [(0, 1), (656, 1), (734, 1)], [(735, 1), (736, 1), (737, 1), (738, 1)], [(6, 1)], [(739, 1)], [(740, 1)], [(193, 1), (466, 1), (741, 1)], [(51, 1), (81, 1), (742, 1)], [(13, 1), (39, 1), (43, 1), (75, 1), (200, 1), (541, 1), (743, 1)], [(88, 1)], [(1, 1), (2, 1), (318, 1), (401, 1), (517, 1), (633, 1), (744, 1)], [(294, 1), (517, 1), (745, 1)], [(41, 1), (383, 1), (465, 1)], [(41, 1), (465, 1)], [(41, 1), (465, 1)], [], [(0, 2), (75, 1), (77, 2), (111, 1), (146, 1), (193, 1), (230, 1), (252, 1), (253, 1), (401, 1), (513, 1), (622, 1), (746, 1), (747, 1), (748, 1)], [(12, 1), (111, 1)], [(75, 1), (517, 1)], [(1, 1), (16, 1), (22, 1), (23, 1), (43, 1), (77, 1), (121, 1), (135, 1), (145, 1), (275, 1), (604, 1)], [(0, 1), (75, 2), (76, 1), (77, 1), (95, 1), (121, 1), (146, 1), (176, 1), (179, 1), (298, 1), (335, 2), (360, 1), (517, 1), (540, 1), (609, 2), (714, 1), (749, 1), (750, 1), (751, 1), (752, 1), (753, 1), (754, 1), (755, 1)], [(75, 1), (76, 1)], [(51, 1), (141, 1), (294, 1)], [(230, 1), (747, 1)], [(111, 1), (121, 1), (146, 1), (480, 1), (494, 1), (513, 1), (610, 1)], [(230, 1), (756, 1)], [(41, 1), (145, 1), (146, 1), (230, 1), (609, 1), (747, 1), (757, 1)], [(193, 1), (230, 1), (747, 1), (758, 1), (759, 1), (760, 1)], [(38, 1), (72, 1), (464, 1), (761, 1)], [(51, 1), (337, 1)], [(111, 1), (255, 1), (762, 1)], [(763, 1)], [(762, 1)], [(88, 1)], [(332, 1), (460, 1)], [(0, 1), (283, 1), (764, 1), (765, 1), (766, 1)], [(0, 1), (72, 1), (767, 1)], [(0, 1), (768, 1), (769, 1)], [(193, 1), (770, 1), (771, 1), (772, 1)], [(141, 1), (773, 1), (774, 1), (775, 1), (776, 1), (777, 1)], [(110, 1), (301, 2), (361, 1), (778, 1)], [(230, 1), (747, 1)], [(75, 1), (111, 1), (121, 1), (146, 1), (494, 1), (513, 1), (779, 1)], [(637, 1)], [(608, 1)], [(12, 1), (111, 1)], [(780, 1)], [(411, 1)], [(514, 1), (588, 1), (781, 1), (782, 1), (783, 1)], [(12, 1), (111, 1)], [(784, 1)], [(784, 1), (785, 1)], [(0, 1), (11, 1), (17, 1), (51, 1), (95, 1), (604, 1), (762, 1), (786, 1), (787, 1)], [(465, 1)], [(51, 1), (337, 1)], [(11, 1), (22, 1), (23, 1)], [(0, 1), (43, 1), (46, 1), (75, 1), (111, 1), (121, 2), (145, 1), (494, 1), (513, 1), (747, 1), (788, 1)], [(12, 1), (111, 1)], [(15, 1), (335, 1), (520, 1), (789, 1)], [(11, 1), (95, 1), (212, 1)], [(11, 1), (72, 1), (790, 1)], [(12, 1), (111, 1)], [(335, 1), (791, 1)], [(0, 1), (9, 1), (55, 1), (189, 1), (255, 1), (365, 1), (792, 1)], [(762, 1)], [(11, 2), (13, 1), (23, 1), (161, 1)], [(121, 1), (498, 1), (793, 1), (794, 1)], [(0, 1), (22, 1), (116, 1), (272, 1), (311, 1), (317, 1), (711, 1), (795, 1), (796, 1), (797, 1), (798, 1), (799, 1)], [(230, 1), (756, 1)], [(11, 1), (41, 1), (46, 1), (179, 1), (299, 1), (464, 1), (800, 1), (801, 1)], [(762, 1)], [(20, 1), (133, 1), (205, 1), (227, 1), (802, 1)], [(41, 1), (189, 1), (290, 1), (301, 1), (803, 1), (804, 1), (805, 1)], [(43, 1), (164, 1), (205, 1), (227, 1), (232, 1), (806, 1)], [(9, 1), (72, 1), (205, 1), (209, 1), (227, 1), (259, 1), (307, 1), (312, 1), (807, 1)], [(32, 1), (497, 1), (808, 1), (809, 1), (810, 1), (811, 1)], [(762, 1)], [(23, 1)], [(39, 1), (43, 1)], [(41, 1), (465, 1)], [(672, 1)], [(0, 1), (2, 1), (24, 2), (72, 1), (383, 1), (451, 1), (471, 1), (597, 1), (678, 1), (812, 1), (813, 1), (814, 1), (815, 1), (816, 1), (817, 1), (818, 1)], [(255, 1)], [(11, 1), (22, 1), (23, 1)], [(0, 1), (11, 1), (34, 1), (819, 1)], [(11, 1), (23, 1), (680, 1)], [(401, 1), (468, 1), (618, 1), (820, 1)], [(11, 1), (51, 1), (230, 1), (479, 1), (523, 1), (608, 1), (756, 1), (821, 1), (822, 1)], [(46, 1), (135, 1), (250, 1), (468, 1), (823, 1)], [(824, 1), (825, 1), (826, 1), (827, 1), (828, 1)], [(46, 1), (51, 1), (337, 1)], [(46, 1), (135, 1)], [(0, 1), (75, 1), (76, 1), (77, 1)], [(135, 1)], [(658, 1), (829, 1)], [(0, 1), (3, 1), (11, 1), (17, 1), (23, 1), (164, 1), (170, 1), (255, 1), (275, 1), (552, 1), (680, 1), (830, 1), (831, 1), (832, 1), (833, 1)], [(82, 1), (255, 1)], [(88, 1), (133, 1), (224, 1), (366, 1), (834, 1)], [(229, 1), (408, 1)], [(9, 1), (63, 1), (229, 1), (232, 1), (571, 1)], [(1, 1), (2, 1), (133, 1), (186, 1), (835, 1), (836, 1), (837, 1), (838, 1)], [(24, 1), (26, 1), (608, 1), (839, 1)], [(20, 1), (71, 1), (72, 1), (232, 1), (263, 1), (600, 1), (751, 1), (840, 1), (841, 1), (842, 1), (843, 1), (844, 1), (845, 1)], [(846, 1)], [], [(51, 1), (170, 1), (847, 1), (848, 1), (849, 1)], [(209, 1), (415, 1), (551, 1), (850, 1)], [(51, 1), (141, 1), (294, 1)], [(11, 1), (22, 1), (23, 1), (77, 1), (145, 1), (253, 1), (847, 1), (851, 1), (852, 1)], [(75, 1), (111, 1), (121, 1), (132, 1), (157, 1), (468, 1), (641, 1), (820, 1), (853, 1), (854, 1)], [(51, 1), (240, 1)], [(855, 1)], [(39, 1), (88, 1)], [(683, 1)], [(46, 1)], [(14, 1), (856, 1)], [(0, 3), (11, 1), (13, 1), (22, 1), (23, 1), (46, 1), (230, 1), (530, 1), (608, 1), (658, 1), (682, 1), (756, 1), (857, 1)], [(51, 1), (75, 1), (111, 1), (847, 1)], [(12, 1), (111, 1), (858, 1), (859, 1)], [(79, 1), (285, 1)], [(17, 2), (245, 1), (860, 1)], [(200, 1), (861, 1), (862, 2)], [(41, 1), (465, 1)], [(75, 1), (314, 1)], [(75, 1), (111, 1)], [(75, 1), (111, 1)], [(95, 1), (111, 1), (411, 1), (510, 1), (863, 1), (864, 1)], [(855, 1)]]"
      ]
     },
     "execution_count": 611,
     "metadata": {},
     "output_type": "execute_result"
    }
   ],
   "source": [
    "bow_corpus"
   ]
  },
  {
   "cell_type": "markdown",
   "metadata": {},
   "source": [
    "## TF IDF"
   ]
  },
  {
   "cell_type": "code",
   "execution_count": 918,
   "metadata": {},
   "outputs": [],
   "source": [
    "tfidf = models.TfidfModel(bow_corpus)\n",
    "corpus_tfidf = tfidf[bow_corpus]"
   ]
  },
  {
   "cell_type": "code",
   "execution_count": 919,
   "metadata": {},
   "outputs": [
    {
     "name": "stdout",
     "output_type": "stream",
     "text": [
      "[(0, 0.18337307964027882),\n",
      " (1, 0.45711261940867326),\n",
      " (2, 0.4044930767885512),\n",
      " (3, 0.35780464196520867),\n",
      " (4, 0.6824833740530692)]\n"
     ]
    }
   ],
   "source": [
    "for doc in corpus_tfidf:\n",
    "    pprint(doc)\n",
    "    break"
   ]
  },
  {
   "cell_type": "markdown",
   "metadata": {},
   "source": [
    "## LDA bow corpus"
   ]
  },
  {
   "cell_type": "code",
   "execution_count": 920,
   "metadata": {},
   "outputs": [
    {
     "name": "stderr",
     "output_type": "stream",
     "text": [
      "WARNING:gensim.models.ldamulticore:too few updates, training might not converge; consider increasing the number of passes or iterations to improve accuracy\n"
     ]
    }
   ],
   "source": [
    "lda_model = gensim.models.LdaMulticore(bow_corpus, num_topics=10, id2word=dictionary, passes=2, workers=2)"
   ]
  },
  {
   "cell_type": "code",
   "execution_count": 921,
   "metadata": {
    "collapsed": true,
    "jupyter": {
     "outputs_hidden": true
    }
   },
   "outputs": [
    {
     "name": "stdout",
     "output_type": "stream",
     "text": [
      "Topic: 0 \n",
      "Words: 0.045*\"a\" + 0.031*\"mois\" + 0.020*\"client\" + 0.020*\"pret\" + 0.017*\"banqu\" + 0.017*\"tunisien\" + 0.016*\"agenc\" + 0.015*\"toujour\" + 0.012*\"societ\" + 0.010*\"don\"\n",
      "Topic: 1 \n",
      "Words: 0.045*\"a\" + 0.037*\"mois\" + 0.030*\"anne\" + 0.023*\"bon\" + 0.019*\"pret\" + 0.018*\"chaqu\" + 0.016*\"tous\" + 0.014*\"si\" + 0.014*\"succursal\" + 0.014*\"banqu\"\n",
      "Topic: 2 \n",
      "Words: 0.059*\"pret\" + 0.029*\"mois\" + 0.029*\"bon\" + 0.015*\"a\" + 0.014*\"mar\" + 0.013*\"dit\" + 0.013*\"chanc\" + 0.013*\"juin\" + 0.012*\"roug\" + 0.011*\"quel\"\n",
      "Topic: 3 \n",
      "Words: 0.024*\"a\" + 0.020*\"succursal\" + 0.019*\"dieu\" + 0.015*\"accord\" + 0.015*\"succ\" + 0.009*\"client\" + 0.009*\"veuill\" + 0.009*\"distributeur\" + 0.009*\"plus\" + 0.009*\"fait\"\n",
      "Topic: 4 \n",
      "Words: 0.039*\"banqu\" + 0.036*\"a\" + 0.025*\"dieu\" + 0.020*\"bon\" + 0.019*\"pret\" + 0.017*\"merc\" + 0.013*\"seigneur\" + 0.013*\"succursal\" + 0.013*\"ben\" + 0.013*\"mois\"\n",
      "Topic: 5 \n",
      "Words: 0.056*\"a\" + 0.044*\"bon\" + 0.022*\"chanc\" + 0.020*\"tous\" + 0.017*\"salut\" + 0.014*\"fait\" + 0.012*\"bien\" + 0.012*\"branch\" + 0.012*\"tre\" + 0.011*\"continu\"\n",
      "Topic: 6 \n",
      "Words: 0.077*\"stb\" + 0.050*\"bravo\" + 0.032*\"dit\" + 0.026*\"pret\" + 0.018*\"a\" + 0.017*\"plus\" + 0.015*\"mois\" + 0.014*\"tout\" + 0.009*\"remerc\" + 0.009*\"bank\"\n",
      "Topic: 7 \n",
      "Words: 0.054*\"dieu\" + 0.029*\"a\" + 0.026*\"plus\" + 0.022*\"pret\" + 0.019*\"veut\" + 0.019*\"si\" + 0.013*\"stb\" + 0.010*\"autr\" + 0.010*\"branch\" + 0.010*\"w\"\n",
      "Topic: 8 \n",
      "Words: 0.065*\"a\" + 0.044*\"merc\" + 0.035*\"banqu\" + 0.022*\"tout\" + 0.018*\"tous\" + 0.017*\"mond\" + 0.015*\"bon\" + 0.014*\"ete\" + 0.013*\"tunisien\" + 0.012*\"mois\"\n",
      "Topic: 9 \n",
      "Words: 0.039*\"seigneur\" + 0.026*\"a\" + 0.022*\"banqu\" + 0.019*\"eid\" + 0.015*\"meilleur\" + 0.012*\"stb\" + 0.012*\"succursal\" + 0.012*\"mois\" + 0.011*\"societ\" + 0.011*\"salut\"\n"
     ]
    }
   ],
   "source": [
    "for idx, topic in lda_model.print_topics(-1):\n",
    "    print('Topic: {} \\nWords: {}'.format(idx, topic))"
   ]
  },
  {
   "cell_type": "markdown",
   "metadata": {},
   "source": [
    "## LDA TF IDF"
   ]
  },
  {
   "cell_type": "code",
   "execution_count": 922,
   "metadata": {
    "collapsed": true,
    "jupyter": {
     "outputs_hidden": true
    }
   },
   "outputs": [
    {
     "name": "stderr",
     "output_type": "stream",
     "text": [
      "WARNING:gensim.models.ldamulticore:too few updates, training might not converge; consider increasing the number of passes or iterations to improve accuracy\n"
     ]
    },
    {
     "name": "stdout",
     "output_type": "stream",
     "text": [
      "Topic: 0 Word: 0.023*\"chaqu\" + 0.020*\"bash\" + 0.020*\"anne\" + 0.016*\"eid\" + 0.010*\"plus\" + 0.009*\"mois\" + 0.009*\"fait\" + 0.009*\"bienheur\" + 0.009*\"enfant\" + 0.009*\"aujourd\"\n",
      "Topic: 1 Word: 0.027*\"si\" + 0.019*\"veut\" + 0.017*\"a\" + 0.014*\"dieu\" + 0.012*\"bank\" + 0.011*\"salut\" + 0.010*\"retour\" + 0.008*\"pret\" + 0.008*\"branch\" + 0.007*\"fait\"\n",
      "Topic: 2 Word: 0.021*\"frer\" + 0.021*\"felicit\" + 0.018*\"dit\" + 0.010*\"banqu\" + 0.009*\"tunisien\" + 0.009*\"mois\" + 0.009*\"succursal\" + 0.008*\"remerc\" + 0.007*\"accept\" + 0.007*\"bien\"\n",
      "Topic: 3 Word: 0.020*\"mois\" + 0.014*\"anne\" + 0.012*\"pret\" + 0.011*\"mar\" + 0.011*\"aim\" + 0.010*\"bon\" + 0.009*\"cas\" + 0.009*\"mond\" + 0.007*\"tout\" + 0.007*\"banqu\"\n",
      "Topic: 4 Word: 0.024*\"tunisien\" + 0.019*\"effort\" + 0.018*\"societ\" + 0.010*\"merc\" + 0.009*\"bancair\" + 0.009*\"o\" + 0.008*\"vis\" + 0.008*\"install\" + 0.007*\"lotf\" + 0.007*\"banqu\"\n",
      "Topic: 5 Word: 0.019*\"bon\" + 0.017*\"toujour\" + 0.013*\"franch\" + 0.012*\"continu\" + 0.012*\"ete\" + 0.011*\"allash\" + 0.011*\"fet\" + 0.010*\"juin\" + 0.009*\"pret\" + 0.009*\"dieu\"\n",
      "Topic: 6 Word: 0.057*\"seigneur\" + 0.015*\"meilleur\" + 0.014*\"a\" + 0.014*\"banqu\" + 0.011*\"oh\" + 0.011*\"gagn\" + 0.010*\"mois\" + 0.009*\"succursal\" + 0.009*\"bonjour\" + 0.009*\"aid\"\n",
      "Topic: 7 Word: 0.043*\"dieu\" + 0.041*\"bravo\" + 0.031*\"stb\" + 0.031*\"chanc\" + 0.029*\"merc\" + 0.028*\"bon\" + 0.015*\"tous\" + 0.015*\"a\" + 0.013*\"ben\" + 0.011*\"pret\"\n",
      "Topic: 8 Word: 0.017*\"succ\" + 0.011*\"accord\" + 0.010*\"tout\" + 0.010*\"mem\" + 0.009*\"client\" + 0.008*\"mond\" + 0.008*\"bon\" + 0.008*\"esperon\" + 0.007*\"defaut\" + 0.007*\"ecrir\"\n",
      "Topic: 9 Word: 0.013*\"excellent\" + 0.012*\"pla\" + 0.010*\"a\" + 0.010*\"amen\" + 0.009*\"comm\" + 0.008*\"merc\" + 0.008*\"doubl\" + 0.008*\"entre\" + 0.007*\"beaucoup\" + 0.007*\"al\"\n"
     ]
    }
   ],
   "source": [
    "lda_model_tfidf = gensim.models.LdaMulticore(corpus_tfidf, num_topics=10, id2word=dictionary, passes=2, workers=4)\n",
    "for idx, topic in lda_model_tfidf.print_topics(-1):\n",
    "    print('Topic: {} Word: {}'.format(idx, topic))"
   ]
  },
  {
   "cell_type": "markdown",
   "metadata": {},
   "source": [
    "## evaluation bow corpus"
   ]
  },
  {
   "cell_type": "code",
   "execution_count": 923,
   "metadata": {
    "collapsed": true,
    "jupyter": {
     "outputs_hidden": true
    }
   },
   "outputs": [
    {
     "name": "stdout",
     "output_type": "stream",
     "text": [
      "\n",
      "Score: 0.6999633312225342\t \n",
      "Topic: 0.059*\"pret\" + 0.029*\"mois\" + 0.029*\"bon\" + 0.015*\"a\" + 0.014*\"mar\" + 0.013*\"dit\" + 0.013*\"chanc\" + 0.013*\"juin\" + 0.012*\"roug\" + 0.011*\"quel\"\n",
      "\n",
      "Score: 0.03335441276431084\t \n",
      "Topic: 0.077*\"stb\" + 0.050*\"bravo\" + 0.032*\"dit\" + 0.026*\"pret\" + 0.018*\"a\" + 0.017*\"plus\" + 0.015*\"mois\" + 0.014*\"tout\" + 0.009*\"remerc\" + 0.009*\"bank\"\n",
      "\n",
      "Score: 0.03333793208003044\t \n",
      "Topic: 0.045*\"a\" + 0.037*\"mois\" + 0.030*\"anne\" + 0.023*\"bon\" + 0.019*\"pret\" + 0.018*\"chaqu\" + 0.016*\"tous\" + 0.014*\"si\" + 0.014*\"succursal\" + 0.014*\"banqu\"\n",
      "\n",
      "Score: 0.03333674371242523\t \n",
      "Topic: 0.039*\"banqu\" + 0.036*\"a\" + 0.025*\"dieu\" + 0.020*\"bon\" + 0.019*\"pret\" + 0.017*\"merc\" + 0.013*\"seigneur\" + 0.013*\"succursal\" + 0.013*\"ben\" + 0.013*\"mois\"\n",
      "\n",
      "Score: 0.03333653509616852\t \n",
      "Topic: 0.054*\"dieu\" + 0.029*\"a\" + 0.026*\"plus\" + 0.022*\"pret\" + 0.019*\"veut\" + 0.019*\"si\" + 0.013*\"stb\" + 0.010*\"autr\" + 0.010*\"branch\" + 0.010*\"w\"\n",
      "\n",
      "Score: 0.03333496302366257\t \n",
      "Topic: 0.056*\"a\" + 0.044*\"bon\" + 0.022*\"chanc\" + 0.020*\"tous\" + 0.017*\"salut\" + 0.014*\"fait\" + 0.012*\"bien\" + 0.012*\"branch\" + 0.012*\"tre\" + 0.011*\"continu\"\n",
      "\n",
      "Score: 0.033334340900182724\t \n",
      "Topic: 0.045*\"a\" + 0.031*\"mois\" + 0.020*\"client\" + 0.020*\"pret\" + 0.017*\"banqu\" + 0.017*\"tunisien\" + 0.016*\"agenc\" + 0.015*\"toujour\" + 0.012*\"societ\" + 0.010*\"don\"\n",
      "\n",
      "Score: 0.033333927392959595\t \n",
      "Topic: 0.024*\"a\" + 0.020*\"succursal\" + 0.019*\"dieu\" + 0.015*\"accord\" + 0.015*\"succ\" + 0.009*\"client\" + 0.009*\"veuill\" + 0.009*\"distributeur\" + 0.009*\"plus\" + 0.009*\"fait\"\n",
      "\n",
      "Score: 0.033333927392959595\t \n",
      "Topic: 0.065*\"a\" + 0.044*\"merc\" + 0.035*\"banqu\" + 0.022*\"tout\" + 0.018*\"tous\" + 0.017*\"mond\" + 0.015*\"bon\" + 0.014*\"ete\" + 0.013*\"tunisien\" + 0.012*\"mois\"\n",
      "\n",
      "Score: 0.033333927392959595\t \n",
      "Topic: 0.039*\"seigneur\" + 0.026*\"a\" + 0.022*\"banqu\" + 0.019*\"eid\" + 0.015*\"meilleur\" + 0.012*\"stb\" + 0.012*\"succursal\" + 0.012*\"mois\" + 0.011*\"societ\" + 0.011*\"salut\"\n"
     ]
    }
   ],
   "source": [
    "for index, score in sorted(lda_model[bow_corpus[1]], key=lambda tup: -1*tup[1]):\n",
    "    print(\"\\nScore: {}\\t \\nTopic: {}\".format(score, lda_model.print_topic(index, 10)))"
   ]
  },
  {
   "cell_type": "markdown",
   "metadata": {},
   "source": [
    "## Evaluation tf idf"
   ]
  },
  {
   "cell_type": "code",
   "execution_count": 924,
   "metadata": {
    "collapsed": true,
    "jupyter": {
     "outputs_hidden": true
    }
   },
   "outputs": [
    {
     "name": "stdout",
     "output_type": "stream",
     "text": [
      "\n",
      "Score: 0.699927806854248\t \n",
      "Topic: 0.013*\"excellent\" + 0.012*\"pla\" + 0.010*\"a\" + 0.010*\"amen\" + 0.009*\"comm\" + 0.008*\"merc\" + 0.008*\"doubl\" + 0.008*\"entre\" + 0.007*\"beaucoup\" + 0.007*\"al\"\n",
      "\n",
      "Score: 0.03336627781391144\t \n",
      "Topic: 0.021*\"frer\" + 0.021*\"felicit\" + 0.018*\"dit\" + 0.010*\"banqu\" + 0.009*\"tunisien\" + 0.009*\"mois\" + 0.009*\"succursal\" + 0.008*\"remerc\" + 0.007*\"accept\" + 0.007*\"bien\"\n",
      "\n",
      "Score: 0.033346060663461685\t \n",
      "Topic: 0.057*\"seigneur\" + 0.015*\"meilleur\" + 0.014*\"a\" + 0.014*\"banqu\" + 0.011*\"oh\" + 0.011*\"gagn\" + 0.010*\"mois\" + 0.009*\"succursal\" + 0.009*\"bonjour\" + 0.009*\"aid\"\n",
      "\n",
      "Score: 0.033344075083732605\t \n",
      "Topic: 0.027*\"si\" + 0.019*\"veut\" + 0.017*\"a\" + 0.014*\"dieu\" + 0.012*\"bank\" + 0.011*\"salut\" + 0.010*\"retour\" + 0.008*\"pret\" + 0.008*\"branch\" + 0.007*\"fait\"\n",
      "\n",
      "Score: 0.03334246575832367\t \n",
      "Topic: 0.020*\"mois\" + 0.014*\"anne\" + 0.012*\"pret\" + 0.011*\"mar\" + 0.011*\"aim\" + 0.010*\"bon\" + 0.009*\"cas\" + 0.009*\"mond\" + 0.007*\"tout\" + 0.007*\"banqu\"\n",
      "\n",
      "Score: 0.033335551619529724\t \n",
      "Topic: 0.024*\"tunisien\" + 0.019*\"effort\" + 0.018*\"societ\" + 0.010*\"merc\" + 0.009*\"bancair\" + 0.009*\"o\" + 0.008*\"vis\" + 0.008*\"install\" + 0.007*\"lotf\" + 0.007*\"banqu\"\n",
      "\n",
      "Score: 0.03333478793501854\t \n",
      "Topic: 0.019*\"bon\" + 0.017*\"toujour\" + 0.013*\"franch\" + 0.012*\"continu\" + 0.012*\"ete\" + 0.011*\"allash\" + 0.011*\"fet\" + 0.010*\"juin\" + 0.009*\"pret\" + 0.009*\"dieu\"\n",
      "\n",
      "Score: 0.03333434462547302\t \n",
      "Topic: 0.023*\"chaqu\" + 0.020*\"bash\" + 0.020*\"anne\" + 0.016*\"eid\" + 0.010*\"plus\" + 0.009*\"mois\" + 0.009*\"fait\" + 0.009*\"bienheur\" + 0.009*\"enfant\" + 0.009*\"aujourd\"\n",
      "\n",
      "Score: 0.03333434462547302\t \n",
      "Topic: 0.043*\"dieu\" + 0.041*\"bravo\" + 0.031*\"stb\" + 0.031*\"chanc\" + 0.029*\"merc\" + 0.028*\"bon\" + 0.015*\"tous\" + 0.015*\"a\" + 0.013*\"ben\" + 0.011*\"pret\"\n",
      "\n",
      "Score: 0.03333434462547302\t \n",
      "Topic: 0.017*\"succ\" + 0.011*\"accord\" + 0.010*\"tout\" + 0.010*\"mem\" + 0.009*\"client\" + 0.008*\"mond\" + 0.008*\"bon\" + 0.008*\"esperon\" + 0.007*\"defaut\" + 0.007*\"ecrir\"\n"
     ]
    }
   ],
   "source": [
    "for index, score in sorted(lda_model_tfidf[bow_corpus[1]], key=lambda tup: -1*tup[1]):\n",
    "    print(\"\\nScore: {}\\t \\nTopic: {}\".format(score, lda_model_tfidf.print_topic(index, 10)))"
   ]
  },
  {
   "cell_type": "markdown",
   "metadata": {},
   "source": [
    "## Frequence de distribution"
   ]
  },
  {
   "cell_type": "code",
   "execution_count": 38,
   "metadata": {},
   "outputs": [],
   "source": [
    "cm=list(comment.split(','))"
   ]
  },
  {
   "cell_type": "code",
   "execution_count": 39,
   "metadata": {},
   "outputs": [],
   "source": [
    "for c in range(len(cm)):\n",
    "    cm[c]=cm[c].replace('[','')\n",
    "    cm[c]=cm[c].replace(']','')\n",
    "    cm[c]=cm[c].replace(\"'\",'')"
   ]
  },
  {
   "cell_type": "code",
   "execution_count": 40,
   "metadata": {
    "collapsed": true,
    "jupyter": {
     "outputs_hidden": true
    }
   },
   "outputs": [
    {
     "data": {
      "text/plain": [
       "[' felicit',\n",
       " ' si',\n",
       " ' lotf',\n",
       " ' bon',\n",
       " ' continu toujour',\n",
       " ' fier',\n",
       " ' banqu felicit',\n",
       " ' bravo',\n",
       " ' bon',\n",
       " ' continu',\n",
       " ' si',\n",
       " ' lotf bon',\n",
       " ' courag felicit',\n",
       " ' bravo felicit felicit',\n",
       " ' bon',\n",
       " ' courag',\n",
       " ' bon',\n",
       " ' continu bravo',\n",
       " ' bon',\n",
       " ' continu felicit bon',\n",
       " ' continu',\n",
       " ' si',\n",
       " ' lotf apre',\n",
       " ' avoir',\n",
       " ' soudain',\n",
       " ' coup',\n",
       " ' pret',\n",
       " ' societ',\n",
       " ' bancair',\n",
       " ' tunisien',\n",
       " ' prouv',\n",
       " ' a',\n",
       " ' chaqu',\n",
       " ' fois',\n",
       " ' fait',\n",
       " ' plus',\n",
       " ' confianc',\n",
       " ' san',\n",
       " ' rapportent',\n",
       " ' abus',\n",
       " ' part',\n",
       " ' salar',\n",
       " ' sauf',\n",
       " ' quelqu',\n",
       " ' un',\n",
       " ' entre',\n",
       " ' shak',\n",
       " ' sfax',\n",
       " ' agenc perdu',\n",
       " ' confianc',\n",
       " ' apre',\n",
       " ' avoir',\n",
       " ' appele',\n",
       " ' banqu',\n",
       " ' social',\n",
       " ' jalous',\n",
       " ' rest',\n",
       " ' autr',\n",
       " ' banqu',\n",
       " ' a',\n",
       " ' incit',\n",
       " ' banqu',\n",
       " ' central',\n",
       " ' stb',\n",
       " ' a',\n",
       " ' telecharg',\n",
       " ' prim',\n",
       " ' mar',\n",
       " ' tout',\n",
       " ' mond',\n",
       " ' egal merc',\n",
       " ' avoir',\n",
       " ' doubl',\n",
       " ' plafond',\n",
       " ' veuill',\n",
       " ' limit',\n",
       " ' period',\n",
       " ' a pourquoi',\n",
       " ' pret',\n",
       " ' ete',\n",
       " ' deduit',\n",
       " ' ceux',\n",
       " ' dont',\n",
       " ' salair',\n",
       " ' etait',\n",
       " ' inferieur',\n",
       " ' a prom',\n",
       " ' mois etc',\n",
       " ' banqu',\n",
       " ' ahsen pret',\n",
       " ' aalash',\n",
       " ' qusaito',\n",
       " ' assis',\n",
       " ' san',\n",
       " ' argent pourquoi',\n",
       " ' pret',\n",
       " ' qusay quel',\n",
       " ' problem',\n",
       " ' rizzo',\n",
       " ' distributeur',\n",
       " ' automatis',\n",
       " ' plupart',\n",
       " ' banqu',\n",
       " ' sfax dieu',\n",
       " ' malheur',\n",
       " ' retir',\n",
       " ' pret',\n",
       " ' juillet',\n",
       " ' a',\n",
       " ' peupl',\n",
       " ' donc',\n",
       " ' dissolu',\n",
       " ' necessair pourquoi',\n",
       " ' priv',\n",
       " ' a march',\n",
       " ' ver',\n",
       " ' charpenti',\n",
       " ' a',\n",
       " ' re',\n",
       " ' u',\n",
       " ' tableau',\n",
       " ' get',\n",
       " ' the',\n",
       " ' hall dieu',\n",
       " ' tout',\n",
       " ' puiss',\n",
       " ' plus',\n",
       " ' cher',\n",
       " ' dieu',\n",
       " ' ben burby',\n",
       " ' repons',\n",
       " ' a',\n",
       " ' banqu',\n",
       " ' quand',\n",
       " ' an dit',\n",
       " ' droit',\n",
       " ' a',\n",
       " ' doubl',\n",
       " ' vendeur',\n",
       " ' manqu',\n",
       " ' plafond',\n",
       " ' souhait',\n",
       " ' joi',\n",
       " ' mois',\n",
       " ' el',\n",
       " ' chef',\n",
       " ' agenc plus',\n",
       " ' gros',\n",
       " ' problem',\n",
       " ' agenc',\n",
       " ' bancair',\n",
       " ' pann',\n",
       " ' prevu',\n",
       " ' distributeur',\n",
       " ' automat',\n",
       " ' a',\n",
       " ' fin',\n",
       " ' semain',\n",
       " ' particuli',\n",
       " ' debut',\n",
       " ' mois aujourd',\n",
       " ' hui',\n",
       " ' a',\n",
       " ' different',\n",
       " ' endroit',\n",
       " ' tous',\n",
       " ' distributeur',\n",
       " ' travaillent',\n",
       " ' habitud',\n",
       " ' laquel',\n",
       " ' banqu',\n",
       " ' a',\n",
       " ' travaill',\n",
       " ' esperon',\n",
       " ' question',\n",
       " ' clarifie',\n",
       " ' evite',\n",
       " ' merc',\n",
       " ' effort vrai',\n",
       " ' realit',\n",
       " ' dont',\n",
       " ' parl',\n",
       " ' cart',\n",
       " ' renouvel',\n",
       " ' automat',\n",
       " ' agit',\n",
       " ' comm',\n",
       " ' avantag',\n",
       " ' faibless',\n",
       " ' bagag',\n",
       " ' det',\n",
       " ' degrade',\n",
       " ' catastroph',\n",
       " ' don',\n",
       " ' pret',\n",
       " ' depens',\n",
       " ' jour salut',\n",
       " ' a',\n",
       " ' tous',\n",
       " ' employ',\n",
       " ' banqu',\n",
       " ' pla',\n",
       " ' quel',\n",
       " ' signif',\n",
       " ' valeur',\n",
       " ' det',\n",
       " ' quand',\n",
       " ' applique penson',\n",
       " ' egal',\n",
       " ' pret',\n",
       " ' deduit',\n",
       " ' cour',\n",
       " ' mois',\n",
       " ' juin',\n",
       " ' cel',\n",
       " ' apre',\n",
       " ' etre',\n",
       " ' assur',\n",
       " ' party',\n",
       " ' publiqu',\n",
       " ' banqu',\n",
       " ' plus',\n",
       " ' lorsqu',\n",
       " ' extrait',\n",
       " ' relev',\n",
       " ' compt',\n",
       " ' confirm',\n",
       " ' davantag',\n",
       " ' ecrit',\n",
       " ' deduct',\n",
       " ' fait',\n",
       " ' avant',\n",
       " ' juillet',\n",
       " ' quel',\n",
       " ' faut',\n",
       " ' surtout',\n",
       " ' si',\n",
       " ' plupart',\n",
       " ' client',\n",
       " ' retir',\n",
       " ' argent',\n",
       " ' pret',\n",
       " ' a',\n",
       " ' al',\n",
       " ' adha comprend',\n",
       " ' shenw',\n",
       " ' signif',\n",
       " ' valeur',\n",
       " ' det dieu',\n",
       " ' a',\n",
       " ' pit',\n",
       " ' parent premier',\n",
       " ' fois',\n",
       " ' senton',\n",
       " ' banqu',\n",
       " ' a',\n",
       " ' tenus',\n",
       " ' respons',\n",
       " ' client',\n",
       " ' azaz',\n",
       " ' puis',\n",
       " ' temp',\n",
       " ' a',\n",
       " ' report',\n",
       " ' deduct',\n",
       " ' a',\n",
       " ' fin',\n",
       " ' espoir',\n",
       " ' ete',\n",
       " ' us',\n",
       " ' jusqu',\n",
       " ' a',\n",
       " ' arriv',\n",
       " ' juin',\n",
       " ' si',\n",
       " ' dieu',\n",
       " ' veut',\n",
       " ' revoir',\n",
       " ' decis inviton',\n",
       " ' a',\n",
       " ' retir',\n",
       " ' decis',\n",
       " ' deduct',\n",
       " ' comm',\n",
       " ' prom',\n",
       " ' client',\n",
       " ' cel',\n",
       " ' document',\n",
       " ' pag envoi',\n",
       " ' lettr',\n",
       " ' remerci',\n",
       " ' a',\n",
       " ' banqu',\n",
       " ' tunisien',\n",
       " ' car',\n",
       " ' seul',\n",
       " ' lien',\n",
       " ' apre',\n",
       " ' dieu',\n",
       " ' derni',\n",
       " ' moment',\n",
       " ' u',\n",
       " ' apre',\n",
       " ' avoir',\n",
       " ' deduit',\n",
       " ' pret',\n",
       " ' juin',\n",
       " ' esper',\n",
       " ' ret',\n",
       " ' decis',\n",
       " ' cadeau',\n",
       " ' a',\n",
       " ' retrait',\n",
       " ' fil',\n",
       " ' pass',\n",
       " ' egal',\n",
       " ' baccalaureat',\n",
       " ' deux',\n",
       " ' alloc demand',\n",
       " ' renseign',\n",
       " ' raison',\n",
       " ' retrait',\n",
       " ' concern',\n",
       " ' non',\n",
       " ' deduct',\n",
       " ' acompt',\n",
       " ' emprunt',\n",
       " ' vers',\n",
       " ' a',\n",
       " ' ceux',\n",
       " ' dont',\n",
       " ' revenu',\n",
       " ' dep',\n",
       " ' mill',\n",
       " ' dinar',\n",
       " ' jusqu',\n",
       " ' a',\n",
       " ' fin',\n",
       " ' juillet',\n",
       " ' repr',\n",
       " ' deduct',\n",
       " ' acompt',\n",
       " ' mois',\n",
       " ' juin',\n",
       " ' avant',\n",
       " ' jusqu',\n",
       " ' a',\n",
       " ' fin',\n",
       " ' mois ronfl',\n",
       " ' a',\n",
       " ' augment',\n",
       " ' a',\n",
       " ' salut',\n",
       " ' rent',\n",
       " ' lumier',\n",
       " ' eau',\n",
       " ' parfumer',\n",
       " ' legum',\n",
       " ' conclus',\n",
       " ' jour',\n",
       " ' fer maison',\n",
       " ' ete',\n",
       " ' ruine',\n",
       " ' demandon',\n",
       " ' comprendr',\n",
       " ' trouv',\n",
       " ' solut',\n",
       " ' a',\n",
       " ' cris besoin',\n",
       " ' exceptionnel',\n",
       " ' rao',\n",
       " ' memoris',\n",
       " ' deux',\n",
       " ' mot',\n",
       " ' reviennent blah',\n",
       " ' alor',\n",
       " ' tre',\n",
       " ' a',\n",
       " ' fait',\n",
       " ' a',\n",
       " ' vien',\n",
       " ' march',\n",
       " ' jusqu',\n",
       " ' a',\n",
       " ' succursal',\n",
       " ' aeroport',\n",
       " ' rencontr',\n",
       " ' histoir',\n",
       " ' pret broth',\n",
       " ' a',\n",
       " ' mis',\n",
       " ' pret',\n",
       " ' original',\n",
       " ' ml  apre',\n",
       " ' text',\n",
       " ' tout',\n",
       " ' bien',\n",
       " ' merc',\n",
       " ' don',\n",
       " ' circonst',\n",
       " ' decev',\n",
       " ' photos',\n",
       " ' tj',\n",
       " ' eid',\n",
       " ' dieu',\n",
       " ' reconcil',\n",
       " ' erreur jur',\n",
       " ' dev',\n",
       " ' dieu',\n",
       " ' bon',\n",
       " ' stb',\n",
       " ' dedan',\n",
       " ' dit',\n",
       " ' seul',\n",
       " ' banqu',\n",
       " ' ten',\n",
       " ' client',\n",
       " ' bien',\n",
       " ' moment',\n",
       " ' cris',\n",
       " ' comm',\n",
       " ' pert a',\n",
       " ' mem',\n",
       " ' demand',\n",
       " ' a',\n",
       " ' succursal',\n",
       " ' dit',\n",
       " ' repons',\n",
       " ' a',\n",
       " ' etait',\n",
       " ' pass']"
      ]
     },
     "execution_count": 40,
     "metadata": {},
     "output_type": "execute_result"
    }
   ],
   "source": [
    "cm"
   ]
  },
  {
   "cell_type": "code",
   "execution_count": 41,
   "metadata": {},
   "outputs": [
    {
     "name": "stdout",
     "output_type": "stream",
     "text": [
      "<FreqDist with 287 samples and 431 outcomes>\n"
     ]
    }
   ],
   "source": [
    "from nltk.probability import FreqDist\n",
    "fdist = FreqDist(cm)\n",
    "print(fdist)"
   ]
  },
  {
   "cell_type": "code",
   "execution_count": 42,
   "metadata": {},
   "outputs": [
    {
     "data": {
      "text/plain": [
       "[(' a', 32),\n",
       " (' banqu', 12),\n",
       " (' pret', 9),\n",
       " (' bon', 6),\n",
       " (' si', 5),\n",
       " (' dieu', 5),\n",
       " (' deduct', 5),\n",
       " (' avoir', 4),\n",
       " (' apre', 4),\n",
       " (' fin', 4)]"
      ]
     },
     "execution_count": 42,
     "metadata": {},
     "output_type": "execute_result"
    }
   ],
   "source": [
    "fdist.most_common(10)"
   ]
  },
  {
   "cell_type": "code",
   "execution_count": 43,
   "metadata": {},
   "outputs": [
    {
     "data": {
      "image/png": "[encoded data removed]",
      "text/plain": [
       "<Figure size 720x720 with 1 Axes>"
      ]
     },
     "metadata": {
      "needs_background": "light"
     },
     "output_type": "display_data"
    }
   ],
   "source": [
    "import matplotlib.pyplot as plt\n",
    "\n",
    "plt.figure(figsize=(10,10))\n",
    "fdist.plot(30,cumulative=False)\n",
    "plt.show()"
   ]
  },
  {
   "cell_type": "code",
   "execution_count": 871,
   "metadata": {
    "collapsed": true,
    "jupyter": {
     "outputs_hidden": true
    }
   },
   "outputs": [
    {
     "name": "stderr",
     "output_type": "stream",
     "text": [
      "C:\\Users\\SELON\\Anaconda3\\envs\\PythonGPU\\lib\\site-packages\\pyLDAvis\\_prepare.py:257: FutureWarning: Sorting because non-concatenation axis is not aligned. A future version\n",
      "of pandas will change to not sort by default.\n",
      "\n",
      "To accept the future behavior, pass 'sort=False'.\n",
      "\n",
      "To retain the current behavior and silence the warning, pass 'sort=True'.\n",
      "\n",
      "  return pd.concat([default_term_info] + list(topic_dfs))\n"
     ]
    },
    {
     "data": {
      "text/html": [
       "\n",
       "<link rel=\"stylesheet\" type=\"text/css\" href=\"https://cdn.rawgit.com/bmabey/pyLDAvis/files/ldavis.v1.0.0.css\">\n",
       "\n",
       "\n",
       "<div id=\"ldavis_el101162564444867400273316620\"></div>\n",
       "<script type=\"text/javascript\">\n",
       "\n",
       "var ldavis_el101162564444867400273316620_data = {\"mdsDat\": {\"x\": [0.08233865433203566, 0.09200181432709914, -0.12485767730754405, 0.096052446279433, 0.07168159644259212, -0.07845595688241595, -0.09162611564072626, -0.11038614738042489, -0.011759957170685188, 0.07501134300063682], \"y\": [-0.048423114791806623, 0.10395684283925848, -0.02223210480821266, 0.04407710070138528, 0.03220341228666616, 0.13645915094424776, -0.0031495415348180783, -0.045979167199810114, -0.060130348047487035, -0.1367822303894232], \"topics\": [1, 2, 3, 4, 5, 6, 7, 8, 9, 10], \"cluster\": [1, 1, 1, 1, 1, 1, 1, 1, 1, 1], \"Freq\": [11.764223098754883, 8.811613082885742, 9.777983665466309, 7.9818291664123535, 7.916773319244385, 5.890195846557617, 11.646459579467773, 7.405489921569824, 10.174554824829102, 18.630874633789062]}, \"tinfo\": {\"Category\": [\"Default\", \"Default\", \"Default\", \"Default\", \"Default\", \"Default\", \"Default\", \"Default\", \"Default\", \"Default\", \"Default\", \"Default\", \"Default\", \"Default\", \"Default\", \"Default\", \"Default\", \"Default\", \"Default\", \"Default\", \"Default\", \"Default\", \"Default\", \"Default\", \"Default\", \"Default\", \"Default\", \"Default\", \"Default\", \"Default\", \"Topic1\", \"Topic1\", \"Topic1\", \"Topic1\", \"Topic1\", \"Topic1\", \"Topic1\", \"Topic1\", \"Topic1\", \"Topic1\", \"Topic1\", \"Topic1\", \"Topic1\", \"Topic1\", \"Topic1\", \"Topic1\", \"Topic1\", \"Topic1\", \"Topic1\", \"Topic1\", \"Topic1\", \"Topic1\", \"Topic1\", \"Topic1\", \"Topic1\", \"Topic1\", \"Topic1\", \"Topic1\", \"Topic1\", \"Topic1\", \"Topic1\", \"Topic1\", \"Topic1\", \"Topic1\", \"Topic1\", \"Topic1\", \"Topic1\", \"Topic1\", \"Topic1\", \"Topic1\", \"Topic1\", \"Topic1\", \"Topic1\", \"Topic1\", \"Topic1\", \"Topic1\", \"Topic1\", \"Topic1\", \"Topic1\", \"Topic1\", \"Topic1\", \"Topic1\", \"Topic1\", \"Topic1\", \"Topic1\", \"Topic1\", \"Topic1\", \"Topic1\", \"Topic1\", \"Topic1\", \"Topic1\", \"Topic1\", \"Topic1\", \"Topic2\", \"Topic2\", \"Topic2\", \"Topic2\", \"Topic2\", \"Topic2\", \"Topic2\", \"Topic2\", \"Topic2\", \"Topic2\", \"Topic2\", \"Topic2\", \"Topic2\", \"Topic2\", \"Topic2\", \"Topic2\", \"Topic2\", \"Topic2\", \"Topic2\", \"Topic2\", \"Topic2\", \"Topic2\", \"Topic2\", \"Topic2\", \"Topic2\", \"Topic2\", \"Topic2\", \"Topic2\", \"Topic2\", \"Topic2\", \"Topic2\", \"Topic2\", \"Topic2\", \"Topic2\", \"Topic2\", \"Topic2\", \"Topic2\", \"Topic2\", \"Topic2\", \"Topic2\", \"Topic2\", \"Topic2\", \"Topic2\", \"Topic2\", \"Topic2\", \"Topic2\", \"Topic2\", \"Topic2\", \"Topic2\", \"Topic2\", \"Topic2\", \"Topic2\", \"Topic2\", \"Topic2\", \"Topic2\", \"Topic2\", \"Topic2\", \"Topic3\", \"Topic3\", \"Topic3\", \"Topic3\", \"Topic3\", \"Topic3\", \"Topic3\", \"Topic3\", \"Topic3\", \"Topic3\", \"Topic3\", \"Topic3\", \"Topic3\", \"Topic3\", \"Topic3\", \"Topic3\", \"Topic3\", \"Topic3\", \"Topic3\", \"Topic3\", \"Topic3\", \"Topic3\", \"Topic3\", \"Topic3\", \"Topic3\", \"Topic3\", \"Topic3\", \"Topic3\", \"Topic3\", \"Topic3\", \"Topic3\", \"Topic3\", \"Topic3\", \"Topic3\", \"Topic3\", \"Topic3\", \"Topic3\", \"Topic3\", \"Topic3\", \"Topic3\", \"Topic3\", \"Topic3\", \"Topic3\", \"Topic3\", \"Topic3\", \"Topic3\", \"Topic3\", \"Topic3\", \"Topic3\", \"Topic3\", \"Topic3\", \"Topic3\", \"Topic3\", \"Topic4\", \"Topic4\", \"Topic4\", \"Topic4\", \"Topic4\", \"Topic4\", \"Topic4\", \"Topic4\", \"Topic4\", \"Topic4\", \"Topic4\", \"Topic4\", \"Topic4\", \"Topic4\", \"Topic4\", \"Topic4\", \"Topic4\", \"Topic4\", \"Topic4\", \"Topic4\", \"Topic4\", \"Topic4\", \"Topic4\", \"Topic4\", \"Topic4\", \"Topic4\", \"Topic4\", \"Topic4\", \"Topic4\", \"Topic4\", \"Topic4\", \"Topic4\", \"Topic4\", \"Topic4\", \"Topic4\", \"Topic4\", \"Topic4\", \"Topic4\", \"Topic4\", \"Topic4\", \"Topic4\", \"Topic4\", \"Topic4\", \"Topic4\", \"Topic4\", \"Topic4\", \"Topic4\", \"Topic4\", \"Topic4\", \"Topic4\", \"Topic4\", \"Topic4\", \"Topic5\", \"Topic5\", \"Topic5\", \"Topic5\", \"Topic5\", \"Topic5\", \"Topic5\", \"Topic5\", \"Topic5\", \"Topic5\", \"Topic5\", \"Topic5\", \"Topic5\", \"Topic5\", \"Topic5\", \"Topic5\", \"Topic5\", \"Topic5\", \"Topic5\", \"Topic5\", \"Topic5\", \"Topic5\", \"Topic5\", \"Topic5\", \"Topic5\", \"Topic5\", \"Topic5\", \"Topic5\", \"Topic5\", \"Topic5\", \"Topic5\", \"Topic5\", \"Topic5\", \"Topic5\", \"Topic5\", \"Topic5\", \"Topic5\", \"Topic5\", \"Topic5\", \"Topic5\", \"Topic5\", \"Topic5\", \"Topic5\", \"Topic5\", \"Topic5\", \"Topic5\", \"Topic5\", \"Topic5\", \"Topic5\", \"Topic5\", \"Topic5\", \"Topic5\", \"Topic5\", \"Topic5\", \"Topic5\", \"Topic5\", \"Topic6\", \"Topic6\", \"Topic6\", \"Topic6\", \"Topic6\", \"Topic6\", \"Topic6\", \"Topic6\", \"Topic6\", \"Topic6\", \"Topic6\", \"Topic6\", \"Topic6\", \"Topic6\", \"Topic6\", \"Topic6\", \"Topic6\", \"Topic6\", \"Topic6\", \"Topic6\", \"Topic6\", \"Topic6\", \"Topic6\", \"Topic6\", \"Topic6\", \"Topic6\", \"Topic6\", \"Topic6\", \"Topic6\", \"Topic6\", \"Topic6\", \"Topic6\", \"Topic6\", \"Topic6\", \"Topic6\", \"Topic6\", \"Topic6\", \"Topic6\", \"Topic6\", \"Topic6\", \"Topic6\", \"Topic6\", \"Topic6\", \"Topic6\", \"Topic6\", \"Topic6\", \"Topic6\", \"Topic6\", \"Topic6\", \"Topic6\", \"Topic6\", \"Topic6\", \"Topic6\", \"Topic6\", \"Topic7\", \"Topic7\", \"Topic7\", \"Topic7\", \"Topic7\", \"Topic7\", \"Topic7\", \"Topic7\", \"Topic7\", \"Topic7\", \"Topic7\", \"Topic7\", \"Topic7\", \"Topic7\", \"Topic7\", \"Topic7\", \"Topic7\", \"Topic7\", \"Topic7\", \"Topic7\", \"Topic7\", \"Topic7\", \"Topic7\", \"Topic7\", \"Topic7\", \"Topic7\", \"Topic7\", \"Topic7\", \"Topic7\", \"Topic7\", \"Topic7\", \"Topic7\", \"Topic7\", \"Topic7\", \"Topic7\", \"Topic7\", \"Topic7\", \"Topic7\", \"Topic7\", \"Topic7\", \"Topic7\", \"Topic7\", \"Topic7\", \"Topic7\", \"Topic7\", \"Topic7\", \"Topic7\", \"Topic7\", \"Topic7\", \"Topic7\", \"Topic7\", \"Topic7\", \"Topic7\", \"Topic7\", \"Topic7\", \"Topic7\", \"Topic8\", \"Topic8\", \"Topic8\", \"Topic8\", \"Topic8\", \"Topic8\", \"Topic8\", \"Topic8\", \"Topic8\", \"Topic8\", \"Topic8\", \"Topic8\", \"Topic8\", \"Topic8\", \"Topic8\", \"Topic8\", \"Topic8\", \"Topic8\", \"Topic8\", \"Topic8\", \"Topic8\", \"Topic8\", \"Topic8\", \"Topic8\", \"Topic8\", \"Topic8\", \"Topic8\", \"Topic8\", \"Topic8\", \"Topic8\", \"Topic8\", \"Topic8\", \"Topic8\", \"Topic8\", \"Topic8\", \"Topic8\", \"Topic8\", \"Topic8\", \"Topic8\", \"Topic8\", \"Topic8\", \"Topic8\", \"Topic8\", \"Topic8\", \"Topic8\", \"Topic8\", \"Topic8\", \"Topic8\", \"Topic8\", \"Topic8\", \"Topic8\", \"Topic8\", \"Topic8\", \"Topic8\", \"Topic8\", \"Topic8\", \"Topic9\", \"Topic9\", \"Topic9\", \"Topic9\", \"Topic9\", \"Topic9\", \"Topic9\", \"Topic9\", \"Topic9\", \"Topic9\", \"Topic9\", \"Topic9\", \"Topic9\", \"Topic9\", \"Topic9\", \"Topic9\", \"Topic9\", \"Topic9\", \"Topic9\", \"Topic9\", \"Topic9\", \"Topic9\", \"Topic9\", \"Topic9\", \"Topic9\", \"Topic9\", \"Topic9\", \"Topic9\", \"Topic9\", \"Topic9\", \"Topic9\", \"Topic9\", \"Topic9\", \"Topic9\", \"Topic9\", \"Topic9\", \"Topic9\", \"Topic9\", \"Topic9\", \"Topic9\", \"Topic9\", \"Topic9\", \"Topic9\", \"Topic9\", \"Topic9\", \"Topic9\", \"Topic9\", \"Topic9\", \"Topic9\", \"Topic9\", \"Topic9\", \"Topic9\", \"Topic9\", \"Topic9\", \"Topic9\", \"Topic9\", \"Topic10\", \"Topic10\", \"Topic10\", \"Topic10\", \"Topic10\", \"Topic10\", \"Topic10\", \"Topic10\", \"Topic10\", \"Topic10\", \"Topic10\", \"Topic10\", \"Topic10\", \"Topic10\", \"Topic10\", \"Topic10\", \"Topic10\", \"Topic10\", \"Topic10\", \"Topic10\", \"Topic10\", \"Topic10\", \"Topic10\", \"Topic10\", \"Topic10\", \"Topic10\", \"Topic10\", \"Topic10\", \"Topic10\", \"Topic10\", \"Topic10\", \"Topic10\", \"Topic10\", \"Topic10\", \"Topic10\", \"Topic10\", \"Topic10\", \"Topic10\", \"Topic10\", \"Topic10\", \"Topic10\", \"Topic10\", \"Topic10\", \"Topic10\", \"Topic10\", \"Topic10\", \"Topic10\", \"Topic10\", \"Topic10\", \"Topic10\", \"Topic10\", \"Topic10\", \"Topic10\", \"Topic10\", \"Topic10\", \"Topic10\", \"Topic10\", \"Topic10\", \"Topic10\", \"Topic10\", \"Topic10\"], \"Freq\": [35.0, 37.0, 11.0, 12.0, 39.0, 14.0, 26.0, 26.0, 18.0, 42.0, 90.0, 19.0, 13.0, 25.0, 15.0, 5.0, 12.0, 13.0, 7.0, 13.0, 6.0, 11.0, 5.0, 6.0, 6.0, 8.0, 9.0, 4.0, 4.0, 6.0, 1.5949372053146362, 1.4659720659255981, 3.702291488647461, 1.339359164237976, 2.0991809368133545, 0.8355526328086853, 0.8355497717857361, 0.8355458974838257, 0.8355433940887451, 0.8355432152748108, 0.8355419039726257, 0.8355419039726257, 0.8355410695075989, 0.8355389833450317, 0.8355371952056885, 0.8355366587638855, 0.8355349898338318, 0.8355361819267273, 0.8355339169502258, 0.8355340957641602, 0.8355307579040527, 0.8355352878570557, 0.835527777671814, 0.8355329036712646, 0.8355280160903931, 0.8355311155319214, 0.8355268239974976, 0.8355276584625244, 0.8355265855789185, 0.8355221152305603, 2.7544384002685547, 6.754059791564941, 1.5951460599899292, 2.9365074634552, 3.0926666259765625, 2.6030728816986084, 3.866471290588379, 1.5951628684997559, 1.3395153284072876, 1.5951865911483765, 2.3548011779785156, 7.008681297302246, 4.727680206298828, 12.484554290771484, 4.075500965118408, 1.595118761062622, 1.595140814781189, 2.7016286849975586, 5.604841232299805, 3.4795408248901367, 4.159591197967529, 1.595154047012329, 1.595158338546753, 1.4461512565612793, 1.3394945859909058, 1.9557572603225708, 2.5861361026763916, 1.5951354503631592, 1.7473353147506714, 1.5951310396194458, 1.595205545425415, 1.5951876640319824, 1.5951435565948486, 8.906359672546387, 2.928631067276001, 0.7857303619384766, 0.7857234477996826, 0.7857226729393005, 0.785717785358429, 0.7857175469398499, 0.7857168912887573, 0.7857162356376648, 0.7857133746147156, 0.785713791847229, 0.785712480545044, 0.7857117652893066, 0.7857120633125305, 0.7857090830802917, 0.7857092022895813, 0.7857087254524231, 0.7857086658477783, 0.785705029964447, 0.7857039570808411, 0.7857021689414978, 0.7856994867324829, 0.7857003808021545, 0.7856999635696411, 0.7856989502906799, 0.7856982946395874, 0.7856939435005188, 0.7856920957565308, 0.7856897711753845, 0.7856876850128174, 3.642949342727661, 3.3851234912872314, 2.214251756668091, 8.71635913848877, 2.214334487915039, 4.357288837432861, 2.6645805835723877, 5.431253433227539, 1.9884570837020874, 3.402627944946289, 1.5000466108322144, 1.4998940229415894, 2.214365243911743, 1.3071867227554321, 1.4443893432617188, 2.5617449283599854, 2.030604124069214, 1.7146247625350952, 1.5000466108322144, 1.884091854095459, 1.3382571935653687, 1.2747715711593628, 0.7857627272605896, 0.7857540249824524, 0.785753607749939, 0.7857396006584167, 0.7857316732406616, 3.3725054264068604, 3.372448444366455, 4.6562724113464355, 1.5214014053344727, 1.5213865041732788, 2.0019712448120117, 1.2774996757507324, 0.7969223260879517, 0.796922504901886, 0.7969220876693726, 0.7969110608100891, 0.7969110608100891, 0.796911358833313, 0.7969096899032593, 0.7969130873680115, 0.7969083189964294, 0.7969090342521667, 0.796908438205719, 0.7969115376472473, 0.7969098687171936, 0.7969123125076294, 0.7969056367874146, 0.7969029545783997, 0.7969052791595459, 0.7969006896018982, 0.7969070076942444, 0.7969032526016235, 0.7969025373458862, 0.7968996167182922, 0.7969000339508057, 2.7266392707824707, 5.05528450012207, 12.8338041305542, 6.349001407623291, 3.4511425495147705, 1.2776012420654297, 1.5142682790756226, 2.2457754611968994, 1.2776180505752563, 5.868320465087891, 1.6455622911453247, 1.5213932991027832, 1.521391749382019, 3.2141032218933105, 1.0406614542007446, 0.9325656890869141, 0.9389187693595886, 1.0406484603881836, 0.9330320358276367, 0.8904007077217102, 1.099592685699463, 0.7969334721565247, 0.796931803226471, 9.369987487792969, 1.5734082460403442, 1.5732637643814087, 4.066195964813232, 1.3211266994476318, 0.8241758942604065, 0.8241690993309021, 0.8241692781448364, 0.8241659998893738, 0.8241665959358215, 0.8241680860519409, 0.8241661787033081, 0.8241677284240723, 0.8241583704948425, 0.8241601586341858, 0.8241568207740784, 0.824158787727356, 0.8241593241691589, 0.8241611123085022, 0.8241511583328247, 0.8241523504257202, 0.8241295218467712, 0.8241349458694458, 0.8241282105445862, 0.8241246342658997, 0.8241020441055298, 18.184246063232422, 1.453484296798706, 0.6857751607894897, 1.5553706884384155, 1.4292017221450806, 5.008816242218018, 2.3226068019866943, 1.911251187324524, 4.364028453826904, 7.968222618103027, 2.7092490196228027, 1.5734572410583496, 1.4451496601104736, 1.5734918117523193, 2.1120924949645996, 1.2469708919525146, 1.5732885599136353, 1.137475609779358, 1.0611737966537476, 1.076294183731079, 1.0766905546188354, 1.092384934425354, 0.8305578231811523, 0.8242166042327881, 0.8241947293281555, 0.8241913318634033, 2.070359706878662, 1.4025945663452148, 1.402567744255066, 3.339353561401367, 0.7346820831298828, 0.7346801161766052, 0.7346791625022888, 0.7346761226654053, 0.7346775531768799, 0.734675943851471, 0.7346763014793396, 0.7346751689910889, 0.7346747517585754, 0.7346753478050232, 0.734673798084259, 0.7346737384796143, 0.7346740365028381, 0.7346722483634949, 0.7346741557121277, 0.734671950340271, 0.7346737384796143, 0.7346698045730591, 0.7346687912940979, 0.7346680164337158, 0.7346686124801636, 0.734669029712677, 0.7346701622009277, 0.7346702218055725, 0.7346653938293457, 0.7346668243408203, 1.402478814125061, 1.4025330543518066, 1.4025533199310303, 4.5141730308532715, 1.4025824069976807, 2.7384042739868164, 1.177750587463379, 2.7384371757507324, 2.0428731441497803, 1.8648157119750977, 3.427736520767212, 1.3761650323867798, 3.3324708938598633, 1.4026069641113281, 4.669185638427734, 1.402597427368164, 2.0704586505889893, 1.777961015701294, 1.9024995565414429, 1.531116008758545, 1.0076134204864502, 0.9933684468269348, 0.773357093334198, 0.7347017526626587, 0.7346979379653931, 0.734696626663208, 1.3360246419906616, 7.443052768707275, 0.6998366713523865, 0.6998339891433716, 0.699833333492279, 0.6998311281204224, 0.6998310089111328, 0.6998270750045776, 0.6998270153999329, 0.6998297572135925, 0.6998273730278015, 0.6998238563537598, 0.6998199820518494, 0.6998199820518494, 0.6998166441917419, 0.6998181343078613, 0.6998154520988464, 0.6998198628425598, 0.6998124122619629, 0.6998159885406494, 0.6998148560523987, 0.6998162269592285, 0.6998164653778076, 0.6998146772384644, 0.699806272983551, 0.6998114585876465, 0.6998091340065002, 0.6998011469841003, 0.6998080015182495, 0.6998083591461182, 0.6998085975646973, 1.3359657526016235, 1.121925950050354, 1.3360637426376343, 1.3360775709152222, 1.1219120025634766, 1.3360382318496704, 0.9920682907104492, 1.972313642501831, 1.33603835105896, 1.336022138595581, 0.6998583674430847, 0.6998512148857117, 0.6998451948165894, 0.6998344659805298, 0.6998347640037537, 0.699834406375885, 0.6998336911201477, 0.699833333492279, 0.6998330950737, 0.6998317837715149, 0.6998313665390015, 0.6998311281204224, 0.6998308897018433, 2.8006808757781982, 1.5627549886703491, 1.5627386569976807, 1.562674641609192, 1.5624587535858154, 1.31228768825531, 3.813749074935913, 0.8185592293739319, 0.8185588717460632, 0.8185588121414185, 0.8185577392578125, 0.8185550570487976, 0.8185550570487976, 0.8185499906539917, 0.8185529112815857, 0.8185524940490723, 0.8185508847236633, 0.8185529112815857, 0.818547785282135, 0.8185501098632812, 0.8185493350028992, 0.818550169467926, 0.8185473680496216, 0.8185463547706604, 0.8185446262359619, 0.8185445070266724, 0.8185372352600098, 0.8185449242591858, 0.8185397982597351, 0.8185434341430664, 0.818541407585144, 17.900182723999023, 3.2943267822265625, 2.306871175765991, 1.5626976490020752, 1.5627142190933228, 1.9501689672470093, 7.5152482986450195, 3.039409637451172, 2.606642246246338, 2.3069353103637695, 8.663442611694336, 3.984196662902832, 1.5625693798065186, 1.3122680187225342, 2.1797878742218018, 8.27289867401123, 2.5957109928131104, 2.224975824356079, 1.1370980739593506, 1.5627561807632446, 1.112215280532837, 1.8130601644515991, 0.987122654914856, 1.0689557790756226, 1.1905101537704468, 1.4332131147384644, 1.8860820531845093, 1.2036689519882202, 3.251222610473633, 0.7508396506309509, 0.7508396506309509, 0.7508346438407898, 0.750834584236145, 0.750834584236145, 0.750832736492157, 0.7508343458175659, 0.7508330345153809, 0.7508314251899719, 0.7508305907249451, 0.7508330345153809, 0.7508301138877869, 0.7508267164230347, 0.7508285641670227, 0.7508268356323242, 0.7508242726325989, 0.7508255243301392, 0.7508244514465332, 0.7508252263069153, 0.7508196234703064, 0.750822126865387, 0.7508191466331482, 0.7508167028427124, 0.7508195638656616, 0.7508189082145691, 0.7508158087730408, 2.5685718059539795, 1.433361291885376, 2.1159937381744385, 2.892068862915039, 1.2036242485046387, 1.4334110021591187, 1.7085535526275635, 1.4334362745285034, 4.651623725891113, 1.203626275062561, 1.2036223411560059, 1.4334449768066406, 1.9653815031051636, 1.7086899280548096, 4.255895614624023, 1.4334385395050049, 2.4576618671417236, 2.2719295024871826, 1.4334887266159058, 1.4334427118301392, 1.168548345565796, 0.7508754134178162, 0.7508535385131836, 0.7508516907691956, 0.7508437037467957, 0.7508434653282166, 1.481903076171875, 1.4818766117095947, 1.4818800687789917, 1.4818700551986694, 1.4818267822265625, 0.7762377262115479, 0.7762327790260315, 0.7762317657470703, 0.7762308120727539, 0.7762222290039062, 0.7762225866317749, 0.7762241959571838, 0.7762251496315002, 0.7762218117713928, 0.7762198448181152, 0.7762199640274048, 0.7762196660041809, 0.7762197852134705, 0.7762196660041809, 0.7762196660041809, 0.7762207984924316, 0.7762221693992615, 0.776220977306366, 0.7762165069580078, 0.7762131094932556, 0.7762122750282288, 0.7762179374694824, 0.7762115597724915, 0.7762129902839661, 0.7762117981910706, 6.747947692871094, 1.4818533658981323, 2.893298864364624, 1.4818860292434692, 1.481934905052185, 1.4819133281707764, 2.893322229385376, 15.623830795288086, 1.4816994667053223, 1.4817733764648438, 6.190923690795898, 1.4818973541259766, 2.424711227416992, 4.561559200286865, 2.2150588035583496, 2.1875813007354736, 1.4818929433822632, 1.4818897247314453, 1.7192691564559937, 2.187530517578125, 2.18753981590271, 1.7447254657745361, 1.7192997932434082, 1.956761121749878, 2.187570810317993, 1.9397722482681274, 15.823424339294434, 10.232962608337402, 1.6700130701065063, 1.669973373413086, 1.6467124223709106, 3.718733549118042, 1.5167884826660156, 16.466691970825195, 2.7251174449920654, 25.047679901123047, 0.874744176864624, 0.8747392296791077, 0.874737024307251, 0.8747356534004211, 0.8747332096099854, 0.8747341632843018, 0.8747313022613525, 0.874731719493866, 0.8747281432151794, 0.8747270107269287, 0.8747303485870361, 0.8747261166572571, 0.8747302293777466, 0.8747297525405884, 0.8747254014015198, 0.874723494052887, 0.8747265934944153, 0.8747231960296631, 0.8747243881225586, 0.8747268915176392, 3.7877695560455322, 1.6699339151382446, 1.6699378490447998, 1.6699273586273193, 1.669991135597229, 3.5205490589141846, 1.66999351978302, 1.6699371337890625, 1.9375572204589844, 30.023347854614258, 5.7451019287109375, 4.619726181030273, 2.197566509246826, 2.4652156829833984, 4.693939685821533, 4.339747905731201, 2.46509051322937, 7.247858047485352, 3.260542392730713, 6.388591289520264, 6.847474575042725, 4.851053237915039, 2.9928953647613525, 2.4651436805725098, 2.1976189613342285, 2.1975457668304443, 2.73287296295166, 3.260376453399658, 2.465252637863159, 2.048210859298706, 2.0336809158325195], \"Term\": [\"bon\", \"mois\", \"seigneur\", \"chanc\", \"pr\", \"bravo\", \"dieu\", \"stb\", \"tunisien\", \"banqu\", \"a\", \"tous\", \"dit\", \"merc\", \"plus\", \"continu\", \"tout\", \"societ\", \"al\", \"anne\", \"veut\", \"si\", \"frer\", \"bancair\", \"effort\", \"eid\", \"toujour\", \"aujourd\", \"hui\", \"juin\", \"securit\", \"rogg\", \"special\", \"etudi\", \"perform\", \"repondr\", \"souhaitent\", \"ouvr\", \"achat\", \"pet\", \"reconnaiss\", \"kairouan\", \"shufu\", \"gouvernorat\", \"impossibl\", \"parrain\", \"activ\", \"renouvel\", \"direct\", \"appelon\", \"recept\", \"p\", \"sourir\", \"tozeur\", \"jabal\", \"clair\", \"abdul\", \"distinguent\", \"enthousiasm\", \"langag\", \"personnel\", \"anne\", \"agent\", \"autr\", \"mond\", \"particuli\", \"chaqu\", \"salair\", \"accueil\", \"aval\", \"pneus\", \"bon\", \"tous\", \"a\", \"succursal\", \"aupr\", \"pourquoi\", \"meilleur\", \"banqu\", \"merc\", \"pr\", \"coup\", \"dont\", \"avant\", \"chef\", \"salut\", \"stb\", \"al\", \"tout\", \"agenc\", \"eid\", \"client\", \"plus\", \"bravo\", \"lotf\", \"ux\", \"plaignon\", \"v\", \"repet\", \"jelel\", \"fragil\", \"manj\", \"educ\", \"institu\", \"hostilit\", \"scen\", \"chargui\", \"adieu\", \"leader\", \"sertou\", \"pourr\", \"surtout\", \"vient\", \"mercii\", \"post\", \"indulgent\", \"megrin\", \"fatouh\", \"dernier\", \"decoup\", \"obten\", \"jem\", \"salouh\", \"al\", \"effort\", \"remerc\", \"stb\", \"succ\", \"plus\", \"toujour\", \"mois\", \"agenc\", \"merc\", \"comment\", \"mar\", \"tout\", \"personnel\", \"pneus\", \"bon\", \"succursal\", \"anne\", \"client\", \"banqu\", \"si\", \"tous\", \"chaqu\", \"bash\", \"comm\", \"aim\", \"solut\", \"aujourd\", \"hui\", \"veut\", \"professeur\", \"pardon\", \"pla\", \"punit\", \"lettr\", \"verifi\", \"interrompu\", \"precedent\", \"prendr\", \"qassitouh\", \"karit\", \"dehor\", \"parc\", \"dat\", \"extras\", \"suspendu\", \"regret\", \"essui\", \"limit\", \"reserv\", \"racontent\", \"moment\", \"avous\", \"faveur\", \"ador\", \"peignent\", \"achet\", \"histoir\", \"si\", \"pr\", \"dieu\", \"t\", \"proprietair\", \"w\", \"toujour\", \"allash\", \"a\", \"autr\", \"coup\", \"don\", \"banqu\", \"mer\", \"aim\", \"avant\", \"seigneur\", \"mill\", \"alor\", \"mois\", \"comprehens\", \"revenu\", \"chanc\", \"bacheli\", \"etc\", \"continu\", \"gagn\", \"auquel\", \"hor\", \"enqu\", \"peut\", \"fourn\", \"balah\", \"chemin\", \"suppress\", \"pelous\", \"ayoun\", \"ter\", \"star\", \"brutal\", \"esclav\", \"planifi\", \"hajeb\", \"ami\", \"nul\", \"mal\", \"amin\", \"bravoooo\", \"bon\", \"manier\", \"naissanc\", \"bank\", \"argent\", \"tous\", \"servic\", \"appreci\", \"stb\", \"a\", \"bravo\", \"mill\", \"don\", \"toujour\", \"merc\", \"tre\", \"pr\", \"meilleur\", \"agenc\", \"si\", \"succursal\", \"dieu\", \"bien\", \"bash\", \"chef\", \"aim\", \"vis\", \"social\", \"perdu\", \"bancair\", \"locat\", \"un\", \"propr\", \"trouv\", \"nouveau\", \"jendoub\", \"foshan\", \"flash\", \"debab\", \"sponsor\", \"oblig\", \"maison\", \"retr\", \"gratitud\", \"dirham\", \"distribu\", \"blanc\", \"amour\", \"gafs\", \"bahah\", \"mornagui\", \"shak\", \"souri\", \"bal\", \"particulier\", \"subvent\", \"heureux\", \"revenu\", \"confianc\", \"tout\", \"veux\", \"branch\", \"aid\", \"cart\", \"employ\", \"mond\", \"stb\", \"joyeux\", \"bon\", \"appreci\", \"a\", \"mer\", \"plus\", \"anne\", \"succursal\", \"merc\", \"societ\", \"tunisien\", \"banqu\", \"compr\", \"fait\", \"donc\", \"disponibl\", \"seigneur\", \"abit\", \"anglais\", \"pu\", \"ais\", \"candidatur\", \"nn\", \"ne\", \"ant\", \"retir\", \"bech\", \"elkom\", \"atm\", \"arab\", \"soulad\", \"introduit\", \"perdr\", \"osouln\", \"jay\", \"appareil\", \"brech\", \"form\", \"narrat\", \"fran\", \"car\", \"prend\", \"regard\", \"lutf\", \"pert\", \"inshallah\", \"cas\", \"travaill\", \"tre\", \"juin\", \"alor\", \"al\", \"o\", \"mois\", \"bravo\", \"stb\", \"situat\", \"client\", \"toujour\", \"veuill\", \"leur\", \"chaqu\", \"dinar\", \"salair\", \"cet\", \"seul\", \"salar\", \"numero\", \"cart\", \"trois\", \"r\", \"ve\", \"signif\", \"amen\", \"reven\", \"doubl\", \"croir\", \"benefic\", \"inclus\", \"possibilit\", \"ecoul\", \"frenes\", \"tat\", \"ecrit\", \"durc\", \"enseign\", \"det\", \"amnist\", \"resili\", \"frais\", \"zaytoun\", \"telephon\", \"st\", \"obtient\", \"snin\", \"milli\", \"khat\", \"peuvent\", \"deced\", \"exigeon\", \"mois\", \"juin\", \"joan\", \"valeur\", \"depuis\", \"fin\", \"merc\", \"fait\", \"roug\", \"dont\", \"pr\", \"dit\", \"enfant\", \"retribu\", \"quel\", \"a\", \"t\", \"si\", \"serviteur\", \"cart\", \"juillet\", \"dieu\", \"possibl\", \"particuli\", \"stb\", \"bonjour\", \"franch\", \"devis\", \"frer\", \"shahritou\", \"zero\", \"erreur\", \"parent\", \"cinq\", \"sugger\", \"fe\", \"dejeun\", \"va\", \"reduit\", \"pouss\", \"profit\", \"effondre\", \"medenin\", \"system\", \"sept\", \"prair\", \"chant\", \"sommet\", \"pension\", \"barb\", \"cont\", \"miser\", \"offrir\", \"abd\", \"qosito\", \"felicit\", \"famill\", \"seul\", \"eid\", \"compr\", \"deux\", \"joyeux\", \"non\", \"pr\", \"allash\", \"bienheur\", \"coup\", \"seigneur\", \"branch\", \"a\", \"grand\", \"mois\", \"banqu\", \"chaqu\", \"ete\", \"t\", \"dit\", \"augment\", \"ben\", \"person\", \"aupr\", \"salem\", \"abu\", \"soutien\", \"esperon\", \"ide\", \"appliqu\", \"envelopp\", \"mieux\", \"ran\", \"credibilit\", \"approuve\", \"chez\", \"brby\", \"fluidit\", \"vid\", \"appet\", \"coupur\", \"utilise\", \"poes\", \"short\", \"point\", \"janesh\", \"econom\", \"domest\", \"violat\", \"extrait\", \"fiert\", \"corp\", \"concessionnair\", \"evite\", \"dit\", \"brill\", \"remerci\", \"transact\", \"jusqu\", \"utilis\", \"quel\", \"a\", \"retour\", \"f\", \"mois\", \"ethiqu\", \"salut\", \"pr\", \"ete\", \"cart\", \"avant\", \"haut\", \"fait\", \"plus\", \"succursal\", \"t\", \"client\", \"tous\", \"banqu\", \"bon\", \"tunisien\", \"societ\", \"difficil\", \"font\", \"rapport\", \"entrepris\", \"gab\", \"dieu\", \"ben\", \"banqu\", \"rythm\", \"populair\", \"lien\", \"ici\", \"condit\", \"benedict\", \"explor\", \"innov\", \"khazindar\", \"suit\", \"bish\", \"humain\", \"bq\", \"km\", \"defaill\", \"prouv\", \"affair\", \"rendus\", \"demontr\", \"pren\", \"bash\", \"rien\", \"mot\", \"manqu\", \"entre\", \"grand\", \"accept\", \"distributeur\", \"bienheur\", \"a\", \"client\", \"meilleur\", \"accord\", \"haut\", \"salut\", \"ete\", \"tunis\", \"succursal\", \"servic\", \"tous\", \"merc\", \"plus\", \"employ\", \"roug\", \"mer\", \"succ\", \"chaqu\", \"stb\", \"tout\", \"mill\", \"mois\"], \"Total\": [35.0, 37.0, 11.0, 12.0, 39.0, 14.0, 26.0, 26.0, 18.0, 42.0, 90.0, 19.0, 13.0, 25.0, 15.0, 5.0, 12.0, 13.0, 7.0, 13.0, 6.0, 11.0, 5.0, 6.0, 6.0, 8.0, 9.0, 4.0, 4.0, 6.0, 2.237091064453125, 2.231194257736206, 5.870560646057129, 2.2189114093780518, 3.6594862937927246, 1.4775874614715576, 1.4775848388671875, 1.4775811433792114, 1.4775787591934204, 1.47757887840271, 1.4775774478912354, 1.477578043937683, 1.4775792360305786, 1.4775755405426025, 1.477573275566101, 1.4775733947753906, 1.4775714874267578, 1.4775736331939697, 1.4775700569152832, 1.4775705337524414, 1.4775664806365967, 1.4775748252868652, 1.477563738822937, 1.477573037147522, 1.4775645732879639, 1.4775720834732056, 1.4775668382644653, 1.4775696992874146, 1.47756826877594, 1.477564811706543, 5.129027366638184, 13.906208038330078, 2.951467990875244, 6.784023761749268, 7.294354438781738, 5.992874622344971, 10.378398895263672, 3.617513418197632, 2.8998019695281982, 3.7266581058502197, 6.713323593139648, 35.45730209350586, 19.702312469482422, 90.21903228759766, 20.18088722229004, 4.349846839904785, 4.369566440582275, 10.688722610473633, 42.06355285644531, 25.469654083251953, 39.25877380371094, 5.756978988647461, 5.8766770362854, 5.0802903175354, 4.331611156463623, 11.217927932739258, 26.03565788269043, 7.0811767578125, 12.960832595825195, 8.104410171508789, 8.614965438842773, 13.491270065307617, 15.415287971496582, 14.98735237121582, 4.992361545562744, 1.4322993755340576, 1.4322917461395264, 1.4322930574417114, 1.4322869777679443, 1.4322878122329712, 1.4322872161865234, 1.4322896003723145, 1.4322843551635742, 1.4322878122329712, 1.4322861433029175, 1.4322847127914429, 1.4322867393493652, 1.4322823286056519, 1.432283639907837, 1.4322835206985474, 1.432286024093628, 1.4322805404663086, 1.432279348373413, 1.4322797060012817, 1.4322749376296997, 1.4322776794433594, 1.4322774410247803, 1.432281494140625, 1.4322805404663086, 1.4322762489318848, 1.4322731494903564, 1.4322736263275146, 1.4322723150253296, 7.0811767578125, 6.639427185058594, 4.253245830535889, 26.03565788269043, 5.91749906539917, 15.415287971496582, 9.435403823852539, 37.677284240722656, 8.104410171508789, 25.469654083251953, 5.1240034103393555, 5.125087738037109, 12.960832595825195, 5.129027366638184, 6.713323593139648, 35.45730209350586, 20.18088722229004, 13.906208038330078, 13.491270065307617, 42.06355285644531, 11.564959526062012, 19.702312469482422, 10.378398895263672, 6.863643646240234, 3.498527765274048, 4.454101085662842, 2.895376682281494, 4.301192283630371, 4.301150321960449, 6.414886951446533, 2.166962146759033, 2.1669607162475586, 2.8722915649414062, 2.1786694526672363, 1.4424711465835571, 1.4424718618392944, 1.4424715042114258, 1.4424611330032349, 1.442461609840393, 1.442462682723999, 1.4424606561660767, 1.442467212677002, 1.4424588680267334, 1.4424601793289185, 1.4424595832824707, 1.4424664974212646, 1.4424638748168945, 1.4424684047698975, 1.4424575567245483, 1.44245445728302, 1.4424607753753662, 1.4424526691436768, 1.44246506690979, 1.4424582719802856, 1.442458152770996, 1.4424530267715454, 1.4424554109573364, 5.652115345001221, 11.564959526062012, 39.25877380371094, 26.81794548034668, 11.678142547607422, 2.884373903274536, 4.425838947296143, 9.435403823852539, 3.536306142807007, 90.21903228759766, 6.784023761749268, 5.756978988647461, 5.918251037597656, 42.06355285644531, 5.899714469909668, 4.454101085662842, 5.0802903175354, 11.926657676696777, 6.007023811340332, 4.1804280281066895, 37.677284240722656, 2.9432826042175293, 2.778261661529541, 12.676403045654297, 2.21650767326355, 2.216444253921509, 5.980111122131348, 2.2318131923675537, 1.467249870300293, 1.4672431945800781, 1.467244029045105, 1.467240810394287, 1.4672420024871826, 1.4672447443008423, 1.4672428369522095, 1.467246174812317, 1.467236876487732, 1.4672406911849976, 1.4672346115112305, 1.467238426208496, 1.4672393798828125, 1.467242956161499, 1.4672311544418335, 1.4672346115112305, 1.4672094583511353, 1.4672216176986694, 1.4672183990478516, 1.4672170877456665, 1.4672045707702637, 35.45730209350586, 3.016190528869629, 1.4756460189819336, 3.5948522090911865, 3.6176865100860596, 19.702312469482422, 7.534956455230713, 5.739406108856201, 26.03565788269043, 90.21903228759766, 14.98735237121582, 6.007023811340332, 5.918251037597656, 9.435403823852539, 25.469654083251953, 5.801613807678223, 39.25877380371094, 10.688722610473633, 8.104410171508789, 11.564959526062012, 20.18088722229004, 26.81794548034668, 5.7791948318481445, 6.863643646240234, 4.331611156463623, 4.454101085662842, 2.72167706489563, 2.0538136959075928, 2.0537943840026855, 6.2073564529418945, 1.3858892917633057, 1.3858894109725952, 1.385887861251831, 1.3858846426010132, 1.385887622833252, 1.3858851194381714, 1.3858860731124878, 1.3858839273452759, 1.3858840465545654, 1.38588547706604, 1.38588285446167, 1.385883092880249, 1.3858866691589355, 1.3858836889266968, 1.3858877420425415, 1.3858840465545654, 1.3858877420425415, 1.385882019996643, 1.3858802318572998, 1.3858791589736938, 1.385880708694458, 1.3858816623687744, 1.385884165763855, 1.3858866691589355, 1.3858782052993774, 1.3858815431594849, 2.7680411338806152, 2.778261661529541, 2.848984718322754, 12.960832595825195, 3.4144644737243652, 9.165950775146484, 2.8389079570770264, 10.66612434387207, 7.389251708984375, 7.294354438781738, 26.03565788269043, 4.901461601257324, 35.45730209350586, 5.739406108856201, 90.21903228759766, 5.899714469909668, 15.415287971496582, 13.906208038330078, 20.18088722229004, 25.469654083251953, 13.170252799987793, 18.697256088256836, 42.06355285644531, 2.7616050243377686, 8.059362411499023, 4.360536575317383, 1.9904258251190186, 11.926657676696777, 1.3542124032974243, 1.3542112112045288, 1.3542108535766602, 1.3542085886001587, 1.3542083501815796, 1.354203701019287, 1.3542038202285767, 1.354209065437317, 1.3542054891586304, 1.354200839996338, 1.354197382926941, 1.354198932647705, 1.354196548461914, 1.3541992902755737, 1.354195237159729, 1.3542040586471558, 1.3541909456253052, 1.3541984558105469, 1.3541977405548096, 1.3542026281356812, 1.3542027473449707, 1.3542002439498901, 1.3541885614395142, 1.354198932647705, 1.354197382926941, 1.3541826009750366, 1.3541961908340454, 1.354197382926941, 1.35419762134552, 2.7855966091156006, 2.687913656234741, 5.801613807678223, 6.37127161026001, 4.1804280281066895, 7.0811767578125, 3.518761396408081, 37.677284240722656, 14.98735237121582, 26.03565788269043, 2.7612106800079346, 13.491270065307617, 9.435403823852539, 3.4906599521636963, 2.1244750022888184, 10.378398895263672, 4.2110276222229, 3.617513418197632, 2.8550539016723633, 4.9412407875061035, 3.688784122467041, 2.0367605686187744, 10.66612434387207, 3.6817026138305664, 2.2063350677490234, 2.206319570541382, 2.2062816619873047, 2.2061872482299805, 2.211439609527588, 6.6017961502075195, 1.4621379375457764, 1.4621385335922241, 1.4621385335922241, 1.4621374607086182, 1.462134838104248, 1.4621374607086182, 1.4621293544769287, 1.4621354341506958, 1.462134838104248, 1.4621330499649048, 1.4621374607086182, 1.4621286392211914, 1.4621328115463257, 1.4621319770812988, 1.462134838104248, 1.4621317386627197, 1.4621309041976929, 1.462129831314087, 1.4621299505233765, 1.462117075920105, 1.4621315002441406, 1.4621232748031616, 1.4621299505233765, 1.4621262550354004, 37.677284240722656, 6.37127161026001, 4.380565166473389, 2.9119460582733154, 2.920571804046631, 3.753046751022339, 25.469654083251953, 8.059362411499023, 6.795203685760498, 5.8766770362854, 39.25877380371094, 13.703454971313477, 3.637603759765625, 2.9606587886810303, 7.220362663269043, 90.21903228759766, 11.678142547607422, 11.564959526062012, 2.920264720916748, 10.66612434387207, 4.338298320770264, 26.81794548034668, 2.865736961364746, 5.992874622344971, 26.03565788269043, 2.083094835281372, 2.760673999786377, 2.0937368869781494, 5.672818660736084, 1.4005786180496216, 1.4005802869796753, 1.400573968887329, 1.400573968887329, 1.4005743265151978, 1.400572419166565, 1.4005753993988037, 1.4005742073059082, 1.400571584701538, 1.400570034980774, 1.400575041770935, 1.400570273399353, 1.4005669355392456, 1.400571346282959, 1.4005699157714844, 1.4005651473999023, 1.4005703926086426, 1.4005701541900635, 1.4005730152130127, 1.4005628824234009, 1.400567889213562, 1.4005632400512695, 1.4005615711212158, 1.4005675315856934, 1.4005672931671143, 1.400565266609192, 4.978329658508301, 2.8075971603393555, 4.9412407875061035, 8.614965438842773, 2.7616050243377686, 3.6088504791259766, 4.901461601257324, 4.338700294494629, 39.25877380371094, 3.536306142807007, 3.71146821975708, 5.756978988647461, 11.926657676696777, 9.165950775146484, 90.21903228759766, 6.761318206787109, 37.677284240722656, 42.06355285644531, 10.378398895263672, 10.421321868896484, 11.678142547607422, 13.703454971313477, 2.7492988109588623, 4.521360874176025, 2.9398984909057617, 4.349846839904785, 2.129347085952759, 2.129324436187744, 2.1293370723724365, 2.1293346881866455, 2.129300594329834, 1.4236663579940796, 1.423661470413208, 1.4236602783203125, 1.423661231994629, 1.4236520528793335, 1.4236531257629395, 1.4236568212509155, 1.4236586093902588, 1.423653483390808, 1.4236500263214111, 1.4236507415771484, 1.4236506223678589, 1.423651099205017, 1.4236509799957275, 1.4236512184143066, 1.4236531257629395, 1.4236564636230469, 1.4236552715301514, 1.4236488342285156, 1.4236435890197754, 1.4236440658569336, 1.4236550331115723, 1.4236440658569336, 1.4236475229263306, 1.423646092414856, 13.703454971313477, 2.797213077545166, 5.890749931335449, 2.8785550594329834, 2.8889212608337402, 2.9244961738586426, 7.220362663269043, 90.21903228759766, 3.5876543521881104, 3.6070032119750977, 37.677284240722656, 4.402359962463379, 11.217927932739258, 39.25877380371094, 10.421321868896484, 10.66612434387207, 5.0802903175354, 5.182904243469238, 8.059362411499023, 15.415287971496582, 20.18088722229004, 11.678142547607422, 13.491270065307617, 19.702312469482422, 42.06355285644531, 35.45730209350586, 18.697256088256836, 13.170252799987793, 2.3084909915924072, 2.3084511756896973, 2.305835485458374, 5.370882511138916, 2.2947914600372314, 26.81794548034668, 4.521360874176025, 42.06355285644531, 1.513214349746704, 1.5132105350494385, 1.5132081508636475, 1.513208270072937, 1.5132043361663818, 1.5132076740264893, 1.5132029056549072, 1.513203740119934, 1.5131995677947998, 1.5131986141204834, 1.5132043361663818, 1.513197660446167, 1.5132049322128296, 1.5132049322128296, 1.5131981372833252, 1.5131951570510864, 1.5132009983062744, 1.5131953954696655, 1.513197422027588, 1.5132017135620117, 6.863643646240234, 2.9763174057006836, 3.0140950679779053, 3.0140810012817383, 3.022752285003662, 6.761318206787109, 3.0329360961914062, 3.0680179595947266, 3.71146821975708, 90.21903228759766, 13.491270065307617, 10.688722610473633, 4.5187273025512695, 5.182904243469238, 11.217927932739258, 10.421321868896484, 5.291613578796387, 20.18088722229004, 7.534956455230713, 19.702312469482422, 25.469654083251953, 15.415287971496582, 7.389251708984375, 6.795203685760498, 5.899714469909668, 5.91749906539917, 10.378398895263672, 26.03565788269043, 12.960832595825195, 6.007023811340332, 37.677284240722656], \"loglift\": [30.0, 29.0, 28.0, 27.0, 26.0, 25.0, 24.0, 23.0, 22.0, 21.0, 20.0, 19.0, 18.0, 17.0, 16.0, 15.0, 14.0, 13.0, 12.0, 11.0, 10.0, 9.0, 8.0, 7.0, 6.0, 5.0, 4.0, 3.0, 2.0, 1.0, 1.801800012588501, 1.7201000452041626, 1.6791000366210938, 1.6353000402450562, 1.5843000411987305, 1.5700000524520874, 1.5700000524520874, 1.5700000524520874, 1.5700000524520874, 1.5700000524520874, 1.5700000524520874, 1.5700000524520874, 1.5700000524520874, 1.5700000524520874, 1.5700000524520874, 1.5700000524520874, 1.5700000524520874, 1.5700000524520874, 1.5700000524520874, 1.5700000524520874, 1.5700000524520874, 1.5700000524520874, 1.5700000524520874, 1.5700000524520874, 1.5700000524520874, 1.5700000524520874, 1.5700000524520874, 1.5700000524520874, 1.5700000524520874, 1.5700000524520874, 1.518399953842163, 1.4178999662399292, 1.5247999429702759, 1.3028000593185425, 1.281999945640564, 1.3062000274658203, 1.1526999473571777, 1.3213000297546387, 1.367799997329712, 1.291599988937378, 1.0924999713897705, 0.5188999772071838, 0.7128000259399414, 0.1624000072479248, 0.5404000282287598, 1.1368999481201172, 1.1324000358581543, 0.7648000121116638, 0.12460000067949295, 0.14949999749660492, -0.1046999990940094, 0.8567000031471252, 0.8360999822616577, 0.8835999965667725, 0.9664999842643738, 0.39340001344680786, -0.16920000314712524, 0.6496000289916992, 0.1362999975681305, 0.5146999955177307, 0.4535999894142151, 0.005100000184029341, -0.1282999962568283, 1.9086999893188477, 1.8956999778747559, 1.8286999464035034, 1.8286999464035034, 1.8286999464035034, 1.8286999464035034, 1.8286999464035034, 1.8286999464035034, 1.8286999464035034, 1.8286999464035034, 1.8286999464035034, 1.8286999464035034, 1.8286999464035034, 1.8286999464035034, 1.8286999464035034, 1.8286999464035034, 1.8286999464035034, 1.8286999464035034, 1.8286999464035034, 1.8286999464035034, 1.8286999464035034, 1.8286999464035034, 1.8286999464035034, 1.8286999464035034, 1.8286000490188599, 1.8286000490188599, 1.8286000490188599, 1.8286000490188599, 1.8286000490188599, 1.8286000490188599, 1.7645000219345093, 1.7554999589920044, 1.7762999534606934, 1.3348000049591064, 1.4460999965667725, 1.1655999422073364, 1.1647000312805176, 0.49219998717308044, 1.0240999460220337, 0.41620001196861267, 1.200700044631958, 1.2002999782562256, 0.6621000170707703, 1.0621000528335571, 0.8927000164985657, -0.19850000739097595, 0.13269999623298645, 0.335999995470047, 0.23260000348091125, -0.6765999794006348, 0.27250000834465027, -0.30889999866485596, -0.1517000049352646, 0.26170000433921814, 0.9355999827384949, 0.694100022315979, 1.1247999668121338, 2.0817999839782715, 2.0817999839782715, 2.0046000480651855, 1.9713000059127808, 1.9713000059127808, 1.9641000032424927, 1.791200041770935, 1.7316999435424805, 1.7316999435424805, 1.7316999435424805, 1.7316999435424805, 1.7316999435424805, 1.7316999435424805, 1.7316999435424805, 1.7316999435424805, 1.7316999435424805, 1.7316999435424805, 1.7316999435424805, 1.7316999435424805, 1.7316999435424805, 1.7316999435424805, 1.7316999435424805, 1.7316999435424805, 1.7316999435424805, 1.7316999435424805, 1.7316999435424805, 1.7316999435424805, 1.7316999435424805, 1.7316999435424805, 1.7316999435424805, 1.5960999727249146, 1.497499942779541, 1.2069000005722046, 0.8842999935150146, 1.1059999465942383, 1.510699987411499, 1.252500057220459, 0.8895999789237976, 1.3070000410079956, -0.4075999855995178, 0.9085000157356262, 0.9943000078201294, 0.9666000008583069, -0.24660000205039978, 0.5899999737739563, 0.7613999843597412, 0.6366000175476074, -0.11389999836683273, 0.462799996137619, 0.7785000205039978, -1.2091000080108643, 1.0184999704360962, 1.076200008392334, 2.225800037384033, 2.18530011177063, 2.18530011177063, 2.1422998905181885, 2.003700017929077, 1.951200008392334, 1.951200008392334, 1.951200008392334, 1.951200008392334, 1.951200008392334, 1.951200008392334, 1.951200008392334, 1.951200008392334, 1.951200008392334, 1.951200008392334, 1.951200008392334, 1.951200008392334, 1.951200008392334, 1.951200008392334, 1.951200008392334, 1.951200008392334, 1.951200008392334, 1.951200008392334, 1.951200008392334, 1.951200008392334, 1.951200008392334, 1.860200047492981, 1.7979999780654907, 1.7617000341415405, 1.6901999711990356, 1.5993000268936157, 1.1584999561309814, 1.351099967956543, 1.4284000396728516, 0.7419000267982483, 0.10119999945163727, 0.8174999952316284, 1.1883000135421753, 1.1181999444961548, 0.7368000149726868, 0.03819999843835831, 0.9905999898910522, -0.6890000104904175, 0.28760001063346863, 0.4950000047683716, 0.1535000056028366, -0.4027999937534332, -0.6726999878883362, 0.588100016117096, 0.4083999991416931, 0.8687000274658203, 0.8407999873161316, 2.262700080871582, 2.1547999382019043, 2.1547999382019043, 1.916200041770935, 1.9014999866485596, 1.9014999866485596, 1.9014999866485596, 1.9014999866485596, 1.9014999866485596, 1.9014999866485596, 1.9014999866485596, 1.9014999866485596, 1.9014999866485596, 1.9014999866485596, 1.9014999866485596, 1.9014999866485596, 1.9014999866485596, 1.9014999866485596, 1.9014999866485596, 1.9014999866485596, 1.9014999866485596, 1.9014999866485596, 1.9014999866485596, 1.9014999866485596, 1.9014999866485596, 1.9014999866485596, 1.9014999866485596, 1.9014999866485596, 1.9014999866485596, 1.9014999866485596, 1.8562999963760376, 1.8525999784469604, 1.8274999856948853, 1.4815000295639038, 1.6464999914169312, 1.3280999660491943, 1.6563999652862549, 1.1764999628067017, 1.250499963760376, 1.1721999645233154, 0.5085999965667725, 1.2660000324249268, 0.17159999907016754, 1.1272000074386597, -0.4250999987125397, 1.0995999574661255, 0.5285999774932861, 0.47929999232292175, 0.1746000051498413, -0.275299996137619, -0.03420000150799751, -0.39879998564720154, -1.4600000381469727, 1.2121000289916992, 0.14110000431537628, 0.755299985408783, 2.433199882507324, 2.3603999614715576, 2.171799898147583, 2.1717000007629395, 2.1717000007629395, 2.1717000007629395, 2.1717000007629395, 2.1717000007629395, 2.1717000007629395, 2.1717000007629395, 2.1717000007629395, 2.1717000007629395, 2.1717000007629395, 2.1717000007629395, 2.1717000007629395, 2.1717000007629395, 2.1717000007629395, 2.1717000007629395, 2.1717000007629395, 2.1717000007629395, 2.1717000007629395, 2.1717000007629395, 2.1717000007629395, 2.1717000007629395, 2.1717000007629395, 2.1717000007629395, 2.1717000007629395, 2.1717000007629395, 2.1717000007629395, 2.1717000007629395, 2.1717000007629395, 2.097100019454956, 1.9581999778747559, 1.3634999990463257, 1.2697999477386475, 1.5164999961853027, 1.1641000509262085, 1.5657999515533447, -0.11800000071525574, 0.41440001130104065, -0.1378999948501587, 1.4593000411987305, -0.12700000405311584, 0.2304999977350235, 1.2249000072479248, 1.7214000225067139, 0.13519999384880066, 1.0372999906539917, 1.1892000436782837, 1.4258999824523926, 0.8773000240325928, 1.169700026512146, 1.7635999917984009, 0.10790000110864639, 1.8767000436782837, 1.805299997329712, 1.805299997329712, 1.805299997329712, 1.8051999807357788, 1.6282999515533447, 1.6014000177383423, 1.570099949836731, 1.570099949836731, 1.570099949836731, 1.570099949836731, 1.570099949836731, 1.570099949836731, 1.570099949836731, 1.570099949836731, 1.570099949836731, 1.570099949836731, 1.570099949836731, 1.570099949836731, 1.570099949836731, 1.570099949836731, 1.5700000524520874, 1.5700000524520874, 1.5700000524520874, 1.5700000524520874, 1.5700000524520874, 1.5700000524520874, 1.5700000524520874, 1.5700000524520874, 1.5700000524520874, 1.5700000524520874, 1.405900001525879, 1.4905999898910522, 1.5089000463485718, 1.5277999639511108, 1.5247999429702759, 1.4954999685287476, 0.9296000003814697, 1.1749999523162842, 1.1920000314712524, 1.2151000499725342, 0.6391000151634216, 0.914900004863739, 1.3051999807357788, 1.3365000486373901, 0.9524999856948853, -0.23909999430179596, 0.6463000178337097, 0.5019000172615051, 1.2070000171661377, 0.22949999570846558, 0.7889999747276306, -0.5439000129699707, 1.0844000577926636, 0.4262999892234802, -0.9348999857902527, 2.2290000915527344, 2.2219998836517334, 2.0494000911712646, 2.046299934387207, 1.9795000553131104, 1.9795000553131104, 1.9795000553131104, 1.9795000553131104, 1.9795000553131104, 1.9795000553131104, 1.9795000553131104, 1.9795000553131104, 1.9795000553131104, 1.9795000553131104, 1.9795000553131104, 1.9795000553131104, 1.9795000553131104, 1.9795000553131104, 1.9795000553131104, 1.9795000553131104, 1.9795000553131104, 1.9795000553131104, 1.9795000553131104, 1.9795000553131104, 1.9795000553131104, 1.9795000553131104, 1.9795000553131104, 1.9795000553131104, 1.9795000553131104, 1.9795000553131104, 1.9412000179290771, 1.9306000471115112, 1.7548999786376953, 1.5113999843597412, 1.7725000381469727, 1.6796000003814697, 1.5491000413894653, 1.4953999519348145, 0.4699999988079071, 1.5252000093460083, 1.4768999814987183, 1.2125999927520752, 0.7998999953269958, 0.9232000112533569, -0.45100000500679016, 1.051800012588501, -0.12690000236034393, -0.3156000077724457, 0.6233000159263611, 0.6191999912261963, 0.3009999990463257, -0.3012000024318695, 1.3050999641418457, 0.8076000213623047, 1.2380000352859497, 0.8461999893188477, 1.9227999448776245, 1.9227999448776245, 1.9227999448776245, 1.9227999448776245, 1.9227999448776245, 1.6786999702453613, 1.6786999702453613, 1.6786999702453613, 1.6786999702453613, 1.6786999702453613, 1.6786999702453613, 1.6786999702453613, 1.6786999702453613, 1.6786999702453613, 1.6786999702453613, 1.6786999702453613, 1.6786999702453613, 1.6786999702453613, 1.6786999702453613, 1.6786999702453613, 1.6786999702453613, 1.6786999702453613, 1.6786999702453613, 1.6786999702453613, 1.6786999702453613, 1.6786999702453613, 1.6786999702453613, 1.6786999702453613, 1.6786999702453613, 1.6786999702453613, 1.5769000053405762, 1.649999976158142, 1.5743000507354736, 1.6212999820709229, 1.6176999807357788, 1.6054999828338623, 1.3708000183105469, 0.5317999720573425, 1.4010000228881836, 1.3955999612808228, 0.47929999232292175, 1.1964999437332153, 0.7534999847412109, 0.13279999792575836, 0.7366999983787537, 0.7009999752044678, 1.0532000064849854, 1.0332000255584717, 0.7402999997138977, 0.3327000141143799, 0.0632999986410141, 0.38420000672340393, 0.22519999742507935, -0.02419999986886978, -0.6711000204086304, -0.6205000281333923, 1.5134999752044678, 1.4279999732971191, 1.356600046157837, 1.356600046157837, 1.3437000513076782, 1.3127000331878662, 1.2662999629974365, 1.1926000118255615, 1.1740000247955322, 1.1619000434875488, 1.1323000192642212, 1.1323000192642212, 1.1323000192642212, 1.1323000192642212, 1.1323000192642212, 1.1323000192642212, 1.1323000192642212, 1.1323000192642212, 1.1323000192642212, 1.1323000192642212, 1.1323000192642212, 1.1323000192642212, 1.1323000192642212, 1.1323000192642212, 1.1323000192642212, 1.1323000192642212, 1.1323000192642212, 1.1323000192642212, 1.1323000192642212, 1.1323000192642212, 1.0858999490737915, 1.1023999452590942, 1.0898000001907349, 1.0898000001907349, 1.0870000123977661, 1.0276999473571777, 1.0836000442504883, 1.072100043296814, 1.030400037765503, 0.5800999999046326, 0.82669997215271, 0.8414999842643738, 0.9595000147819519, 0.9373000264167786, 0.8090999722480774, 0.8043000102043152, 0.9164999723434448, 0.6563000082969666, 0.8427000045776367, 0.554099977016449, 0.3666999936103821, 0.5242000222206116, 0.7766000032424927, 0.6664000153541565, 0.692799985408783, 0.6898000240325928, 0.34599998593330383, -0.39730000495910645, 0.02070000022649765, 0.6043999791145325, -1.2388999462127686], \"logprob\": [30.0, 29.0, 28.0, 27.0, 26.0, 25.0, 24.0, 23.0, 22.0, 21.0, 20.0, 19.0, 18.0, 17.0, 16.0, 15.0, 14.0, 13.0, 12.0, 11.0, 10.0, 9.0, 8.0, 7.0, 6.0, 5.0, 4.0, 3.0, 2.0, 1.0, -5.138500213623047, -5.222799777984619, -4.29640007019043, -5.3130998611450195, -4.863800048828125, -5.784999847412109, -5.784999847412109, -5.784999847412109, -5.784999847412109, -5.784999847412109, -5.784999847412109, -5.784999847412109, -5.784999847412109, -5.784999847412109, -5.784999847412109, -5.784999847412109, -5.784999847412109, -5.784999847412109, -5.784999847412109, -5.784999847412109, -5.784999847412109, -5.784999847412109, -5.784999847412109, -5.784999847412109, -5.784999847412109, -5.784999847412109, -5.784999847412109, -5.784999847412109, -5.784999847412109, -5.784999847412109, -4.592100143432617, -3.695199966430664, -5.138400077819824, -4.52810001373291, -4.47629976272583, -4.648600101470947, -4.252999782562256, -5.138400077819824, -5.313000202178955, -5.138299942016602, -4.748899936676025, -3.6582000255584717, -4.0518999099731445, -3.0808000564575195, -4.200300216674805, -5.138400077819824, -5.138400077819824, -4.611499786376953, -3.881700038909912, -4.358399868011475, -4.179900169372559, -5.138400077819824, -5.138400077819824, -5.236400127410889, -5.313000202178955, -4.934599876403809, -4.655200004577637, -5.138400077819824, -5.0472002029418945, -5.138400077819824, -5.138299942016602, -5.138299942016602, -5.138400077819824, -3.1296000480651855, -4.241799831390381, -5.557499885559082, -5.557499885559082, -5.557499885559082, -5.557499885559082, -5.557499885559082, -5.557499885559082, -5.557499885559082, -5.557499885559082, -5.557499885559082, -5.557499885559082, -5.557499885559082, -5.557499885559082, -5.557499885559082, -5.557499885559082, -5.557499885559082, -5.557499885559082, -5.557499885559082, -5.557499885559082, -5.557499885559082, -5.557499885559082, -5.557499885559082, -5.557499885559082, -5.557499885559082, -5.557499885559082, -5.557499885559082, -5.557499885559082, -5.557499885559082, -5.557499885559082, -4.023499965667725, -4.09689998626709, -4.521399974822998, -3.151099920272827, -4.521399974822998, -3.8445000648498535, -4.336299896240234, -3.6242001056671143, -4.629000186920166, -4.091800212860107, -4.910799980163574, -4.910900115966797, -4.521399974822998, -5.048500061035156, -4.948599815368652, -4.3755998611450195, -4.607999801635742, -4.777100086212158, -4.910799980163574, -4.6828999519348145, -5.025000095367432, -5.073599815368652, -5.557400226593018, -5.557400226593018, -5.557400226593018, -5.557499885559082, -5.557499885559082, -4.204699993133545, -4.204800128936768, -3.882200002670288, -5.000800132751465, -5.000800132751465, -4.72629976272583, -5.17549991607666, -5.64739990234375, -5.64739990234375, -5.64739990234375, -5.64739990234375, -5.64739990234375, -5.64739990234375, -5.64739990234375, -5.64739990234375, -5.64739990234375, -5.64739990234375, -5.64739990234375, -5.64739990234375, -5.64739990234375, -5.64739990234375, -5.64739990234375, -5.64739990234375, -5.64739990234375, -5.64739990234375, -5.64739990234375, -5.64739990234375, -5.64739990234375, -5.64739990234375, -5.64739990234375, -4.417300224304199, -3.799999952316284, -2.868299961090088, -3.5720999240875244, -4.181700229644775, -5.1753997802734375, -5.005499839782715, -4.611299991607666, -5.1753997802734375, -3.6507999897003174, -4.922299861907959, -5.000800132751465, -5.000800132751465, -4.252900123596191, -5.380499839782715, -5.490200042724609, -5.483399868011475, -5.3805999755859375, -5.489699840545654, -5.536499977111816, -5.325500011444092, -5.64739990234375, -5.64739990234375, -2.9798998832702637, -4.764200210571289, -4.7642998695373535, -3.81469988822937, -4.938899993896484, -5.410799980163574, -5.410799980163574, -5.410799980163574, -5.410799980163574, -5.410799980163574, -5.410799980163574, -5.410799980163574, -5.410799980163574, -5.410799980163574, -5.410799980163574, -5.410799980163574, -5.410799980163574, -5.410799980163574, -5.410799980163574, -5.410799980163574, -5.410799980163574, -5.410900115966797, -5.410900115966797, -5.410900115966797, -5.410900115966797, -5.410900115966797, -2.3169000148773193, -4.843500137329102, -5.594600200653076, -4.775700092315674, -4.860300064086914, -3.6061999797821045, -4.37470006942749, -4.569699764251709, -3.74399995803833, -3.1419999599456787, -4.220799922943115, -4.764200210571289, -4.8491997718811035, -4.764100074768066, -4.469799995422363, -4.996699810028076, -4.7642998695373535, -5.088600158691406, -5.158100128173828, -5.143899917602539, -5.143499851226807, -5.1290998458862305, -5.40310001373291, -5.410799980163574, -5.410799980163574, -5.410799980163574, -4.481500148773193, -4.8709001541137695, -4.8709001541137695, -4.003499984741211, -5.517600059509277, -5.517600059509277, -5.517600059509277, -5.517600059509277, -5.517600059509277, -5.517600059509277, -5.517600059509277, -5.517600059509277, -5.517600059509277, -5.517600059509277, -5.517600059509277, -5.517600059509277, -5.517600059509277, -5.517600059509277, -5.517600059509277, -5.517600059509277, -5.517600059509277, -5.517600059509277, -5.517600059509277, -5.517600059509277, -5.517600059509277, -5.517600059509277, -5.517600059509277, -5.517600059509277, -5.517600059509277, -5.517600059509277, -4.870999813079834, -4.870999813079834, -4.870999813079834, -3.7019999027252197, -4.8709001541137695, -4.201900005340576, -5.045599937438965, -4.201900005340576, -4.494900226593018, -4.586100101470947, -3.977299928665161, -4.889900207519531, -4.005499839782715, -4.8709001541137695, -3.668299913406372, -4.8709001541137695, -4.481500148773193, -4.633800029754639, -4.566100120544434, -4.783299922943115, -5.201700210571289, -5.21589994430542, -5.466300010681152, -5.517499923706055, -5.517499923706055, -5.517499923706055, -4.623899936676025, -2.9063000679016113, -5.270500183105469, -5.270500183105469, -5.270500183105469, -5.270500183105469, -5.270500183105469, -5.270500183105469, -5.270500183105469, -5.270500183105469, -5.270500183105469, -5.270500183105469, -5.270500183105469, -5.270500183105469, -5.270500183105469, -5.270500183105469, -5.270500183105469, -5.270500183105469, -5.270500183105469, -5.270500183105469, -5.270500183105469, -5.270500183105469, -5.270500183105469, -5.270500183105469, -5.270500183105469, -5.270500183105469, -5.270500183105469, -5.270500183105469, -5.270500183105469, -5.270500183105469, -5.270500183105469, -4.623899936676025, -4.798500061035156, -4.623799800872803, -4.623799800872803, -4.798500061035156, -4.623799800872803, -4.921500205993652, -4.234300136566162, -4.623799800872803, -4.623899936676025, -5.270400047302246, -5.270400047302246, -5.270500183105469, -5.270500183105469, -5.270500183105469, -5.270500183105469, -5.270500183105469, -5.270500183105469, -5.270500183105469, -5.270500183105469, -5.270500183105469, -5.270500183105469, -5.270500183105469, -4.565400123596191, -5.148799896240234, -5.148799896240234, -5.148900032043457, -5.14900016784668, -5.323500156402588, -4.256700038909912, -5.795499801635742, -5.795499801635742, -5.795499801635742, -5.795499801635742, -5.795499801635742, -5.795499801635742, -5.795499801635742, -5.795499801635742, -5.795499801635742, -5.795499801635742, -5.795499801635742, -5.795499801635742, -5.795499801635742, -5.795499801635742, -5.795499801635742, -5.795499801635742, -5.795499801635742, -5.795499801635742, -5.795499801635742, -5.795499801635742, -5.795499801635742, -5.795499801635742, -5.795499801635742, -5.795499801635742, -2.7105000019073486, -4.40310001373291, -4.759399890899658, -5.148900032043457, -5.148799896240234, -4.9274001121521, -3.5782999992370605, -4.48360013961792, -4.637199878692627, -4.759300231933594, -3.436199903488159, -4.212900161743164, -5.148900032043457, -5.323500156402588, -4.815999984741211, -3.482300043106079, -4.64139986038208, -4.795499801635742, -5.466800212860107, -5.148799896240234, -5.488900184631348, -5.00029993057251, -5.6082000732421875, -5.528600215911865, -5.420899868011475, -4.782599925994873, -4.507999897003174, -4.957099914550781, -3.9635000228881836, -5.429100036621094, -5.429100036621094, -5.429100036621094, -5.429100036621094, -5.429100036621094, -5.429100036621094, -5.429100036621094, -5.429100036621094, -5.429100036621094, -5.429100036621094, -5.429100036621094, -5.429100036621094, -5.429100036621094, -5.429100036621094, -5.429100036621094, -5.429100036621094, -5.429100036621094, -5.429100036621094, -5.429100036621094, -5.429100036621094, -5.429100036621094, -5.429100036621094, -5.429100036621094, -5.429100036621094, -5.429100036621094, -5.429100036621094, -4.199100017547607, -4.78249979019165, -4.39300012588501, -4.08050012588501, -4.957200050354004, -4.782400131225586, -4.606800079345703, -4.782400131225586, -3.605299949645996, -4.957099914550781, -4.957200050354004, -4.782400131225586, -4.466800212860107, -4.606800079345703, -3.694200038909912, -4.782400131225586, -4.243299961090088, -4.321899890899658, -4.782400131225586, -4.782400131225586, -4.986700057983398, -5.428999900817871, -5.428999900817871, -5.428999900817871, -5.428999900817871, -5.428999900817871, -5.066800117492676, -5.066800117492676, -5.066800117492676, -5.06689977645874, -5.06689977645874, -5.713500022888184, -5.713500022888184, -5.713500022888184, -5.713500022888184, -5.713500022888184, -5.713500022888184, -5.713500022888184, -5.713500022888184, -5.713500022888184, -5.713500022888184, -5.713500022888184, -5.713500022888184, -5.713500022888184, -5.713500022888184, -5.713500022888184, -5.713500022888184, -5.713500022888184, -5.713500022888184, -5.713500022888184, -5.713500022888184, -5.713500022888184, -5.713500022888184, -5.713500022888184, -5.713500022888184, -5.713500022888184, -3.5508999824523926, -5.06689977645874, -4.397799968719482, -5.066800117492676, -5.066800117492676, -5.066800117492676, -4.397799968719482, -2.711400032043457, -5.066999912261963, -5.06689977645874, -3.6370999813079834, -5.066800117492676, -4.574399948120117, -3.942500114440918, -4.664899826049805, -4.6774001121521, -5.066800117492676, -5.066800117492676, -4.918300151824951, -4.6774001121521, -4.6774001121521, -4.903600215911865, -4.9182000160217285, -4.788899898529053, -4.6774001121521, -4.797599792480469, -3.3036000728607178, -3.739500045776367, -5.552299976348877, -5.552299976348877, -5.566299915313721, -4.751699924468994, -5.648499965667725, -3.263700008392334, -5.062600135803223, -2.8443000316619873, -6.19890022277832, -6.19890022277832, -6.19890022277832, -6.19890022277832, -6.19890022277832, -6.19890022277832, -6.19890022277832, -6.19890022277832, -6.19890022277832, -6.19890022277832, -6.19890022277832, -6.19890022277832, -6.19890022277832, -6.19890022277832, -6.19890022277832, -6.19890022277832, -6.19890022277832, -6.19890022277832, -6.19890022277832, -6.19890022277832, -4.73330020904541, -5.552299976348877, -5.552299976348877, -5.552299976348877, -5.552299976348877, -4.80649995803833, -5.552299976348877, -5.552299976348877, -5.40369987487793, -2.663100004196167, -4.316699981689453, -4.534800052642822, -5.277699947357178, -5.162799835205078, -4.518799781799316, -4.597300052642822, -5.162899971008301, -4.084400177001953, -4.883200168609619, -4.210599899291992, -4.141200065612793, -4.485899925231934, -4.968800067901611, -5.162799835205078, -5.277699947357178, -5.277699947357178, -5.059700012207031, -4.883200168609619, -5.162799835205078, -5.348100185394287, -5.355199813842773]}, \"token.table\": {\"Topic\": [1, 3, 4, 5, 6, 7, 8, 9, 10, 8, 1, 6, 9, 3, 10, 3, 7, 10, 1, 5, 1, 3, 1, 2, 3, 10, 1, 2, 4, 5, 9, 10, 1, 2, 1, 5, 1, 2, 3, 4, 10, 6, 1, 2, 6, 3, 8, 3, 6, 7, 8, 7, 4, 4, 7, 5, 6, 1, 2, 5, 6, 7, 9, 10, 6, 6, 1, 9, 9, 2, 4, 5, 9, 9, 6, 3, 4, 5, 6, 6, 8, 9, 3, 1, 3, 8, 9, 4, 1, 3, 10, 1, 8, 10, 1, 2, 3, 9, 3, 4, 4, 5, 5, 4, 5, 6, 9, 10, 2, 4, 5, 1, 2, 3, 5, 7, 8, 9, 10, 8, 1, 2, 4, 10, 6, 8, 10, 10, 7, 3, 4, 5, 7, 8, 9, 10, 8, 10, 10, 5, 1, 2, 4, 5, 9, 10, 8, 10, 1, 5, 6, 7, 8, 9, 10, 2, 4, 6, 9, 4, 9, 6, 5, 9, 4, 6, 6, 2, 3, 5, 6, 7, 9, 10, 6, 10, 6, 9, 10, 1, 4, 9, 8, 1, 2, 6, 7, 8, 10, 2, 1, 4, 5, 8, 4, 9, 8, 1, 1, 2, 3, 4, 6, 9, 10, 2, 3, 6, 9, 1, 2, 3, 4, 7, 5, 8, 3, 9, 10, 9, 10, 5, 10, 8, 1, 4, 9, 1, 3, 8, 9, 9, 9, 7, 3, 5, 7, 2, 10, 3, 8, 10, 2, 7, 2, 7, 1, 8, 8, 3, 4, 5, 7, 10, 10, 3, 6, 7, 8, 9, 1, 5, 6, 1, 5, 1, 10, 7, 8, 9, 10, 9, 3, 4, 7, 9, 10, 1, 2, 5, 9, 10, 1, 3, 7, 8, 1, 5, 7, 7, 9, 7, 7, 2, 8, 1, 2, 10, 1, 5, 6, 8, 10, 6, 1, 5, 10, 6, 7, 10, 4, 7, 1, 2, 10, 3, 10, 9, 8, 4, 9, 3, 4, 1, 3, 7, 8, 9, 10, 8, 9, 10, 1, 9, 7, 10, 9, 3, 8, 9, 10, 3, 5, 7, 9, 10, 3, 8, 2, 3, 8, 2, 8, 10, 9, 7, 10, 5, 9, 10, 6, 5, 4, 2, 7, 6, 8, 7, 3, 8, 10, 10, 5, 4, 1, 7, 8, 10, 5, 4, 5, 9, 10, 2, 5, 3, 6, 8, 9, 4, 2, 3, 10, 10, 9, 1, 7, 2, 10, 6, 2, 3, 6, 1, 9, 6, 2, 2, 5, 3, 7, 9, 1, 5, 7, 8, 1, 4, 5, 7, 9, 5, 6, 7, 1, 9, 1, 3, 7, 10, 10, 1, 2, 3, 6, 10, 3, 5, 2, 4, 5, 6, 5, 4, 4, 10, 2, 9, 10, 1, 2, 7, 8, 10, 8, 2, 1, 2, 4, 7, 10, 1, 3, 5, 10, 1, 2, 4, 5, 7, 10, 2, 9, 3, 4, 9, 10, 7, 8, 2, 3, 6, 7, 8, 9, 10, 3, 1, 2, 5, 10, 5, 9, 10, 4, 6, 6, 6, 5, 8, 10, 5, 4, 6, 8, 1, 6, 9, 5, 2, 7, 8, 6, 1, 1, 3, 3, 8, 1, 1, 2, 7, 10, 5, 3, 4, 8, 6, 5, 1, 5, 7, 8, 10, 1, 2, 5, 6, 1, 4, 7, 3, 2, 4, 1, 2, 5, 9, 10, 1, 2, 9, 10, 9, 9, 10, 7, 2, 7, 8, 2, 1, 7, 8, 9, 2, 8, 1, 3, 4, 5, 7, 8, 9, 10, 8, 3, 10, 6, 3, 3, 8, 5, 3, 9, 10, 6, 3, 3, 8, 2, 3, 7, 9, 7, 3, 9, 10, 1, 1, 8, 6, 3, 2, 3, 5, 1, 9, 10, 10, 1, 2, 1, 3, 7, 6, 2, 7, 9, 5, 4, 7, 7, 3, 5, 5, 10, 1, 1, 7, 9, 10, 10, 1, 6, 7, 6, 7, 10, 9, 2, 1, 2, 5, 9, 10, 2, 1, 3, 6, 8, 8, 2, 4, 8, 9, 10, 4, 7, 6, 7, 8, 10, 8, 5, 9, 1, 2, 3, 4, 6, 7, 7, 3, 6, 8, 7, 5, 1, 5, 10, 2, 5, 10, 8, 1, 6, 5, 1, 9, 1, 5, 8, 5, 7, 4, 1, 2, 4, 5, 6, 7, 9, 10, 5, 2, 3, 10, 1, 2, 4, 5, 7, 9, 10, 8, 10, 4, 2, 3, 8, 1, 3, 7, 8, 9, 10, 7, 7, 4, 2, 3, 4, 6, 7, 10, 1, 2, 4, 9, 10, 1, 2, 4, 5, 7, 10, 1, 4, 9, 5, 6, 4, 6, 9, 10, 7, 5, 2, 3, 4, 10, 5, 7, 10, 5, 9, 10, 9, 2, 2, 8, 7, 9, 7, 3, 3, 5, 6, 7, 3, 6, 3, 5, 6, 9, 2, 9, 5, 2, 3, 7, 10, 7, 8], \"Freq\": [0.1330096274614334, 0.0665048137307167, 0.08867308497428894, 0.05542067810893059, 0.011084135621786118, 0.08867308497428894, 0.04433654248714447, 0.17734616994857788, 0.33252406120300293, 0.713996410369873, 0.676788330078125, 0.7384365797042847, 0.46963250637054443, 0.32971349358558655, 0.6594269871711731, 0.22130124270915985, 0.22130124270915985, 0.4426024854183197, 0.34485113620758057, 0.34485113620758057, 0.6767828464508057, 0.6932623386383057, 0.6767861843109131, 0.6981863975524902, 0.6932610273361206, 0.6608507633209229, 0.24677921831607819, 0.24677921831607819, 0.12338960915803909, 0.12338960915803909, 0.12338960915803909, 0.24677921831607819, 0.6776288747787476, 0.3388144373893738, 0.3522481322288513, 0.3522481322288513, 0.22451218962669373, 0.22451218962669373, 0.22451218962669373, 0.22451218962669373, 0.22451218962669373, 0.7384386658668518, 0.2824389338493347, 0.5648778676986694, 0.14121946692466736, 0.2827809453010559, 0.2827809453010559, 0.23920994997024536, 0.23920994997024536, 0.23920994997024536, 0.23920994997024536, 0.9065413475036621, 0.6815659403800964, 0.6815624237060547, 0.6839343309402466, 0.7215621471405029, 0.7384372353553772, 0.503372311592102, 0.143820658326149, 0.143820658326149, 0.0719103291630745, 0.0719103291630745, 0.0719103291630745, 0.0719103291630745, 0.7384384274482727, 0.7384445667266846, 0.6767866611480713, 0.7024194598197937, 0.7024117708206177, 0.1742340624332428, 0.3484681248664856, 0.1742340624332428, 0.1742340624332428, 0.7024182677268982, 0.7384452223777771, 0.2764197587966919, 0.2764197587966919, 0.2764197587966919, 0.7384439706802368, 0.3637291193008423, 0.3637291193008423, 0.3637291193008423, 0.6974810361862183, 0.4597862958908081, 0.22989314794540405, 0.22989314794540405, 0.22989314794540405, 0.6815471649169922, 0.4422154426574707, 0.29481029510498047, 0.29481029510498047, 0.5366738438606262, 0.2683369219303131, 0.2683369219303131, 0.1968391388654709, 0.1968391388654709, 0.1968391388654709, 0.1968391388654709, 0.6932576894760132, 0.681551456451416, 0.902320384979248, 0.7215636372566223, 0.7215597033500671, 0.6815495491027832, 0.48329752683639526, 0.16109918057918549, 0.16109918057918549, 0.16109918057918549, 0.27817556262016296, 0.5563511252403259, 0.27817556262016296, 0.14264130592346191, 0.047547101974487305, 0.07132065296173096, 0.023773550987243652, 0.023773550987243652, 0.047547101974487305, 0.047547101974487305, 0.5943387746810913, 0.7139961123466492, 0.14569520950317383, 0.14569520950317383, 0.14569520950317383, 0.5827808380126953, 0.7384428977966309, 0.22117234766483307, 0.6635170578956604, 0.6608478426933289, 0.6839297413825989, 0.17303448915481567, 0.17303448915481567, 0.17303448915481567, 0.17303448915481567, 0.17303448915481567, 0.17303448915481567, 0.17303448915481567, 0.2694351375102997, 0.5388702750205994, 0.6608492732048035, 0.7215591669082642, 0.19742055237293243, 0.08460880815982819, 0.5076528191566467, 0.08460880815982819, 0.056405872106552124, 0.056405872106552124, 0.48005494475364685, 0.6608490347862244, 0.10909943282604218, 0.32729828357696533, 0.10909943282604218, 0.10909943282604218, 0.21819886565208435, 0.10909943282604218, 0.21819886565208435, 0.6005063056945801, 0.20016877353191376, 0.06672292947769165, 0.06672292947769165, 0.6815682053565979, 0.7024155855178833, 0.7384419441223145, 0.3574986755847931, 0.3574986755847931, 0.6815520524978638, 0.7384387850761414, 0.7384439706802368, 0.09375476837158203, 0.09375476837158203, 0.2812643051147461, 0.09375476837158203, 0.18750953674316406, 0.18750953674316406, 0.18750953674316406, 0.35898953676223755, 0.35898953676223755, 0.350256085395813, 0.350256085395813, 0.350256085395813, 0.0788867324590683, 0.7099806070327759, 0.0788867324590683, 0.7139949202537537, 0.3854159116744995, 0.09635397791862488, 0.09635397791862488, 0.09635397791862488, 0.09635397791862488, 0.28906193375587463, 0.6981841921806335, 0.23086097836494446, 0.23086097836494446, 0.23086097836494446, 0.23086097836494446, 0.6815504431724548, 0.7024164795875549, 0.7139928340911865, 0.676785945892334, 0.1482440084218979, 0.1482440084218979, 0.07412200421094894, 0.07412200421094894, 0.07412200421094894, 0.1482440084218979, 0.44473204016685486, 0.28583452105522156, 0.28583452105522156, 0.28583452105522156, 0.28583452105522156, 0.1951598972082138, 0.3903197944164276, 0.1951598972082138, 0.1951598972082138, 0.1951598972082138, 0.3621082603931427, 0.3621082603931427, 0.33975669741630554, 0.33975669741630554, 0.33975669741630554, 0.7024210691452026, 0.6608492732048035, 0.3510022461414337, 0.3510022461414337, 0.7139984369277954, 0.16722097992897034, 0.6688839197158813, 0.7024227380752563, 0.347404420375824, 0.347404420375824, 0.173702210187912, 0.173702210187912, 0.7024195194244385, 0.7024188041687012, 0.683929979801178, 0.6932600140571594, 0.721561074256897, 0.6839337348937988, 0.6981893181800842, 0.6608520150184631, 0.693256676197052, 0.7139928936958313, 0.660852313041687, 0.3423987030982971, 0.6847974061965942, 0.6981872320175171, 0.6839302182197571, 0.27709653973579407, 0.27709653973579407, 0.4776149392127991, 0.22373078763484955, 0.03728846460580826, 0.03728846460580826, 0.07457692921161652, 0.5966154336929321, 0.8663668036460876, 0.23747172951698303, 0.23747172951698303, 0.23747172951698303, 0.23747172951698303, 0.23747172951698303, 0.6767868399620056, 0.7215591669082642, 0.502405047416687, 0.6767870187759399, 0.721561074256897, 0.32594332098960876, 0.6518866419792175, 0.291897177696228, 0.072974294424057, 0.5108200907707214, 0.072974294424057, 0.7024204134941101, 0.33793768286705017, 0.16896884143352509, 0.16896884143352509, 0.16896884143352509, 0.16896884143352509, 0.22932957112789154, 0.22932957112789154, 0.22932957112789154, 0.22932957112789154, 0.22932957112789154, 0.3403283953666687, 0.17016419768333435, 0.3403283953666687, 0.17016419768333435, 0.15147392451763153, 0.15147392451763153, 0.6058956980705261, 0.6839314699172974, 0.702417254447937, 0.6839314699172974, 0.6839311718940735, 0.698185384273529, 0.7139965891838074, 0.1506154090166092, 0.4518462121486664, 0.1506154090166092, 0.23215414583683014, 0.11607707291841507, 0.11607707291841507, 0.3482312262058258, 0.23215414583683014, 0.7384448051452637, 0.13533170521259308, 0.27066341042518616, 0.40599510073661804, 0.2749062478542328, 0.5498124957084656, 0.2749062478542328, 0.6815499067306519, 0.6839323043823242, 0.6767876744270325, 0.3308243155479431, 0.6616486310958862, 0.18618914484977722, 0.7447565793991089, 0.7024141550064087, 0.7139930129051208, 0.6815503835678101, 0.46963027119636536, 0.6932560801506042, 0.9023461937904358, 0.09595711529254913, 0.09595711529254913, 0.09595711529254913, 0.09595711529254913, 0.19191423058509827, 0.38382846117019653, 0.22715088725090027, 0.22715088725090027, 0.45430177450180054, 0.4506714344024658, 0.7024217844009399, 0.6839354634284973, 0.660849928855896, 0.7024227380752563, 0.6932603120803833, 0.2772384583950043, 0.2772384583950043, 0.2772384583950043, 0.12407929450273514, 0.12407929450273514, 0.372237890958786, 0.24815858900547028, 0.12407929450273514, 0.3561764657497406, 0.3561764657497406, 0.6981867551803589, 0.6932609677314758, 0.7139922380447388, 0.2008705884218216, 0.602611780166626, 0.2008705884218216, 0.7024173736572266, 0.5329003930091858, 0.2664501965045929, 0.7215611338615417, 0.7024180889129639, 0.8663817644119263, 0.7384418845176697, 0.7215600609779358, 0.6815508008003235, 0.6981840133666992, 0.6839327812194824, 0.7384495735168457, 0.724460780620575, 0.6839302182197571, 0.176279217004776, 0.5288376212120056, 0.176279217004776, 0.8715388774871826, 0.7215631008148193, 0.44806617498397827, 0.676784336566925, 0.14790014922618866, 0.14790014922618866, 0.5916005969047546, 0.7215612530708313, 0.6815542578697205, 0.19294202327728271, 0.19294202327728271, 0.38588404655456543, 0.3612663149833679, 0.3612663149833679, 0.530774712562561, 0.1769249141216278, 0.1769249141216278, 0.1769249141216278, 0.6815502643585205, 0.6981844902038574, 0.6974878311157227, 0.6608521938323975, 0.660847544670105, 0.46963778138160706, 0.676785409450531, 0.6839297413825989, 0.6981886625289917, 0.6608495712280273, 0.7384446859359741, 0.6981837153434753, 0.6932545900344849, 0.7384459376335144, 0.6767893433570862, 0.7024166584014893, 0.7384442090988159, 0.6981837153434753, 0.6981906294822693, 0.721560537815094, 0.22828105092048645, 0.4565621018409729, 0.22828105092048645, 0.20402078330516815, 0.20402078330516815, 0.20402078330516815, 0.4080415666103363, 0.23050512373447418, 0.23050512373447418, 0.23050512373447418, 0.23050512373447418, 0.23050512373447418, 0.1569545418024063, 0.1569545418024063, 0.47086361050605774, 0.3461499810218811, 0.3461499810218811, 0.6767832040786743, 0.6932598352432251, 0.6839330196380615, 0.6608513593673706, 0.6608490347862244, 0.6767892837524414, 0.6981857419013977, 0.6932547688484192, 0.4707045257091522, 0.6608476042747498, 0.6932613253593445, 0.7215583324432373, 0.6009179949760437, 0.2003059983253479, 0.2003059983253479, 0.7384454607963562, 0.7215616106987, 0.6815617680549622, 0.33154404163360596, 0.33154404163360596, 0.6981828212738037, 0.33177608251571655, 0.6635521650314331, 0.19511860609054565, 0.19511860609054565, 0.19511860609054565, 0.19511860609054565, 0.19511860609054565, 0.7139943242073059, 0.6981887817382812, 0.2806696593761444, 0.09355654567480087, 0.09355654567480087, 0.09355654567480087, 0.46778273582458496, 0.1694997251033783, 0.1694997251033783, 0.1694997251033783, 0.3389994502067566, 0.11778722703456879, 0.11778722703456879, 0.07852482050657272, 0.07852482050657272, 0.3140992820262909, 0.27483686804771423, 0.6981876492500305, 0.7024147510528564, 0.16647179424762726, 0.3329435884952545, 0.16647179424762726, 0.3329435884952545, 0.6839397549629211, 0.713999330997467, 0.132705956697464, 0.02654119022190571, 0.05308238044381142, 0.47774145007133484, 0.05308238044381142, 0.15924714505672455, 0.05308238044381142, 0.6932636499404907, 0.4112769663333893, 0.13709232211112976, 0.2741846442222595, 0.13709232211112976, 0.7215628027915955, 0.3317745327949524, 0.6635490655899048, 0.6776692867279053, 0.7384432554244995, 0.7384412884712219, 0.7384413480758667, 0.2304837703704834, 0.2304837703704834, 0.4609675407409668, 0.7215592265129089, 0.6815602779388428, 0.4909757375717163, 0.4909757375717163, 0.28419092297554016, 0.28419092297554016, 0.28419092297554016, 0.7215617299079895, 0.6981908679008484, 0.6839337944984436, 0.7139962911605835, 0.7384483218193054, 0.6767817735671997, 0.6767846941947937, 0.693260669708252, 0.9229516386985779, 0.7139930129051208, 0.6767853498458862, 0.5005944967269897, 0.16686482727527618, 0.16686482727527618, 0.16686482727527618, 0.7215641140937805, 0.6932634711265564, 0.6815531849861145, 0.7139986157417297, 0.7384411692619324, 0.48690366744995117, 0.5465248227119446, 0.2732624113559723, 0.34014779329299927, 0.34014779329299927, 0.34014779329299927, 0.5849062204360962, 0.19496874511241913, 0.19496874511241913, 0.7384448051452637, 0.6767828464508057, 0.6815513968467712, 0.6839368343353271, 0.6963081359863281, 0.6981818079948425, 0.6815558671951294, 0.12974132597446442, 0.25948265194892883, 0.12974132597446442, 0.12974132597446442, 0.32435333728790283, 0.2979150414466858, 0.1489575207233429, 0.1489575207233429, 0.2979150414466858, 0.7024193406105042, 0.7024182677268982, 0.6608465909957886, 0.6839302182197571, 0.3489503860473633, 0.3489503860473633, 0.3489503860473633, 0.6981899738311768, 0.4577113091945648, 0.2288556545972824, 0.2288556545972824, 0.2288556545972824, 0.6981845498085022, 0.7139924168586731, 0.10188805311918259, 0.33113616704940796, 0.05094402655959129, 0.025472013279795647, 0.22924812138080597, 0.12736006081104279, 0.12736006081104279, 0.05094402655959129, 0.7139948010444641, 0.693259596824646, 0.6608504056930542, 0.7384448051452637, 0.6932593584060669, 0.9229510426521301, 0.7139948606491089, 0.7215591073036194, 0.3466956913471222, 0.3466956913471222, 0.6608532667160034, 0.7384374141693115, 0.4589957296848297, 0.6932588219642639, 0.7139974236488342, 0.13849720358848572, 0.13849720358848572, 0.27699440717697144, 0.41549158096313477, 0.906480610370636, 0.6932597756385803, 0.7024142742156982, 0.8673645853996277, 0.6767885088920593, 0.6767835021018982, 0.7139949798583984, 0.7384528517723083, 0.6932582855224609, 0.4702291190624237, 0.23511455953121185, 0.23511455953121185, 0.169757679104805, 0.5092729926109314, 0.33951535820961, 0.6608532071113586, 0.6767852306365967, 0.6981841325759888, 0.6767789125442505, 0.6932628154754639, 0.6839324235916138, 0.7384403944015503, 0.27873364090919495, 0.27873364090919495, 0.27873364090919495, 0.7215597033500671, 0.33776265382766724, 0.33776265382766724, 0.45219412446022034, 0.35993731021881104, 0.35993731021881104, 0.3359856605529785, 0.671971321105957, 0.44819048047065735, 0.14716261625289917, 0.4414878785610199, 0.14716261625289917, 0.29432523250579834, 0.6608449220657349, 0.5528659224510193, 0.27643296122550964, 0.27643296122550964, 0.271092027425766, 0.271092027425766, 0.542184054851532, 0.4696275293827057, 0.698191225528717, 0.17828604578971863, 0.08914302289485931, 0.08914302289485931, 0.17828604578971863, 0.4457150995731354, 0.6981852054595947, 0.8940181136131287, 0.08384578675031662, 0.5869204998016357, 0.16769157350063324, 0.713997483253479, 0.6981858015060425, 0.2654295265674591, 0.13271476328372955, 0.13271476328372955, 0.39814430475234985, 0.34243470430374146, 0.34243470430374146, 0.2023783177137375, 0.2023783177137375, 0.404756635427475, 0.2023783177137375, 0.7139906287193298, 0.7215623259544373, 0.7024192214012146, 0.6767826676368713, 0.08646809309720993, 0.43234047293663025, 0.08646809309720993, 0.08646809309720993, 0.17293618619441986, 0.9065025448799133, 0.36215996742248535, 0.36215996742248535, 0.36215996742248535, 0.6839337348937988, 0.48689907789230347, 0.0759286880493164, 0.0759286880493164, 0.7592868804931641, 0.34537819027900696, 0.34537819027900696, 0.34537819027900696, 0.713993489742279, 0.676780104637146, 0.7384437322616577, 0.7215610146522522, 0.6767897605895996, 0.4696297347545624, 0.6813659071922302, 0.17034147679805756, 0.17034147679805756, 0.7215603590011597, 0.6839333176612854, 0.6815524697303772, 0.11522658914327621, 0.34567975997924805, 0.1536354422569275, 0.11522658914327621, 0.03840886056423187, 0.03840886056423187, 0.03840886056423187, 0.11522658914327621, 0.721562385559082, 0.33798062801361084, 0.16899031400680542, 0.33798062801361084, 0.19820734858512878, 0.09910367429256439, 0.049551837146282196, 0.09910367429256439, 0.049551837146282196, 0.09910367429256439, 0.3468628525733948, 0.7139937877655029, 0.660851776599884, 0.6815488934516907, 0.6981872320175171, 0.6932569742202759, 0.7139950394630432, 0.17126011848449707, 0.2568901777267456, 0.2568901777267456, 0.08563005924224854, 0.17126011848449707, 0.08563005924224854, 0.6839340329170227, 0.683932900428772, 0.6815542578697205, 0.31795141100883484, 0.2119676172733307, 0.2119676172733307, 0.10598380863666534, 0.10598380863666534, 0.10598380863666534, 0.25377732515335083, 0.05075546354055405, 0.25377732515335083, 0.1015109270811081, 0.3045327663421631, 0.15431107580661774, 0.15431107580661774, 0.07715553790330887, 0.38577768206596375, 0.07715553790330887, 0.15431107580661774, 0.6767854690551758, 0.34739652276039124, 0.34739652276039124, 0.37203577160835266, 0.37203577160835266, 0.17236582934856415, 0.17236582934856415, 0.17236582934856415, 0.3447316586971283, 0.8148403763771057, 0.7215607762336731, 0.18897826969623566, 0.18897826969623566, 0.18897826969623566, 0.3779565393924713, 0.053483784198760986, 0.053483784198760986, 0.8557405471801758, 0.7215582728385925, 0.341939240694046, 0.341939240694046, 0.7024192810058594, 0.6981780529022217, 0.69818115234375, 0.7139942049980164, 0.6868259310722351, 0.34341296553611755, 0.906486988067627, 0.6932544112205505, 0.28647878766059875, 0.28647878766059875, 0.28647878766059875, 0.28647878766059875, 0.7794369459152222, 0.1558873951435089, 0.2928716838359833, 0.2928716838359833, 0.2928716838359833, 0.7024198174476624, 0.6981878280639648, 0.7024229764938354, 0.7348410487174988, 0.2259458601474762, 0.4518917202949524, 0.2259458601474762, 0.2259458601474762, 0.6839314699172974, 0.713989794254303], \"Term\": [\"a\", \"a\", \"a\", \"a\", \"a\", \"a\", \"a\", \"a\", \"a\", \"abd\", \"abdul\", \"abit\", \"abu\", \"accept\", \"accept\", \"accord\", \"accord\", \"accord\", \"accueil\", \"accueil\", \"achat\", \"achet\", \"activ\", \"adieu\", \"ador\", \"affair\", \"agenc\", \"agenc\", \"agenc\", \"agenc\", \"agenc\", \"agenc\", \"agent\", \"agent\", \"aid\", \"aid\", \"aim\", \"aim\", \"aim\", \"aim\", \"aim\", \"ais\", \"al\", \"al\", \"al\", \"allash\", \"allash\", \"alor\", \"alor\", \"alor\", \"alor\", \"amen\", \"ami\", \"amin\", \"amnist\", \"amour\", \"anglais\", \"anne\", \"anne\", \"anne\", \"anne\", \"anne\", \"anne\", \"anne\", \"ant\", \"appareil\", \"appelon\", \"appet\", \"appliqu\", \"appreci\", \"appreci\", \"appreci\", \"appreci\", \"approuve\", \"arab\", \"argent\", \"argent\", \"argent\", \"atm\", \"augment\", \"augment\", \"augment\", \"aujourd\", \"aupr\", \"aupr\", \"aupr\", \"aupr\", \"auquel\", \"autr\", \"autr\", \"autr\", \"aval\", \"aval\", \"aval\", \"avant\", \"avant\", \"avant\", \"avant\", \"avous\", \"ayoun\", \"bacheli\", \"bahah\", \"bal\", \"balah\", \"bancair\", \"bancair\", \"bancair\", \"bancair\", \"bank\", \"bank\", \"bank\", \"banqu\", \"banqu\", \"banqu\", \"banqu\", \"banqu\", \"banqu\", \"banqu\", \"banqu\", \"barb\", \"bash\", \"bash\", \"bash\", \"bash\", \"bech\", \"ben\", \"ben\", \"benedict\", \"benefic\", \"bien\", \"bien\", \"bien\", \"bien\", \"bien\", \"bien\", \"bien\", \"bienheur\", \"bienheur\", \"bish\", \"blanc\", \"bon\", \"bon\", \"bon\", \"bon\", \"bon\", \"bon\", \"bonjour\", \"bq\", \"branch\", \"branch\", \"branch\", \"branch\", \"branch\", \"branch\", \"branch\", \"bravo\", \"bravo\", \"bravo\", \"bravo\", \"bravoooo\", \"brby\", \"brech\", \"brill\", \"brill\", \"brutal\", \"candidatur\", \"car\", \"cart\", \"cart\", \"cart\", \"cart\", \"cart\", \"cart\", \"cart\", \"cas\", \"cas\", \"cet\", \"cet\", \"cet\", \"chanc\", \"chanc\", \"chanc\", \"chant\", \"chaqu\", \"chaqu\", \"chaqu\", \"chaqu\", \"chaqu\", \"chaqu\", \"chargui\", \"chef\", \"chef\", \"chef\", \"chef\", \"chemin\", \"chez\", \"cinq\", \"clair\", \"client\", \"client\", \"client\", \"client\", \"client\", \"client\", \"client\", \"comm\", \"comm\", \"comm\", \"comm\", \"comment\", \"comment\", \"comment\", \"comment\", \"comment\", \"compr\", \"compr\", \"comprehens\", \"comprehens\", \"comprehens\", \"concessionnair\", \"condit\", \"confianc\", \"confianc\", \"cont\", \"continu\", \"continu\", \"corp\", \"coup\", \"coup\", \"coup\", \"coup\", \"coupur\", \"credibilit\", \"croir\", \"dat\", \"debab\", \"deced\", \"decoup\", \"defaill\", \"dehor\", \"dejeun\", \"demontr\", \"depuis\", \"depuis\", \"dernier\", \"det\", \"deux\", \"deux\", \"devis\", \"dieu\", \"dieu\", \"dieu\", \"dieu\", \"dieu\", \"difficil\", \"dinar\", \"dinar\", \"dinar\", \"dinar\", \"dinar\", \"direct\", \"dirham\", \"disponibl\", \"distinguent\", \"distribu\", \"distributeur\", \"distributeur\", \"dit\", \"dit\", \"dit\", \"dit\", \"domest\", \"don\", \"don\", \"don\", \"don\", \"don\", \"donc\", \"donc\", \"donc\", \"donc\", \"donc\", \"dont\", \"dont\", \"dont\", \"dont\", \"doubl\", \"doubl\", \"doubl\", \"durc\", \"econom\", \"ecoul\", \"ecrit\", \"educ\", \"effondre\", \"effort\", \"effort\", \"effort\", \"eid\", \"eid\", \"eid\", \"eid\", \"eid\", \"elkom\", \"employ\", \"employ\", \"employ\", \"enfant\", \"enfant\", \"enfant\", \"enqu\", \"enseign\", \"enthousiasm\", \"entre\", \"entre\", \"entrepris\", \"entrepris\", \"envelopp\", \"erreur\", \"esclav\", \"esperon\", \"essui\", \"etc\", \"ete\", \"ete\", \"ete\", \"ete\", \"ete\", \"ete\", \"ethiqu\", \"ethiqu\", \"ethiqu\", \"etudi\", \"evite\", \"exigeon\", \"explor\", \"extrait\", \"extras\", \"f\", \"f\", \"f\", \"fait\", \"fait\", \"fait\", \"fait\", \"fait\", \"famill\", \"famill\", \"fatouh\", \"faveur\", \"fe\", \"felicit\", \"felicit\", \"felicit\", \"fiert\", \"fin\", \"fin\", \"flash\", \"fluidit\", \"font\", \"form\", \"foshan\", \"fourn\", \"fragil\", \"frais\", \"fran\", \"franch\", \"frenes\", \"frer\", \"frer\", \"frer\", \"gab\", \"gafs\", \"gagn\", \"gouvernorat\", \"grand\", \"grand\", \"grand\", \"gratitud\", \"hajeb\", \"haut\", \"haut\", \"haut\", \"heureux\", \"heureux\", \"histoir\", \"histoir\", \"histoir\", \"histoir\", \"hor\", \"hostilit\", \"hui\", \"humain\", \"ici\", \"ide\", \"impossibl\", \"inclus\", \"indulgent\", \"innov\", \"inshallah\", \"institu\", \"interrompu\", \"introduit\", \"jabal\", \"janesh\", \"jay\", \"jelel\", \"jem\", \"jendoub\", \"joan\", \"joan\", \"joan\", \"joyeux\", \"joyeux\", \"joyeux\", \"joyeux\", \"juillet\", \"juillet\", \"juillet\", \"juillet\", \"juillet\", \"juin\", \"juin\", \"juin\", \"jusqu\", \"jusqu\", \"kairouan\", \"karit\", \"khat\", \"khazindar\", \"km\", \"langag\", \"leader\", \"lettr\", \"leur\", \"lien\", \"limit\", \"locat\", \"lotf\", \"lotf\", \"lotf\", \"lutf\", \"maison\", \"mal\", \"manier\", \"manier\", \"manj\", \"manqu\", \"manqu\", \"mar\", \"mar\", \"mar\", \"mar\", \"mar\", \"medenin\", \"megrin\", \"meilleur\", \"meilleur\", \"meilleur\", \"meilleur\", \"meilleur\", \"mer\", \"mer\", \"mer\", \"mer\", \"merc\", \"merc\", \"merc\", \"merc\", \"merc\", \"merc\", \"mercii\", \"mieux\", \"mill\", \"mill\", \"mill\", \"mill\", \"milli\", \"miser\", \"mois\", \"mois\", \"mois\", \"mois\", \"mois\", \"mois\", \"mois\", \"moment\", \"mond\", \"mond\", \"mond\", \"mond\", \"mornagui\", \"mot\", \"mot\", \"naissanc\", \"narrat\", \"ne\", \"nn\", \"non\", \"non\", \"non\", \"nouveau\", \"nul\", \"numero\", \"numero\", \"o\", \"o\", \"o\", \"oblig\", \"obten\", \"obtient\", \"offrir\", \"osouln\", \"ouvr\", \"p\", \"parc\", \"pardon\", \"parent\", \"parrain\", \"particuli\", \"particuli\", \"particuli\", \"particuli\", \"particulier\", \"peignent\", \"pelous\", \"pension\", \"perdr\", \"perdu\", \"perform\", \"perform\", \"person\", \"person\", \"person\", \"personnel\", \"personnel\", \"personnel\", \"pert\", \"pet\", \"peut\", \"peuvent\", \"pla\", \"plaignon\", \"planifi\", \"plus\", \"plus\", \"plus\", \"plus\", \"plus\", \"pneus\", \"pneus\", \"pneus\", \"pneus\", \"poes\", \"point\", \"populair\", \"possibilit\", \"possibl\", \"possibl\", \"possibl\", \"post\", \"pourquoi\", \"pourquoi\", \"pourquoi\", \"pourquoi\", \"pourr\", \"pouss\", \"pr\", \"pr\", \"pr\", \"pr\", \"pr\", \"pr\", \"pr\", \"pr\", \"prair\", \"precedent\", \"pren\", \"prend\", \"prendr\", \"professeur\", \"profit\", \"propr\", \"proprietair\", \"proprietair\", \"prouv\", \"pu\", \"punit\", \"qassitouh\", \"qosito\", \"quel\", \"quel\", \"quel\", \"quel\", \"r\", \"racontent\", \"ran\", \"rapport\", \"recept\", \"reconnaiss\", \"reduit\", \"regard\", \"regret\", \"remerc\", \"remerc\", \"remerc\", \"remerci\", \"remerci\", \"remerci\", \"rendus\", \"renouvel\", \"repet\", \"repondr\", \"reserv\", \"resili\", \"retir\", \"retour\", \"retour\", \"retour\", \"retr\", \"retribu\", \"retribu\", \"reven\", \"revenu\", \"revenu\", \"rien\", \"rien\", \"rogg\", \"roug\", \"roug\", \"roug\", \"roug\", \"rythm\", \"salair\", \"salair\", \"salair\", \"salar\", \"salar\", \"salar\", \"salem\", \"salouh\", \"salut\", \"salut\", \"salut\", \"salut\", \"salut\", \"scen\", \"securit\", \"seigneur\", \"seigneur\", \"seigneur\", \"sept\", \"sertou\", \"servic\", \"servic\", \"servic\", \"servic\", \"serviteur\", \"serviteur\", \"seul\", \"seul\", \"seul\", \"seul\", \"shahritou\", \"shak\", \"short\", \"shufu\", \"si\", \"si\", \"si\", \"si\", \"si\", \"signif\", \"situat\", \"situat\", \"situat\", \"snin\", \"social\", \"societ\", \"societ\", \"societ\", \"solut\", \"solut\", \"solut\", \"sommet\", \"souhaitent\", \"soulad\", \"souri\", \"sourir\", \"soutien\", \"special\", \"special\", \"special\", \"sponsor\", \"st\", \"star\", \"stb\", \"stb\", \"stb\", \"stb\", \"stb\", \"stb\", \"stb\", \"stb\", \"subvent\", \"succ\", \"succ\", \"succ\", \"succursal\", \"succursal\", \"succursal\", \"succursal\", \"succursal\", \"succursal\", \"succursal\", \"sugger\", \"suit\", \"suppress\", \"surtout\", \"suspendu\", \"system\", \"t\", \"t\", \"t\", \"t\", \"t\", \"t\", \"tat\", \"telephon\", \"ter\", \"toujour\", \"toujour\", \"toujour\", \"toujour\", \"toujour\", \"toujour\", \"tous\", \"tous\", \"tous\", \"tous\", \"tous\", \"tout\", \"tout\", \"tout\", \"tout\", \"tout\", \"tout\", \"tozeur\", \"transact\", \"transact\", \"travaill\", \"travaill\", \"tre\", \"tre\", \"tre\", \"tre\", \"trois\", \"trouv\", \"tunis\", \"tunis\", \"tunis\", \"tunis\", \"tunisien\", \"tunisien\", \"tunisien\", \"un\", \"utilis\", \"utilis\", \"utilise\", \"ux\", \"v\", \"va\", \"valeur\", \"valeur\", \"ve\", \"verifi\", \"veuill\", \"veuill\", \"veuill\", \"veuill\", \"veut\", \"veut\", \"veux\", \"veux\", \"veux\", \"vid\", \"vient\", \"violat\", \"vis\", \"w\", \"w\", \"w\", \"w\", \"zaytoun\", \"zero\"]}, \"R\": 30, \"lambda.step\": 0.01, \"plot.opts\": {\"xlab\": \"PC1\", \"ylab\": \"PC2\"}, \"topic.order\": [1, 2, 3, 4, 5, 6, 7, 8, 9, 10]};\n",
       "\n",
       "function LDAvis_load_lib(url, callback){\n",
       "  var s = document.createElement('script');\n",
       "  s.src = url;\n",
       "  s.async = true;\n",
       "  s.onreadystatechange = s.onload = callback;\n",
       "  s.onerror = function(){console.warn(\"failed to load library \" + url);};\n",
       "  document.getElementsByTagName(\"head\")[0].appendChild(s);\n",
       "}\n",
       "\n",
       "if(typeof(LDAvis) !== \"undefined\"){\n",
       "   // already loaded: just create the visualization\n",
       "   !function(LDAvis){\n",
       "       new LDAvis(\"#\" + \"ldavis_el101162564444867400273316620\", ldavis_el101162564444867400273316620_data);\n",
       "   }(LDAvis);\n",
       "}else if(typeof define === \"function\" && define.amd){\n",
       "   // require.js is available: use it to load d3/LDAvis\n",
       "   require.config({paths: {d3: \"https://cdnjs.cloudflare.com/ajax/libs/d3/3.5.5/d3.min\"}});\n",
       "   require([\"d3\"], function(d3){\n",
       "      window.d3 = d3;\n",
       "      LDAvis_load_lib(\"https://cdn.rawgit.com/bmabey/pyLDAvis/files/ldavis.v1.0.0.js\", function(){\n",
       "        new LDAvis(\"#\" + \"ldavis_el101162564444867400273316620\", ldavis_el101162564444867400273316620_data);\n",
       "      });\n",
       "    });\n",
       "}else{\n",
       "    // require.js not available: dynamically load d3 & LDAvis\n",
       "    LDAvis_load_lib(\"https://cdnjs.cloudflare.com/ajax/libs/d3/3.5.5/d3.min.js\", function(){\n",
       "         LDAvis_load_lib(\"https://cdn.rawgit.com/bmabey/pyLDAvis/files/ldavis.v1.0.0.js\", function(){\n",
       "                 new LDAvis(\"#\" + \"ldavis_el101162564444867400273316620\", ldavis_el101162564444867400273316620_data);\n",
       "            })\n",
       "         });\n",
       "}\n",
       "</script>"
      ],
      "text/plain": [
       "<IPython.core.display.HTML object>"
      ]
     },
     "execution_count": 871,
     "metadata": {},
     "output_type": "execute_result"
    }
   ],
   "source": [
    "vis_data = gensimvis.prepare(lda_model, bow_corpus, dictionary,sort_topics=False)\n",
    "\n",
    "pyLDAvis.display(vis_data)"
   ]
  },
  {
   "cell_type": "markdown",
   "metadata": {},
   "source": [
    "## analyse d'opinion"
   ]
  },
  {
   "cell_type": "code",
   "execution_count": 54,
   "metadata": {},
   "outputs": [],
   "source": [
    "analyse=[]\n",
    "for i in range(len(df3)):\n",
    "    c=\"\"\n",
    "    for j in range(len(df3['comments'][i])):\n",
    "        for k in range(len(df3.comments[i][j])):\n",
    "            c+=\" \"+str(j)\n",
    "            analyse.append(df3.comments[i][j][k])"
   ]
  },
  {
   "cell_type": "code",
   "execution_count": 83,
   "metadata": {},
   "outputs": [
    {
     "data": {
      "text/plain": [
       "474"
      ]
     },
     "execution_count": 83,
     "metadata": {},
     "output_type": "execute_result"
    }
   ],
   "source": [
    "len(analyse)"
   ]
  },
  {
   "cell_type": "code",
   "execution_count": 84,
   "metadata": {},
   "outputs": [
    {
     "data": {
      "image/png": "[encoded data removed]",
      "text/plain": [
       "<Figure size 432x288 with 1 Axes>"
      ]
     },
     "metadata": {},
     "output_type": "display_data"
    }
   ],
   "source": [
    "positive = 0\n",
    "negative = 0\n",
    "neutral = 0\n",
    "polarity = 0\n",
    "\n",
    "def calculatePercentage(a,b):\n",
    "    return 100*float(a)/float(b)\n",
    "opinion = []\n",
    "for comment in analyse:\n",
    "    translator.translate(comment, dest=\"fr\").text\n",
    "    myAnalysis=textblob.TextBlob(translator.translate(comment, dest=\"en\").text)\n",
    "    polarity += myAnalysis.sentiment.polarity\n",
    "    if myAnalysis.sentiment.polarity ==0:\n",
    "        neutral+=1\n",
    "        opinion.append(\"Neutre\")\n",
    "    elif myAnalysis.sentiment.polarity > 0.00:\n",
    "        positive+=1\n",
    "        opinion.append(\"Positive\")\n",
    "    elif myAnalysis.sentiment.polarity < 0.00:\n",
    "        negative+=1\n",
    "        opinion.append(\"Negative\")                               \n",
    "\n",
    "positive=calculatePercentage(positive,len(analyse))\n",
    "negative=calculatePercentage(negative,len(analyse))\n",
    "neutral=calculatePercentage(neutral,len(analyse))\n",
    "\n",
    "positive=format(positive,'.2f')\n",
    "negative=format(negative,'.2f')\n",
    "neutral=format(neutral,'.2f')\n",
    "\n",
    "labels = ['Positive [' + str(positive) + '%]', 'Neutral [' + str(neutral) + '%]','Negative [' + str(negative) + '%]']\n",
    "sizes=[positive,neutral,negative]\n",
    "colors=['blue','cyan','red']\n",
    "patches,texts=plt.pie(sizes,colors=colors,startangle=90)\n",
    "plt.legend(patches,labels,loc=\"best\")\n",
    "plt.title('How people reacts.')\n",
    "plt.axis('equal')\n",
    "plt.tight_layout()\n",
    "plt.show()"
   ]
  },
  {
   "cell_type": "code",
   "execution_count": 65,
   "metadata": {},
   "outputs": [],
   "source": [
    "analyse2=[]\n",
    "#for i in range(len(df3)):\n",
    "c=\"\"\n",
    "for j in range(len(df3['content'])):\n",
    "    c+=\" \"+str(j)\n",
    "    analyse2.append(df3.content[j])"
   ]
  },
  {
   "cell_type": "code",
   "execution_count": 79,
   "metadata": {},
   "outputs": [],
   "source": [
    "analyse22=[]\n",
    "for i in range(len(analyse2)):\n",
    "    for j in range(len(analyse2[i])):\n",
    "        analyse22.append(analyse2[i][j])"
   ]
  },
  {
   "cell_type": "code",
   "execution_count": 81,
   "metadata": {
    "collapsed": true,
    "jupyter": {
     "outputs_hidden": true
    }
   },
   "outputs": [
    {
     "data": {
      "text/plain": [
       "['stb',\n",
       " 'neo',\n",
       " 'by',\n",
       " 'stb',\n",
       " 'transform',\n",
       " 'banqu',\n",
       " 'bijou',\n",
       " 'architectural',\n",
       " 'tunis',\n",
       " 'pal',\n",
       " 'baron',\n",
       " 'erlang',\n",
       " 'encor',\n",
       " 'appel',\n",
       " 'ennejm',\n",
       " 'ezzahr',\n",
       " 'tenu',\n",
       " 'hi',\n",
       " 'inaugur',\n",
       " 'premier',\n",
       " 'edit',\n",
       " 'projet',\n",
       " 'national',\n",
       " 'baptis',\n",
       " 'neo',\n",
       " 'by',\n",
       " 'stb',\n",
       " 'transform',\n",
       " 'banqu',\n",
       " 'innov',\n",
       " 'seul',\n",
       " 'innov',\n",
       " 'technolog',\n",
       " 'abord',\n",
       " 'managerial',\n",
       " 'dit',\n",
       " 'expert',\n",
       " 'expert',\n",
       " 'transform',\n",
       " 'digital',\n",
       " 'appel',\n",
       " 'a',\n",
       " 'reflexion',\n",
       " 'profond',\n",
       " 'collegial',\n",
       " 'reun',\n",
       " 'tous',\n",
       " 'acteur',\n",
       " 'ecosystem',\n",
       " 'larg',\n",
       " 'encor',\n",
       " 'tre',\n",
       " 'bien',\n",
       " 'connu',\n",
       " 'peu',\n",
       " 'organis',\n",
       " 'neoby',\n",
       " 'stblabanqueexponentiel',\n",
       " 'stbbank',\n",
       " 'neotranslated',\n",
       " 'from',\n",
       " 'frenchjuly',\n",
       " 'at',\n",
       " 'pm',\n",
       " 'stb',\n",
       " 'bank',\n",
       " 'a',\n",
       " 'menzel',\n",
       " 'temim',\n",
       " 'plais',\n",
       " 'inform',\n",
       " 'sieg',\n",
       " 'succursal',\n",
       " 'menzel',\n",
       " 'temim',\n",
       " 'a',\n",
       " 'demenag',\n",
       " 'ancien',\n",
       " 'sieg',\n",
       " 'a',\n",
       " 'adress',\n",
       " 'suiv',\n",
       " 'nahj',\n",
       " 'munj',\n",
       " 'selim',\n",
       " 'manzil',\n",
       " 'tamim',\n",
       " 'attend',\n",
       " 'termin',\n",
       " 'nouveau',\n",
       " 'look',\n",
       " 'ancien',\n",
       " 'sieg',\n",
       " 'accueil',\n",
       " 'meilleur',\n",
       " 'condit',\n",
       " 'juillet',\n",
       " 'a',\n",
       " 'menzel',\n",
       " 'temim',\n",
       " 'interag',\n",
       " 'couvr',\n",
       " 'besoin',\n",
       " 'financi',\n",
       " 'exceptionnel',\n",
       " 'pend',\n",
       " 'cet',\n",
       " 'period',\n",
       " 'banqu',\n",
       " 'tunisien',\n",
       " 'decid',\n",
       " 'prolong',\n",
       " 'validit',\n",
       " 'cart',\n",
       " 'vis',\n",
       " 'expire',\n",
       " 'mois',\n",
       " 'juin',\n",
       " 'mont',\n",
       " 'decouvert',\n",
       " 'autoris',\n",
       " 'stb',\n",
       " 'bank',\n",
       " 'toujour',\n",
       " 'horair',\n",
       " 'ouvertur',\n",
       " 'fenetr',\n",
       " 'societ',\n",
       " 'bancair',\n",
       " 'tunisien',\n",
       " 'pend',\n",
       " 'ete',\n",
       " 'heur',\n",
       " 'ouvertur',\n",
       " 'lund',\n",
       " 'vendred',\n",
       " 'heur',\n",
       " 'travail',\n",
       " 'appliqu',\n",
       " 'dist',\n",
       " 'a',\n",
       " 'tout',\n",
       " 'moment',\n",
       " 'a',\n",
       " 'chaqu',\n",
       " 'fois',\n",
       " 'stbnet',\n",
       " 'stbdirect',\n",
       " 'digitalbanktranslated',\n",
       " 'from',\n",
       " 'arabic',\n",
       " 'juin',\n",
       " 'a',\n",
       " 'h']"
      ]
     },
     "execution_count": 81,
     "metadata": {},
     "output_type": "execute_result"
    }
   ],
   "source": [
    "analyse22"
   ]
  },
  {
   "cell_type": "code",
   "execution_count": 82,
   "metadata": {},
   "outputs": [
    {
     "data": {
      "image/png": "[encoded data removed]",
      "text/plain": [
       "<Figure size 432x288 with 1 Axes>"
      ]
     },
     "metadata": {},
     "output_type": "display_data"
    }
   ],
   "source": [
    "positive = 0\n",
    "negative = 0\n",
    "neutral = 0\n",
    "polarity = 0\n",
    "\n",
    "def calculatePercentage(a,b):\n",
    "    return 100*float(a)/float(b)\n",
    "opinion = []\n",
    "for comment in analyse22:\n",
    "    myAnalysis=textblob.TextBlob(translator.translate(comment, dest=\"en\").text)\n",
    "    polarity += myAnalysis.sentiment.polarity\n",
    "    if myAnalysis.sentiment.polarity ==0:\n",
    "        neutral+=1\n",
    "        opinion.append(\"Neutre\")\n",
    "    elif myAnalysis.sentiment.polarity > 0.00:\n",
    "        positive+=1\n",
    "        opinion.append(\"Positive\")\n",
    "    elif myAnalysis.sentiment.polarity < 0.00:\n",
    "        negative+=1\n",
    "        opinion.append(\"Negative\")\n",
    "\n",
    "positive=calculatePercentage(positive,len(analyse2))\n",
    "negative=calculatePercentage(negative,len(analyse2))\n",
    "neutral=calculatePercentage(neutral,len(analyse2))\n",
    "\n",
    "positive=format(positive,'.2f')\n",
    "negative=format(negative,'.2f')\n",
    "neutral=format(neutral,'.2f')\n",
    "\n",
    "labels = ['Positive [' + str(positive) + '%]', 'Neutral [' + str(neutral) + '%]','Negative [' + str(negative) + '%]']\n",
    "sizes=[positive,neutral,negative]\n",
    "colors=['blue','cyan','red']\n",
    "patches,texts=plt.pie(sizes,colors=colors,startangle=90)\n",
    "plt.legend(patches,labels,loc=\"best\")\n",
    "plt.title('How people reacts.')\n",
    "plt.axis('equal')\n",
    "plt.tight_layout()\n",
    "plt.show()"
   ]
  },
  {
   "cell_type": "code",
   "execution_count": 67,
   "metadata": {},
   "outputs": [
    {
     "data": {
      "text/html": [
       "<div>\n",
       "<style scoped>\n",
       "    .dataframe tbody tr th:only-of-type {\n",
       "        vertical-align: middle;\n",
       "    }\n",
       "\n",
       "    .dataframe tbody tr th {\n",
       "        vertical-align: top;\n",
       "    }\n",
       "\n",
       "    .dataframe thead th {\n",
       "        text-align: right;\n",
       "    }\n",
       "</style>\n",
       "<table border=\"1\" class=\"dataframe\">\n",
       "  <thead>\n",
       "    <tr style=\"text-align: right;\">\n",
       "      <th></th>\n",
       "      <th>content</th>\n",
       "      <th>comments</th>\n",
       "      <th>good</th>\n",
       "      <th>bad</th>\n",
       "    </tr>\n",
       "  </thead>\n",
       "  <tbody>\n",
       "    <tr>\n",
       "      <td>0</td>\n",
       "      <td>[plais, inform, sieg, succursal, ban, khallad,...</td>\n",
       "      <td>[[honnet], [inutilit, rembours, deux, mois, pr...</td>\n",
       "      <td>176</td>\n",
       "      <td>1</td>\n",
       "    </tr>\n",
       "    <tr>\n",
       "      <td>1</td>\n",
       "      <td>[retour, video, even, neo, by, stb, juillet, p...</td>\n",
       "      <td>[[jeun, revenu, occas], [a, encor, mois], [die...</td>\n",
       "      <td>261</td>\n",
       "      <td>3</td>\n",
       "    </tr>\n",
       "    <tr>\n",
       "      <td>2</td>\n",
       "      <td>[preserv, environ, responsabilit, tous, marg, ...</td>\n",
       "      <td>[[chang, tre, import, fondamental, observ, soc...</td>\n",
       "      <td>341</td>\n",
       "      <td>2</td>\n",
       "    </tr>\n",
       "    <tr>\n",
       "      <td>3</td>\n",
       "      <td>[tant, startup, benefici, label, startup, mini...</td>\n",
       "      <td>[[cart, vis, stb, perdu, presenc], [seigneur],...</td>\n",
       "      <td>142</td>\n",
       "      <td>0</td>\n",
       "    </tr>\n",
       "    <tr>\n",
       "      <td>4</td>\n",
       "      <td>[horair, ouvertur, guichet, lund, vendred, a, ...</td>\n",
       "      <td>[[dieu], [fait, report, vers, pret, dep, reven...</td>\n",
       "      <td>548</td>\n",
       "      <td>4</td>\n",
       "    </tr>\n",
       "    <tr>\n",
       "      <td>...</td>\n",
       "      <td>...</td>\n",
       "      <td>...</td>\n",
       "      <td>...</td>\n",
       "      <td>...</td>\n",
       "    </tr>\n",
       "    <tr>\n",
       "      <td>70</td>\n",
       "      <td>[stb, bank, sponsor, officiel, trophe, femm, e...</td>\n",
       "      <td>[[stb, toujour, present], [bsar, a, ena, ab, n...</td>\n",
       "      <td>160</td>\n",
       "      <td>0</td>\n",
       "    </tr>\n",
       "    <tr>\n",
       "      <td>71</td>\n",
       "      <td>[stb, bank, voi, succ, retour, video, salon, i...</td>\n",
       "      <td>[[barb, bash], [compt, bancair], [comment, tra...</td>\n",
       "      <td>102</td>\n",
       "      <td>0</td>\n",
       "    </tr>\n",
       "    <tr>\n",
       "      <td>72</td>\n",
       "      <td>[banqu, tunisien, partenair, officiel, salon, ...</td>\n",
       "      <td>[[franch], [album, yass], [zaid, alash, a, tou...</td>\n",
       "      <td>283</td>\n",
       "      <td>0</td>\n",
       "    </tr>\n",
       "    <tr>\n",
       "      <td>73</td>\n",
       "      <td>[interview, lotf, debbab, wmc]</td>\n",
       "      <td>[[bon, courag], [bravo, si, lotf, bon, continu...</td>\n",
       "      <td>341</td>\n",
       "      <td>1</td>\n",
       "    </tr>\n",
       "    <tr>\n",
       "      <td>74</td>\n",
       "      <td>[profit, possibilit, nouvel, cart]</td>\n",
       "      <td>[[a, aucun, possibilit], [benefic, report, pre...</td>\n",
       "      <td>180</td>\n",
       "      <td>1</td>\n",
       "    </tr>\n",
       "  </tbody>\n",
       "</table>\n",
       "<p>75 rows × 4 columns</p>\n",
       "</div>"
      ],
      "text/plain": [
       "                                              content  \\\n",
       "0   [plais, inform, sieg, succursal, ban, khallad,...   \n",
       "1   [retour, video, even, neo, by, stb, juillet, p...   \n",
       "2   [preserv, environ, responsabilit, tous, marg, ...   \n",
       "3   [tant, startup, benefici, label, startup, mini...   \n",
       "4   [horair, ouvertur, guichet, lund, vendred, a, ...   \n",
       "..                                                ...   \n",
       "70  [stb, bank, sponsor, officiel, trophe, femm, e...   \n",
       "71  [stb, bank, voi, succ, retour, video, salon, i...   \n",
       "72  [banqu, tunisien, partenair, officiel, salon, ...   \n",
       "73                     [interview, lotf, debbab, wmc]   \n",
       "74                 [profit, possibilit, nouvel, cart]   \n",
       "\n",
       "                                             comments  good  bad  \n",
       "0   [[honnet], [inutilit, rembours, deux, mois, pr...   176    1  \n",
       "1   [[jeun, revenu, occas], [a, encor, mois], [die...   261    3  \n",
       "2   [[chang, tre, import, fondamental, observ, soc...   341    2  \n",
       "3   [[cart, vis, stb, perdu, presenc], [seigneur],...   142    0  \n",
       "4   [[dieu], [fait, report, vers, pret, dep, reven...   548    4  \n",
       "..                                                ...   ...  ...  \n",
       "70  [[stb, toujour, present], [bsar, a, ena, ab, n...   160    0  \n",
       "71  [[barb, bash], [compt, bancair], [comment, tra...   102    0  \n",
       "72  [[franch], [album, yass], [zaid, alash, a, tou...   283    0  \n",
       "73  [[bon, courag], [bravo, si, lotf, bon, continu...   341    1  \n",
       "74  [[a, aucun, possibilit], [benefic, report, pre...   180    1  \n",
       "\n",
       "[75 rows x 4 columns]"
      ]
     },
     "execution_count": 67,
     "metadata": {},
     "output_type": "execute_result"
    }
   ],
   "source": [
    "df3"
   ]
  },
  {
   "cell_type": "code",
   "execution_count": 977,
   "metadata": {},
   "outputs": [
    {
     "data": {
      "text/plain": [
       "['au', 'aux', 'avec', 'ce', 'ces', 'dans', 'de', 'des', 'du', 'elle', 'en', 'et', 'eux', 'il', 'ils', 'je', 'la', 'le', 'les', 'leur', 'lui', 'ma', 'mais', 'me', 'même', 'mes', 'moi', 'mon', 'ne', 'nos', 'notre', 'nous', 'on', 'ou', 'par', 'pas', 'pour', 'qu', 'que', 'qui', 'sa', 'se', 'ses', 'son', 'sur', 'ta', 'te', 'tes', 'toi', 'ton', 'tu', 'un', 'une', 'vos', 'votre', 'vous', 'c', 'd', 'j', 'l', 'à', 'm', 'n', 's', 't', 'y', 'été', 'étée', 'étées', 'étés', 'étant', 'étante', 'étants', 'étantes', 'suis', 'es', 'est', 'sommes', 'êtes', 'sont', 'serai', 'seras', 'sera', 'serons', 'serez', 'seront', 'serais', 'serait', 'serions', 'seriez', 'seraient', 'étais', 'était', 'étions', 'étiez', 'étaient', 'fus', 'fut', 'fûmes', 'fûtes', 'furent', 'sois', 'soit', 'soyons', 'soyez', 'soient', 'fusse', 'fusses', 'fût', 'fussions', 'fussiez', 'fussent', 'ayant', 'ayante', 'ayantes', 'ayants', 'eu', 'eue', 'eues', 'eus', 'ai', 'as', 'avons', 'avez', 'ont', 'aurai', 'auras', 'aura', 'aurons', 'aurez', 'auront', 'aurais', 'aurait', 'aurions', 'auriez', 'auraient', 'avais', 'avait', 'avions', 'aviez', 'avaient', 'eut', 'eûmes', 'eûtes', 'eurent', 'aie', 'aies', 'ait', 'ayons', 'ayez', 'aient', 'eusse', 'eusses', 'eût', 'eussions', 'eussiez', 'eussent']"
      ]
     },
     "execution_count": 977,
     "metadata": {},
     "output_type": "execute_result"
    }
   ],
   "source": [
    "stopwords.words('french')"
   ]
  },
  {
   "cell_type": "code",
   "execution_count": 79,
   "metadata": {
    "collapsed": true,
    "jupyter": {
     "outputs_hidden": true
    }
   },
   "outputs": [
    {
     "data": {
      "text/html": [
       "<div>\n",
       "<style scoped>\n",
       "    .dataframe tbody tr th:only-of-type {\n",
       "        vertical-align: middle;\n",
       "    }\n",
       "\n",
       "    .dataframe tbody tr th {\n",
       "        vertical-align: top;\n",
       "    }\n",
       "\n",
       "    .dataframe thead th {\n",
       "        text-align: right;\n",
       "    }\n",
       "</style>\n",
       "<table border=\"1\" class=\"dataframe\">\n",
       "  <thead>\n",
       "    <tr style=\"text-align: right;\">\n",
       "      <th></th>\n",
       "      <th>Unnamed: 0</th>\n",
       "      <th>content</th>\n",
       "      <th>comments</th>\n",
       "      <th>good</th>\n",
       "      <th>bad</th>\n",
       "    </tr>\n",
       "  </thead>\n",
       "  <tbody>\n",
       "    <tr>\n",
       "      <td>0</td>\n",
       "      <td>0</td>\n",
       "      <td>[\"Nous avons le plaisir de vous informer que l...</td>\n",
       "      <td>[\"[«Honnetement, l'inutilite est de rembourser...</td>\n",
       "      <td>176</td>\n",
       "      <td>1</td>\n",
       "    </tr>\n",
       "    <tr>\n",
       "      <td>1</td>\n",
       "      <td>1</td>\n",
       "      <td>[\"Retour en video sur l'evenement Neo by STB  ...</td>\n",
       "      <td>[\"['Votre jeune est revenu sur l'occasion, il ...</td>\n",
       "      <td>261</td>\n",
       "      <td>3</td>\n",
       "    </tr>\n",
       "    <tr>\n",
       "      <td>2</td>\n",
       "      <td>2</td>\n",
       "      <td>[\"La preservation de notre environnement est d...</td>\n",
       "      <td>[\"['Un changement tres important et fondamenta...</td>\n",
       "      <td>341</td>\n",
       "      <td>2</td>\n",
       "    </tr>\n",
       "    <tr>\n",
       "      <td>3</td>\n",
       "      <td>3</td>\n",
       "      <td>[\"En tant que startup beneficiant du Label Sta...</td>\n",
       "      <td>['[«Carte Visa Stb perdue en presence»', '\"Par...</td>\n",
       "      <td>142</td>\n",
       "      <td>0</td>\n",
       "    </tr>\n",
       "    <tr>\n",
       "      <td>4</td>\n",
       "      <td>4</td>\n",
       "      <td>[\"Horaire d'ouverture des guichets du Lundi au...</td>\n",
       "      <td>['[\"Par Dieu, le fait de reporter le versement...</td>\n",
       "      <td>548</td>\n",
       "      <td>4</td>\n",
       "    </tr>\n",
       "    <tr>\n",
       "      <td>...</td>\n",
       "      <td>...</td>\n",
       "      <td>...</td>\n",
       "      <td>...</td>\n",
       "      <td>...</td>\n",
       "      <td>...</td>\n",
       "    </tr>\n",
       "    <tr>\n",
       "      <td>70</td>\n",
       "      <td>70</td>\n",
       "      <td>['STB BANK sponsor officiel des \"Trophees des ...</td>\n",
       "      <td>[\"['La stb toujours presente'\", '«bsara7a ena ...</td>\n",
       "      <td>160</td>\n",
       "      <td>0</td>\n",
       "    </tr>\n",
       "    <tr>\n",
       "      <td>71</td>\n",
       "      <td>71</td>\n",
       "      <td>['Avec la STB BANK... sur la voie du succes  R...</td>\n",
       "      <td>[\"['Barbie Bash, nous avons un compte bancaire...</td>\n",
       "      <td>102</td>\n",
       "      <td>0</td>\n",
       "    </tr>\n",
       "    <tr>\n",
       "      <td>72</td>\n",
       "      <td>72</td>\n",
       "      <td>['La Banque Tunisienne est partenaire officiel...</td>\n",
       "      <td>[\"Franchement, l'album de Yasser.\", 'Et Zaid A...</td>\n",
       "      <td>283</td>\n",
       "      <td>0</td>\n",
       "    </tr>\n",
       "    <tr>\n",
       "      <td>73</td>\n",
       "      <td>73</td>\n",
       "      <td>['Interview de M.Lotfi Debbabi avec WMC']</td>\n",
       "      <td>[\"['Bon courage '\", \"'BRAVO si lotfi et bonne ...</td>\n",
       "      <td>341</td>\n",
       "      <td>1</td>\n",
       "    </tr>\n",
       "    <tr>\n",
       "      <td>74</td>\n",
       "      <td>74</td>\n",
       "      <td>['Profitez des possibilites des nouvelles cart...</td>\n",
       "      <td>['\"Il n\\'y a aucune possibilite que nous, qui ...</td>\n",
       "      <td>180</td>\n",
       "      <td>1</td>\n",
       "    </tr>\n",
       "  </tbody>\n",
       "</table>\n",
       "<p>75 rows × 5 columns</p>\n",
       "</div>"
      ],
      "text/plain": [
       "    Unnamed: 0                                            content  \\\n",
       "0            0  [\"Nous avons le plaisir de vous informer que l...   \n",
       "1            1  [\"Retour en video sur l'evenement Neo by STB  ...   \n",
       "2            2  [\"La preservation de notre environnement est d...   \n",
       "3            3  [\"En tant que startup beneficiant du Label Sta...   \n",
       "4            4  [\"Horaire d'ouverture des guichets du Lundi au...   \n",
       "..         ...                                                ...   \n",
       "70          70  ['STB BANK sponsor officiel des \"Trophees des ...   \n",
       "71          71  ['Avec la STB BANK... sur la voie du succes  R...   \n",
       "72          72  ['La Banque Tunisienne est partenaire officiel...   \n",
       "73          73          ['Interview de M.Lotfi Debbabi avec WMC']   \n",
       "74          74  ['Profitez des possibilites des nouvelles cart...   \n",
       "\n",
       "                                             comments  good  bad  \n",
       "0   [\"[«Honnetement, l'inutilite est de rembourser...   176    1  \n",
       "1   [\"['Votre jeune est revenu sur l'occasion, il ...   261    3  \n",
       "2   [\"['Un changement tres important et fondamenta...   341    2  \n",
       "3   ['[«Carte Visa Stb perdue en presence»', '\"Par...   142    0  \n",
       "4   ['[\"Par Dieu, le fait de reporter le versement...   548    4  \n",
       "..                                                ...   ...  ...  \n",
       "70  [\"['La stb toujours presente'\", '«bsara7a ena ...   160    0  \n",
       "71  [\"['Barbie Bash, nous avons un compte bancaire...   102    0  \n",
       "72  [\"Franchement, l'album de Yasser.\", 'Et Zaid A...   283    0  \n",
       "73  [\"['Bon courage '\", \"'BRAVO si lotfi et bonne ...   341    1  \n",
       "74  ['\"Il n\\'y a aucune possibilite que nous, qui ...   180    1  \n",
       "\n",
       "[75 rows x 5 columns]"
      ]
     },
     "execution_count": 79,
     "metadata": {},
     "output_type": "execute_result"
    }
   ],
   "source": [
    "dataframefinal=pd.read_csv('newdf2.csv')\n",
    "dataframefinal"
   ]
  },
  {
   "cell_type": "code",
   "execution_count": null,
   "metadata": {},
   "outputs": [],
   "source": []
  }
 ],
 "metadata": {
  "kernelspec": {
   "display_name": "Python 3",
   "language": "python",
   "name": "python3"
  },
  "language_info": {
   "codemirror_mode": {
    "name": "ipython",
    "version": 3
   },
   "file_extension": ".py",
   "mimetype": "text/x-python",
   "name": "python",
   "nbconvert_exporter": "python",
   "pygments_lexer": "ipython3",
   "version": "3.7.4"
  }
 },
 "nbformat": 4,
 "nbformat_minor": 4
}
